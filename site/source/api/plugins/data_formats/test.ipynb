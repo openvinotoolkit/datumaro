{
 "cells": [
  {
   "cell_type": "code",
   "execution_count": 2,
   "metadata": {},
   "outputs": [
    {
     "name": "stdout",
     "output_type": "stream",
     "text": [
      "icdar\n",
      "yolo\n",
      "tf_detection_api\n",
      "kitti_raw\n",
      "datumaro\n",
      "voc\n",
      "sly_pointcloud\n",
      "kitti\n"
     ]
    }
   ],
   "source": [
    "import os\n",
    "\n",
    "\n",
    "for fpath in os.listdir(\"./\"):\n",
    "    if os.path.isdir(fpath) and fpath.rfind(\"_format\") != -1:\n",
    "        newpath = fpath.removesuffix(\"_format\")\n",
    "        !mv {fpath} {newpath}\n",
    "        print(newpath)"
   ]
  },
  {
   "cell_type": "code",
   "execution_count": 13,
   "metadata": {},
   "outputs": [
    {
     "name": "stdout",
     "output_type": "stream",
     "text": [
      "mv: 'kitti_raw/datumaro.plugins.data_formats.kitti_raw.converter.rst' and 'kitti_raw/datumaro.plugins.data_formats.kitti_raw.converter.rst' are the same file\n",
      "datumaro.plugins.data_formats.kitti_raw.converter.rst\n",
      "mv: 'kitti_raw/kitti_raw.rst' and 'kitti_raw/kitti_raw.rst' are the same file\n",
      "kitti_raw.rst\n",
      "datumaro.plugins.data_formats.kitti_raw.exporter.rst\n",
      "mv: 'kitti_raw/datumaro.plugins.data_formats.kitti_raw.format.rst' and 'kitti_raw/datumaro.plugins.data_formats.kitti_raw.format.rst' are the same file\n",
      "datumaro.plugins.data_formats.kitti_raw.format.rst\n",
      "datumaro.plugins.data_formats.datumaro.exporter.rst\n",
      "mv: 'datumaro/datumaro.plugins.data_formats.datumaro.format.rst' and 'datumaro/datumaro.plugins.data_formats.datumaro.format.rst' are the same file\n",
      "datumaro.plugins.data_formats.datumaro.format.rst\n",
      "mv: 'datumaro/datumaro.plugins.data_formats.datumaro.converter.rst' and 'datumaro/datumaro.plugins.data_formats.datumaro.converter.rst' are the same file\n",
      "datumaro.plugins.data_formats.datumaro.converter.rst\n",
      "mv: 'datumaro/datumaro.rst' and 'datumaro/datumaro.rst' are the same file\n",
      "datumaro.rst\n",
      "mv: 'tf_detection_api/datumaro.plugins.data_formats.tf_detection_api.converter.rst' and 'tf_detection_api/datumaro.plugins.data_formats.tf_detection_api.converter.rst' are the same file\n",
      "datumaro.plugins.data_formats.tf_detection_api.converter.rst\n",
      "mv: 'tf_detection_api/datumaro.plugins.data_formats.tf_detection_api.format.rst' and 'tf_detection_api/datumaro.plugins.data_formats.tf_detection_api.format.rst' are the same file\n",
      "datumaro.plugins.data_formats.tf_detection_api.format.rst\n",
      "datumaro.plugins.data_formats.tf_detection_api.exporter.rst\n",
      "mv: 'tf_detection_api/tf_detection_api.rst' and 'tf_detection_api/tf_detection_api.rst' are the same file\n",
      "tf_detection_api.rst\n",
      "mv: 'voc/datumaro.plugins.data_formats.voc.format.rst' and 'voc/datumaro.plugins.data_formats.voc.format.rst' are the same file\n",
      "datumaro.plugins.data_formats.voc.format.rst\n",
      "mv: 'voc/datumaro.plugins.data_formats.voc.converter.rst' and 'voc/datumaro.plugins.data_formats.voc.converter.rst' are the same file\n",
      "datumaro.plugins.data_formats.voc.converter.rst\n",
      "mv: 'voc/voc.rst' and 'voc/voc.rst' are the same file\n",
      "voc.rst\n",
      "mv: 'voc/datumaro.plugins.data_formats.voc.importer.rst' and 'voc/datumaro.plugins.data_formats.voc.importer.rst' are the same file\n",
      "datumaro.plugins.data_formats.voc.importer.rst\n",
      "datumaro.plugins.data_formats.voc.exporter.rst\n",
      "mv: 'icdar/icdar.rst' and 'icdar/icdar.rst' are the same file\n",
      "icdar.rst\n",
      "datumaro.plugins.data_formats.icdar.exporter.rst\n",
      "mv: 'icdar/datumaro.plugins.data_formats.icdar.format.rst' and 'icdar/datumaro.plugins.data_formats.icdar.format.rst' are the same file\n",
      "datumaro.plugins.data_formats.icdar.format.rst\n",
      "mv: 'icdar/datumaro.plugins.data_formats.icdar.converter.rst' and 'icdar/datumaro.plugins.data_formats.icdar.converter.rst' are the same file\n",
      "datumaro.plugins.data_formats.icdar.converter.rst\n",
      "mv: 'cvat/datumaro.plugins.data_formats.cvat.converter.rst' and 'cvat/datumaro.plugins.data_formats.cvat.converter.rst' are the same file\n",
      "datumaro.plugins.data_formats.cvat.converter.rst\n",
      "datumaro.plugins.data_formats.cvat.exporter.rst\n",
      "mv: 'cvat/cvat.rst' and 'cvat/cvat.rst' are the same file\n",
      "cvat.rst\n",
      "mv: 'cvat/datumaro.plugins.data_formats.cvat.format.rst' and 'cvat/datumaro.plugins.data_formats.cvat.format.rst' are the same file\n",
      "datumaro.plugins.data_formats.cvat.format.rst\n",
      "mv: 'coco/datumaro.plugins.data_formats.coco.base.rst' and 'coco/datumaro.plugins.data_formats.coco.base.rst' are the same file\n",
      "datumaro.plugins.data_formats.coco.base.rst\n",
      "mv: 'coco/datumaro.plugins.data_formats.coco.importer.rst' and 'coco/datumaro.plugins.data_formats.coco.importer.rst' are the same file\n",
      "datumaro.plugins.data_formats.coco.importer.rst\n",
      "mv: 'coco/datumaro.plugins.data_formats.coco.format.rst' and 'coco/datumaro.plugins.data_formats.coco.format.rst' are the same file\n",
      "datumaro.plugins.data_formats.coco.format.rst\n",
      "mv: 'coco/coco.rst' and 'coco/coco.rst' are the same file\n",
      "coco.rst\n",
      "datumaro.plugins.data_formats.coco.exporter.rst\n",
      "datumaro.plugins.data_formats.yolo.exporter.rst\n",
      "mv: 'yolo/datumaro.plugins.data_formats.yolo.format.rst' and 'yolo/datumaro.plugins.data_formats.yolo.format.rst' are the same file\n",
      "datumaro.plugins.data_formats.yolo.format.rst\n",
      "mv: 'yolo/yolo.rst' and 'yolo/yolo.rst' are the same file\n",
      "yolo.rst\n",
      "mv: 'yolo/datumaro.plugins.data_formats.yolo.converter.rst' and 'yolo/datumaro.plugins.data_formats.yolo.converter.rst' are the same file\n",
      "datumaro.plugins.data_formats.yolo.converter.rst\n",
      "mv: 'kitti/kitti.rst' and 'kitti/kitti.rst' are the same file\n",
      "kitti.rst\n",
      "datumaro.plugins.data_formats.kitti.exporter.rst\n",
      "mv: 'kitti/datumaro.plugins.data_formats.kitti.importer.rst' and 'kitti/datumaro.plugins.data_formats.kitti.importer.rst' are the same file\n",
      "datumaro.plugins.data_formats.kitti.importer.rst\n",
      "mv: 'kitti/datumaro.plugins.data_formats.kitti.converter.rst' and 'kitti/datumaro.plugins.data_formats.kitti.converter.rst' are the same file\n",
      "datumaro.plugins.data_formats.kitti.converter.rst\n",
      "mv: 'kitti/datumaro.plugins.data_formats.kitti.format.rst' and 'kitti/datumaro.plugins.data_formats.kitti.format.rst' are the same file\n",
      "datumaro.plugins.data_formats.kitti.format.rst\n",
      "mv: 'sly_pointcloud/datumaro.plugins.data_formats.sly_pointcloud.converter.rst' and 'sly_pointcloud/datumaro.plugins.data_formats.sly_pointcloud.converter.rst' are the same file\n",
      "datumaro.plugins.data_formats.sly_pointcloud.converter.rst\n",
      "mv: 'sly_pointcloud/sly_pointcloud.rst' and 'sly_pointcloud/sly_pointcloud.rst' are the same file\n",
      "sly_pointcloud.rst\n",
      "mv: 'sly_pointcloud/datumaro.plugins.data_formats.sly_pointcloud.format.rst' and 'sly_pointcloud/datumaro.plugins.data_formats.sly_pointcloud.format.rst' are the same file\n",
      "datumaro.plugins.data_formats.sly_pointcloud.format.rst\n",
      "datumaro.plugins.data_formats.sly_pointcloud.exporter.rst\n"
     ]
    }
   ],
   "source": [
    "import os\n",
    "\n",
    "\n",
    "for fpath in os.listdir(\"./\"):\n",
    "    if os.path.isdir(fpath):\n",
    "        for fpath2 in os.listdir(fpath):\n",
    "            newpath = fpath2.replace(\"extractor\", \"exporter\")\n",
    "            !mv {os.path.join(fpath, fpath2)} {os.path.join(fpath, newpath)}\n",
    "            print(newpath)"
   ]
  },
  {
   "cell_type": "code",
   "execution_count": 15,
   "metadata": {},
   "outputs": [
    {
     "name": "stdout",
     "output_type": "stream",
     "text": [
      "datumaro.plugins.data_formats.cifar.rst\n",
      "datumaro.plugins.data_formats.imagenet_txt.rst\n",
      "datumaro.plugins.data_formats.vgg_face2.rst\n",
      "datumaro.plugins.data_formats.ade20k2020.rst\n",
      "datumaro.plugins.data_formats.lfw.rst\n",
      "datumaro.plugins.data_formats.camvid.rst\n",
      "mv: 'test.ipynb' and 'test.ipynb' are the same file\n",
      "test.ipynb\n",
      "datumaro.plugins.data_formats.mot.rst\n",
      "datumaro.plugins.data_formats.imagenet.rst\n",
      "mv: 'data_formats.rst' and 'data_formats.rst' are the same file\n",
      "data_formats.rst\n",
      "datumaro.plugins.data_formats.ade20k2017.rst\n",
      "datumaro.plugins.data_formats.market1501.rst\n",
      "datumaro.plugins.data_formats.mnist.rst\n",
      "datumaro.plugins.data_formats.labelme.rst\n",
      "datumaro.plugins.data_formats.open_images.rst\n",
      "datumaro.plugins.data_formats.mnist_csv.rst\n",
      "datumaro.plugins.data_formats.widerface.rst\n",
      "datumaro.plugins.data_formats.image_dir.rst\n",
      "datumaro.plugins.data_formats.image_zip.rst\n",
      "datumaro.plugins.data_formats.cityscapes.rst\n",
      "datumaro.plugins.data_formats.mots.rst\n"
     ]
    }
   ],
   "source": [
    "for fpath in os.listdir(\"./\"):\n",
    "    if not os.path.isdir(fpath):\n",
    "        newpath = fpath.replace(\"datumaro.plugins\", \"datumaro.plugins.data_formats\")\n",
    "        !mv {fpath} {newpath}\n",
    "        print(newpath)"
   ]
  },
  {
   "cell_type": "code",
   "execution_count": null,
   "metadata": {},
   "outputs": [],
   "source": []
  }
 ],
 "metadata": {
  "kernelspec": {
   "display_name": "datumaro",
   "language": "python",
   "name": "python3"
  },
  "language_info": {
   "codemirror_mode": {
    "name": "ipython",
    "version": 3
   },
   "file_extension": ".py",
   "mimetype": "text/x-python",
   "name": "python",
   "nbconvert_exporter": "python",
   "pygments_lexer": "ipython3",
   "version": "3.9.13"
  },
  "orig_nbformat": 4,
  "vscode": {
   "interpreter": {
    "hash": "f1f3f1edb00d0bd7e23d51df1aa8d48a9cf9f8b2f9be1bd0ed7e776e90e03d96"
   }
  }
 },
 "nbformat": 4,
 "nbformat_minor": 2
}
