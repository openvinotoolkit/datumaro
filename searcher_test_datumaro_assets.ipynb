{
 "cells": [
  {
   "cell_type": "code",
   "execution_count": 1,
   "id": "ba1f1130",
   "metadata": {},
   "outputs": [
    {
     "name": "stdout",
     "output_type": "stream",
     "text": [
      "#### device:  cuda\n"
     ]
    }
   ],
   "source": [
    "# Copyright (C) 2022 Intel Corporationworkbench.action.openLargeOutput\n",
    "#\n",
    "# SPDX-License-Identifier: MIT\n",
    "\n",
    "import os\n",
    "import datumaro as dm\n",
    "import time\n",
    "\n",
    "from datumaro.components.searcher import Searcher\n",
    "from datumaro.components.visualizer import Visualizer"
   ]
  },
  {
   "cell_type": "markdown",
   "id": "7746187a",
   "metadata": {},
   "source": [
    "## ade20k2017_dataset"
   ]
  },
  {
   "cell_type": "code",
   "execution_count": 25,
   "id": "5467fe8c",
   "metadata": {},
   "outputs": [
    {
     "name": "stdout",
     "output_type": "stream",
     "text": [
      "setting dataset time for 2 items:  0.03307628631591797\n"
     ]
    },
    {
     "data": {
      "text/plain": [
       "Dataset\n",
       "\tsize=2\n",
       "\tsource_path=./tests/assets/ade20k2017_dataset/dataset\n",
       "\tmedia_type=<class 'datumaro.components.media.Image'>\n",
       "\tannotated_items_count=2\n",
       "\tannotations_count=7\n",
       "subsets\n",
       "\ttraining: # of items=1, # of annotated items=1, # of annotations=3, annotation types=['mask']\n",
       "\tvalidation: # of items=1, # of annotated items=1, # of annotations=4, annotation types=['mask']\n",
       "categories\n",
       "\tlabel: ['sky', 'person', 'license plate', 'rim']"
      ]
     },
     "execution_count": 25,
     "metadata": {},
     "output_type": "execute_result"
    }
   ],
   "source": [
    "start_time = time.time()\n",
    "dataset = dm.Dataset.import_from('./tests/assets/ade20k2017_dataset/dataset', save_hash=True)\n",
    "print(f'setting dataset time for {len(dataset)} items: ', time.time()-start_time)\n",
    "dataset"
   ]
  },
  {
   "cell_type": "code",
   "execution_count": 26,
   "id": "f2990750",
   "metadata": {},
   "outputs": [
    {
     "name": "stdout",
     "output_type": "stream",
     "text": [
      "DatasetItem(id='street/1', subset='training', media=<datumaro.components.media.Image object at 0x7fdd4a682bd0>, annotations=[Mask(id=1, attributes={}, group=1, _image=functools.partial(<bound method CompiledMask.extract of <datumaro.components.annotation.CompiledMask object at 0x7fdd4a682950>>, 1), label=0, z_order=0), Mask(id=2, attributes={'walkin': True}, group=2, _image=functools.partial(<bound method CompiledMask.extract of <datumaro.components.annotation.CompiledMask object at 0x7fdd4a682950>>, 2), label=1, z_order=0), Mask(id=1, attributes={}, group=1, _image=functools.partial(<bound method CompiledMask.extract of <datumaro.components.annotation.CompiledMask object at 0x7fdd4a682b90>>, 1), label=2, z_order=1)], attributes={}, hash_key=['09effa1b4c54099b48ce2f97ca195100f5115aad2e1aad36e1abfaf8fd10c0c7a167ddf6b539399e7ddaf32ba0b1ee07a038369e6ad898e50a2cf98912248bcc'])\n",
      "DatasetItem(id='2', subset='validation', media=<datumaro.components.media.Image object at 0x7fdd4a68b150>, annotations=[Mask(id=1, attributes={}, group=1, _image=functools.partial(<bound method CompiledMask.extract of <datumaro.components.annotation.CompiledMask object at 0x7fdd4a682ed0>>, 1), label=0, z_order=0), Mask(id=2, attributes={}, group=2, _image=functools.partial(<bound method CompiledMask.extract of <datumaro.components.annotation.CompiledMask object at 0x7fdd4a682ed0>>, 2), label=1, z_order=0), Mask(id=1, attributes={}, group=1, _image=functools.partial(<bound method CompiledMask.extract of <datumaro.components.annotation.CompiledMask object at 0x7fdd4a682910>>, 1), label=2, z_order=1), Mask(id=1, attributes={}, group=1, _image=functools.partial(<bound method CompiledMask.extract of <datumaro.components.annotation.CompiledMask object at 0x7fdd4a68b250>>, 1), label=3, z_order=2)], attributes={}, hash_key=['09effa1b4c54099b48ce2f97ca195100f5115aad2e1aad36e1abfaf8fd10c0c7a167ddf6b539399e7ddaf32ba0b1ee07a038369e6ad898e50a2cf98912248bcc'])\n"
     ]
    }
   ],
   "source": [
    "for i, item in enumerate(dataset):\n",
    "    print(item)"
   ]
  },
  {
   "cell_type": "code",
   "execution_count": 3,
   "id": "a8100184",
   "metadata": {},
   "outputs": [
    {
     "name": "stdout",
     "output_type": "stream",
     "text": [
      "Subset candidates:  dict_keys(['training', 'validation'])\n",
      "Subset:  ['training', 'validation']\n"
     ]
    }
   ],
   "source": [
    "print(\"Subset candidates: \", dataset.subsets().keys())\n",
    "subset = list(dataset.subsets().keys())\n",
    "print(\"Subset: \", subset)"
   ]
  },
  {
   "cell_type": "code",
   "execution_count": 5,
   "id": "9d0c72d3",
   "metadata": {},
   "outputs": [],
   "source": [
    "for i, item in enumerate(dataset):\n",
    "    if i==1:\n",
    "        query = item"
   ]
  },
  {
   "cell_type": "code",
   "execution_count": 7,
   "id": "5638bbf4",
   "metadata": {},
   "outputs": [
    {
     "data": {
      "image/png": "[encoded data removed]",
      "text/plain": [
       "<Figure size 864x864 with 1 Axes>"
      ]
     },
     "metadata": {
      "needs_background": "light"
     },
     "output_type": "display_data"
    }
   ],
   "source": [
    "visualizer = Visualizer(dataset, figsize=(12, 12), alpha=0)\n",
    "fig = visualizer.vis_one_sample(query.id, \"validation\")\n",
    "fig.show()"
   ]
  },
  {
   "cell_type": "code",
   "execution_count": 9,
   "id": "5229b7db",
   "metadata": {},
   "outputs": [],
   "source": [
    "searcher = Searcher(dataset)\n",
    "topk_list = searcher.search_topk(query, topk=2)\n",
    "results = [query] + topk_list[1:]\n",
    "subset_list = []\n",
    "id_list =[]\n",
    "for result in results:\n",
    "    subset_list.append(result.subset)\n",
    "    id_list.append(result.id)"
   ]
  },
  {
   "cell_type": "code",
   "execution_count": 10,
   "id": "95cda5aa",
   "metadata": {},
   "outputs": [
    {
     "data": {
      "image/png": "[encoded data removed]",
      "text/plain": [
       "<Figure size 864x864 with 2 Axes>"
      ]
     },
     "metadata": {
      "needs_background": "light"
     },
     "output_type": "display_data"
    }
   ],
   "source": [
    "fig = visualizer.vis_gallery(id_list[:12], subset_list[:12], (None, None))\n",
    "fig.show()"
   ]
  },
  {
   "cell_type": "code",
   "execution_count": 20,
   "id": "34972a2e",
   "metadata": {},
   "outputs": [
    {
     "name": "stdout",
     "output_type": "stream",
     "text": [
      "setting dataset time for 1 items:  0.03790593147277832\n"
     ]
    },
    {
     "data": {
      "text/plain": [
       "Dataset\n",
       "\tsize=1\n",
       "\tsource_path=./tests/assets/ade20k2017_dataset/dataset_with_meta_file\n",
       "\tmedia_type=<class 'datumaro.components.media.Image'>\n",
       "\tannotated_items_count=1\n",
       "\tannotations_count=3\n",
       "subsets\n",
       "\ttraining: # of items=1, # of annotated items=1, # of annotations=3, annotation types=['mask']\n",
       "categories\n",
       "\tlabel: ['sky', 'person', 'license plate', 'rim']"
      ]
     },
     "execution_count": 20,
     "metadata": {},
     "output_type": "execute_result"
    }
   ],
   "source": [
    "start_time = time.time()\n",
    "dataset = dm.Dataset.import_from('./tests/assets/ade20k2017_dataset/dataset_with_meta_file', save_hash=True)\n",
    "print(f'setting dataset time for {len(dataset)} items: ', time.time()-start_time)\n",
    "dataset"
   ]
  },
  {
   "cell_type": "code",
   "execution_count": 23,
   "id": "efe96f4a",
   "metadata": {},
   "outputs": [
    {
     "name": "stdout",
     "output_type": "stream",
     "text": [
      "DatasetItem(id='street/1', subset='training', media=<datumaro.components.media.Image object at 0x7fdd4a701710>, annotations=[Mask(id=1, attributes={}, group=1, _image=functools.partial(<bound method CompiledMask.extract of <datumaro.components.annotation.CompiledMask object at 0x7fdd4a701490>>, 1), label=0, z_order=0), Mask(id=2, attributes={'walkin': True}, group=2, _image=functools.partial(<bound method CompiledMask.extract of <datumaro.components.annotation.CompiledMask object at 0x7fdd4a701490>>, 2), label=1, z_order=0), Mask(id=1, attributes={}, group=1, _image=functools.partial(<bound method CompiledMask.extract of <datumaro.components.annotation.CompiledMask object at 0x7fdd4a701510>>, 1), label=2, z_order=1)], attributes={}, hash_key=['09effa1b4c54099b48ce2f97ca195100f5115aad2e1aad36e1abfaf8fd10c0c7a167ddf6b539399e7ddaf32ba0b1ee07a038369e6ad898e50a2cf98912248bcc'])\n"
     ]
    }
   ],
   "source": [
    "for i, item in enumerate(dataset):\n",
    "    print(item)"
   ]
  },
  {
   "cell_type": "code",
   "execution_count": 27,
   "id": "0656a782",
   "metadata": {},
   "outputs": [
    {
     "data": {
      "image/png": "[encoded data removed]",
      "text/plain": [
       "<Figure size 864x864 with 1 Axes>"
      ]
     },
     "metadata": {
      "needs_background": "light"
     },
     "output_type": "display_data"
    }
   ],
   "source": [
    "for i, item in enumerate(dataset):\n",
    "    if i==0:\n",
    "        query = item\n",
    "visualizer = Visualizer(dataset, figsize=(12, 12), alpha=0)\n",
    "fig = visualizer.vis_one_sample(query.id, \"training\")\n",
    "fig.show()"
   ]
  },
  {
   "cell_type": "code",
   "execution_count": 29,
   "id": "812501a4",
   "metadata": {},
   "outputs": [
    {
     "data": {
      "image/png": "[encoded data removed]",
      "text/plain": [
       "<Figure size 864x864 with 2 Axes>"
      ]
     },
     "metadata": {
      "needs_background": "light"
     },
     "output_type": "display_data"
    }
   ],
   "source": [
    "searcher = Searcher(dataset)\n",
    "topk_list = searcher.search_topk(query, topk=2)\n",
    "results = [query] + topk_list[1:]\n",
    "subset_list = []\n",
    "id_list =[]\n",
    "for result in results:\n",
    "    subset_list.append(result.subset)\n",
    "    id_list.append(result.id)\n",
    "fig = visualizer.vis_gallery(id_list[:2], subset_list[:2], (None, None))\n",
    "fig.show()"
   ]
  },
  {
   "cell_type": "markdown",
   "id": "265189ed",
   "metadata": {},
   "source": [
    "## ade20k2020_dataset"
   ]
  },
  {
   "cell_type": "code",
   "execution_count": 11,
   "id": "94a457da",
   "metadata": {},
   "outputs": [
    {
     "name": "stdout",
     "output_type": "stream",
     "text": [
      "setting dataset time for 2 items:  0.04770612716674805\n"
     ]
    },
    {
     "data": {
      "text/plain": [
       "Dataset\n",
       "\tsize=2\n",
       "\tsource_path=./tests/assets/ade20k2020_dataset/dataset\n",
       "\tmedia_type=<class 'datumaro.components.media.Image'>\n",
       "\tannotated_items_count=2\n",
       "\tannotations_count=15\n",
       "subsets\n",
       "\ttraining: # of items=1, # of annotated items=1, # of annotations=7, annotation types=['mask', 'polygon']\n",
       "\tvalidation: # of items=1, # of annotated items=1, # of annotations=8, annotation types=['mask']\n",
       "categories\n",
       "\tlabel: ['car', 'person', 'door', 'rim']"
      ]
     },
     "execution_count": 11,
     "metadata": {},
     "output_type": "execute_result"
    }
   ],
   "source": [
    "start_time = time.time()\n",
    "dataset = dm.Dataset.import_from('./tests/assets/ade20k2020_dataset/dataset', save_hash=True)\n",
    "print(f'setting dataset time for {len(dataset)} items: ', time.time()-start_time)\n",
    "dataset"
   ]
  },
  {
   "cell_type": "code",
   "execution_count": 31,
   "id": "0d949056",
   "metadata": {},
   "outputs": [
    {
     "name": "stdout",
     "output_type": "stream",
     "text": [
      "DatasetItem(id='street/1', subset='training', media=<datumaro.components.media.Image object at 0x7fdd4a44a850>, annotations=[Mask(id=1831, attributes={}, group=1831, _image=functools.partial(<bound method CompiledMask.extract of <datumaro.components.annotation.CompiledMask object at 0x7fdd4a44aed0>>, 1831), label=1, z_order=0), Mask(id=401, attributes={}, group=401, _image=functools.partial(<bound method CompiledMask.extract of <datumaro.components.annotation.CompiledMask object at 0x7fdd4a44aed0>>, 401), label=0, z_order=0), Mask(id=774, attributes={}, group=774, _image=functools.partial(<bound method CompiledMask.extract of <datumaro.components.annotation.CompiledMask object at 0x7fdd4a44af50>>, 774), label=2, z_order=1), Mask(id=0, attributes={}, group=0, _image=functools.partial(<bound method CompiledMask.extract of <datumaro.components.annotation.CompiledMask object at 0x7fdd4a44ad10>>, 1), label=0, z_order=0), Mask(id=1, attributes={'walkin': True}, group=1, _image=functools.partial(<bound method CompiledMask.extract of <datumaro.components.annotation.CompiledMask object at 0x7fdd4a44ae90>>, 1), label=1, z_order=0), Polygon(id=1, attributes={'walkin': True}, group=1, points=[1, 0, 1, 1, 1, 2, 1, 3, 1, 4], label=1, z_order=0), Mask(id=2, attributes={}, group=2, _image=functools.partial(<bound method CompiledMask.extract of <datumaro.components.annotation.CompiledMask object at 0x7fdd4a44add0>>, 1), label=2, z_order=1)], attributes={}, hash_key=['09effa1b4c54099b48ce2f97ca195100f5115aad2e1aad36e1abfaf8fd10c0c7a167ddf6b539399e7ddaf32ba0b1ee07a038369e6ad898e50a2cf98912248bcc'])\n"
     ]
    }
   ],
   "source": [
    "for i, item in enumerate(dataset):\n",
    "    print(item)"
   ]
  },
  {
   "cell_type": "code",
   "execution_count": 17,
   "id": "08346613",
   "metadata": {},
   "outputs": [
    {
     "data": {
      "image/png": "[encoded data removed]",
      "text/plain": [
       "<Figure size 864x864 with 1 Axes>"
      ]
     },
     "metadata": {
      "needs_background": "light"
     },
     "output_type": "display_data"
    }
   ],
   "source": [
    "for i, item in enumerate(dataset):\n",
    "    if i==0:\n",
    "        query = item\n",
    "visualizer = Visualizer(dataset, figsize=(12, 12), alpha=0)\n",
    "fig = visualizer.vis_one_sample(query.id, \"training\")\n",
    "fig.show()"
   ]
  },
  {
   "cell_type": "code",
   "execution_count": 18,
   "id": "a4a93a46",
   "metadata": {},
   "outputs": [],
   "source": [
    "searcher = Searcher(dataset)\n",
    "topk_list = searcher.search_topk(query, topk=2)\n",
    "results = [query] + topk_list[1:]\n",
    "subset_list = []\n",
    "id_list =[]\n",
    "for result in results:\n",
    "    subset_list.append(result.subset)\n",
    "    id_list.append(result.id)"
   ]
  },
  {
   "cell_type": "code",
   "execution_count": 19,
   "id": "a2992a06",
   "metadata": {},
   "outputs": [
    {
     "data": {
      "image/png": "[encoded data removed]",
      "text/plain": [
       "<Figure size 864x864 with 2 Axes>"
      ]
     },
     "metadata": {
      "needs_background": "light"
     },
     "output_type": "display_data"
    }
   ],
   "source": [
    "fig = visualizer.vis_gallery(id_list[:12], subset_list[:12], (None, None))\n",
    "fig.show()"
   ]
  },
  {
   "cell_type": "code",
   "execution_count": 30,
   "id": "6e7960d3",
   "metadata": {},
   "outputs": [
    {
     "name": "stdout",
     "output_type": "stream",
     "text": [
      "setting dataset time for 1 items:  0.046073198318481445\n"
     ]
    },
    {
     "data": {
      "text/plain": [
       "Dataset\n",
       "\tsize=1\n",
       "\tsource_path=./tests/assets/ade20k2020_dataset/dataset_with_meta_file\n",
       "\tmedia_type=<class 'datumaro.components.media.Image'>\n",
       "\tannotated_items_count=1\n",
       "\tannotations_count=7\n",
       "subsets\n",
       "\ttraining: # of items=1, # of annotated items=1, # of annotations=7, annotation types=['mask', 'polygon']\n",
       "categories\n",
       "\tlabel: ['car', 'person', 'door', 'rim']"
      ]
     },
     "execution_count": 30,
     "metadata": {},
     "output_type": "execute_result"
    }
   ],
   "source": [
    "start_time = time.time()\n",
    "dataset = dm.Dataset.import_from('./tests/assets/ade20k2020_dataset/dataset_with_meta_file', save_hash=True)\n",
    "print(f'setting dataset time for {len(dataset)} items: ', time.time()-start_time)\n",
    "dataset"
   ]
  },
  {
   "cell_type": "code",
   "execution_count": 32,
   "id": "64621007",
   "metadata": {},
   "outputs": [
    {
     "name": "stdout",
     "output_type": "stream",
     "text": [
      "DatasetItem(id='street/1', subset='training', media=<datumaro.components.media.Image object at 0x7fdd4a44a850>, annotations=[Mask(id=1831, attributes={}, group=1831, _image=functools.partial(<bound method CompiledMask.extract of <datumaro.components.annotation.CompiledMask object at 0x7fdd4a44aed0>>, 1831), label=1, z_order=0), Mask(id=401, attributes={}, group=401, _image=functools.partial(<bound method CompiledMask.extract of <datumaro.components.annotation.CompiledMask object at 0x7fdd4a44aed0>>, 401), label=0, z_order=0), Mask(id=774, attributes={}, group=774, _image=functools.partial(<bound method CompiledMask.extract of <datumaro.components.annotation.CompiledMask object at 0x7fdd4a44af50>>, 774), label=2, z_order=1), Mask(id=0, attributes={}, group=0, _image=functools.partial(<bound method CompiledMask.extract of <datumaro.components.annotation.CompiledMask object at 0x7fdd4a44ad10>>, 1), label=0, z_order=0), Mask(id=1, attributes={'walkin': True}, group=1, _image=functools.partial(<bound method CompiledMask.extract of <datumaro.components.annotation.CompiledMask object at 0x7fdd4a44ae90>>, 1), label=1, z_order=0), Polygon(id=1, attributes={'walkin': True}, group=1, points=[1, 0, 1, 1, 1, 2, 1, 3, 1, 4], label=1, z_order=0), Mask(id=2, attributes={}, group=2, _image=functools.partial(<bound method CompiledMask.extract of <datumaro.components.annotation.CompiledMask object at 0x7fdd4a44add0>>, 1), label=2, z_order=1)], attributes={}, hash_key=['09effa1b4c54099b48ce2f97ca195100f5115aad2e1aad36e1abfaf8fd10c0c7a167ddf6b539399e7ddaf32ba0b1ee07a038369e6ad898e50a2cf98912248bcc'])\n"
     ]
    }
   ],
   "source": [
    "for i, item in enumerate(dataset):\n",
    "    print(item)"
   ]
  },
  {
   "cell_type": "code",
   "execution_count": 33,
   "id": "dbd3c920",
   "metadata": {},
   "outputs": [
    {
     "data": {
      "image/png": "[encoded data removed]",
      "text/plain": [
       "<Figure size 864x864 with 1 Axes>"
      ]
     },
     "metadata": {
      "needs_background": "light"
     },
     "output_type": "display_data"
    }
   ],
   "source": [
    "for i, item in enumerate(dataset):\n",
    "    if i==0:\n",
    "        query = item\n",
    "visualizer = Visualizer(dataset, figsize=(12, 12), alpha=0)\n",
    "fig = visualizer.vis_one_sample(query.id, \"training\")\n",
    "fig.show()"
   ]
  },
  {
   "cell_type": "markdown",
   "id": "230549bb",
   "metadata": {},
   "source": [
    "## align_celeba_dataset"
   ]
  },
  {
   "cell_type": "code",
   "execution_count": 42,
   "id": "6289f4db",
   "metadata": {},
   "outputs": [
    {
     "name": "stdout",
     "output_type": "stream",
     "text": [
      "setting dataset time for 5 items:  0.0641331672668457\n"
     ]
    },
    {
     "data": {
      "text/plain": [
       "Dataset\n",
       "\tsize=5\n",
       "\tsource_path=./tests/assets/align_celeba_dataset/dataset\n",
       "\tmedia_type=<class 'datumaro.components.media.Image'>\n",
       "\tannotated_items_count=5\n",
       "\tannotations_count=10\n",
       "subsets\n",
       "\ttest: # of items=2, # of annotated items=2, # of annotations=4, annotation types=['label', 'points']\n",
       "\ttrain: # of items=2, # of annotated items=2, # of annotations=4, annotation types=['label', 'points']\n",
       "\tval: # of items=1, # of annotated items=1, # of annotations=2, annotation types=['label', 'points']\n",
       "categories\n",
       "\tlabel: ['class-0', 'class-1', 'class-2', 'class-3', 'class-4', 'class-5', 'class-6', 'class-7', 'class-8', 'class-9', 'class-10', 'class-11', 'class-12']\n",
       "\tpoints: []"
      ]
     },
     "execution_count": 42,
     "metadata": {},
     "output_type": "execute_result"
    }
   ],
   "source": [
    "start_time = time.time()\n",
    "dataset = dm.Dataset.import_from('./tests/assets/align_celeba_dataset/dataset', format=\"align_celeba\", save_hash=True)\n",
    "print(f'setting dataset time for {len(dataset)} items: ', time.time()-start_time)\n",
    "dataset"
   ]
  },
  {
   "cell_type": "code",
   "execution_count": 43,
   "id": "17cea7b8",
   "metadata": {},
   "outputs": [
    {
     "name": "stdout",
     "output_type": "stream",
     "text": [
      "DatasetItem(id='000001', subset='train', media=<datumaro.components.media.Image object at 0x7fdd4a28f4d0>, annotations=[Label(id=0, attributes={}, group=0, label=12), Points(id=0, attributes={}, group=0, points=[69.0, 109.0, 106.0, 113.0, 77.0, 142.0, 73.0, 152.0, 108.0, 154.0], label=12, z_order=0, visibility=[<Visibility.visible: 2>, <Visibility.visible: 2>, <Visibility.visible: 2>, <Visibility.visible: 2>, <Visibility.visible: 2>])], attributes={'5_o_Clock_Shadow': False, 'Arched_Eyebrows': True, 'Attractive': True, 'Bags_Under_Eyes': False, 'Bald': False, 'Bangs': False, 'Big_Lips': False, 'Big_Nose': False}, hash_key=['09effa1b4c54099b48ce2f97ca195100f5115aad2e1aad36e1abfaf8fd10c0c7a167ddf6b539399e7ddaf32ba0b1ee07a038369e6ad898e50a2cf98912248bcc'])\n",
      "DatasetItem(id='000002', subset='train', media=<datumaro.components.media.Image object at 0x7fdd4a28f190>, annotations=[Label(id=0, attributes={}, group=0, label=5), Points(id=0, attributes={}, group=0, points=[69.0, 110.0, 107.0, 112.0, 81.0, 135.0, 70.0, 151.0, 108.0, 153.0], label=5, z_order=0, visibility=[<Visibility.visible: 2>, <Visibility.visible: 2>, <Visibility.visible: 2>, <Visibility.visible: 2>, <Visibility.visible: 2>])], attributes={}, hash_key=['09effa1b4c54099b48ce2f97ca195100f5115aad2e1aad36e1abfaf8fd10c0c7a167ddf6b539399e7ddaf32ba0b1ee07a038369e6ad898e50a2cf98912248bcc'])\n",
      "DatasetItem(id='000003', subset='val', media=<datumaro.components.media.Image object at 0x7fdd4a38c750>, annotations=[Label(id=0, attributes={}, group=0, label=2), Points(id=0, attributes={}, group=0, points=[76.0, 112.0, 104.0, 106.0, 108.0, 128.0, 74.0, 156.0, 98.0, 158.0], label=2, z_order=0, visibility=[<Visibility.visible: 2>, <Visibility.visible: 2>, <Visibility.visible: 2>, <Visibility.visible: 2>, <Visibility.visible: 2>])], attributes={'5_o_Clock_Shadow': False, 'Arched_Eyebrows': False, 'Attractive': False, 'Bags_Under_Eyes': True, 'Bald': False, 'Bangs': False, 'Big_Lips': False, 'Big_Nose': True}, hash_key=['09effa1b4c54099b48ce2f97ca195100f5115aad2e1aad36e1abfaf8fd10c0c7a167ddf6b539399e7ddaf32ba0b1ee07a038369e6ad898e50a2cf98912248bcc'])\n",
      "DatasetItem(id='000004', subset='test', media=<datumaro.components.media.Image object at 0x7fdd4a295990>, annotations=[Label(id=0, attributes={}, group=0, label=10), Points(id=0, attributes={}, group=0, points=[72.0, 113.0, 108.0, 108.0, 101.0, 138.0, 71.0, 155.0, 101.0, 151.0], label=10, z_order=0, visibility=[<Visibility.visible: 2>, <Visibility.visible: 2>, <Visibility.visible: 2>, <Visibility.visible: 2>, <Visibility.visible: 2>])], attributes={}, hash_key=['09effa1b4c54099b48ce2f97ca195100f5115aad2e1aad36e1abfaf8fd10c0c7a167ddf6b539399e7ddaf32ba0b1ee07a038369e6ad898e50a2cf98912248bcc'])\n",
      "DatasetItem(id='000005', subset='test', media=<datumaro.components.media.Image object at 0x7fdd4a2959d0>, annotations=[Label(id=0, attributes={}, group=0, label=7), Points(id=0, attributes={}, group=0, points=[66.0, 114.0, 112.0, 112.0, 86.0, 119.0, 71.0, 147.0, 104.0, 150.0], label=7, z_order=0, visibility=[<Visibility.visible: 2>, <Visibility.visible: 2>, <Visibility.visible: 2>, <Visibility.visible: 2>, <Visibility.visible: 2>])], attributes={}, hash_key=['09effa1b4c54099b48ce2f97ca195100f5115aad2e1aad36e1abfaf8fd10c0c7a167ddf6b539399e7ddaf32ba0b1ee07a038369e6ad898e50a2cf98912248bcc'])\n"
     ]
    }
   ],
   "source": [
    "for i, item in enumerate(dataset):\n",
    "    print(item)"
   ]
  },
  {
   "cell_type": "code",
   "execution_count": 45,
   "id": "d20157e8",
   "metadata": {},
   "outputs": [
    {
     "data": {
      "image/png": "[encoded data removed]",
      "text/plain": [
       "<Figure size 864x864 with 1 Axes>"
      ]
     },
     "metadata": {
      "needs_background": "light"
     },
     "output_type": "display_data"
    }
   ],
   "source": [
    "for i, item in enumerate(dataset):\n",
    "    if i==0:\n",
    "        query = item\n",
    "visualizer = Visualizer(dataset, figsize=(12, 12), alpha=0)\n",
    "fig = visualizer.vis_one_sample(query.id, \"train\")\n",
    "fig.show()"
   ]
  },
  {
   "cell_type": "code",
   "execution_count": 46,
   "id": "449997a7",
   "metadata": {},
   "outputs": [
    {
     "data": {
      "image/png": "[encoded data removed]",
      "text/plain": [
       "<Figure size 864x864 with 2 Axes>"
      ]
     },
     "metadata": {
      "needs_background": "light"
     },
     "output_type": "display_data"
    }
   ],
   "source": [
    "searcher = Searcher(dataset)\n",
    "topk_list = searcher.search_topk(query, topk=2)\n",
    "results = [query] + topk_list[1:]\n",
    "subset_list = []\n",
    "id_list =[]\n",
    "for result in results:\n",
    "    subset_list.append(result.subset)\n",
    "    id_list.append(result.id)\n",
    "fig = visualizer.vis_gallery(id_list[:12], subset_list[:12], (None, None))\n",
    "fig.show()"
   ]
  },
  {
   "cell_type": "code",
   "execution_count": 47,
   "id": "7b9d50be",
   "metadata": {},
   "outputs": [
    {
     "name": "stdout",
     "output_type": "stream",
     "text": [
      "setting dataset time for 5 items:  0.06936430931091309\n"
     ]
    },
    {
     "data": {
      "text/plain": [
       "Dataset\n",
       "\tsize=5\n",
       "\tsource_path=./tests/assets/align_celeba_dataset/dataset_with_meta_file\n",
       "\tmedia_type=<class 'datumaro.components.media.Image'>\n",
       "\tannotated_items_count=5\n",
       "\tannotations_count=5\n",
       "subsets\n",
       "\ttest: # of items=2, # of annotated items=2, # of annotations=2, annotation types=['label']\n",
       "\ttrain: # of items=2, # of annotated items=2, # of annotations=2, annotation types=['label']\n",
       "\tval: # of items=1, # of annotated items=1, # of annotations=1, annotation types=['label']\n",
       "categories\n",
       "\tlabel: ['class-0', 'class-1', 'class-2', 'class-3', 'class-4', 'class-5', 'class-6']"
      ]
     },
     "execution_count": 47,
     "metadata": {},
     "output_type": "execute_result"
    }
   ],
   "source": [
    "start_time = time.time()\n",
    "dataset = dm.Dataset.import_from('./tests/assets/align_celeba_dataset/dataset_with_meta_file', format=\"align_celeba\", save_hash=True)\n",
    "print(f'setting dataset time for {len(dataset)} items: ', time.time()-start_time)\n",
    "dataset"
   ]
  },
  {
   "cell_type": "code",
   "execution_count": 48,
   "id": "a794f6da",
   "metadata": {},
   "outputs": [
    {
     "name": "stdout",
     "output_type": "stream",
     "text": [
      "DatasetItem(id='000001', subset='train', media=<datumaro.components.media.Image object at 0x7fdd4a3a5bd0>, annotations=[Label(id=0, attributes={}, group=0, label=1)], attributes={}, hash_key=['09effa1b4c54099b48ce2f97ca195100f5115aad2e1aad36e1abfaf8fd10c0c7a167ddf6b539399e7ddaf32ba0b1ee07a038369e6ad898e50a2cf98912248bcc'])\n",
      "DatasetItem(id='000002', subset='train', media=<datumaro.components.media.Image object at 0x7fdd4a283790>, annotations=[Label(id=0, attributes={}, group=0, label=3)], attributes={}, hash_key=['09effa1b4c54099b48ce2f97ca195100f5115aad2e1aad36e1abfaf8fd10c0c7a167ddf6b539399e7ddaf32ba0b1ee07a038369e6ad898e50a2cf98912248bcc'])\n",
      "DatasetItem(id='000003', subset='val', media=<datumaro.components.media.Image object at 0x7fdd4a314510>, annotations=[Label(id=0, attributes={}, group=0, label=0)], attributes={}, hash_key=['09effa1b4c54099b48ce2f97ca195100f5115aad2e1aad36e1abfaf8fd10c0c7a167ddf6b539399e7ddaf32ba0b1ee07a038369e6ad898e50a2cf98912248bcc'])\n",
      "DatasetItem(id='000004', subset='test', media=<datumaro.components.media.Image object at 0x7fdd4a3a5190>, annotations=[Label(id=0, attributes={}, group=0, label=2)], attributes={}, hash_key=['09effa1b4c54099b48ce2f97ca195100f5115aad2e1aad36e1abfaf8fd10c0c7a167ddf6b539399e7ddaf32ba0b1ee07a038369e6ad898e50a2cf98912248bcc'])\n",
      "DatasetItem(id='000005', subset='test', media=<datumaro.components.media.Image object at 0x7fdd4a3a5c50>, annotations=[Label(id=0, attributes={}, group=0, label=6)], attributes={}, hash_key=['09effa1b4c54099b48ce2f97ca195100f5115aad2e1aad36e1abfaf8fd10c0c7a167ddf6b539399e7ddaf32ba0b1ee07a038369e6ad898e50a2cf98912248bcc'])\n"
     ]
    }
   ],
   "source": [
    "for i, item in enumerate(dataset):\n",
    "    print(item)"
   ]
  },
  {
   "cell_type": "code",
   "execution_count": 49,
   "id": "40786b90",
   "metadata": {},
   "outputs": [
    {
     "data": {
      "image/png": "[encoded data removed]",
      "text/plain": [
       "<Figure size 864x864 with 1 Axes>"
      ]
     },
     "metadata": {
      "needs_background": "light"
     },
     "output_type": "display_data"
    }
   ],
   "source": [
    "for i, item in enumerate(dataset):\n",
    "    if i==0:\n",
    "        query = item\n",
    "visualizer = Visualizer(dataset, figsize=(12, 12), alpha=0)\n",
    "fig = visualizer.vis_one_sample(query.id, \"train\")\n",
    "fig.show()"
   ]
  },
  {
   "cell_type": "code",
   "execution_count": 50,
   "id": "39f92343",
   "metadata": {},
   "outputs": [
    {
     "data": {
      "image/png": "[encoded data removed]",
      "text/plain": [
       "<Figure size 864x864 with 2 Axes>"
      ]
     },
     "metadata": {
      "needs_background": "light"
     },
     "output_type": "display_data"
    }
   ],
   "source": [
    "searcher = Searcher(dataset)\n",
    "topk_list = searcher.search_topk(query, topk=2)\n",
    "results = [query] + topk_list[1:]\n",
    "subset_list = []\n",
    "id_list =[]\n",
    "for result in results:\n",
    "    subset_list.append(result.subset)\n",
    "    id_list.append(result.id)\n",
    "fig = visualizer.vis_gallery(id_list[:12], subset_list[:12], (None, None))\n",
    "fig.show()"
   ]
  },
  {
   "cell_type": "markdown",
   "id": "f3be8eeb",
   "metadata": {},
   "source": [
    "## brats_dataset"
   ]
  },
  {
   "cell_type": "code",
   "execution_count": 2,
   "id": "8c43fde8",
   "metadata": {},
   "outputs": [
    {
     "name": "stdout",
     "output_type": "stream",
     "text": [
      "setting dataset time for 2 items:  0.2621748447418213\n"
     ]
    },
    {
     "data": {
      "text/plain": [
       "Dataset\n",
       "\tsize=2\n",
       "\tsource_path=./tests/assets/brats_dataset\n",
       "\tmedia_type=<class 'datumaro.components.media.MultiframeImage'>\n",
       "\tannotated_items_count=1\n",
       "\tannotations_count=5\n",
       "subsets\n",
       "\ttest: # of items=1, # of annotated items=0, # of annotations=0, annotation types=[]\n",
       "\ttrain: # of items=1, # of annotated items=1, # of annotations=5, annotation types=['mask']\n",
       "categories\n",
       "\tlabel: ['overall tumor', 'edema', 'non-enhancing tumor', 'enhancing tumor']"
      ]
     },
     "execution_count": 2,
     "metadata": {},
     "output_type": "execute_result"
    }
   ],
   "source": [
    "start_time = time.time()\n",
    "dataset = dm.Dataset.import_from('./tests/assets/brats_dataset')\n",
    "print(f'setting dataset time for {len(dataset)} items: ', time.time()-start_time)\n",
    "dataset"
   ]
  },
  {
   "cell_type": "code",
   "execution_count": 3,
   "id": "44574c69",
   "metadata": {},
   "outputs": [
    {
     "name": "stdout",
     "output_type": "stream",
     "text": [
      "DatasetItem(id='BRATS_001', subset='train', media=<datumaro.components.media.MultiframeImage object at 0x7f6c88824b10>, annotations=[Mask(id=0, attributes={'image_id': 0}, group=0, _image=<function BratsExtractor._lazy_extract_mask.<locals>.<lambda> at 0x7f6c5382a9e0>, label=0, z_order=0), Mask(id=0, attributes={'image_id': 0}, group=0, _image=<function BratsExtractor._lazy_extract_mask.<locals>.<lambda> at 0x7f6c53814d40>, label=1, z_order=0), Mask(id=0, attributes={'image_id': 1}, group=0, _image=<function BratsExtractor._lazy_extract_mask.<locals>.<lambda> at 0x7f6c4dacf5f0>, label=0, z_order=0), Mask(id=0, attributes={'image_id': 1}, group=0, _image=<function BratsExtractor._lazy_extract_mask.<locals>.<lambda> at 0x7f6c84361170>, label=1, z_order=0), Mask(id=0, attributes={'image_id': 1}, group=0, _image=<function BratsExtractor._lazy_extract_mask.<locals>.<lambda> at 0x7f6c6e8584d0>, label=2, z_order=0)], attributes={})\n"
     ]
    }
   ],
   "source": [
    "for i, item in enumerate(dataset):\n",
    "    if i==0:\n",
    "        print(item)"
   ]
  },
  {
   "cell_type": "code",
   "execution_count": 4,
   "id": "8ee28fed",
   "metadata": {},
   "outputs": [
    {
     "ename": "AssertionError",
     "evalue": "Media type should be Image, Current media type=<class 'datumaro.components.media.MultiframeImage'>",
     "output_type": "error",
     "traceback": [
      "\u001b[0;31m---------------------------------------------------------------------------\u001b[0m",
      "\u001b[0;31mAssertionError\u001b[0m                            Traceback (most recent call last)",
      "\u001b[0;32m/tmp/ipykernel_20566/2120962219.py\u001b[0m in \u001b[0;36m<module>\u001b[0;34m\u001b[0m\n\u001b[1;32m      3\u001b[0m         \u001b[0mquery\u001b[0m \u001b[0;34m=\u001b[0m \u001b[0mitem\u001b[0m\u001b[0;34m\u001b[0m\u001b[0;34m\u001b[0m\u001b[0m\n\u001b[1;32m      4\u001b[0m \u001b[0mvisualizer\u001b[0m \u001b[0;34m=\u001b[0m \u001b[0mVisualizer\u001b[0m\u001b[0;34m(\u001b[0m\u001b[0mdataset\u001b[0m\u001b[0;34m,\u001b[0m \u001b[0mfigsize\u001b[0m\u001b[0;34m=\u001b[0m\u001b[0;34m(\u001b[0m\u001b[0;36m12\u001b[0m\u001b[0;34m,\u001b[0m \u001b[0;36m12\u001b[0m\u001b[0;34m)\u001b[0m\u001b[0;34m,\u001b[0m \u001b[0malpha\u001b[0m\u001b[0;34m=\u001b[0m\u001b[0;36m0\u001b[0m\u001b[0;34m)\u001b[0m\u001b[0;34m\u001b[0m\u001b[0;34m\u001b[0m\u001b[0m\n\u001b[0;32m----> 5\u001b[0;31m \u001b[0mfig\u001b[0m \u001b[0;34m=\u001b[0m \u001b[0mvisualizer\u001b[0m\u001b[0;34m.\u001b[0m\u001b[0mvis_one_sample\u001b[0m\u001b[0;34m(\u001b[0m\u001b[0mquery\u001b[0m\u001b[0;34m.\u001b[0m\u001b[0mid\u001b[0m\u001b[0;34m,\u001b[0m \u001b[0;34m\"train\"\u001b[0m\u001b[0;34m)\u001b[0m\u001b[0;34m\u001b[0m\u001b[0;34m\u001b[0m\u001b[0m\n\u001b[0m\u001b[1;32m      6\u001b[0m \u001b[0mfig\u001b[0m\u001b[0;34m.\u001b[0m\u001b[0mshow\u001b[0m\u001b[0;34m(\u001b[0m\u001b[0;34m)\u001b[0m\u001b[0;34m\u001b[0m\u001b[0;34m\u001b[0m\u001b[0m\n",
      "\u001b[0;32m~/workspace/datumaro_sa/datumaro/components/visualizer.py\u001b[0m in \u001b[0;36mvis_one_sample\u001b[0;34m(self, id, subset, ax)\u001b[0m\n\u001b[1;32m    220\u001b[0m         \u001b[0mitem\u001b[0m\u001b[0;34m:\u001b[0m \u001b[0mDatasetItem\u001b[0m \u001b[0;34m=\u001b[0m \u001b[0mself\u001b[0m\u001b[0;34m.\u001b[0m\u001b[0mdataset\u001b[0m\u001b[0;34m.\u001b[0m\u001b[0mget\u001b[0m\u001b[0;34m(\u001b[0m\u001b[0mid\u001b[0m\u001b[0;34m,\u001b[0m \u001b[0msubset\u001b[0m\u001b[0;34m)\u001b[0m\u001b[0;34m\u001b[0m\u001b[0;34m\u001b[0m\u001b[0m\n\u001b[1;32m    221\u001b[0m         \u001b[0;32massert\u001b[0m \u001b[0mitem\u001b[0m \u001b[0;32mis\u001b[0m \u001b[0;32mnot\u001b[0m \u001b[0;32mNone\u001b[0m\u001b[0;34m,\u001b[0m \u001b[0;34mf\"Cannot find id={id}, subset={subset}\"\u001b[0m\u001b[0;34m\u001b[0m\u001b[0;34m\u001b[0m\u001b[0m\n\u001b[0;32m--> 222\u001b[0;31m         \u001b[0;32massert\u001b[0m \u001b[0mitem\u001b[0m \u001b[0;32mis\u001b[0m \u001b[0mImage\u001b[0m\u001b[0;34m,\u001b[0m \u001b[0;34mf\"Media type should be Image, Current media type={type(item.media)}\"\u001b[0m\u001b[0;34m\u001b[0m\u001b[0;34m\u001b[0m\u001b[0m\n\u001b[0m\u001b[1;32m    223\u001b[0m \u001b[0;34m\u001b[0m\u001b[0m\n\u001b[1;32m    224\u001b[0m         \u001b[0mimg\u001b[0m \u001b[0;34m=\u001b[0m \u001b[0mitem\u001b[0m\u001b[0;34m.\u001b[0m\u001b[0mmedia\u001b[0m\u001b[0;34m.\u001b[0m\u001b[0mdata\u001b[0m\u001b[0;34m.\u001b[0m\u001b[0mastype\u001b[0m\u001b[0;34m(\u001b[0m\u001b[0mnp\u001b[0m\u001b[0;34m.\u001b[0m\u001b[0muint8\u001b[0m\u001b[0;34m)\u001b[0m\u001b[0;34m\u001b[0m\u001b[0;34m\u001b[0m\u001b[0m\n",
      "\u001b[0;31mAssertionError\u001b[0m: Media type should be Image, Current media type=<class 'datumaro.components.media.MultiframeImage'>"
     ]
    },
    {
     "data": {
      "image/png": "[encoded data removed]",
      "text/plain": [
       "<Figure size 864x864 with 1 Axes>"
      ]
     },
     "metadata": {
      "needs_background": "light"
     },
     "output_type": "display_data"
    }
   ],
   "source": [
    "for i, item in enumerate(dataset):\n",
    "    if i==0:\n",
    "        query = item\n",
    "visualizer = Visualizer(dataset, figsize=(12, 12), alpha=0)\n",
    "fig = visualizer.vis_one_sample(query.id, \"train\")\n",
    "fig.show()"
   ]
  },
  {
   "cell_type": "code",
   "execution_count": 10,
   "id": "7e22fd8c",
   "metadata": {},
   "outputs": [
    {
     "ename": "NameError",
     "evalue": "name 'query' is not defined",
     "output_type": "error",
     "traceback": [
      "\u001b[0;31m---------------------------------------------------------------------------\u001b[0m",
      "\u001b[0;31mNameError\u001b[0m                                 Traceback (most recent call last)",
      "\u001b[0;32m/tmp/ipykernel_16347/1775144049.py\u001b[0m in \u001b[0;36m<module>\u001b[0;34m\u001b[0m\n\u001b[1;32m      1\u001b[0m \u001b[0mvisualizer\u001b[0m \u001b[0;34m=\u001b[0m \u001b[0mVisualizer\u001b[0m\u001b[0;34m(\u001b[0m\u001b[0mdataset\u001b[0m\u001b[0;34m,\u001b[0m \u001b[0mfigsize\u001b[0m\u001b[0;34m=\u001b[0m\u001b[0;34m(\u001b[0m\u001b[0;36m12\u001b[0m\u001b[0;34m,\u001b[0m \u001b[0;36m12\u001b[0m\u001b[0;34m)\u001b[0m\u001b[0;34m,\u001b[0m \u001b[0malpha\u001b[0m\u001b[0;34m=\u001b[0m\u001b[0;36m0\u001b[0m\u001b[0;34m)\u001b[0m\u001b[0;34m\u001b[0m\u001b[0;34m\u001b[0m\u001b[0m\n\u001b[0;32m----> 2\u001b[0;31m \u001b[0mfig\u001b[0m \u001b[0;34m=\u001b[0m \u001b[0mvisualizer\u001b[0m\u001b[0;34m.\u001b[0m\u001b[0mvis_gallery\u001b[0m\u001b[0;34m(\u001b[0m\u001b[0mquery\u001b[0m\u001b[0;34m.\u001b[0m\u001b[0mid\u001b[0m\u001b[0;34m,\u001b[0m \u001b[0;34m\"train\"\u001b[0m\u001b[0;34m)\u001b[0m\u001b[0;34m\u001b[0m\u001b[0;34m\u001b[0m\u001b[0m\n\u001b[0m\u001b[1;32m      3\u001b[0m \u001b[0mfig\u001b[0m\u001b[0;34m.\u001b[0m\u001b[0mshow\u001b[0m\u001b[0;34m(\u001b[0m\u001b[0;34m)\u001b[0m\u001b[0;34m\u001b[0m\u001b[0;34m\u001b[0m\u001b[0m\n",
      "\u001b[0;31mNameError\u001b[0m: name 'query' is not defined"
     ]
    }
   ],
   "source": [
    "visualizer = Visualizer(dataset, figsize=(12, 12), alpha=0)\n",
    "fig = visualizer.vis_gallery(query.id, \"train\")\n",
    "fig.show()"
   ]
  },
  {
   "cell_type": "markdown",
   "id": "59d66f43",
   "metadata": {},
   "source": [
    "## brats_numpy_dataset"
   ]
  },
  {
   "cell_type": "code",
   "execution_count": 60,
   "id": "1aeb4c64",
   "metadata": {},
   "outputs": [
    {
     "ename": "TypeError",
     "evalue": "int() argument must be a string, a bytes-like object or a number, not 'Image'",
     "output_type": "error",
     "traceback": [
      "\u001b[0;31m---------------------------------------------------------------------------\u001b[0m",
      "\u001b[0;31mTypeError\u001b[0m                                 Traceback (most recent call last)",
      "\u001b[0;32m~/workspace/datumaro_sa/datumaro/components/dataset.py\u001b[0m in \u001b[0;36mimport_from\u001b[0;34m(cls, path, format, env, progress_reporter, error_policy, save_hash, **kwargs)\u001b[0m\n\u001b[1;32m   1280\u001b[0m                     extractors.append(\n\u001b[0;32m-> 1281\u001b[0;31m                         \u001b[0menv\u001b[0m\u001b[0;34m.\u001b[0m\u001b[0mmake_extractor\u001b[0m\u001b[0;34m(\u001b[0m\u001b[0msrc_conf\u001b[0m\u001b[0;34m.\u001b[0m\u001b[0mformat\u001b[0m\u001b[0;34m,\u001b[0m \u001b[0msrc_conf\u001b[0m\u001b[0;34m.\u001b[0m\u001b[0murl\u001b[0m\u001b[0;34m,\u001b[0m \u001b[0;34m**\u001b[0m\u001b[0mextractor_kwargs\u001b[0m\u001b[0;34m)\u001b[0m\u001b[0;34m\u001b[0m\u001b[0;34m\u001b[0m\u001b[0m\n\u001b[0m\u001b[1;32m   1282\u001b[0m                     )\n",
      "\u001b[0;32m~/workspace/datumaro_sa/datumaro/components/environment.py\u001b[0m in \u001b[0;36mmake_extractor\u001b[0;34m(self, name, *args, **kwargs)\u001b[0m\n\u001b[1;32m    229\u001b[0m     \u001b[0;32mdef\u001b[0m \u001b[0mmake_extractor\u001b[0m\u001b[0;34m(\u001b[0m\u001b[0mself\u001b[0m\u001b[0;34m,\u001b[0m \u001b[0mname\u001b[0m\u001b[0;34m,\u001b[0m \u001b[0;34m*\u001b[0m\u001b[0margs\u001b[0m\u001b[0;34m,\u001b[0m \u001b[0;34m**\u001b[0m\u001b[0mkwargs\u001b[0m\u001b[0;34m)\u001b[0m\u001b[0;34m:\u001b[0m\u001b[0;34m\u001b[0m\u001b[0;34m\u001b[0m\u001b[0m\n\u001b[0;32m--> 230\u001b[0;31m         \u001b[0;32mreturn\u001b[0m \u001b[0mself\u001b[0m\u001b[0;34m.\u001b[0m\u001b[0mextractors\u001b[0m\u001b[0;34m.\u001b[0m\u001b[0mget\u001b[0m\u001b[0;34m(\u001b[0m\u001b[0mname\u001b[0m\u001b[0;34m)\u001b[0m\u001b[0;34m(\u001b[0m\u001b[0;34m*\u001b[0m\u001b[0margs\u001b[0m\u001b[0;34m,\u001b[0m \u001b[0;34m**\u001b[0m\u001b[0mkwargs\u001b[0m\u001b[0;34m)\u001b[0m\u001b[0;34m\u001b[0m\u001b[0;34m\u001b[0m\u001b[0m\n\u001b[0m\u001b[1;32m    231\u001b[0m \u001b[0;34m\u001b[0m\u001b[0m\n",
      "\u001b[0;31mTypeError\u001b[0m: __init__() got an unexpected keyword argument 'ctx'",
      "\nDuring handling of the above exception, another exception occurred:\n",
      "\u001b[0;31mTypeError\u001b[0m                                 Traceback (most recent call last)",
      "\u001b[0;32m/tmp/ipykernel_7138/2147075950.py\u001b[0m in \u001b[0;36m<module>\u001b[0;34m\u001b[0m\n\u001b[1;32m      1\u001b[0m \u001b[0mstart_time\u001b[0m \u001b[0;34m=\u001b[0m \u001b[0mtime\u001b[0m\u001b[0;34m.\u001b[0m\u001b[0mtime\u001b[0m\u001b[0;34m(\u001b[0m\u001b[0;34m)\u001b[0m\u001b[0;34m\u001b[0m\u001b[0;34m\u001b[0m\u001b[0m\n\u001b[0;32m----> 2\u001b[0;31m \u001b[0mdataset\u001b[0m \u001b[0;34m=\u001b[0m \u001b[0mdm\u001b[0m\u001b[0;34m.\u001b[0m\u001b[0mDataset\u001b[0m\u001b[0;34m.\u001b[0m\u001b[0mimport_from\u001b[0m\u001b[0;34m(\u001b[0m\u001b[0;34m'./tests/assets/brats_numpy_dataset'\u001b[0m\u001b[0;34m,\u001b[0m \u001b[0msave_hash\u001b[0m\u001b[0;34m=\u001b[0m\u001b[0;32mTrue\u001b[0m\u001b[0;34m)\u001b[0m\u001b[0;34m\u001b[0m\u001b[0;34m\u001b[0m\u001b[0m\n\u001b[0m\u001b[1;32m      3\u001b[0m \u001b[0mprint\u001b[0m\u001b[0;34m(\u001b[0m\u001b[0;34mf'setting dataset time for {len(dataset)} items: '\u001b[0m\u001b[0;34m,\u001b[0m \u001b[0mtime\u001b[0m\u001b[0;34m.\u001b[0m\u001b[0mtime\u001b[0m\u001b[0;34m(\u001b[0m\u001b[0;34m)\u001b[0m\u001b[0;34m-\u001b[0m\u001b[0mstart_time\u001b[0m\u001b[0;34m)\u001b[0m\u001b[0;34m\u001b[0m\u001b[0;34m\u001b[0m\u001b[0m\n\u001b[1;32m      4\u001b[0m \u001b[0mdataset\u001b[0m\u001b[0;34m\u001b[0m\u001b[0;34m\u001b[0m\u001b[0m\n",
      "\u001b[0;32m~/workspace/datumaro_sa/datumaro/components/dataset.py\u001b[0m in \u001b[0;36mimport_from\u001b[0;34m(cls, path, format, env, progress_reporter, error_policy, save_hash, **kwargs)\u001b[0m\n\u001b[1;32m   1296\u001b[0m \u001b[0;34m\u001b[0m\u001b[0m\n\u001b[1;32m   1297\u001b[0m                     extractors.append(\n\u001b[0;32m-> 1298\u001b[0;31m                         \u001b[0menv\u001b[0m\u001b[0;34m.\u001b[0m\u001b[0mmake_extractor\u001b[0m\u001b[0;34m(\u001b[0m\u001b[0msrc_conf\u001b[0m\u001b[0;34m.\u001b[0m\u001b[0mformat\u001b[0m\u001b[0;34m,\u001b[0m \u001b[0msrc_conf\u001b[0m\u001b[0;34m.\u001b[0m\u001b[0murl\u001b[0m\u001b[0;34m,\u001b[0m \u001b[0;34m**\u001b[0m\u001b[0mextractor_kwargs\u001b[0m\u001b[0;34m)\u001b[0m\u001b[0;34m\u001b[0m\u001b[0;34m\u001b[0m\u001b[0m\n\u001b[0m\u001b[1;32m   1299\u001b[0m                     )\n\u001b[1;32m   1300\u001b[0m \u001b[0;34m\u001b[0m\u001b[0m\n",
      "\u001b[0;32m~/workspace/datumaro_sa/datumaro/components/environment.py\u001b[0m in \u001b[0;36mmake_extractor\u001b[0;34m(self, name, *args, **kwargs)\u001b[0m\n\u001b[1;32m    228\u001b[0m \u001b[0;34m\u001b[0m\u001b[0m\n\u001b[1;32m    229\u001b[0m     \u001b[0;32mdef\u001b[0m \u001b[0mmake_extractor\u001b[0m\u001b[0;34m(\u001b[0m\u001b[0mself\u001b[0m\u001b[0;34m,\u001b[0m \u001b[0mname\u001b[0m\u001b[0;34m,\u001b[0m \u001b[0;34m*\u001b[0m\u001b[0margs\u001b[0m\u001b[0;34m,\u001b[0m \u001b[0;34m**\u001b[0m\u001b[0mkwargs\u001b[0m\u001b[0;34m)\u001b[0m\u001b[0;34m:\u001b[0m\u001b[0;34m\u001b[0m\u001b[0;34m\u001b[0m\u001b[0m\n\u001b[0;32m--> 230\u001b[0;31m         \u001b[0;32mreturn\u001b[0m \u001b[0mself\u001b[0m\u001b[0;34m.\u001b[0m\u001b[0mextractors\u001b[0m\u001b[0;34m.\u001b[0m\u001b[0mget\u001b[0m\u001b[0;34m(\u001b[0m\u001b[0mname\u001b[0m\u001b[0;34m)\u001b[0m\u001b[0;34m(\u001b[0m\u001b[0;34m*\u001b[0m\u001b[0margs\u001b[0m\u001b[0;34m,\u001b[0m \u001b[0;34m**\u001b[0m\u001b[0mkwargs\u001b[0m\u001b[0;34m)\u001b[0m\u001b[0;34m\u001b[0m\u001b[0;34m\u001b[0m\u001b[0m\n\u001b[0m\u001b[1;32m    231\u001b[0m \u001b[0;34m\u001b[0m\u001b[0m\n\u001b[1;32m    232\u001b[0m     \u001b[0;32mdef\u001b[0m \u001b[0mmake_importer\u001b[0m\u001b[0;34m(\u001b[0m\u001b[0mself\u001b[0m\u001b[0;34m,\u001b[0m \u001b[0mname\u001b[0m\u001b[0;34m,\u001b[0m \u001b[0;34m*\u001b[0m\u001b[0margs\u001b[0m\u001b[0;34m,\u001b[0m \u001b[0;34m**\u001b[0m\u001b[0mkwargs\u001b[0m\u001b[0;34m)\u001b[0m\u001b[0;34m:\u001b[0m\u001b[0;34m\u001b[0m\u001b[0;34m\u001b[0m\u001b[0m\n",
      "\u001b[0;32m~/workspace/datumaro_sa/datumaro/plugins/brats_numpy_format.py\u001b[0m in \u001b[0;36m__init__\u001b[0;34m(self, path, save_hash)\u001b[0m\n\u001b[1;32m     32\u001b[0m         \u001b[0mself\u001b[0m\u001b[0;34m.\u001b[0m\u001b[0m_save_hash\u001b[0m \u001b[0;34m=\u001b[0m \u001b[0msave_hash\u001b[0m\u001b[0;34m\u001b[0m\u001b[0;34m\u001b[0m\u001b[0m\n\u001b[1;32m     33\u001b[0m         \u001b[0mself\u001b[0m\u001b[0;34m.\u001b[0m\u001b[0m_categories\u001b[0m \u001b[0;34m=\u001b[0m \u001b[0mself\u001b[0m\u001b[0;34m.\u001b[0m\u001b[0m_load_categories\u001b[0m\u001b[0;34m(\u001b[0m\u001b[0;34m)\u001b[0m\u001b[0;34m\u001b[0m\u001b[0;34m\u001b[0m\u001b[0m\n\u001b[0;32m---> 34\u001b[0;31m         \u001b[0mself\u001b[0m\u001b[0;34m.\u001b[0m\u001b[0m_items\u001b[0m \u001b[0;34m=\u001b[0m \u001b[0mlist\u001b[0m\u001b[0;34m(\u001b[0m\u001b[0mself\u001b[0m\u001b[0;34m.\u001b[0m\u001b[0m_load_items\u001b[0m\u001b[0;34m(\u001b[0m\u001b[0mpath\u001b[0m\u001b[0;34m)\u001b[0m\u001b[0;34m.\u001b[0m\u001b[0mvalues\u001b[0m\u001b[0;34m(\u001b[0m\u001b[0;34m)\u001b[0m\u001b[0;34m)\u001b[0m\u001b[0;34m\u001b[0m\u001b[0;34m\u001b[0m\u001b[0m\n\u001b[0m\u001b[1;32m     35\u001b[0m \u001b[0;34m\u001b[0m\u001b[0m\n\u001b[1;32m     36\u001b[0m     \u001b[0;32mdef\u001b[0m \u001b[0m_load_categories\u001b[0m\u001b[0;34m(\u001b[0m\u001b[0mself\u001b[0m\u001b[0;34m)\u001b[0m\u001b[0;34m:\u001b[0m\u001b[0;34m\u001b[0m\u001b[0;34m\u001b[0m\u001b[0m\n",
      "\u001b[0;32m~/workspace/datumaro_sa/datumaro/plugins/brats_numpy_format.py\u001b[0m in \u001b[0;36m_load_items\u001b[0;34m(self, path)\u001b[0m\n\u001b[1;32m     87\u001b[0m                 \u001b[0manno\u001b[0m\u001b[0;34m.\u001b[0m\u001b[0mappend\u001b[0m\u001b[0;34m(\u001b[0m\u001b[0mCuboid3d\u001b[0m\u001b[0;34m(\u001b[0m\u001b[0mposition\u001b[0m\u001b[0;34m=\u001b[0m\u001b[0mlist\u001b[0m\u001b[0;34m(\u001b[0m\u001b[0mbox\u001b[0m\u001b[0;34m[\u001b[0m\u001b[0;36m0\u001b[0m\u001b[0;34m]\u001b[0m\u001b[0;34m)\u001b[0m\u001b[0;34m,\u001b[0m \u001b[0mrotation\u001b[0m\u001b[0;34m=\u001b[0m\u001b[0mlist\u001b[0m\u001b[0;34m(\u001b[0m\u001b[0mbox\u001b[0m\u001b[0;34m[\u001b[0m\u001b[0;36m1\u001b[0m\u001b[0;34m]\u001b[0m\u001b[0;34m)\u001b[0m\u001b[0;34m)\u001b[0m\u001b[0;34m)\u001b[0m\u001b[0;34m\u001b[0m\u001b[0;34m\u001b[0m\u001b[0m\n\u001b[1;32m     88\u001b[0m \u001b[0;34m\u001b[0m\u001b[0m\n\u001b[0;32m---> 89\u001b[0;31m             \u001b[0mitems\u001b[0m\u001b[0;34m[\u001b[0m\u001b[0mitem_id\u001b[0m\u001b[0;34m]\u001b[0m \u001b[0;34m=\u001b[0m \u001b[0mDatasetItem\u001b[0m\u001b[0;34m(\u001b[0m\u001b[0mid\u001b[0m\u001b[0;34m=\u001b[0m\u001b[0mitem_id\u001b[0m\u001b[0;34m,\u001b[0m \u001b[0mmedia\u001b[0m\u001b[0;34m=\u001b[0m\u001b[0mmedia\u001b[0m\u001b[0;34m,\u001b[0m \u001b[0mannotations\u001b[0m\u001b[0;34m=\u001b[0m\u001b[0manno\u001b[0m\u001b[0;34m,\u001b[0m \u001b[0msave_hash\u001b[0m\u001b[0;34m=\u001b[0m\u001b[0mself\u001b[0m\u001b[0;34m.\u001b[0m\u001b[0m_save_hash\u001b[0m\u001b[0;34m)\u001b[0m\u001b[0;34m\u001b[0m\u001b[0;34m\u001b[0m\u001b[0m\n\u001b[0m\u001b[1;32m     90\u001b[0m \u001b[0;34m\u001b[0m\u001b[0m\n\u001b[1;32m     91\u001b[0m         \u001b[0;32mreturn\u001b[0m \u001b[0mitems\u001b[0m\u001b[0;34m\u001b[0m\u001b[0;34m\u001b[0m\u001b[0m\n",
      "\u001b[0;32m~/workspace/datumaro_sa/datumaro/components/extractor.py\u001b[0m in \u001b[0;36m__init__\u001b[0;34m(self, id, subset, media, annotations, attributes, save_hash, image, point_cloud, related_images, hash_key)\u001b[0m\n\u001b[1;32m    119\u001b[0m \u001b[0;34m\u001b[0m\u001b[0m\n\u001b[1;32m    120\u001b[0m         \u001b[0;32mif\u001b[0m \u001b[0msave_hash\u001b[0m\u001b[0;34m:\u001b[0m\u001b[0;34m\u001b[0m\u001b[0;34m\u001b[0m\u001b[0m\n\u001b[0;32m--> 121\u001b[0;31m             \u001b[0mhash_key\u001b[0m \u001b[0;34m=\u001b[0m \u001b[0minference\u001b[0m\u001b[0;34m(\u001b[0m\u001b[0mmedia\u001b[0m\u001b[0;34m)\u001b[0m\u001b[0;34m\u001b[0m\u001b[0;34m\u001b[0m\u001b[0m\n\u001b[0m\u001b[1;32m    122\u001b[0m \u001b[0;34m\u001b[0m\u001b[0m\n\u001b[1;32m    123\u001b[0m         self.__attrs_init__(\n",
      "\u001b[0;32m~/workspace/datumaro_sa/datumaro/components/model_inference.py\u001b[0m in \u001b[0;36minference\u001b[0;34m(item)\u001b[0m\n\u001b[1;32m    625\u001b[0m     \u001b[0;32mif\u001b[0m \u001b[0misinstance\u001b[0m\u001b[0;34m(\u001b[0m\u001b[0mitem\u001b[0m\u001b[0;34m,\u001b[0m \u001b[0mstr\u001b[0m\u001b[0;34m)\u001b[0m\u001b[0;34m:\u001b[0m\u001b[0;34m\u001b[0m\u001b[0;34m\u001b[0m\u001b[0m\n\u001b[1;32m    626\u001b[0m         \u001b[0mtext\u001b[0m \u001b[0;34m=\u001b[0m \u001b[0mtokenize\u001b[0m\u001b[0;34m(\u001b[0m\u001b[0;34mf\"a photo of a {item}\"\u001b[0m\u001b[0;34m)\u001b[0m\u001b[0;34m.\u001b[0m\u001b[0mto\u001b[0m\u001b[0;34m(\u001b[0m\u001b[0mdevice\u001b[0m\u001b[0;34m)\u001b[0m\u001b[0;34m\u001b[0m\u001b[0;34m\u001b[0m\u001b[0m\n\u001b[0;32m--> 627\u001b[0;31m         \u001b[0mfeatures\u001b[0m \u001b[0;34m=\u001b[0m \u001b[0mmodel\u001b[0m\u001b[0;34m.\u001b[0m\u001b[0mencode_text\u001b[0m\u001b[0;34m(\u001b[0m\u001b[0mtext\u001b[0m\u001b[0;34m)\u001b[0m\u001b[0;34m\u001b[0m\u001b[0;34m\u001b[0m\u001b[0m\n\u001b[0m\u001b[1;32m    628\u001b[0m     \u001b[0;32melif\u001b[0m \u001b[0misinstance\u001b[0m\u001b[0;34m(\u001b[0m\u001b[0mitem\u001b[0m\u001b[0;34m,\u001b[0m \u001b[0mMultiframeImage\u001b[0m\u001b[0;34m)\u001b[0m\u001b[0;34m:\u001b[0m\u001b[0;34m\u001b[0m\u001b[0;34m\u001b[0m\u001b[0m\n\u001b[1;32m    629\u001b[0m         \u001b[0;32mfor\u001b[0m \u001b[0mframe\u001b[0m \u001b[0;32min\u001b[0m \u001b[0mitem\u001b[0m\u001b[0;34m.\u001b[0m\u001b[0mdata\u001b[0m\u001b[0;34m:\u001b[0m\u001b[0;34m\u001b[0m\u001b[0;34m\u001b[0m\u001b[0m\n",
      "\u001b[0;31mTypeError\u001b[0m: int() argument must be a string, a bytes-like object or a number, not 'Image'"
     ]
    }
   ],
   "source": [
    "start_time = time.time()\n",
    "dataset = dm.Dataset.import_from('./tests/assets/brats_numpy_dataset', save_hash=True)\n",
    "print(f'setting dataset time for {len(dataset)} items: ', time.time()-start_time)\n",
    "dataset"
   ]
  },
  {
   "cell_type": "markdown",
   "id": "c2536d9d",
   "metadata": {},
   "source": [
    "## camvid_dataset"
   ]
  },
  {
   "cell_type": "code",
   "execution_count": 61,
   "id": "fa6dd381",
   "metadata": {},
   "outputs": [
    {
     "name": "stdout",
     "output_type": "stream",
     "text": [
      "setting dataset time for 4 items:  0.06671881675720215\n"
     ]
    },
    {
     "data": {
      "text/plain": [
       "Dataset\n",
       "\tsize=4\n",
       "\tsource_path=./tests/assets/camvid_dataset\n",
       "\tmedia_type=<class 'datumaro.components.media.Image'>\n",
       "\tannotated_items_count=4\n",
       "\tannotations_count=10\n",
       "subsets\n",
       "\ttest: # of items=2, # of annotated items=2, # of annotations=6, annotation types=['mask']\n",
       "\ttrain: # of items=1, # of annotated items=1, # of annotations=2, annotation types=['mask']\n",
       "\tval: # of items=1, # of annotated items=1, # of annotations=2, annotation types=['mask']\n",
       "categories\n",
       "\tlabel: ['Void', 'Animal', 'Archway', 'Bicyclist', 'Bridge', 'Building', 'Car', 'CartLuggagePram', 'Child', 'Column_Pole', 'Fence', 'LaneMkgsDriv', 'LaneMkgsNonDriv', 'Misc_Text', 'MotorcycycleScooter', 'OtherMoving', 'ParkingBlock', 'Pedestrian', 'Road', 'RoadShoulder', 'Sidewalk', 'SignSymbol', 'Sky', 'SUVPickupTruck', 'TrafficCone', 'TrafficLight', 'Train', 'Tree', 'Truck_Bus', 'Tunnel', 'VegetationMisc', 'Wall']\n",
       "\tmask: []"
      ]
     },
     "execution_count": 61,
     "metadata": {},
     "output_type": "execute_result"
    }
   ],
   "source": [
    "start_time = time.time()\n",
    "dataset = dm.Dataset.import_from('./tests/assets/camvid_dataset', save_hash=True)\n",
    "print(f'setting dataset time for {len(dataset)} items: ', time.time()-start_time)\n",
    "dataset"
   ]
  },
  {
   "cell_type": "code",
   "execution_count": 62,
   "id": "07af94f5",
   "metadata": {},
   "outputs": [
    {
     "name": "stdout",
     "output_type": "stream",
     "text": [
      "DatasetItem(id='0001TP_008550', subset='test', media=<datumaro.components.media.Image object at 0x7fdd6626e5d0>, annotations=[Mask(id=0, attributes={}, group=0, _image=<function CamvidExtractor._lazy_extract_mask.<locals>.<lambda> at 0x7fdd66136560>, label=1, z_order=0), Mask(id=0, attributes={}, group=0, _image=<function CamvidExtractor._lazy_extract_mask.<locals>.<lambda> at 0x7fdd4a387170>, label=18, z_order=0), Mask(id=0, attributes={}, group=0, _image=<function CamvidExtractor._lazy_extract_mask.<locals>.<lambda> at 0x7fdd4a387830>, label=22, z_order=0)], attributes={}, hash_key=['09effa1b4c54099b48ce2f97ca195100f5115aad2e1aad36e1abfaf8fd10c0c7a167ddf6b539399e7ddaf32ba0b1ee07a038369e6ad898e50a2cf98912248bcc'])\n",
      "DatasetItem(id='0001TP_008580', subset='test', media=<datumaro.components.media.Image object at 0x7fdd4a3140d0>, annotations=[Mask(id=0, attributes={}, group=0, _image=<function CamvidExtractor._lazy_extract_mask.<locals>.<lambda> at 0x7fdd66173d40>, label=2, z_order=0), Mask(id=0, attributes={}, group=0, _image=<function CamvidExtractor._lazy_extract_mask.<locals>.<lambda> at 0x7fdd66173cb0>, label=4, z_order=0), Mask(id=0, attributes={}, group=0, _image=<function CamvidExtractor._lazy_extract_mask.<locals>.<lambda> at 0x7fdd66173c20>, label=27, z_order=0)], attributes={}, hash_key=['09effa1b4c54099b48ce2f97ca195100f5115aad2e1aad36e1abfaf8fd10c0c7a167ddf6b539399e7ddaf32ba0b1ee07a038369e6ad898e50a2cf98912248bcc'])\n",
      "DatasetItem(id='0016E5_07959', subset='val', media=<datumaro.components.media.Image object at 0x7fdd4a206350>, annotations=[Mask(id=0, attributes={}, group=0, _image=<function CamvidExtractor._lazy_extract_mask.<locals>.<lambda> at 0x7fdd66173dd0>, label=1, z_order=0), Mask(id=0, attributes={}, group=0, _image=<function CamvidExtractor._lazy_extract_mask.<locals>.<lambda> at 0x7fdd66173e60>, label=8, z_order=0)], attributes={}, hash_key=['09effa1b4c54099b48ce2f97ca195100f5115aad2e1aad36e1abfaf8fd10c0c7a167ddf6b539399e7ddaf32ba0b1ee07a038369e6ad898e50a2cf98912248bcc'])\n",
      "DatasetItem(id='0001TP_006690', subset='train', media=<datumaro.components.media.Image object at 0x7fdd66362190>, annotations=[Mask(id=0, attributes={}, group=0, _image=<function CamvidExtractor._lazy_extract_mask.<locals>.<lambda> at 0x7fdd66173b90>, label=3, z_order=0), Mask(id=0, attributes={}, group=0, _image=<function CamvidExtractor._lazy_extract_mask.<locals>.<lambda> at 0x7fdd66173b00>, label=18, z_order=0)], attributes={}, hash_key=['09effa1b4c54099b48ce2f97ca195100f5115aad2e1aad36e1abfaf8fd10c0c7a167ddf6b539399e7ddaf32ba0b1ee07a038369e6ad898e50a2cf98912248bcc'])\n"
     ]
    }
   ],
   "source": [
    "for i, item in enumerate(dataset):\n",
    "    print(item)"
   ]
  },
  {
   "cell_type": "code",
   "execution_count": 64,
   "id": "ca305194",
   "metadata": {},
   "outputs": [
    {
     "data": {
      "image/png": "[encoded data removed]",
      "text/plain": [
       "<Figure size 864x864 with 1 Axes>"
      ]
     },
     "metadata": {
      "needs_background": "light"
     },
     "output_type": "display_data"
    }
   ],
   "source": [
    "for i, item in enumerate(dataset):\n",
    "    if i==0:\n",
    "        query = item\n",
    "visualizer = Visualizer(dataset, figsize=(12, 12), alpha=0)\n",
    "fig = visualizer.vis_one_sample(query.id, \"test\")\n",
    "fig.show()"
   ]
  },
  {
   "cell_type": "code",
   "execution_count": 65,
   "id": "9d0f625f",
   "metadata": {},
   "outputs": [
    {
     "data": {
      "image/png": "[encoded data removed]",
      "text/plain": [
       "<Figure size 864x864 with 2 Axes>"
      ]
     },
     "metadata": {
      "needs_background": "light"
     },
     "output_type": "display_data"
    }
   ],
   "source": [
    "searcher = Searcher(dataset)\n",
    "topk_list = searcher.search_topk(query, topk=2)\n",
    "results = [query] + topk_list[1:]\n",
    "subset_list = []\n",
    "id_list =[]\n",
    "for result in results:\n",
    "    subset_list.append(result.subset)\n",
    "    id_list.append(result.id)\n",
    "fig = visualizer.vis_gallery(id_list[:12], subset_list[:12], (None, None))\n",
    "fig.show()"
   ]
  },
  {
   "cell_type": "markdown",
   "id": "ad5e378b",
   "metadata": {},
   "source": [
    "## celeba_dataset"
   ]
  },
  {
   "cell_type": "code",
   "execution_count": 68,
   "id": "06f4e166",
   "metadata": {},
   "outputs": [
    {
     "name": "stdout",
     "output_type": "stream",
     "text": [
      "setting dataset time for 5 items:  0.056260108947753906\n"
     ]
    },
    {
     "data": {
      "text/plain": [
       "Dataset\n",
       "\tsize=5\n",
       "\tsource_path=./tests/assets/celeba_dataset/dataset\n",
       "\tmedia_type=<class 'datumaro.components.media.Image'>\n",
       "\tannotated_items_count=5\n",
       "\tannotations_count=15\n",
       "subsets\n",
       "\ttest: # of items=2, # of annotated items=2, # of annotations=6, annotation types=['label', 'points', 'bbox']\n",
       "\ttrain: # of items=2, # of annotated items=2, # of annotations=6, annotation types=['label', 'points', 'bbox']\n",
       "\tval: # of items=1, # of annotated items=1, # of annotations=3, annotation types=['label', 'points', 'bbox']\n",
       "categories\n",
       "\tlabel: ['class-0', 'class-1', 'class-2', 'class-3', 'class-4', 'class-5', 'class-6', 'class-7', 'class-8', 'class-9', 'class-10', 'class-11', 'class-12']\n",
       "\tpoints: []"
      ]
     },
     "execution_count": 68,
     "metadata": {},
     "output_type": "execute_result"
    }
   ],
   "source": [
    "start_time = time.time()\n",
    "dataset = dm.Dataset.import_from('./tests/assets/celeba_dataset/dataset', 'celeba', save_hash=True)\n",
    "print(f'setting dataset time for {len(dataset)} items: ', time.time()-start_time)\n",
    "dataset"
   ]
  },
  {
   "cell_type": "code",
   "execution_count": 69,
   "id": "5ba5e00b",
   "metadata": {},
   "outputs": [
    {
     "name": "stdout",
     "output_type": "stream",
     "text": [
      "DatasetItem(id='000001', subset='train', media=<datumaro.components.media.Image object at 0x7fdd4a465390>, annotations=[Label(id=0, attributes={}, group=0, label=12), Points(id=0, attributes={}, group=0, points=[165.0, 184.0, 244.0, 176.0, 196.0, 249.0, 194.0, 271.0, 266.0, 260.0], label=12, z_order=0, visibility=[<Visibility.visible: 2>, <Visibility.visible: 2>, <Visibility.visible: 2>, <Visibility.visible: 2>, <Visibility.visible: 2>]), Bbox(id=0, attributes={}, group=0, points=[95.0, 71.0, 321.0, 384.0], label=12, z_order=0)], attributes={'5_o_Clock_Shadow': False, 'Arched_Eyebrows': True, 'Attractive': True, 'Bags_Under_Eyes': False, 'Bald': False, 'Bangs': False, 'Big_Lips': False, 'Big_Nose': False}, hash_key=['09effa1b4c54099b48ce2f97ca195100f5115aad2e1aad36e1abfaf8fd10c0c7a167ddf6b539399e7ddaf32ba0b1ee07a038369e6ad898e50a2cf98912248bcc'])\n",
      "DatasetItem(id='000002', subset='train', media=<datumaro.components.media.Image object at 0x7fdd662a26d0>, annotations=[Label(id=0, attributes={}, group=0, label=5), Points(id=0, attributes={}, group=0, points=[140.0, 204.0, 220.0, 204.0, 168.0, 254.0, 146.0, 289.0, 226.0, 289.0], label=5, z_order=0, visibility=[<Visibility.visible: 2>, <Visibility.visible: 2>, <Visibility.visible: 2>, <Visibility.visible: 2>, <Visibility.visible: 2>]), Bbox(id=0, attributes={}, group=0, points=[72.0, 94.0, 293.0, 400.0], label=5, z_order=0)], attributes={}, hash_key=['09effa1b4c54099b48ce2f97ca195100f5115aad2e1aad36e1abfaf8fd10c0c7a167ddf6b539399e7ddaf32ba0b1ee07a038369e6ad898e50a2cf98912248bcc'])\n",
      "DatasetItem(id='000003', subset='val', media=<datumaro.components.media.Image object at 0x7fdd66040f90>, annotations=[Label(id=0, attributes={}, group=0, label=2), Points(id=0, attributes={}, group=0, points=[244.0, 104.0, 264.0, 105.0, 263.0, 121.0, 235.0, 134.0, 251.0, 140.0], label=2, z_order=0, visibility=[<Visibility.visible: 2>, <Visibility.visible: 2>, <Visibility.visible: 2>, <Visibility.visible: 2>, <Visibility.visible: 2>]), Bbox(id=0, attributes={}, group=0, points=[216.0, 59.0, 307.0, 185.0], label=2, z_order=0)], attributes={'5_o_Clock_Shadow': False, 'Arched_Eyebrows': False, 'Attractive': False, 'Bags_Under_Eyes': True, 'Bald': False, 'Bangs': False, 'Big_Lips': False, 'Big_Nose': True}, hash_key=['09effa1b4c54099b48ce2f97ca195100f5115aad2e1aad36e1abfaf8fd10c0c7a167ddf6b539399e7ddaf32ba0b1ee07a038369e6ad898e50a2cf98912248bcc'])\n",
      "DatasetItem(id='000004', subset='test', media=<datumaro.components.media.Image object at 0x7fdd4a3583d0>, annotations=[Label(id=0, attributes={}, group=0, label=10), Points(id=0, attributes={}, group=0, points=[796.0, 539.0, 984.0, 539.0, 930.0, 687.0, 762.0, 756.0, 915.0, 756.0], label=10, z_order=0, visibility=[<Visibility.visible: 2>, <Visibility.visible: 2>, <Visibility.visible: 2>, <Visibility.visible: 2>, <Visibility.visible: 2>]), Bbox(id=0, attributes={}, group=0, points=[622.0, 257.0, 1186.0, 1038.0], label=10, z_order=0)], attributes={}, hash_key=['09effa1b4c54099b48ce2f97ca195100f5115aad2e1aad36e1abfaf8fd10c0c7a167ddf6b539399e7ddaf32ba0b1ee07a038369e6ad898e50a2cf98912248bcc'])\n",
      "DatasetItem(id='000005', subset='test', media=<datumaro.components.media.Image object at 0x7fdd4a335290>, annotations=[Label(id=0, attributes={}, group=0, label=7), Points(id=0, attributes={}, group=0, points=[273.0, 169.0, 328.0, 161.0, 298.0, 172.0, 283.0, 208.0, 323.0, 207.0], label=7, z_order=0, visibility=[<Visibility.visible: 2>, <Visibility.visible: 2>, <Visibility.visible: 2>, <Visibility.visible: 2>, <Visibility.visible: 2>]), Bbox(id=0, attributes={}, group=0, points=[236.0, 109.0, 356.0, 275.0], label=7, z_order=0)], attributes={}, hash_key=['09effa1b4c54099b48ce2f97ca195100f5115aad2e1aad36e1abfaf8fd10c0c7a167ddf6b539399e7ddaf32ba0b1ee07a038369e6ad898e50a2cf98912248bcc'])\n"
     ]
    }
   ],
   "source": [
    "for i, item in enumerate(dataset):\n",
    "    print(item)"
   ]
  },
  {
   "cell_type": "code",
   "execution_count": 71,
   "id": "82d4b7c3",
   "metadata": {},
   "outputs": [
    {
     "data": {
      "image/png": "[encoded data removed]",
      "text/plain": [
       "<Figure size 864x864 with 1 Axes>"
      ]
     },
     "metadata": {
      "needs_background": "light"
     },
     "output_type": "display_data"
    }
   ],
   "source": [
    "for i, item in enumerate(dataset):\n",
    "    if i==0:\n",
    "        query = item\n",
    "visualizer = Visualizer(dataset, figsize=(12, 12), alpha=0)\n",
    "fig = visualizer.vis_one_sample(query.id, \"train\")\n",
    "fig.show()"
   ]
  },
  {
   "cell_type": "code",
   "execution_count": 72,
   "id": "111a9a82",
   "metadata": {},
   "outputs": [
    {
     "data": {
      "image/png": "[encoded data removed]",
      "text/plain": [
       "<Figure size 864x864 with 2 Axes>"
      ]
     },
     "metadata": {
      "needs_background": "light"
     },
     "output_type": "display_data"
    }
   ],
   "source": [
    "searcher = Searcher(dataset)\n",
    "topk_list = searcher.search_topk(query, topk=2)\n",
    "results = [query] + topk_list[1:]\n",
    "subset_list = []\n",
    "id_list =[]\n",
    "for result in results:\n",
    "    subset_list.append(result.subset)\n",
    "    id_list.append(result.id)\n",
    "fig = visualizer.vis_gallery(id_list[:12], subset_list[:12], (None, None))\n",
    "fig.show()"
   ]
  },
  {
   "cell_type": "code",
   "execution_count": 73,
   "id": "511ef502",
   "metadata": {},
   "outputs": [
    {
     "name": "stdout",
     "output_type": "stream",
     "text": [
      "setting dataset time for 5 items:  0.06697678565979004\n"
     ]
    },
    {
     "data": {
      "text/plain": [
       "Dataset\n",
       "\tsize=5\n",
       "\tsource_path=./tests/assets/celeba_dataset/dataset_with_meta_file\n",
       "\tmedia_type=<class 'datumaro.components.media.Image'>\n",
       "\tannotated_items_count=5\n",
       "\tannotations_count=5\n",
       "subsets\n",
       "\ttest: # of items=2, # of annotated items=2, # of annotations=2, annotation types=['label']\n",
       "\ttrain: # of items=2, # of annotated items=2, # of annotations=2, annotation types=['label']\n",
       "\tval: # of items=1, # of annotated items=1, # of annotations=1, annotation types=['label']\n",
       "categories\n",
       "\tlabel: ['class-0', 'class-1', 'class-2', 'class-3', 'class-4', 'class-5', 'class-6']"
      ]
     },
     "execution_count": 73,
     "metadata": {},
     "output_type": "execute_result"
    }
   ],
   "source": [
    "start_time = time.time()\n",
    "dataset = dm.Dataset.import_from('./tests/assets/celeba_dataset/dataset_with_meta_file', 'celeba', save_hash=True)\n",
    "print(f'setting dataset time for {len(dataset)} items: ', time.time()-start_time)\n",
    "dataset"
   ]
  },
  {
   "cell_type": "code",
   "execution_count": 74,
   "id": "873fbb2a",
   "metadata": {},
   "outputs": [
    {
     "name": "stdout",
     "output_type": "stream",
     "text": [
      "DatasetItem(id='000001', subset='train', media=<datumaro.components.media.Image object at 0x7fdd4a419150>, annotations=[Label(id=0, attributes={}, group=0, label=1)], attributes={}, hash_key=['09effa1b4c54099b48ce2f97ca195100f5115aad2e1aad36e1abfaf8fd10c0c7a167ddf6b539399e7ddaf32ba0b1ee07a038369e6ad898e50a2cf98912248bcc'])\n",
      "DatasetItem(id='000002', subset='train', media=<datumaro.components.media.Image object at 0x7fdd4a366990>, annotations=[Label(id=0, attributes={}, group=0, label=3)], attributes={}, hash_key=['09effa1b4c54099b48ce2f97ca195100f5115aad2e1aad36e1abfaf8fd10c0c7a167ddf6b539399e7ddaf32ba0b1ee07a038369e6ad898e50a2cf98912248bcc'])\n",
      "DatasetItem(id='000003', subset='val', media=<datumaro.components.media.Image object at 0x7fdd4a358c90>, annotations=[Label(id=0, attributes={}, group=0, label=0)], attributes={}, hash_key=['09effa1b4c54099b48ce2f97ca195100f5115aad2e1aad36e1abfaf8fd10c0c7a167ddf6b539399e7ddaf32ba0b1ee07a038369e6ad898e50a2cf98912248bcc'])\n",
      "DatasetItem(id='000004', subset='test', media=<datumaro.components.media.Image object at 0x7fdd4a7be850>, annotations=[Label(id=0, attributes={}, group=0, label=2)], attributes={}, hash_key=['09effa1b4c54099b48ce2f97ca195100f5115aad2e1aad36e1abfaf8fd10c0c7a167ddf6b539399e7ddaf32ba0b1ee07a038369e6ad898e50a2cf98912248bcc'])\n",
      "DatasetItem(id='000005', subset='test', media=<datumaro.components.media.Image object at 0x7fdd4a574950>, annotations=[Label(id=0, attributes={}, group=0, label=6)], attributes={}, hash_key=['09effa1b4c54099b48ce2f97ca195100f5115aad2e1aad36e1abfaf8fd10c0c7a167ddf6b539399e7ddaf32ba0b1ee07a038369e6ad898e50a2cf98912248bcc'])\n"
     ]
    }
   ],
   "source": [
    "for i, item in enumerate(dataset):\n",
    "    print(item)"
   ]
  },
  {
   "cell_type": "code",
   "execution_count": 75,
   "id": "e6ee37c2",
   "metadata": {},
   "outputs": [
    {
     "data": {
      "image/png": "[encoded data removed]",
      "text/plain": [
       "<Figure size 864x864 with 1 Axes>"
      ]
     },
     "metadata": {
      "needs_background": "light"
     },
     "output_type": "display_data"
    }
   ],
   "source": [
    "for i, item in enumerate(dataset):\n",
    "    if i==0:\n",
    "        query = item\n",
    "visualizer = Visualizer(dataset, figsize=(12, 12), alpha=0)\n",
    "fig = visualizer.vis_one_sample(query.id, \"train\")\n",
    "fig.show()"
   ]
  },
  {
   "cell_type": "code",
   "execution_count": 76,
   "id": "2bfe6943",
   "metadata": {},
   "outputs": [
    {
     "data": {
      "image/png": "[encoded data removed]",
      "text/plain": [
       "<Figure size 864x864 with 2 Axes>"
      ]
     },
     "metadata": {
      "needs_background": "light"
     },
     "output_type": "display_data"
    }
   ],
   "source": [
    "searcher = Searcher(dataset)\n",
    "topk_list = searcher.search_topk(query, topk=2)\n",
    "results = [query] + topk_list[1:]\n",
    "subset_list = []\n",
    "id_list =[]\n",
    "for result in results:\n",
    "    subset_list.append(result.subset)\n",
    "    id_list.append(result.id)\n",
    "fig = visualizer.vis_gallery(id_list[:12], subset_list[:12], (None, None))\n",
    "fig.show()"
   ]
  },
  {
   "cell_type": "markdown",
   "id": "5808b76b",
   "metadata": {},
   "source": [
    "## cifar"
   ]
  },
  {
   "cell_type": "code",
   "execution_count": 79,
   "id": "de59bb6e",
   "metadata": {},
   "outputs": [
    {
     "name": "stderr",
     "output_type": "stream",
     "text": [
      "4it [00:00, 89.18it/s]\n",
      "1it [00:00, 123.02it/s]"
     ]
    },
    {
     "name": "stdout",
     "output_type": "stream",
     "text": [
      "setting dataset time for 5 items:  0.058913230895996094\n"
     ]
    },
    {
     "name": "stderr",
     "output_type": "stream",
     "text": [
      "\n"
     ]
    },
    {
     "data": {
      "text/plain": [
       "Dataset\n",
       "\tsize=5\n",
       "\tsource_path=./tests/assets/cifar10_dataset\n",
       "\tmedia_type=<class 'datumaro.components.media.Image'>\n",
       "\tannotated_items_count=5\n",
       "\tannotations_count=5\n",
       "subsets\n",
       "\tdata_batch_1: # of items=1, # of annotated items=1, # of annotations=1, annotation types=['label']\n",
       "\ttest_batch: # of items=4, # of annotated items=4, # of annotations=4, annotation types=['label']\n",
       "categories\n",
       "\tlabel: ['airplane', 'automobile', 'bird', 'cat']"
      ]
     },
     "execution_count": 79,
     "metadata": {},
     "output_type": "execute_result"
    }
   ],
   "source": [
    "start_time = time.time()\n",
    "dataset = dm.Dataset.import_from('./tests/assets/cifar10_dataset', 'cifar', save_hash=True)\n",
    "print(f'setting dataset time for {len(dataset)} items: ', time.time()-start_time)\n",
    "dataset"
   ]
  },
  {
   "cell_type": "code",
   "execution_count": 80,
   "id": "d3d3d6c2",
   "metadata": {},
   "outputs": [
    {
     "name": "stdout",
     "output_type": "stream",
     "text": [
      "DatasetItem(id='image_2', subset='test_batch', media=<datumaro.components.media.Image object at 0x7fdd4a5de990>, annotations=[Label(id=0, attributes={}, group=0, label=1)], attributes={}, hash_key=['09effa1b4c54099b48ce2f97ca195100f5115aad2e1aad36e1abfaf8fd10c0c7a167ddf6b539399e7ddaf32ba0b1ee07a038369e6ad898e50a2cf98912248bcc'])\n",
      "DatasetItem(id='image_3', subset='test_batch', media=<datumaro.components.media.Image object at 0x7fdd4a57d950>, annotations=[Label(id=0, attributes={}, group=0, label=3)], attributes={}, hash_key=['09effa1b4c54099b48ce2f97ca195100f5115aad2e1aad36e1abfaf8fd10c0c7a167ddf6b539399e7ddaf32ba0b1ee07a038369e6ad898e50a2cf98912248bcc'])\n",
      "DatasetItem(id='image_4', subset='test_batch', media=<datumaro.components.media.Image object at 0x7fdd4a5c3a10>, annotations=[Label(id=0, attributes={}, group=0, label=2)], attributes={}, hash_key=['09effa1b4c54099b48ce2f97ca195100f5115aad2e1aad36e1abfaf8fd10c0c7a167ddf6b539399e7ddaf32ba0b1ee07a038369e6ad898e50a2cf98912248bcc'])\n",
      "DatasetItem(id='image_5', subset='test_batch', media=<datumaro.components.media.Image object at 0x7fdd4a5c3790>, annotations=[Label(id=0, attributes={}, group=0, label=3)], attributes={}, hash_key=['09effa1b4c54099348ce2f97ce180300f5135aaf2c1aad36e5a9fbf8fd10c0c7a16fddfeb53939bf7ddaf36ba4b1ef06a438369e68d818e50b2ce989123489c4'])\n",
      "DatasetItem(id='image_1', subset='data_batch_1', media=<datumaro.components.media.Image object at 0x7fdd4a520ed0>, annotations=[Label(id=0, attributes={}, group=0, label=0)], attributes={}, hash_key=['09effa1b4c54099b48ce2f97ca195100f5115aad2e1aad36e1abfaf8fd10c0c7a167ddf6b539399e7ddaf32ba0b1ee07a038369e6ad898e50a2cf98912248bcc'])\n"
     ]
    }
   ],
   "source": [
    "for i, item in enumerate(dataset):\n",
    "    print(item)"
   ]
  },
  {
   "cell_type": "code",
   "execution_count": 82,
   "id": "952be465",
   "metadata": {},
   "outputs": [
    {
     "data": {
      "image/png": "[encoded data removed]",
      "text/plain": [
       "<Figure size 864x864 with 1 Axes>"
      ]
     },
     "metadata": {
      "needs_background": "light"
     },
     "output_type": "display_data"
    }
   ],
   "source": [
    "for i, item in enumerate(dataset):\n",
    "    if i==0:\n",
    "        query = item\n",
    "visualizer = Visualizer(dataset, figsize=(12, 12), alpha=0)\n",
    "fig = visualizer.vis_one_sample(query.id, \"test_batch\")\n",
    "fig.show()"
   ]
  },
  {
   "cell_type": "code",
   "execution_count": 83,
   "id": "05287224",
   "metadata": {},
   "outputs": [
    {
     "data": {
      "image/png": "[encoded data removed]",
      "text/plain": [
       "<Figure size 864x864 with 2 Axes>"
      ]
     },
     "metadata": {
      "needs_background": "light"
     },
     "output_type": "display_data"
    }
   ],
   "source": [
    "searcher = Searcher(dataset)\n",
    "topk_list = searcher.search_topk(query, topk=2)\n",
    "results = [query] + topk_list[1:]\n",
    "subset_list = []\n",
    "id_list =[]\n",
    "for result in results:\n",
    "    subset_list.append(result.subset)\n",
    "    id_list.append(result.id)\n",
    "fig = visualizer.vis_gallery(id_list[:12], subset_list[:12], (None, None))\n",
    "fig.show()"
   ]
  },
  {
   "cell_type": "markdown",
   "id": "c118e17b",
   "metadata": {},
   "source": [
    "## cifar100"
   ]
  },
  {
   "cell_type": "code",
   "execution_count": 84,
   "id": "d7fe5d73",
   "metadata": {},
   "outputs": [
    {
     "name": "stderr",
     "output_type": "stream",
     "text": [
      "3it [00:00, 63.26it/s]\n",
      "3it [00:00, 147.66it/s]"
     ]
    },
    {
     "name": "stdout",
     "output_type": "stream",
     "text": [
      "setting dataset time for 6 items:  0.07280182838439941\n"
     ]
    },
    {
     "name": "stderr",
     "output_type": "stream",
     "text": [
      "\n"
     ]
    },
    {
     "data": {
      "text/plain": [
       "Dataset\n",
       "\tsize=6\n",
       "\tsource_path=./tests/assets/cifar100_dataset\n",
       "\tmedia_type=<class 'datumaro.components.media.Image'>\n",
       "\tannotated_items_count=6\n",
       "\tannotations_count=6\n",
       "subsets\n",
       "\ttest: # of items=3, # of annotated items=3, # of annotations=3, annotation types=['label']\n",
       "\ttrain: # of items=3, # of annotated items=3, # of annotations=3, annotation types=['label']\n",
       "categories\n",
       "\tlabel: ['airplane', 'automobile', 'bird']"
      ]
     },
     "execution_count": 84,
     "metadata": {},
     "output_type": "execute_result"
    }
   ],
   "source": [
    "start_time = time.time()\n",
    "dataset = dm.Dataset.import_from('./tests/assets/cifar100_dataset', 'cifar', save_hash=True)\n",
    "print(f'setting dataset time for {len(dataset)} items: ', time.time()-start_time)\n",
    "dataset"
   ]
  },
  {
   "cell_type": "code",
   "execution_count": 85,
   "id": "f86cdf50",
   "metadata": {},
   "outputs": [
    {
     "name": "stdout",
     "output_type": "stream",
     "text": [
      "DatasetItem(id='image_1', subset='train', media=<datumaro.components.media.Image object at 0x7fdd447655d0>, annotations=[Label(id=0, attributes={}, group=0, label=0)], attributes={}, hash_key=['09effa1b4c54099b48ce2f97ca195100f5115aad2e1aad36e1abfaf8fd10c0c7a167ddf6b539399e7ddaf32ba0b1ee07a038369e6ad898e50a2cf98912248bcc'])\n",
      "DatasetItem(id='image_2', subset='train', media=<datumaro.components.media.Image object at 0x7fdd4476aed0>, annotations=[Label(id=0, attributes={}, group=0, label=1)], attributes={}, hash_key=['09effa1b4c54099b48ce2f97ca195100f5115aad2e1aad36e1abfaf8fd10c0c7a167ddf6b539399e7ddaf32ba0b1ee07a038369e6ad898e50a2cf98912248bcc'])\n",
      "DatasetItem(id='image_3', subset='train', media=<datumaro.components.media.Image object at 0x7fdd4a526ad0>, annotations=[Label(id=0, attributes={}, group=0, label=2)], attributes={}, hash_key=['09effa1b4c54099b48ce2f97ca195100f5115aad2e1aad36e1abfaf8fd10c0c7a167ddf6b539399e7ddaf32ba0b1ee07a038369e6ad898e50a2cf98912248bcc'])\n",
      "DatasetItem(id='image_1', subset='test', media=<datumaro.components.media.Image object at 0x7fdd44765f10>, annotations=[Label(id=0, attributes={}, group=0, label=0)], attributes={}, hash_key=['09effa1b4c54099b48ce2f97ca195100f5115aad2e1aad36e1abfaf8fd10c0c7a167ddf6b539399e7ddaf32ba0b1ee07a038369e6ad898e50a2cf98912248bcc'])\n",
      "DatasetItem(id='image_2', subset='test', media=<datumaro.components.media.Image object at 0x7fdd44765710>, annotations=[Label(id=0, attributes={}, group=0, label=1)], attributes={}, hash_key=['09effa1b4c54099b48ce2f97ca195100f5115aad2e1aad36e1abfaf8fd10c0c7a167ddf6b539399e7ddaf32ba0b1ee07a038369e6ad898e50a2cf98912248bcc'])\n",
      "DatasetItem(id='image_3', subset='test', media=<datumaro.components.media.Image object at 0x7fdd44765510>, annotations=[Label(id=0, attributes={}, group=0, label=2)], attributes={}, hash_key=['09effa1b4c54099348ce2f97ce180300f5135aaf2c1aad36e5a9fbf8fd10c0c7a16fddfeb53939bf7ddaf36ba4b1ef06a438369e68d818e50b2ce989123489c4'])\n"
     ]
    }
   ],
   "source": [
    "for i, item in enumerate(dataset):\n",
    "    print(item)"
   ]
  },
  {
   "cell_type": "code",
   "execution_count": 87,
   "id": "97fa56a1",
   "metadata": {},
   "outputs": [
    {
     "data": {
      "image/png": "[encoded data removed]",
      "text/plain": [
       "<Figure size 864x864 with 1 Axes>"
      ]
     },
     "metadata": {
      "needs_background": "light"
     },
     "output_type": "display_data"
    }
   ],
   "source": [
    "for i, item in enumerate(dataset):\n",
    "    if i==0:\n",
    "        query = item\n",
    "visualizer = Visualizer(dataset, figsize=(12, 12), alpha=0)\n",
    "fig = visualizer.vis_one_sample(query.id, \"train\")\n",
    "fig.show()"
   ]
  },
  {
   "cell_type": "code",
   "execution_count": 88,
   "id": "d9226934",
   "metadata": {},
   "outputs": [
    {
     "data": {
      "image/png": "[encoded data removed]",
      "text/plain": [
       "<Figure size 864x864 with 2 Axes>"
      ]
     },
     "metadata": {
      "needs_background": "light"
     },
     "output_type": "display_data"
    }
   ],
   "source": [
    "searcher = Searcher(dataset)\n",
    "topk_list = searcher.search_topk(query, topk=2)\n",
    "results = [query] + topk_list[1:]\n",
    "subset_list = []\n",
    "id_list =[]\n",
    "for result in results:\n",
    "    subset_list.append(result.subset)\n",
    "    id_list.append(result.id)\n",
    "fig = visualizer.vis_gallery(id_list[:12], subset_list[:12], (None, None))\n",
    "fig.show()"
   ]
  },
  {
   "cell_type": "code",
   "execution_count": 89,
   "id": "50d1f024",
   "metadata": {},
   "outputs": [
    {
     "data": {
      "text/plain": [
       "[DatasetItem(id='image_1', subset='train', media=<datumaro.components.media.Image object at 0x7fdd447655d0>, annotations=[Label(id=0, attributes={}, group=0, label=0)], attributes={}, hash_key=['09effa1b4c54099b48ce2f97ca195100f5115aad2e1aad36e1abfaf8fd10c0c7a167ddf6b539399e7ddaf32ba0b1ee07a038369e6ad898e50a2cf98912248bcc']),\n",
       " DatasetItem(id='image_1', subset='train', media=<datumaro.components.media.Image object at 0x7fdd447655d0>, annotations=[Label(id=0, attributes={}, group=0, label=0)], attributes={}, hash_key=['09effa1b4c54099b48ce2f97ca195100f5115aad2e1aad36e1abfaf8fd10c0c7a167ddf6b539399e7ddaf32ba0b1ee07a038369e6ad898e50a2cf98912248bcc'])]"
      ]
     },
     "execution_count": 89,
     "metadata": {},
     "output_type": "execute_result"
    }
   ],
   "source": [
    "results"
   ]
  },
  {
   "cell_type": "markdown",
   "id": "a4a610f5",
   "metadata": {},
   "source": [
    "## cityscape_dataset"
   ]
  },
  {
   "cell_type": "code",
   "execution_count": 92,
   "id": "442b2e44",
   "metadata": {},
   "outputs": [
    {
     "name": "stdout",
     "output_type": "stream",
     "text": [
      "setting dataset time for 4 items:  0.17388534545898438\n"
     ]
    },
    {
     "data": {
      "text/plain": [
       "Dataset\n",
       "\tsize=4\n",
       "\tsource_path=./tests/assets/cityscapes_dataset/dataset\n",
       "\tmedia_type=<class 'datumaro.components.media.Image'>\n",
       "\tannotated_items_count=4\n",
       "\tannotations_count=10\n",
       "subsets\n",
       "\ttest: # of items=2, # of annotated items=2, # of annotations=6, annotation types=['mask']\n",
       "\ttrain: # of items=1, # of annotated items=1, # of annotations=2, annotation types=['mask']\n",
       "\tval: # of items=1, # of annotated items=1, # of annotations=2, annotation types=['mask']\n",
       "categories\n",
       "\tlabel: ['unlabeled', 'egovehicle', 'rectificationborder', 'outofroi', 'static', 'dynamic', 'ground', 'road', 'sidewalk', 'parking', 'railtrack', 'building', 'wall', 'fence', 'guardrail', 'bridge', 'tunnel', 'pole', 'polegroup', 'trafficlight', 'trafficsign', 'vegetation', 'terrain', 'sky', 'person', 'rider', 'car', 'truck', 'bus', 'caravan', 'trailer', 'train', 'motorcycle', 'bicycle', 'licenseplate']\n",
       "\tmask: []"
      ]
     },
     "execution_count": 92,
     "metadata": {},
     "output_type": "execute_result"
    }
   ],
   "source": [
    "start_time = time.time()\n",
    "dataset = dm.Dataset.import_from('./tests/assets/cityscapes_dataset/dataset', save_hash=True)\n",
    "print(f'setting dataset time for {len(dataset)} items: ', time.time()-start_time)\n",
    "dataset"
   ]
  },
  {
   "cell_type": "code",
   "execution_count": 93,
   "id": "3e13bc90",
   "metadata": {},
   "outputs": [
    {
     "name": "stdout",
     "output_type": "stream",
     "text": [
      "DatasetItem(id='defaultcity/defaultcity_000001_000019', subset='val', media=<datumaro.components.media.Image object at 0x7fdd44557310>, annotations=[Mask(id=0, attributes={'is_crowd': True}, group=0, _image=<function CityscapesExtractor._lazy_extract_mask.<locals>.<lambda> at 0x7fdd4a101dd0>, label=3, z_order=0), Mask(id=24, attributes={'is_crowd': False}, group=0, _image=<function CityscapesExtractor._lazy_extract_mask.<locals>.<lambda> at 0x7fdd446a0680>, label=1, z_order=0)], attributes={}, hash_key=['09effa1b4c54099b48ce2f97ca195100f5115aad2e1aad36e1abfaf8fd10c0c7a167ddf6b539399e7ddaf32ba0b1ee07a038369e6ad898e50a2cf98912248bcc'])\n",
      "DatasetItem(id='defaultcity/defaultcity_000002_000045', subset='train', media=<datumaro.components.media.Image object at 0x7fdd4465cb50>, annotations=[Mask(id=0, attributes={'is_crowd': True}, group=0, _image=<function CityscapesExtractor._lazy_extract_mask.<locals>.<lambda> at 0x7fdd445ed680>, label=3, z_order=0), Mask(id=1, attributes={'is_crowd': False}, group=0, _image=<function CityscapesExtractor._lazy_extract_mask.<locals>.<lambda> at 0x7fdd445ed560>, label=24, z_order=0)], attributes={}, hash_key=['09effa1b4c54099b48ce2f97ca195100f5115aad2e1aad36e1abfaf8fd10c0c7a167ddf6b539399e7ddaf32ba0b1ee07a038369e6ad898e50a2cf98912248bcc'])\n",
      "DatasetItem(id='defaultcity/defaultcity_000001_000032', subset='test', media=<datumaro.components.media.Image object at 0x7fdd445fb150>, annotations=[Mask(id=0, attributes={'is_crowd': True}, group=0, _image=<function CityscapesExtractor._lazy_extract_mask.<locals>.<lambda> at 0x7fdd445ed7a0>, label=3, z_order=0), Mask(id=0, attributes={'is_crowd': True}, group=0, _image=<function CityscapesExtractor._lazy_extract_mask.<locals>.<lambda> at 0x7fdd445ed3b0>, label=12, z_order=0), Mask(id=1, attributes={'is_crowd': False}, group=0, _image=<function CityscapesExtractor._lazy_extract_mask.<locals>.<lambda> at 0x7fdd445ed320>, label=31, z_order=0)], attributes={}, hash_key=['09effa1b4c54099b48ce2f97ca195100f5115aad2e1aad36e1abfaf8fd10c0c7a167ddf6b539399e7ddaf32ba0b1ee07a038369e6ad898e50a2cf98912248bcc'])\n",
      "DatasetItem(id='defaultcity/defaultcity_000001_000031', subset='test', media=<datumaro.components.media.Image object at 0x7fdd662f0f90>, annotations=[Mask(id=0, attributes={'is_crowd': True}, group=0, _image=<function CityscapesExtractor._lazy_extract_mask.<locals>.<lambda> at 0x7fdd446a0560>, label=3, z_order=0), Mask(id=1, attributes={'is_crowd': False}, group=0, _image=<function CityscapesExtractor._lazy_extract_mask.<locals>.<lambda> at 0x7fdd446a0e60>, label=27, z_order=0), Mask(id=2, attributes={'is_crowd': False}, group=0, _image=<function CityscapesExtractor._lazy_extract_mask.<locals>.<lambda> at 0x7fdd446a0320>, label=27, z_order=0)], attributes={}, hash_key=['09effa1b4c54099b48ce2f97ca195100f5115aad2e1aad36e1abfaf8fd10c0c7a167ddf6b539399e7ddaf32ba0b1ee07a038369e6ad898e50a2cf98912248bcc'])\n"
     ]
    }
   ],
   "source": [
    "for i, item in enumerate(dataset):\n",
    "    print(item)"
   ]
  },
  {
   "cell_type": "code",
   "execution_count": 96,
   "id": "489e7057",
   "metadata": {},
   "outputs": [
    {
     "data": {
      "image/png": "[encoded data removed]",
      "text/plain": [
       "<Figure size 864x864 with 1 Axes>"
      ]
     },
     "metadata": {
      "needs_background": "light"
     },
     "output_type": "display_data"
    }
   ],
   "source": [
    "for i, item in enumerate(dataset):\n",
    "    if i==0:\n",
    "        query = item\n",
    "visualizer = Visualizer(dataset, figsize=(12, 12), alpha=0)\n",
    "fig = visualizer.vis_one_sample(query.id, \"val\")\n",
    "fig.show()"
   ]
  },
  {
   "cell_type": "code",
   "execution_count": 97,
   "id": "79302edf",
   "metadata": {},
   "outputs": [
    {
     "data": {
      "image/png": "[encoded data removed]",
      "text/plain": [
       "<Figure size 864x864 with 2 Axes>"
      ]
     },
     "metadata": {
      "needs_background": "light"
     },
     "output_type": "display_data"
    }
   ],
   "source": [
    "searcher = Searcher(dataset)\n",
    "topk_list = searcher.search_topk(query, topk=2)\n",
    "results = [query] + topk_list[1:]\n",
    "subset_list = []\n",
    "id_list =[]\n",
    "for result in results:\n",
    "    subset_list.append(result.subset)\n",
    "    id_list.append(result.id)\n",
    "fig = visualizer.vis_gallery(id_list[:12], subset_list[:12], (None, None))\n",
    "fig.show()"
   ]
  },
  {
   "cell_type": "code",
   "execution_count": 98,
   "id": "cfa98460",
   "metadata": {},
   "outputs": [
    {
     "name": "stdout",
     "output_type": "stream",
     "text": [
      "setting dataset time for 4 items:  0.06736564636230469\n"
     ]
    },
    {
     "data": {
      "text/plain": [
       "Dataset\n",
       "\tsize=4\n",
       "\tsource_path=./tests/assets/cityscapes_dataset/train_dataset\n",
       "\tmedia_type=<class 'datumaro.components.media.Image'>\n",
       "\tannotated_items_count=4\n",
       "\tannotations_count=8\n",
       "subsets\n",
       "\ttest: # of items=2, # of annotated items=2, # of annotations=5, annotation types=['mask']\n",
       "\ttrain: # of items=1, # of annotated items=1, # of annotations=2, annotation types=['mask']\n",
       "\tval: # of items=1, # of annotated items=1, # of annotations=1, annotation types=['mask']\n",
       "categories\n",
       "\tlabel: ['road', 'sidewalk', 'building', 'wall', 'fence', 'pole', 'trafficlight', 'trafficsign', 'vegetation', 'terrain', 'sky', 'person', 'rider', 'car', 'truck', 'bus', 'train', 'motorcycle', 'bicycle', 'background']\n",
       "\tmask: []"
      ]
     },
     "execution_count": 98,
     "metadata": {},
     "output_type": "execute_result"
    }
   ],
   "source": [
    "start_time = time.time()\n",
    "dataset = dm.Dataset.import_from('./tests/assets/cityscapes_dataset/train_dataset', save_hash=True)\n",
    "print(f'setting dataset time for {len(dataset)} items: ', time.time()-start_time)\n",
    "dataset"
   ]
  },
  {
   "cell_type": "code",
   "execution_count": 99,
   "id": "8845e467",
   "metadata": {},
   "outputs": [
    {
     "name": "stdout",
     "output_type": "stream",
     "text": [
      "DatasetItem(id='defaultcity/defaultcity_000001_000019', subset='val', media=<datumaro.components.media.Image object at 0x7fdd66231150>, annotations=[Mask(id=0, attributes={'is_crowd': True}, group=0, _image=<function CityscapesExtractor._lazy_extract_mask.<locals>.<lambda> at 0x7fdd280bad40>, label=19, z_order=0)], attributes={}, hash_key=['09effa1b4c54099b48ce2f97ca195100f5115aad2e1aad36e1abfaf8fd10c0c7a167ddf6b539399e7ddaf32ba0b1ee07a038369e6ad898e50a2cf98912248bcc'])\n",
      "DatasetItem(id='defaultcity/defaultcity_000002_000045', subset='train', media=<datumaro.components.media.Image object at 0x7fdd4a562dd0>, annotations=[Mask(id=0, attributes={'is_crowd': True}, group=0, _image=<function CityscapesExtractor._lazy_extract_mask.<locals>.<lambda> at 0x7fdd4a3a8f80>, label=11, z_order=0), Mask(id=0, attributes={'is_crowd': True}, group=0, _image=<function CityscapesExtractor._lazy_extract_mask.<locals>.<lambda> at 0x7fdd66312290>, label=19, z_order=0)], attributes={}, hash_key=['09effa1b4c54099b48ce2f97ca195100f5115aad2e1aad36e1abfaf8fd10c0c7a167ddf6b539399e7ddaf32ba0b1ee07a038369e6ad898e50a2cf98912248bcc'])\n",
      "DatasetItem(id='defaultcity/defaultcity_000001_000032', subset='test', media=<datumaro.components.media.Image object at 0x7fdd4a562d10>, annotations=[Mask(id=0, attributes={'is_crowd': True}, group=0, _image=<function CityscapesExtractor._lazy_extract_mask.<locals>.<lambda> at 0x7fdd4467f3b0>, label=3, z_order=0), Mask(id=0, attributes={'is_crowd': True}, group=0, _image=<function CityscapesExtractor._lazy_extract_mask.<locals>.<lambda> at 0x7fdd664448c0>, label=16, z_order=0), Mask(id=0, attributes={'is_crowd': True}, group=0, _image=<function CityscapesExtractor._lazy_extract_mask.<locals>.<lambda> at 0x7fdd662ff0e0>, label=19, z_order=0)], attributes={}, hash_key=['09effa1b4c54099b48ce2f97ca195100f5115aad2e1aad36e1abfaf8fd10c0c7a167ddf6b539399e7ddaf32ba0b1ee07a038369e6ad898e50a2cf98912248bcc'])\n",
      "DatasetItem(id='defaultcity/defaultcity_000001_000031', subset='test', media=<datumaro.components.media.Image object at 0x7fdd4a562210>, annotations=[Mask(id=0, attributes={'is_crowd': True}, group=0, _image=<function CityscapesExtractor._lazy_extract_mask.<locals>.<lambda> at 0x7fdd4a328a70>, label=14, z_order=0), Mask(id=0, attributes={'is_crowd': True}, group=0, _image=<function CityscapesExtractor._lazy_extract_mask.<locals>.<lambda> at 0x7fdd4a3285f0>, label=19, z_order=0)], attributes={}, hash_key=['09effa1b4c54099b48ce2f97ca195100f5115aad2e1aad36e1abfaf8fd10c0c7a167ddf6b539399e7ddaf32ba0b1ee07a038369e6ad898e50a2cf98912248bcc'])\n"
     ]
    }
   ],
   "source": [
    "for i, item in enumerate(dataset):\n",
    "    print(item)"
   ]
  },
  {
   "cell_type": "code",
   "execution_count": 100,
   "id": "f07df056",
   "metadata": {},
   "outputs": [
    {
     "data": {
      "image/png": "[encoded data removed]",
      "text/plain": [
       "<Figure size 864x864 with 1 Axes>"
      ]
     },
     "metadata": {
      "needs_background": "light"
     },
     "output_type": "display_data"
    }
   ],
   "source": [
    "for i, item in enumerate(dataset):\n",
    "    if i==0:\n",
    "        query = item\n",
    "visualizer = Visualizer(dataset, figsize=(12, 12), alpha=0)\n",
    "fig = visualizer.vis_one_sample(query.id, \"val\")\n",
    "fig.show()"
   ]
  },
  {
   "cell_type": "code",
   "execution_count": 101,
   "id": "0fde8c3c",
   "metadata": {},
   "outputs": [
    {
     "data": {
      "image/png": "[encoded data removed]",
      "text/plain": [
       "<Figure size 864x864 with 2 Axes>"
      ]
     },
     "metadata": {
      "needs_background": "light"
     },
     "output_type": "display_data"
    }
   ],
   "source": [
    "searcher = Searcher(dataset)\n",
    "topk_list = searcher.search_topk(query, topk=2)\n",
    "results = [query] + topk_list[1:]\n",
    "subset_list = []\n",
    "id_list =[]\n",
    "for result in results:\n",
    "    subset_list.append(result.subset)\n",
    "    id_list.append(result.id)\n",
    "fig = visualizer.vis_gallery(id_list[:12], subset_list[:12], (None, None))\n",
    "fig.show()"
   ]
  },
  {
   "cell_type": "markdown",
   "id": "28da374e",
   "metadata": {},
   "source": [
    "## coco"
   ]
  },
  {
   "cell_type": "code",
   "execution_count": 103,
   "id": "be311785",
   "metadata": {},
   "outputs": [
    {
     "name": "stderr",
     "output_type": "stream",
     "text": [
      "WARNING:root:Not implemented: Found potentially conflicting source types with labels: person_keypoints, panoptic, labels, instances, stuff. Only one type will be used: instances\n",
      "WARNING:root:Not implemented: conflicting source './tests/assets/coco_dataset/coco/annotations/labels_train.json' is skipped.\n",
      "WARNING:root:Not implemented: conflicting source './tests/assets/coco_dataset/coco/annotations/person_keypoints_train.json' is skipped.\n",
      "WARNING:root:Not implemented: conflicting source './tests/assets/coco_dataset/coco/annotations/stuff_train.json' is skipped.\n",
      "WARNING:root:Not implemented: conflicting source './tests/assets/coco_dataset/coco/annotations/panoptic_train.json' is skipped.\n",
      "WARNING:root:Not implemented: conflicting source './tests/assets/coco_dataset/coco/annotations/panoptic_val.json' is skipped.\n",
      "WARNING:root:Not implemented: conflicting source './tests/assets/coco_dataset/coco/annotations/labels_val.json' is skipped.\n",
      "WARNING:root:Not implemented: conflicting source './tests/assets/coco_dataset/coco/annotations/person_keypoints_val.json' is skipped.\n",
      "WARNING:root:Not implemented: conflicting source './tests/assets/coco_dataset/coco/annotations/stuff_val.json' is skipped.\n",
      "1it [00:00, 110.07it/s]\n",
      "1it [00:00, 127.83it/s]\n",
      "1it [00:00, 128.55it/s]\n",
      "1it [00:00, 129.24it/s]\n",
      "1it [00:00, 129.37it/s]\n",
      "1it [00:00, 128.98it/s]"
     ]
    },
    {
     "name": "stdout",
     "output_type": "stream",
     "text": [
      "setting dataset time for 2 items:  0.06817364692687988\n"
     ]
    },
    {
     "name": "stderr",
     "output_type": "stream",
     "text": [
      "\n"
     ]
    },
    {
     "data": {
      "text/plain": [
       "Dataset\n",
       "\tsize=2\n",
       "\tsource_path=./tests/assets/coco_dataset/coco\n",
       "\tmedia_type=<class 'datumaro.components.media.Image'>\n",
       "\tannotated_items_count=2\n",
       "\tannotations_count=6\n",
       "subsets\n",
       "\ttrain: # of items=1, # of annotated items=1, # of annotations=2, annotation types=['bbox', 'caption']\n",
       "\tval: # of items=1, # of annotated items=1, # of annotations=4, annotation types=['mask', 'caption', 'polygon']\n",
       "categories\n",
       "\tlabel: ['a', 'b', 'c']"
      ]
     },
     "execution_count": 103,
     "metadata": {},
     "output_type": "execute_result"
    }
   ],
   "source": [
    "start_time = time.time()\n",
    "dataset = dm.Dataset.import_from('./tests/assets/coco_dataset/coco', save_hash=True)\n",
    "print(f'setting dataset time for {len(dataset)} items: ', time.time()-start_time)\n",
    "dataset"
   ]
  },
  {
   "cell_type": "code",
   "execution_count": 104,
   "id": "127b89f5",
   "metadata": {},
   "outputs": [
    {
     "name": "stdout",
     "output_type": "stream",
     "text": [
      "DatasetItem(id='a', subset='train', media=<datumaro.components.media.Image object at 0x7fdd66143090>, annotations=[Caption(id=1, attributes={}, group=1, caption='hello'), Bbox(id=1, attributes={'is_crowd': False}, group=1, points=[2.0, 2.0, 5.0, 3.0], label=1, z_order=0)], attributes={'id': 5}, hash_key=['09effa1b4c54099b48ce2f97ca195100f5115aad2e1aad36e1abfaf8fd10c0c7a167ddf6b539399e7ddaf32ba0b1ee07a038369e6ad898e50a2cf98912248bcc'])\n",
      "DatasetItem(id='b', subset='val', media=<datumaro.components.media.Image object at 0x7fdd660f6890>, annotations=[Polygon(id=1, attributes={'x': 1, 'y': 'hello', 'is_crowd': False}, group=1, points=[0.0, 0.0, 1.0, 0.0, 1.0, 2.0, 0.0, 2.0], label=0, z_order=0), RleMask(id=2, attributes={'is_crowd': True}, group=2, label=1, z_order=0, _rle=_CocoExtractor._lazy_merged_mask(segmentation=[{'counts': [0, 20, 30], 'size': [10, 5]}], h=10, w=5), _image=None), Caption(id=1, attributes={}, group=1, caption='world'), Caption(id=2, attributes={}, group=2, caption='text')], attributes={'id': 40}, hash_key=['09effa1b4c54099b48ce2f97ca195100f5115aad2e1aad36e1abfaf8fd10c0c7a167ddf6b539399e7ddaf32ba0b1ee07a038369e6ad898e50a2cf98912248bcc'])\n"
     ]
    }
   ],
   "source": [
    "for i, item in enumerate(dataset):\n",
    "    print(item)"
   ]
  },
  {
   "cell_type": "code",
   "execution_count": 106,
   "id": "74091857",
   "metadata": {},
   "outputs": [
    {
     "data": {
      "image/png": "[encoded data removed]",
      "text/plain": [
       "<Figure size 864x864 with 1 Axes>"
      ]
     },
     "metadata": {
      "needs_background": "light"
     },
     "output_type": "display_data"
    }
   ],
   "source": [
    "for i, item in enumerate(dataset):\n",
    "    if i==0:\n",
    "        query = item\n",
    "visualizer = Visualizer(dataset, figsize=(12, 12), alpha=0)\n",
    "fig = visualizer.vis_one_sample(query.id, \"train\")\n",
    "fig.show()"
   ]
  },
  {
   "cell_type": "code",
   "execution_count": 107,
   "id": "63da7aa0",
   "metadata": {},
   "outputs": [
    {
     "data": {
      "image/png": "[encoded data removed]",
      "text/plain": [
       "<Figure size 864x864 with 2 Axes>"
      ]
     },
     "metadata": {
      "needs_background": "light"
     },
     "output_type": "display_data"
    }
   ],
   "source": [
    "searcher = Searcher(dataset)\n",
    "topk_list = searcher.search_topk(query, topk=2)\n",
    "results = [query] + topk_list[1:]\n",
    "subset_list = []\n",
    "id_list =[]\n",
    "for result in results:\n",
    "    subset_list.append(result.subset)\n",
    "    id_list.append(result.id)\n",
    "fig = visualizer.vis_gallery(id_list[:12], subset_list[:12], (None, None))\n",
    "fig.show()"
   ]
  },
  {
   "cell_type": "code",
   "execution_count": 108,
   "id": "cb6b5e97",
   "metadata": {},
   "outputs": [
    {
     "name": "stderr",
     "output_type": "stream",
     "text": [
      "1it [00:00, 26.35it/s]\n",
      "1it [00:00, 125.81it/s]"
     ]
    },
    {
     "name": "stdout",
     "output_type": "stream",
     "text": [
      "setting dataset time for 2 items:  0.055785179138183594\n"
     ]
    },
    {
     "name": "stderr",
     "output_type": "stream",
     "text": [
      "\n"
     ]
    },
    {
     "data": {
      "text/plain": [
       "Dataset\n",
       "\tsize=2\n",
       "\tsource_path=./tests/assets/coco_dataset/coco_captions\n",
       "\tmedia_type=<class 'datumaro.components.media.Image'>\n",
       "\tannotated_items_count=2\n",
       "\tannotations_count=3\n",
       "subsets\n",
       "\ttrain: # of items=1, # of annotated items=1, # of annotations=1, annotation types=['caption']\n",
       "\tval: # of items=1, # of annotated items=1, # of annotations=2, annotation types=['caption']\n",
       "categories\n",
       "\t"
      ]
     },
     "execution_count": 108,
     "metadata": {},
     "output_type": "execute_result"
    }
   ],
   "source": [
    "start_time = time.time()\n",
    "dataset = dm.Dataset.import_from('./tests/assets/coco_dataset/coco_captions', save_hash=True)\n",
    "print(f'setting dataset time for {len(dataset)} items: ', time.time()-start_time)\n",
    "dataset"
   ]
  },
  {
   "cell_type": "code",
   "execution_count": 109,
   "id": "b9a8299a",
   "metadata": {},
   "outputs": [
    {
     "name": "stdout",
     "output_type": "stream",
     "text": [
      "DatasetItem(id='a', subset='train', media=<datumaro.components.media.Image object at 0x7fdd4a185290>, annotations=[Caption(id=1, attributes={}, group=1, caption='hello')], attributes={'id': 5}, hash_key=['09effa1b4c54099b48ce2f97ca195100f5115aad2e1aad36e1abfaf8fd10c0c7a167ddf6b539399e7ddaf32ba0b1ee07a038369e6ad898e50a2cf98912248bcc'])\n",
      "DatasetItem(id='b', subset='val', media=<datumaro.components.media.Image object at 0x7fdd4a44a810>, annotations=[Caption(id=1, attributes={}, group=1, caption='world'), Caption(id=2, attributes={}, group=2, caption='text')], attributes={'id': 40}, hash_key=['09effa1b4c54099b48ce2f97ca195100f5115aad2e1aad36e1abfaf8fd10c0c7a167ddf6b539399e7ddaf32ba0b1ee07a038369e6ad898e50a2cf98912248bcc'])\n"
     ]
    }
   ],
   "source": [
    "for i, item in enumerate(dataset):\n",
    "    print(item)"
   ]
  },
  {
   "cell_type": "code",
   "execution_count": 110,
   "id": "d1bb59ee",
   "metadata": {},
   "outputs": [
    {
     "data": {
      "image/png": "[encoded data removed]",
      "text/plain": [
       "<Figure size 864x864 with 1 Axes>"
      ]
     },
     "metadata": {
      "needs_background": "light"
     },
     "output_type": "display_data"
    }
   ],
   "source": [
    "for i, item in enumerate(dataset):\n",
    "    if i==0:\n",
    "        query = item\n",
    "visualizer = Visualizer(dataset, figsize=(12, 12), alpha=0)\n",
    "fig = visualizer.vis_one_sample(query.id, \"train\")\n",
    "fig.show()"
   ]
  },
  {
   "cell_type": "code",
   "execution_count": 111,
   "id": "4d673ec9",
   "metadata": {},
   "outputs": [
    {
     "data": {
      "image/png": "[encoded data removed]",
      "text/plain": [
       "<Figure size 864x864 with 2 Axes>"
      ]
     },
     "metadata": {
      "needs_background": "light"
     },
     "output_type": "display_data"
    }
   ],
   "source": [
    "searcher = Searcher(dataset)\n",
    "topk_list = searcher.search_topk(query, topk=2)\n",
    "results = [query] + topk_list[1:]\n",
    "subset_list = []\n",
    "id_list =[]\n",
    "for result in results:\n",
    "    subset_list.append(result.subset)\n",
    "    id_list.append(result.id)\n",
    "fig = visualizer.vis_gallery(id_list[:12], subset_list[:12], (None, None))\n",
    "fig.show()"
   ]
  },
  {
   "cell_type": "code",
   "execution_count": 112,
   "id": "c94343b0",
   "metadata": {},
   "outputs": [
    {
     "name": "stderr",
     "output_type": "stream",
     "text": [
      "1it [00:00, 29.75it/s]\n",
      "1it [00:00, 127.86it/s]"
     ]
    },
    {
     "name": "stdout",
     "output_type": "stream",
     "text": [
      "setting dataset time for 2 items:  0.0523838996887207\n"
     ]
    },
    {
     "name": "stderr",
     "output_type": "stream",
     "text": [
      "\n"
     ]
    },
    {
     "data": {
      "text/plain": [
       "Dataset\n",
       "\tsize=2\n",
       "\tsource_path=./tests/assets/coco_dataset/coco_image_info\n",
       "\tmedia_type=<class 'datumaro.components.media.Image'>\n",
       "\tannotated_items_count=0\n",
       "\tannotations_count=0\n",
       "subsets\n",
       "\ttrain: # of items=1, # of annotated items=0, # of annotations=0, annotation types=[]\n",
       "\tval: # of items=1, # of annotated items=0, # of annotations=0, annotation types=[]\n",
       "categories\n",
       "\t"
      ]
     },
     "execution_count": 112,
     "metadata": {},
     "output_type": "execute_result"
    }
   ],
   "source": [
    "start_time = time.time()\n",
    "dataset = dm.Dataset.import_from('./tests/assets/coco_dataset/coco_image_info', save_hash=True)\n",
    "print(f'setting dataset time for {len(dataset)} items: ', time.time()-start_time)\n",
    "dataset"
   ]
  },
  {
   "cell_type": "code",
   "execution_count": 113,
   "id": "951c407e",
   "metadata": {},
   "outputs": [
    {
     "name": "stdout",
     "output_type": "stream",
     "text": [
      "DatasetItem(id='b', subset='val', media=<datumaro.components.media.Image object at 0x7fdd4a457cd0>, annotations=[], attributes={'id': 40}, hash_key=['09effa1b4c54099b48ce2f97ca195100f5115aad2e1aad36e1abfaf8fd10c0c7a167ddf6b539399e7ddaf32ba0b1ee07a038369e6ad898e50a2cf98912248bcc'])\n",
      "DatasetItem(id='a', subset='train', media=<datumaro.components.media.Image object at 0x7fdd4a457ed0>, annotations=[], attributes={'id': 5}, hash_key=['09effa1b4c54099b48ce2f97ca195100f5115aad2e1aad36e1abfaf8fd10c0c7a167ddf6b539399e7ddaf32ba0b1ee07a038369e6ad898e50a2cf98912248bcc'])\n"
     ]
    }
   ],
   "source": [
    "for i, item in enumerate(dataset):\n",
    "    print(item)"
   ]
  },
  {
   "cell_type": "code",
   "execution_count": 115,
   "id": "f9608431",
   "metadata": {},
   "outputs": [
    {
     "data": {
      "image/png": "[encoded data removed]",
      "text/plain": [
       "<Figure size 864x864 with 1 Axes>"
      ]
     },
     "metadata": {
      "needs_background": "light"
     },
     "output_type": "display_data"
    }
   ],
   "source": [
    "for i, item in enumerate(dataset):\n",
    "    if i==0:\n",
    "        query = item\n",
    "visualizer = Visualizer(dataset, figsize=(12, 12), alpha=0)\n",
    "fig = visualizer.vis_one_sample(query.id, \"val\")\n",
    "fig.show()"
   ]
  },
  {
   "cell_type": "code",
   "execution_count": 116,
   "id": "a2c3aecc",
   "metadata": {},
   "outputs": [
    {
     "data": {
      "image/png": "[encoded data removed]",
      "text/plain": [
       "<Figure size 864x864 with 2 Axes>"
      ]
     },
     "metadata": {
      "needs_background": "light"
     },
     "output_type": "display_data"
    }
   ],
   "source": [
    "searcher = Searcher(dataset)\n",
    "topk_list = searcher.search_topk(query, topk=2)\n",
    "results = [query] + topk_list[1:]\n",
    "subset_list = []\n",
    "id_list =[]\n",
    "for result in results:\n",
    "    subset_list.append(result.subset)\n",
    "    id_list.append(result.id)\n",
    "fig = visualizer.vis_gallery(id_list[:12], subset_list[:12], (None, None))\n",
    "fig.show()"
   ]
  },
  {
   "cell_type": "code",
   "execution_count": 118,
   "id": "c81548fc",
   "metadata": {},
   "outputs": [
    {
     "name": "stderr",
     "output_type": "stream",
     "text": [
      "1it [00:00, 31.88it/s]\n",
      "1it [00:00, 126.48it/s]"
     ]
    },
    {
     "name": "stdout",
     "output_type": "stream",
     "text": [
      "setting dataset time for 2 items:  0.049013614654541016\n",
      "DatasetItem(id='b', subset='val', media=<datumaro.components.media.Image object at 0x7fdd44780c50>, annotations=[Polygon(id=1, attributes={'x': 1, 'y': 'hello', 'is_crowd': False}, group=1, points=[0.0, 0.0, 1.0, 0.0, 1.0, 2.0, 0.0, 2.0], label=0, z_order=0), RleMask(id=2, attributes={'is_crowd': True}, group=2, label=1, z_order=0, _rle=_CocoExtractor._lazy_merged_mask(segmentation=[{'counts': [0, 20, 30], 'size': [10, 5]}], h=10, w=5), _image=None)], attributes={'id': 40}, hash_key=['09effa1b4c54099b48ce2f97ca195100f5115aad2e1aad36e1abfaf8fd10c0c7a167ddf6b539399e7ddaf32ba0b1ee07a038369e6ad898e50a2cf98912248bcc'])\n",
      "DatasetItem(id='a', subset='train', media=<datumaro.components.media.Image object at 0x7fdd4a57a3d0>, annotations=[Bbox(id=1, attributes={'is_crowd': False}, group=1, points=[2.0, 2.0, 5.0, 3.0], label=1, z_order=0)], attributes={'id': 5}, hash_key=['09effa1b4c54099b48ce2f97ca195100f5115aad2e1aad36e1abfaf8fd10c0c7a167ddf6b539399e7ddaf32ba0b1ee07a038369e6ad898e50a2cf98912248bcc'])\n"
     ]
    },
    {
     "name": "stderr",
     "output_type": "stream",
     "text": [
      "\n"
     ]
    }
   ],
   "source": [
    "start_time = time.time()\n",
    "dataset = dm.Dataset.import_from('./tests/assets/coco_dataset/coco_instances', save_hash=True)\n",
    "print(f'setting dataset time for {len(dataset)} items: ', time.time()-start_time)\n",
    "dataset\n",
    "for i, item in enumerate(dataset):\n",
    "    print(item)"
   ]
  },
  {
   "cell_type": "code",
   "execution_count": 119,
   "id": "7dc90ffa",
   "metadata": {},
   "outputs": [
    {
     "name": "stderr",
     "output_type": "stream",
     "text": [
      "1it [00:00, 101.35it/s]\n",
      "1it [00:00, 121.40it/s]"
     ]
    },
    {
     "name": "stdout",
     "output_type": "stream",
     "text": [
      "setting dataset time for 2 items:  0.028223514556884766\n",
      "DatasetItem(id='a', subset='train', media=<datumaro.components.media.Image object at 0x7fdd4a58a290>, annotations=[Label(id=1, attributes={}, group=1, label=1)], attributes={'id': 5}, hash_key=['09effa1b4c54099b48ce2f97ca195100f5115aad2e1aad36e1abfaf8fd10c0c7a167ddf6b539399e7ddaf32ba0b1ee07a038369e6ad898e50a2cf98912248bcc'])\n",
      "DatasetItem(id='b', subset='val', media=<datumaro.components.media.Image object at 0x7fdd66247b10>, annotations=[Label(id=1, attributes={}, group=1, label=0), Label(id=2, attributes={}, group=2, label=1)], attributes={'id': 40}, hash_key=['09effa1b4c54099b48ce2f97ca195100f5115aad2e1aad36e1abfaf8fd10c0c7a167ddf6b539399e7ddaf32ba0b1ee07a038369e6ad898e50a2cf98912248bcc'])\n"
     ]
    },
    {
     "name": "stderr",
     "output_type": "stream",
     "text": [
      "\n"
     ]
    }
   ],
   "source": [
    "start_time = time.time()\n",
    "dataset = dm.Dataset.import_from('./tests/assets/coco_dataset/coco_labels', save_hash=True)\n",
    "print(f'setting dataset time for {len(dataset)} items: ', time.time()-start_time)\n",
    "dataset\n",
    "for i, item in enumerate(dataset):\n",
    "    print(item)"
   ]
  },
  {
   "cell_type": "code",
   "execution_count": 120,
   "id": "26a2a37c",
   "metadata": {},
   "outputs": [
    {
     "name": "stderr",
     "output_type": "stream",
     "text": [
      "1it [00:00, 106.31it/s]\n",
      "1it [00:00, 126.97it/s]"
     ]
    },
    {
     "name": "stdout",
     "output_type": "stream",
     "text": [
      "setting dataset time for 2 items:  0.027686119079589844\n",
      "DatasetItem(id='b', subset='val', media=<datumaro.components.media.Image object at 0x7fdd44750c50>, annotations=[Mask(id=7, attributes={'is_crowd': False}, group=7, _image=functools.partial(<bound method CompiledMask.extract of <datumaro.components.annotation.CompiledMask object at 0x7fdd44750910>>, 7), label=0, z_order=0), Mask(id=20, attributes={'is_crowd': True}, group=20, _image=functools.partial(<bound method CompiledMask.extract of <datumaro.components.annotation.CompiledMask object at 0x7fdd44750910>>, 20), label=1, z_order=0)], attributes={'id': 40}, hash_key=['09effa1b4c54099b48ce2f97ca195100f5115aad2e1aad36e1abfaf8fd10c0c7a167ddf6b539399e7ddaf32ba0b1ee07a038369e6ad898e50a2cf98912248bcc'])\n",
      "DatasetItem(id='a', subset='train', media=<datumaro.components.media.Image object at 0x7fdd44750e50>, annotations=[Mask(id=460551, attributes={'is_crowd': False}, group=460551, _image=functools.partial(<bound method CompiledMask.extract of <datumaro.components.annotation.CompiledMask object at 0x7fdd44750bd0>>, 460551), label=0, z_order=0)], attributes={'id': 5}, hash_key=['09effa1b4c54099b48ce2f97ca195100f5115aad2e1aad36e1abfaf8fd10c0c7a167ddf6b539399e7ddaf32ba0b1ee07a038369e6ad898e50a2cf98912248bcc'])\n"
     ]
    },
    {
     "name": "stderr",
     "output_type": "stream",
     "text": [
      "\n"
     ]
    }
   ],
   "source": [
    "start_time = time.time()\n",
    "dataset = dm.Dataset.import_from('./tests/assets/coco_dataset/coco_panoptic', save_hash=True)\n",
    "print(f'setting dataset time for {len(dataset)} items: ', time.time()-start_time)\n",
    "dataset\n",
    "for i, item in enumerate(dataset):\n",
    "    print(item)"
   ]
  },
  {
   "cell_type": "code",
   "execution_count": 121,
   "id": "9dbb25ac",
   "metadata": {},
   "outputs": [
    {
     "name": "stderr",
     "output_type": "stream",
     "text": [
      "1it [00:00, 103.27it/s]\n",
      "1it [00:00, 119.66it/s]"
     ]
    },
    {
     "name": "stdout",
     "output_type": "stream",
     "text": [
      "setting dataset time for 2 items:  0.02797722816467285\n",
      "DatasetItem(id='a', subset='train', media=<datumaro.components.media.Image object at 0x7fdd4a59c250>, annotations=[Points(id=1, attributes={'is_crowd': False}, group=1, points=[0, 0, 0, 2, 4, 1], label=1, z_order=0, visibility=[<Visibility.absent: 0>, <Visibility.hidden: 1>, <Visibility.visible: 2>]), Bbox(id=1, attributes={'is_crowd': False}, group=1, points=[2.0, 2.0, 5.0, 3.0], label=1, z_order=0)], attributes={'id': 5}, hash_key=['09effa1b4c54099b48ce2f97ca195100f5115aad2e1aad36e1abfaf8fd10c0c7a167ddf6b539399e7ddaf32ba0b1ee07a038369e6ad898e50a2cf98912248bcc'])\n",
      "DatasetItem(id='b', subset='val', media=<datumaro.components.media.Image object at 0x7fdd4a59c550>, annotations=[Points(id=1, attributes={'x': 1, 'y': 'hello', 'is_crowd': False}, group=1, points=[1, 2, 3, 4, 2, 3], label=0, z_order=0, visibility=[<Visibility.visible: 2>, <Visibility.visible: 2>, <Visibility.visible: 2>]), Polygon(id=1, attributes={'x': 1, 'y': 'hello', 'is_crowd': False}, group=1, points=[0.0, 0.0, 1.0, 0.0, 1.0, 2.0, 0.0, 2.0], label=0, z_order=0), Points(id=2, attributes={'is_crowd': True}, group=2, points=[2, 4, 4, 4, 4, 2], label=1, z_order=0, visibility=[<Visibility.visible: 2>, <Visibility.visible: 2>, <Visibility.visible: 2>]), RleMask(id=2, attributes={'is_crowd': True}, group=2, label=1, z_order=0, _rle=_CocoExtractor._lazy_merged_mask(segmentation=[{'counts': [0, 20, 30], 'size': [10, 5]}], h=10, w=5), _image=None)], attributes={'id': 40}, hash_key=['09effa1b4c54099b48ce2f97ca195100f5115aad2e1aad36e1abfaf8fd10c0c7a167ddf6b539399e7ddaf32ba0b1ee07a038369e6ad898e50a2cf98912248bcc'])\n"
     ]
    },
    {
     "name": "stderr",
     "output_type": "stream",
     "text": [
      "\n"
     ]
    }
   ],
   "source": [
    "start_time = time.time()\n",
    "dataset = dm.Dataset.import_from('./tests/assets/coco_dataset/coco_person_keypoints', save_hash=True)\n",
    "print(f'setting dataset time for {len(dataset)} items: ', time.time()-start_time)\n",
    "dataset\n",
    "for i, item in enumerate(dataset):\n",
    "    print(item)"
   ]
  },
  {
   "cell_type": "code",
   "execution_count": 122,
   "id": "a8220097",
   "metadata": {},
   "outputs": [
    {
     "name": "stderr",
     "output_type": "stream",
     "text": [
      "1it [00:00, 106.67it/s]\n",
      "1it [00:00, 126.46it/s]"
     ]
    },
    {
     "name": "stdout",
     "output_type": "stream",
     "text": [
      "setting dataset time for 2 items:  0.02739739418029785\n",
      "DatasetItem(id='a', subset='train', media=<datumaro.components.media.Image object at 0x7fdd4a59c4d0>, annotations=[RleMask(id=7, attributes={'is_crowd': True}, group=7, label=0, z_order=0, _rle=_CocoExtractor._lazy_merged_mask(segmentation=[{'counts': [10, 10, 5, 10, 15], 'size': [5, 10]}], h=5, w=10), _image=None)], attributes={'id': 5}, hash_key=['09effa1b4c54099b48ce2f97ca195100f5115aad2e1aad36e1abfaf8fd10c0c7a167ddf6b539399e7ddaf32ba0b1ee07a038369e6ad898e50a2cf98912248bcc'])\n",
      "DatasetItem(id='b', subset='val', media=<datumaro.components.media.Image object at 0x7fdd4a59cc50>, annotations=[RleMask(id=2, attributes={'is_crowd': True}, group=2, label=1, z_order=0, _rle=_CocoExtractor._lazy_merged_mask(segmentation=[{'counts': [0, 20, 30], 'size': [10, 5]}], h=10, w=5), _image=None)], attributes={'id': 40}, hash_key=['09effa1b4c54099b48ce2f97ca195100f5115aad2e1aad36e1abfaf8fd10c0c7a167ddf6b539399e7ddaf32ba0b1ee07a038369e6ad898e50a2cf98912248bcc'])\n"
     ]
    },
    {
     "name": "stderr",
     "output_type": "stream",
     "text": [
      "\n"
     ]
    }
   ],
   "source": [
    "start_time = time.time()\n",
    "dataset = dm.Dataset.import_from('./tests/assets/coco_dataset/coco_stuff', save_hash=True)\n",
    "print(f'setting dataset time for {len(dataset)} items: ', time.time()-start_time)\n",
    "dataset\n",
    "for i, item in enumerate(dataset):\n",
    "    print(item)"
   ]
  },
  {
   "cell_type": "markdown",
   "id": "5d857f83",
   "metadata": {},
   "source": [
    "## common semantic seg"
   ]
  },
  {
   "cell_type": "code",
   "execution_count": 124,
   "id": "4cd3d6e7",
   "metadata": {},
   "outputs": [
    {
     "name": "stdout",
     "output_type": "stream",
     "text": [
      "setting dataset time for 2 items:  0.04982733726501465\n",
      "DatasetItem(id='0001', subset='default', media=<datumaro.components.media.Image object at 0x7fdd6613ea10>, annotations=[Mask(id=0, attributes={}, group=0, _image=<function CommonSemanticSegmentationExtractor._lazy_extract_mask.<locals>.<lambda> at 0x7fdd66250a70>, label=3, z_order=0), Mask(id=0, attributes={}, group=0, _image=<function CommonSemanticSegmentationExtractor._lazy_extract_mask.<locals>.<lambda> at 0x7fdd4a18e8c0>, label=5, z_order=0)], attributes={}, hash_key=['09effa1b4c54099b48ce2f97ca195100f5115aad2e1aad36e1abfaf8fd10c0c7a167ddf6b539399e7ddaf32ba0b1ee07a038369e6ad898e50a2cf98912248bcc'])\n",
      "DatasetItem(id='0002', subset='default', media=<datumaro.components.media.Image object at 0x7fdd6613ec90>, annotations=[Mask(id=0, attributes={}, group=0, _image=<function CommonSemanticSegmentationExtractor._lazy_extract_mask.<locals>.<lambda> at 0x7fdd4a591f80>, label=1, z_order=0), Mask(id=0, attributes={}, group=0, _image=<function CommonSemanticSegmentationExtractor._lazy_extract_mask.<locals>.<lambda> at 0x7fdd4a591e60>, label=4, z_order=0)], attributes={}, hash_key=['09effa1b4c54099b48ce2f97ca195100f5115aad2e1aad36e1abfaf8fd10c0c7a167ddf6b539399e7ddaf32ba0b1ee07a038369e6ad898e50a2cf98912248bcc'])\n"
     ]
    }
   ],
   "source": [
    "start_time = time.time()\n",
    "dataset = dm.Dataset.import_from('./tests/assets/common_semantic_segmentation_dataset/dataset', save_hash=True)\n",
    "print(f'setting dataset time for {len(dataset)} items: ', time.time()-start_time)\n",
    "dataset\n",
    "for i, item in enumerate(dataset):\n",
    "    print(item)"
   ]
  },
  {
   "cell_type": "code",
   "execution_count": 2,
   "id": "113c188c",
   "metadata": {},
   "outputs": [
    {
     "name": "stdout",
     "output_type": "stream",
     "text": [
      "setting dataset time for 2 items:  3.494994878768921\n",
      "DatasetItem(id='0002', subset='default', media=<datumaro.components.media.Image object at 0x7f7cd2c7e210>, annotations=[Mask(id=0, attributes={}, group=0, _image=<function CommonSemanticSegmentationExtractor._lazy_extract_mask.<locals>.<lambda> at 0x7f7cd2c51b00>, label=1, z_order=0), Mask(id=0, attributes={}, group=0, _image=<function CommonSemanticSegmentationExtractor._lazy_extract_mask.<locals>.<lambda> at 0x7f7cd2cbca70>, label=5, z_order=0), Mask(id=0, attributes={}, group=0, _image=<function CommonSemanticSegmentationExtractor._lazy_extract_mask.<locals>.<lambda> at 0x7f7cd2c54290>, label=7, z_order=0)], attributes={}, hash_key=['09effa1b4c54099b48ce2f97ca195100f5115aad2e1aad36e1abfaf8fd10c0c7a167ddf6b539399e7ddaf32ba0b1ee07a038369e6ad898e50a2cf98912248bcc'])\n",
      "DatasetItem(id='0001', subset='default', media=<datumaro.components.media.Image object at 0x7f7cd2eaa7d0>, annotations=[Mask(id=0, attributes={}, group=0, _image=<function CommonSemanticSegmentationExtractor._lazy_extract_mask.<locals>.<lambda> at 0x7f7cbd4b9440>, label=3, z_order=0), Mask(id=0, attributes={}, group=0, _image=<function CommonSemanticSegmentationExtractor._lazy_extract_mask.<locals>.<lambda> at 0x7f7cbd4b9050>, label=5, z_order=0)], attributes={}, hash_key=['09effa1b4c54099b48ce2f97ca195100f5115aad2e1aad36e1abfaf8fd10c0c7a167ddf6b539399e7ddaf32ba0b1ee07a038369e6ad898e50a2cf98912248bcc'])\n"
     ]
    }
   ],
   "source": [
    "start_time = time.time()\n",
    "dataset = dm.Dataset.import_from('./tests/assets/common_semantic_segmentation_dataset/non_standard_dataset/segmentation', image_prefix=\"image_\", mask_prefix=\"gt_\", save_hash=True)\n",
    "print(f'setting dataset time for {len(dataset)} items: ', time.time()-start_time)\n",
    "dataset\n",
    "for i, item in enumerate(dataset):\n",
    "    print(item)"
   ]
  },
  {
   "cell_type": "markdown",
   "id": "057ad735",
   "metadata": {},
   "source": [
    "## common_super_resolution"
   ]
  },
  {
   "cell_type": "code",
   "execution_count": 2,
   "id": "bf8efaa4",
   "metadata": {},
   "outputs": [
    {
     "name": "stdout",
     "output_type": "stream",
     "text": [
      "setting dataset time for 2 items:  3.6339876651763916\n",
      "DatasetItem(id='1', subset='default', media=<datumaro.components.media.Image object at 0x7f1b61119810>, annotations=[SuperResolutionAnnotation(id=0, attributes={}, group=0, image=<datumaro.components.media.Image object at 0x7f1b607a8c50>)], attributes={'upsampled': <datumaro.components.media.Image object at 0x7f1b61119850>}, hash_key=['09effa1b4c54099b48ce2f97ca195100f5115aad2e1aad36e1abfaf8fd10c0c7a167ddf6b539399e7ddaf32ba0b1ee07a038369e6ad898e50a2cf98912248bcc'])\n",
      "DatasetItem(id='2', subset='default', media=<datumaro.components.media.Image object at 0x7f1b6eacb850>, annotations=[SuperResolutionAnnotation(id=0, attributes={}, group=0, image=<datumaro.components.media.Image object at 0x7f1b607a8e50>)], attributes={'upsampled': <datumaro.components.media.Image object at 0x7f1b607b2810>}, hash_key=['09effa1b4c54099b48ce2f97ca195100f5115aad2e1aad36e1abfaf8fd10c0c7a167ddf6b539399e7ddaf32ba0b1ee07a038369e6ad898e50a2cf98912248bcc'])\n"
     ]
    }
   ],
   "source": [
    "start_time = time.time()\n",
    "dataset = dm.Dataset.import_from('./tests/assets/common_super_resolution_dataset', save_hash=True)\n",
    "print(f'setting dataset time for {len(dataset)} items: ', time.time()-start_time)\n",
    "dataset\n",
    "for i, item in enumerate(dataset):\n",
    "    print(item)"
   ]
  },
  {
   "cell_type": "markdown",
   "id": "1e1e79d3",
   "metadata": {},
   "source": [
    "## cvat"
   ]
  },
  {
   "cell_type": "code",
   "execution_count": 8,
   "id": "f19cc0fa",
   "metadata": {},
   "outputs": [
    {
     "name": "stdout",
     "output_type": "stream",
     "text": [
      "setting dataset time for 2 items:  0.026649951934814453\n",
      "DatasetItem(id='img0', subset='train', media=<datumaro.components.media.Image object at 0x7f1b60889890>, annotations=[Bbox(id=0, attributes={'a1': True, 'a2': 'v3', 'a3': '0003', 'a4': 2.4, 'occluded': True}, group=0, points=[0.0, 2.0, 4.0, 4.0], label=0, z_order=1), PolyLine(id=0, attributes={'occluded': False}, group=0, points=[1.0, 2.0, 3.0, 4.0, 5.0, 6.0, 7.0, 8.0], label=None, z_order=0)], attributes={'frame': 0}, hash_key=['09effa1b4c54099b48ce2f97ca195100f5115aad2e1aad36e1abfaf8fd10c0c7a167ddf6b539399e7ddaf32ba0b1ee07a038369e6ad898e50a2cf98912248bcc'])\n",
      "DatasetItem(id='img1', subset='train', media=<datumaro.components.media.Image object at 0x7f1b6086e590>, annotations=[Polygon(id=0, attributes={'occluded': False}, group=0, points=[1.0, 2.0, 3.0, 4.0, 6.0, 5.0], label=None, z_order=1), Points(id=0, attributes={'occluded': False}, group=0, points=[1.0, 2.0, 3.0, 4.0, 5.0, 6.0], label=1, z_order=2, visibility=[<Visibility.visible: 2>, <Visibility.visible: 2>, <Visibility.visible: 2>])], attributes={'frame': 1}, hash_key=['09effa1b4c54099b48ce2f97ca195100f5115aad2e1aad36e1abfaf8fd10c0c7a167ddf6b539399e7ddaf32ba0b1ee07a038369e6ad898e50a2cf98912248bcc'])\n"
     ]
    }
   ],
   "source": [
    "start_time = time.time()\n",
    "dataset = dm.Dataset.import_from('./tests/assets/cvat_dataset/for_images',save_hash=True)\n",
    "print(f'setting dataset time for {len(dataset)} items: ', time.time()-start_time)\n",
    "dataset\n",
    "for i, item in enumerate(dataset):\n",
    "    print(item)"
   ]
  },
  {
   "cell_type": "code",
   "execution_count": 2,
   "id": "937eebc5",
   "metadata": {},
   "outputs": [
    {
     "name": "stdout",
     "output_type": "stream",
     "text": [
      "setting dataset time for 3 items:  3.487092971801758\n",
      "DatasetItem(id='frame_000010', subset='annotations', media=<datumaro.components.media.Image object at 0x7fe5e306e8d0>, annotations=[Bbox(id=0, attributes={'occluded': True, 'outside': False, 'keyframe': True, 'track_id': 0}, group=0, points=[3.0, 4.0, 10.0, 5.0], label=2, z_order=0), Points(id=1, attributes={'hgl': 'hgkf', 'occluded': False, 'outside': False, 'keyframe': True, 'track_id': 1}, group=0, points=[21.95, 8.0, 2.55, 15.09, 2.23, 3.16], label=0, z_order=0, visibility=[<Visibility.visible: 2>, <Visibility.visible: 2>, <Visibility.visible: 2>])], attributes={'frame': 10}, hash_key=['19e778dbe056a9934ddaad37c21c13598781588dac0aad3421ba9b6af42053e3854f5d5eb57939fddfd3732ba691de0741b865af22d0bae71b2cbb80d72c0ad4'])\n",
      "DatasetItem(id='frame_000013', subset='annotations', media=<datumaro.components.media.Image object at 0x7fe5e30854d0>, annotations=[Bbox(id=0, attributes={'occluded': False, 'outside': True, 'keyframe': True, 'track_id': 0}, group=0, points=[7.0, 6.0, 14.0, 8.0], label=2, z_order=0), Points(id=1, attributes={'hgl': 'jk', 'occluded': False, 'outside': True, 'keyframe': True, 'track_id': 1}, group=0, points=[21.95, 8.0, 9.55, 15.09, 5.23, 1.16], label=0, z_order=0, visibility=[<Visibility.visible: 2>, <Visibility.visible: 2>, <Visibility.visible: 2>]), PolyLine(id=2, attributes={'occluded': False, 'outside': False, 'keyframe': True, 'track_id': 2}, group=0, points=[7.85, 13.88, 3.5, 6.67, 15.9, 2.0, 13.31, 7.21], label=2, z_order=0)], attributes={'frame': 13}, hash_key=['19e778dbe056a9934ddaad37c21c13598781588dac0aad3421ba9b6af42053e3854f5d5eb57939fddfd3732ba691de0741b865af22d0bae71b2cbb80d72c0ad4'])\n",
      "DatasetItem(id='frame_000016', subset='annotations', media=<datumaro.components.media.Image object at 0x7fe5c5da9550>, annotations=[Bbox(id=0, attributes={'occluded': False, 'outside': True, 'keyframe': True, 'track_id': 0}, group=0, points=[8.0, 7.0, 14.0, 17.0], label=2, z_order=0), PolyLine(id=2, attributes={'occluded': False, 'outside': True, 'keyframe': True, 'track_id': 2}, group=0, points=[7.85, 13.88, 3.5, 6.67, 15.9, 2.0, 13.31, 7.21], label=2, z_order=0)], attributes={'frame': 16}, hash_key=[])\n"
     ]
    }
   ],
   "source": [
    "start_time = time.time()\n",
    "dataset = dm.Dataset.import_from('./tests/assets/cvat_dataset/for_video', \"cvat\", save_hash=True)\n",
    "print(f'setting dataset time for {len(dataset)} items: ', time.time()-start_time)\n",
    "dataset\n",
    "for i, item in enumerate(dataset):\n",
    "    print(item)"
   ]
  },
  {
   "cell_type": "markdown",
   "id": "5cb89e35",
   "metadata": {},
   "source": [
    "## datumaro_dataset"
   ]
  },
  {
   "cell_type": "code",
   "execution_count": 2,
   "id": "dba4701a",
   "metadata": {},
   "outputs": [
    {
     "name": "stdout",
     "output_type": "stream",
     "text": [
      "setting dataset time for 4 items:  3.5141189098358154\n",
      "DatasetItem(id='d', subset='validation', media=<datumaro.components.media.Image object at 0x7fc140588410>, annotations=[], attributes={}, hash_key=[])\n",
      "DatasetItem(id='c', subset='test', media=<datumaro.components.media.Image object at 0x7fc140588ad0>, annotations=[Label(id=0, attributes={'score': 1.0}, group=0, label=1), Label(id=0, attributes={'score': 1.0}, group=0, label=3)], attributes={}, hash_key=['09effa1b4c54099b48ce2f97ca195100f5115aad2e1aad36e1abfaf8fd10c0c7a167ddf6b539399e7ddaf32ba0b1ee07a038369e6ad898e50a2cf98912248bcc'])\n",
      "DatasetItem(id='a', subset='train', media=<datumaro.components.media.Image object at 0x7fc14051b250>, annotations=[Label(id=0, attributes={'score': 1.0}, group=0, label=0)], attributes={}, hash_key=['09effa1b4c54099b48ce2f97ca195100f5115aad2e1aad36e1abfaf8fd10c0c7a167ddf6b539399e7ddaf32ba0b1ee07a038369e6ad898e50a2cf98912248bcc'])\n",
      "DatasetItem(id='b', subset='train', media=<datumaro.components.media.Image object at 0x7fc140515510>, annotations=[Label(id=0, attributes={}, group=0, label=0), Label(id=1, attributes={}, group=0, label=1), Label(id=2, attributes={}, group=0, label=2), Label(id=3, attributes={}, group=0, label=5)], attributes={}, hash_key=['09effa1b4c54099b48ce2f97ca195100f5115aad2e1aad36e1abfaf8fd10c0c7a167ddf6b539399e7ddaf32ba0b1ee07a038369e6ad898e50a2cf98912248bcc'])\n"
     ]
    }
   ],
   "source": [
    "start_time = time.time()\n",
    "dataset = dm.Dataset.import_from('./tests/assets/datumaro_dataset', save_hash=True)\n",
    "print(f'setting dataset time for {len(dataset)} items: ', time.time()-start_time)\n",
    "dataset\n",
    "for i, item in enumerate(dataset):\n",
    "    print(item)"
   ]
  },
  {
   "cell_type": "markdown",
   "id": "62a0bb4a",
   "metadata": {},
   "source": [
    "## icdar_dataset"
   ]
  },
  {
   "cell_type": "code",
   "execution_count": 4,
   "id": "5d608042",
   "metadata": {},
   "outputs": [
    {
     "name": "stdout",
     "output_type": "stream",
     "text": [
      "setting dataset time for 2 items:  1.122985601425171\n",
      "DatasetItem(id='img_1', subset='train', media=<datumaro.components.media.Image object at 0x7fede81ed810>, annotations=[Polygon(id=0, attributes={'text': 'FOOD'}, group=0, points=[0.0, 0.0, 3.0, 1.0, 4.0, 6.0, 1.0, 7.0], label=None, z_order=0)], attributes={}, hash_key=['09effa1b4c54099b48ce2f97ca195100f5115aad2e1aad36e1abfaf8fd10c0c7a167ddf6b539399e7ddaf32ba0b1ee07a038369e6ad898e50a2cf98912248bcc'])\n",
      "DatasetItem(id='img_2', subset='train', media=<datumaro.components.media.Image object at 0x7fedc9e31e90>, annotations=[Bbox(id=0, attributes={'text': 'RED'}, group=0, points=[0.0, 0.0, 2.0, 3.0], label=None, z_order=0), Bbox(id=0, attributes={'text': 'LION'}, group=0, points=[3.0, 3.0, 5.0, 6.0], label=None, z_order=0)], attributes={}, hash_key=['09effa1b4c54099b48ce2f97ca195100f5115aad2e1aad36e1abfaf8fd10c0c7a167ddf6b539399e7ddaf32ba0b1ee07a038369e6ad898e50a2cf98912248bcc'])\n"
     ]
    }
   ],
   "source": [
    "start_time = time.time()\n",
    "dataset = dm.Dataset.import_from('./tests/assets/icdar_dataset/text_localization', save_hash=True)\n",
    "print(f'setting dataset time for {len(dataset)} items: ', time.time()-start_time)\n",
    "dataset\n",
    "for i, item in enumerate(dataset):\n",
    "    print(item)"
   ]
  },
  {
   "cell_type": "code",
   "execution_count": 5,
   "id": "8a39bfaf",
   "metadata": {},
   "outputs": [
    {
     "name": "stdout",
     "output_type": "stream",
     "text": [
      "setting dataset time for 1 items:  0.04100346565246582\n",
      "DatasetItem(id='1', subset='train', media=<datumaro.components.media.Image object at 0x7fedc9e2e0d0>, annotations=[Mask(id=0, attributes={'index': 0, 'color': '108 225 132', 'text': 'F', 'center': '0 1'}, group=0, _image=<function _IcdarExtractor._lazy_extract_mask.<locals>.<lambda> at 0x7feeab7ed050>, label=None, z_order=0), Mask(id=0, attributes={'index': 1, 'color': '82 174 214', 'text': 'T', 'center': '1 3'}, group=1, _image=<function _IcdarExtractor._lazy_extract_mask.<locals>.<lambda> at 0x7feeab7edb90>, label=None, z_order=0), Mask(id=0, attributes={'index': 2, 'color': '241 73 144', 'text': 'h', 'center': '1 4'}, group=1, _image=<function _IcdarExtractor._lazy_extract_mask.<locals>.<lambda> at 0x7feeab7edf80>, label=None, z_order=0)], attributes={}, hash_key=['09effa1b4c54099b48ce2f97ca195100f5115aad2e1aad36e1abfaf8fd10c0c7a167ddf6b539399e7ddaf32ba0b1ee07a038369e6ad898e50a2cf98912248bcc'])\n"
     ]
    }
   ],
   "source": [
    "start_time = time.time()\n",
    "dataset = dm.Dataset.import_from('./tests/assets/icdar_dataset/text_segmentation', save_hash=True)\n",
    "print(f'setting dataset time for {len(dataset)} items: ', time.time()-start_time)\n",
    "dataset\n",
    "for i, item in enumerate(dataset):\n",
    "    print(item)"
   ]
  },
  {
   "cell_type": "code",
   "execution_count": 6,
   "id": "10280b48",
   "metadata": {},
   "outputs": [
    {
     "name": "stdout",
     "output_type": "stream",
     "text": [
      "setting dataset time for 2 items:  0.024611234664916992\n",
      "DatasetItem(id='word_1', subset='train', media=<datumaro.components.media.Image object at 0x7fedc4467490>, annotations=[Caption(id=0, attributes={}, group=0, caption='PROPER')], attributes={}, hash_key=['09effa1b4c54099b48ce2f97ca195100f5115aad2e1aad36e1abfaf8fd10c0c7a167ddf6b539399e7ddaf32ba0b1ee07a038369e6ad898e50a2cf98912248bcc'])\n",
      "DatasetItem(id='word_2', subset='train', media=<datumaro.components.media.Image object at 0x7fedc4467710>, annotations=[Caption(id=0, attributes={}, group=0, caption='Canon')], attributes={}, hash_key=['09effa1b4c54099b48ce2f97ca195100f5115aad2e1aad36e1abfaf8fd10c0c7a167ddf6b539399e7ddaf32ba0b1ee07a038369e6ad898e50a2cf98912248bcc'])\n"
     ]
    }
   ],
   "source": [
    "start_time = time.time()\n",
    "dataset = dm.Dataset.import_from('./tests/assets/icdar_dataset/word_recognition', save_hash=True)\n",
    "print(f'setting dataset time for {len(dataset)} items: ', time.time()-start_time)\n",
    "dataset\n",
    "for i, item in enumerate(dataset):\n",
    "    print(item)"
   ]
  },
  {
   "cell_type": "markdown",
   "id": "2d464a84",
   "metadata": {},
   "source": [
    "## image_zip_datset"
   ]
  },
  {
   "cell_type": "code",
   "execution_count": 8,
   "id": "11db3ccd",
   "metadata": {},
   "outputs": [
    {
     "name": "stdout",
     "output_type": "stream",
     "text": [
      "setting dataset time for 2 items:  0.042441606521606445\n",
      "DatasetItem(id='1', subset='default', media=<datumaro.components.media.ByteImage object at 0x7fedc446b850>, annotations=[], attributes={}, hash_key=['09effa1b4c54099b48ce2f97ca195100f5115aad2e1aad36e1abfaf8fd10c0c7a167ddf6b539399e7ddaf32ba0b1ee07a038369e6ad898e50a2cf98912248bcc'])\n",
      "DatasetItem(id='2', subset='default', media=<datumaro.components.media.ByteImage object at 0x7fedc9e45790>, annotations=[], attributes={}, hash_key=['09effa1b4c54099b48ce2f97ca195100f5115aad2e1aad36e1abfaf8fd10c0c7a167ddf6b539399e7ddaf32ba0b1ee07a038369e6ad898e50a2cf98912248bcc'])\n"
     ]
    }
   ],
   "source": [
    "start_time = time.time()\n",
    "dataset = dm.Dataset.import_from('./tests/assets/image_zip_dataset', \"image_zip\", save_hash=True)\n",
    "print(f'setting dataset time for {len(dataset)} items: ', time.time()-start_time)\n",
    "dataset\n",
    "for i, item in enumerate(dataset):\n",
    "    print(item)"
   ]
  },
  {
   "cell_type": "markdown",
   "id": "b6faeadf",
   "metadata": {},
   "source": [
    "imagenet_dataset"
   ]
  },
  {
   "cell_type": "code",
   "execution_count": 10,
   "id": "523d4cde",
   "metadata": {},
   "outputs": [
    {
     "name": "stderr",
     "output_type": "stream",
     "text": [
      "3it [00:00, 64.90it/s]"
     ]
    },
    {
     "name": "stdout",
     "output_type": "stream",
     "text": [
      "setting dataset time for 3 items:  0.05063128471374512\n",
      "DatasetItem(id='label_0/label_0_1', subset='default', media=<datumaro.components.media.Image object at 0x7fede81b6c50>, annotations=[Label(id=0, attributes={}, group=0, label=0)], attributes={}, hash_key=['09effa1b4c54099b48ce2f97ca195100f5115aad2e1aad36e1abfaf8fd10c0c7a167ddf6b539399e7ddaf32ba0b1ee07a038369e6ad898e50a2cf98912248bcc'])\n",
      "DatasetItem(id='label_0/label_0_2', subset='default', media=<datumaro.components.media.Image object at 0x7fede80d0790>, annotations=[Label(id=0, attributes={}, group=0, label=0)], attributes={}, hash_key=['09effa1b4c54099b48ce2f97ca195100f5115aad2e1aad36e1abfaf8fd10c0c7a167ddf6b539399e7ddaf32ba0b1ee07a038369e6ad898e50a2cf98912248bcc'])\n",
      "DatasetItem(id='label_1/label_1_1', subset='default', media=<datumaro.components.media.Image object at 0x7fedc446cfd0>, annotations=[Label(id=0, attributes={}, group=0, label=1)], attributes={}, hash_key=['09effa1b4c54099b48ce2f97ca195100f5115aad2e1aad36e1abfaf8fd10c0c7a167ddf6b539399e7ddaf32ba0b1ee07a038369e6ad898e50a2cf98912248bcc'])\n"
     ]
    },
    {
     "name": "stderr",
     "output_type": "stream",
     "text": [
      "\n"
     ]
    }
   ],
   "source": [
    "start_time = time.time()\n",
    "dataset = dm.Dataset.import_from('./tests/assets/imagenet_dataset', \"imagenet\", save_hash=True)\n",
    "print(f'setting dataset time for {len(dataset)} items: ', time.time()-start_time)\n",
    "dataset\n",
    "for i, item in enumerate(dataset):\n",
    "    print(item)"
   ]
  },
  {
   "cell_type": "markdown",
   "id": "0db8893c",
   "metadata": {},
   "source": [
    "## imagenet_txt_dataset"
   ]
  },
  {
   "cell_type": "code",
   "execution_count": 3,
   "id": "98df82f3",
   "metadata": {},
   "outputs": [
    {
     "name": "stdout",
     "output_type": "stream",
     "text": [
      "setting dataset time for 4 items:  0.0304410457611084\n",
      "DatasetItem(id='1', subset='train', media=<datumaro.components.media.Image object at 0x7fc14e50b3d0>, annotations=[Label(id=0, attributes={}, group=0, label=0)], attributes={}, hash_key=['09effa1b4c54099b48ce2f97ca195100f5115aad2e1aad36e1abfaf8fd10c0c7a167ddf6b539399e7ddaf32ba0b1ee07a038369e6ad898e50a2cf98912248bcc'])\n",
      "DatasetItem(id='2', subset='train', media=<datumaro.components.media.Image object at 0x7fc14e030110>, annotations=[Label(id=0, attributes={}, group=0, label=5)], attributes={}, hash_key=['09effa1b4c54099b48ce2f97ca195100f5115aad2e1aad36e1abfaf8fd10c0c7a167ddf6b539399e7ddaf32ba0b1ee07a038369e6ad898e50a2cf98912248bcc'])\n",
      "DatasetItem(id='3', subset='train', media=<datumaro.components.media.Image object at 0x7fc140527150>, annotations=[Label(id=0, attributes={}, group=0, label=3)], attributes={}, hash_key=[])\n",
      "DatasetItem(id='4', subset='train', media=<datumaro.components.media.Image object at 0x7fc14e030850>, annotations=[Label(id=0, attributes={}, group=0, label=5)], attributes={}, hash_key=[])\n"
     ]
    }
   ],
   "source": [
    "start_time = time.time()\n",
    "dataset = dm.Dataset.import_from('./tests/assets/imagenet_txt_dataset/basic', \"imagenet_txt\", labels_file=\"synsets.txt\",save_hash=True)\n",
    "print(f'setting dataset time for {len(dataset)} items: ', time.time()-start_time)\n",
    "dataset\n",
    "for i, item in enumerate(dataset):\n",
    "    print(item)"
   ]
  },
  {
   "cell_type": "markdown",
   "id": "b015ef3b",
   "metadata": {},
   "source": [
    "## kinetics_dataset"
   ]
  },
  {
   "cell_type": "code",
   "execution_count": 2,
   "id": "8c783135",
   "metadata": {},
   "outputs": [
    {
     "ename": "AssertionError",
     "evalue": "Media type should be Image, Current type=<class 'datumaro.components.media.Video'>",
     "output_type": "error",
     "traceback": [
      "\u001b[0;31m---------------------------------------------------------------------------\u001b[0m",
      "\u001b[0;31mTypeError\u001b[0m                                 Traceback (most recent call last)",
      "\u001b[0;32m~/workspace/datumaro_sa/datumaro/components/dataset.py\u001b[0m in \u001b[0;36mimport_from\u001b[0;34m(cls, path, format, env, progress_reporter, error_policy, save_hash, **kwargs)\u001b[0m\n\u001b[1;32m   1280\u001b[0m                     extractors.append(\n\u001b[0;32m-> 1281\u001b[0;31m                         \u001b[0menv\u001b[0m\u001b[0;34m.\u001b[0m\u001b[0mmake_extractor\u001b[0m\u001b[0;34m(\u001b[0m\u001b[0msrc_conf\u001b[0m\u001b[0;34m.\u001b[0m\u001b[0mformat\u001b[0m\u001b[0;34m,\u001b[0m \u001b[0msrc_conf\u001b[0m\u001b[0;34m.\u001b[0m\u001b[0murl\u001b[0m\u001b[0;34m,\u001b[0m \u001b[0;34m**\u001b[0m\u001b[0mextractor_kwargs\u001b[0m\u001b[0;34m)\u001b[0m\u001b[0;34m\u001b[0m\u001b[0;34m\u001b[0m\u001b[0m\n\u001b[0m\u001b[1;32m   1282\u001b[0m                     )\n",
      "\u001b[0;32m~/workspace/datumaro_sa/datumaro/components/environment.py\u001b[0m in \u001b[0;36mmake_extractor\u001b[0;34m(self, name, *args, **kwargs)\u001b[0m\n\u001b[1;32m    229\u001b[0m     \u001b[0;32mdef\u001b[0m \u001b[0mmake_extractor\u001b[0m\u001b[0;34m(\u001b[0m\u001b[0mself\u001b[0m\u001b[0;34m,\u001b[0m \u001b[0mname\u001b[0m\u001b[0;34m,\u001b[0m \u001b[0;34m*\u001b[0m\u001b[0margs\u001b[0m\u001b[0;34m,\u001b[0m \u001b[0;34m**\u001b[0m\u001b[0mkwargs\u001b[0m\u001b[0;34m)\u001b[0m\u001b[0;34m:\u001b[0m\u001b[0;34m\u001b[0m\u001b[0;34m\u001b[0m\u001b[0m\n\u001b[0;32m--> 230\u001b[0;31m         \u001b[0;32mreturn\u001b[0m \u001b[0mself\u001b[0m\u001b[0;34m.\u001b[0m\u001b[0mextractors\u001b[0m\u001b[0;34m.\u001b[0m\u001b[0mget\u001b[0m\u001b[0;34m(\u001b[0m\u001b[0mname\u001b[0m\u001b[0;34m)\u001b[0m\u001b[0;34m(\u001b[0m\u001b[0;34m*\u001b[0m\u001b[0margs\u001b[0m\u001b[0;34m,\u001b[0m \u001b[0;34m**\u001b[0m\u001b[0mkwargs\u001b[0m\u001b[0;34m)\u001b[0m\u001b[0;34m\u001b[0m\u001b[0;34m\u001b[0m\u001b[0m\n\u001b[0m\u001b[1;32m    231\u001b[0m \u001b[0;34m\u001b[0m\u001b[0m\n",
      "\u001b[0;31mTypeError\u001b[0m: __init__() got an unexpected keyword argument 'ctx'",
      "\nDuring handling of the above exception, another exception occurred:\n",
      "\u001b[0;31mAssertionError\u001b[0m                            Traceback (most recent call last)",
      "\u001b[0;32m/tmp/ipykernel_27348/803332256.py\u001b[0m in \u001b[0;36m<module>\u001b[0;34m\u001b[0m\n\u001b[1;32m      1\u001b[0m \u001b[0mstart_time\u001b[0m \u001b[0;34m=\u001b[0m \u001b[0mtime\u001b[0m\u001b[0;34m.\u001b[0m\u001b[0mtime\u001b[0m\u001b[0;34m(\u001b[0m\u001b[0;34m)\u001b[0m\u001b[0;34m\u001b[0m\u001b[0;34m\u001b[0m\u001b[0m\n\u001b[0;32m----> 2\u001b[0;31m \u001b[0mdataset\u001b[0m \u001b[0;34m=\u001b[0m \u001b[0mdm\u001b[0m\u001b[0;34m.\u001b[0m\u001b[0mDataset\u001b[0m\u001b[0;34m.\u001b[0m\u001b[0mimport_from\u001b[0m\u001b[0;34m(\u001b[0m\u001b[0;34m'./tests/assets/kinetics_dataset'\u001b[0m\u001b[0;34m,\u001b[0m \u001b[0msave_hash\u001b[0m\u001b[0;34m=\u001b[0m\u001b[0;32mTrue\u001b[0m\u001b[0;34m)\u001b[0m\u001b[0;34m\u001b[0m\u001b[0;34m\u001b[0m\u001b[0m\n\u001b[0m\u001b[1;32m      3\u001b[0m \u001b[0mprint\u001b[0m\u001b[0;34m(\u001b[0m\u001b[0;34mf'setting dataset time for {len(dataset)} items: '\u001b[0m\u001b[0;34m,\u001b[0m \u001b[0mtime\u001b[0m\u001b[0;34m.\u001b[0m\u001b[0mtime\u001b[0m\u001b[0;34m(\u001b[0m\u001b[0;34m)\u001b[0m\u001b[0;34m-\u001b[0m\u001b[0mstart_time\u001b[0m\u001b[0;34m)\u001b[0m\u001b[0;34m\u001b[0m\u001b[0;34m\u001b[0m\u001b[0m\n\u001b[1;32m      4\u001b[0m \u001b[0mdataset\u001b[0m\u001b[0;34m\u001b[0m\u001b[0;34m\u001b[0m\u001b[0m\n\u001b[1;32m      5\u001b[0m \u001b[0;32mfor\u001b[0m \u001b[0mi\u001b[0m\u001b[0;34m,\u001b[0m \u001b[0mitem\u001b[0m \u001b[0;32min\u001b[0m \u001b[0menumerate\u001b[0m\u001b[0;34m(\u001b[0m\u001b[0mdataset\u001b[0m\u001b[0;34m)\u001b[0m\u001b[0;34m:\u001b[0m\u001b[0;34m\u001b[0m\u001b[0;34m\u001b[0m\u001b[0m\n",
      "\u001b[0;32m~/workspace/datumaro_sa/datumaro/components/dataset.py\u001b[0m in \u001b[0;36mimport_from\u001b[0;34m(cls, path, format, env, progress_reporter, error_policy, save_hash, **kwargs)\u001b[0m\n\u001b[1;32m   1296\u001b[0m \u001b[0;34m\u001b[0m\u001b[0m\n\u001b[1;32m   1297\u001b[0m                     extractors.append(\n\u001b[0;32m-> 1298\u001b[0;31m                         \u001b[0menv\u001b[0m\u001b[0;34m.\u001b[0m\u001b[0mmake_extractor\u001b[0m\u001b[0;34m(\u001b[0m\u001b[0msrc_conf\u001b[0m\u001b[0;34m.\u001b[0m\u001b[0mformat\u001b[0m\u001b[0;34m,\u001b[0m \u001b[0msrc_conf\u001b[0m\u001b[0;34m.\u001b[0m\u001b[0murl\u001b[0m\u001b[0;34m,\u001b[0m \u001b[0;34m**\u001b[0m\u001b[0mextractor_kwargs\u001b[0m\u001b[0;34m)\u001b[0m\u001b[0;34m\u001b[0m\u001b[0;34m\u001b[0m\u001b[0m\n\u001b[0m\u001b[1;32m   1299\u001b[0m                     )\n\u001b[1;32m   1300\u001b[0m \u001b[0;34m\u001b[0m\u001b[0m\n",
      "\u001b[0;32m~/workspace/datumaro_sa/datumaro/components/environment.py\u001b[0m in \u001b[0;36mmake_extractor\u001b[0;34m(self, name, *args, **kwargs)\u001b[0m\n\u001b[1;32m    228\u001b[0m \u001b[0;34m\u001b[0m\u001b[0m\n\u001b[1;32m    229\u001b[0m     \u001b[0;32mdef\u001b[0m \u001b[0mmake_extractor\u001b[0m\u001b[0;34m(\u001b[0m\u001b[0mself\u001b[0m\u001b[0;34m,\u001b[0m \u001b[0mname\u001b[0m\u001b[0;34m,\u001b[0m \u001b[0;34m*\u001b[0m\u001b[0margs\u001b[0m\u001b[0;34m,\u001b[0m \u001b[0;34m**\u001b[0m\u001b[0mkwargs\u001b[0m\u001b[0;34m)\u001b[0m\u001b[0;34m:\u001b[0m\u001b[0;34m\u001b[0m\u001b[0;34m\u001b[0m\u001b[0m\n\u001b[0;32m--> 230\u001b[0;31m         \u001b[0;32mreturn\u001b[0m \u001b[0mself\u001b[0m\u001b[0;34m.\u001b[0m\u001b[0mextractors\u001b[0m\u001b[0;34m.\u001b[0m\u001b[0mget\u001b[0m\u001b[0;34m(\u001b[0m\u001b[0mname\u001b[0m\u001b[0;34m)\u001b[0m\u001b[0;34m(\u001b[0m\u001b[0;34m*\u001b[0m\u001b[0margs\u001b[0m\u001b[0;34m,\u001b[0m \u001b[0;34m**\u001b[0m\u001b[0mkwargs\u001b[0m\u001b[0;34m)\u001b[0m\u001b[0;34m\u001b[0m\u001b[0;34m\u001b[0m\u001b[0m\n\u001b[0m\u001b[1;32m    231\u001b[0m \u001b[0;34m\u001b[0m\u001b[0m\n\u001b[1;32m    232\u001b[0m     \u001b[0;32mdef\u001b[0m \u001b[0mmake_importer\u001b[0m\u001b[0;34m(\u001b[0m\u001b[0mself\u001b[0m\u001b[0;34m,\u001b[0m \u001b[0mname\u001b[0m\u001b[0;34m,\u001b[0m \u001b[0;34m*\u001b[0m\u001b[0margs\u001b[0m\u001b[0;34m,\u001b[0m \u001b[0;34m**\u001b[0m\u001b[0mkwargs\u001b[0m\u001b[0;34m)\u001b[0m\u001b[0;34m:\u001b[0m\u001b[0;34m\u001b[0m\u001b[0;34m\u001b[0m\u001b[0m\n",
      "\u001b[0;32m~/workspace/datumaro_sa/datumaro/plugins/kinetics_format.py\u001b[0m in \u001b[0;36m__init__\u001b[0;34m(self, path, save_hash)\u001b[0m\n\u001b[1;32m     40\u001b[0m         \u001b[0;32mfor\u001b[0m \u001b[0mann_file\u001b[0m \u001b[0;32min\u001b[0m \u001b[0msorted\u001b[0m\u001b[0;34m(\u001b[0m\u001b[0mself\u001b[0m\u001b[0;34m.\u001b[0m\u001b[0m_annotation_files\u001b[0m\u001b[0;34m.\u001b[0m\u001b[0mvalues\u001b[0m\u001b[0;34m(\u001b[0m\u001b[0;34m)\u001b[0m\u001b[0;34m)\u001b[0m\u001b[0;34m:\u001b[0m\u001b[0;34m\u001b[0m\u001b[0;34m\u001b[0m\u001b[0m\n\u001b[1;32m     41\u001b[0m             \u001b[0;32mif\u001b[0m \u001b[0mann_file\u001b[0m\u001b[0;34m.\u001b[0m\u001b[0mendswith\u001b[0m\u001b[0;34m(\u001b[0m\u001b[0;34m\"csv\"\u001b[0m\u001b[0;34m)\u001b[0m\u001b[0;34m:\u001b[0m\u001b[0;34m\u001b[0m\u001b[0;34m\u001b[0m\u001b[0m\n\u001b[0;32m---> 42\u001b[0;31m                 \u001b[0mself\u001b[0m\u001b[0;34m.\u001b[0m\u001b[0m_load_items_from_csv\u001b[0m\u001b[0;34m(\u001b[0m\u001b[0mann_file\u001b[0m\u001b[0;34m)\u001b[0m\u001b[0;34m\u001b[0m\u001b[0;34m\u001b[0m\u001b[0m\n\u001b[0m\u001b[1;32m     43\u001b[0m             \u001b[0;32melse\u001b[0m\u001b[0;34m:\u001b[0m\u001b[0;34m\u001b[0m\u001b[0;34m\u001b[0m\u001b[0m\n\u001b[1;32m     44\u001b[0m                 \u001b[0mself\u001b[0m\u001b[0;34m.\u001b[0m\u001b[0m_load_items_from_json\u001b[0m\u001b[0;34m(\u001b[0m\u001b[0mann_file\u001b[0m\u001b[0;34m)\u001b[0m\u001b[0;34m\u001b[0m\u001b[0;34m\u001b[0m\u001b[0m\n",
      "\u001b[0;32m~/workspace/datumaro_sa/datumaro/plugins/kinetics_format.py\u001b[0m in \u001b[0;36m_load_items_from_csv\u001b[0;34m(self, path)\u001b[0m\n\u001b[1;32m    117\u001b[0m                         \u001b[0mitem_desc\u001b[0m\u001b[0;34m[\u001b[0m\u001b[0;34m\"time_start\"\u001b[0m\u001b[0;34m]\u001b[0m\u001b[0;34m,\u001b[0m\u001b[0;34m\u001b[0m\u001b[0;34m\u001b[0m\u001b[0m\n\u001b[1;32m    118\u001b[0m                         \u001b[0mitem_desc\u001b[0m\u001b[0;34m[\u001b[0m\u001b[0;34m\"time_end\"\u001b[0m\u001b[0;34m]\u001b[0m\u001b[0;34m,\u001b[0m\u001b[0;34m\u001b[0m\u001b[0;34m\u001b[0m\u001b[0m\n\u001b[0;32m--> 119\u001b[0;31m                         \u001b[0mitem_desc\u001b[0m\u001b[0;34m[\u001b[0m\u001b[0;34m\"split\"\u001b[0m\u001b[0;34m]\u001b[0m\u001b[0;34m,\u001b[0m\u001b[0;34m\u001b[0m\u001b[0;34m\u001b[0m\u001b[0m\n\u001b[0m\u001b[1;32m    120\u001b[0m                     )\n\u001b[1;32m    121\u001b[0m                 )\n",
      "\u001b[0;32m~/workspace/datumaro_sa/datumaro/plugins/kinetics_format.py\u001b[0m in \u001b[0;36m_create_item\u001b[0;34m(self, item_id, label, time_start, time_end, subset)\u001b[0m\n\u001b[1;32m    105\u001b[0m             \u001b[0msubset\u001b[0m\u001b[0;34m=\u001b[0m\u001b[0msubset\u001b[0m\u001b[0;34m,\u001b[0m\u001b[0;34m\u001b[0m\u001b[0;34m\u001b[0m\u001b[0m\n\u001b[1;32m    106\u001b[0m             \u001b[0mmedia\u001b[0m\u001b[0;34m=\u001b[0m\u001b[0mmedia\u001b[0m\u001b[0;34m,\u001b[0m\u001b[0;34m\u001b[0m\u001b[0;34m\u001b[0m\u001b[0m\n\u001b[0;32m--> 107\u001b[0;31m             \u001b[0msave_hash\u001b[0m\u001b[0;34m=\u001b[0m\u001b[0mself\u001b[0m\u001b[0;34m.\u001b[0m\u001b[0m_save_hash\u001b[0m\u001b[0;34m,\u001b[0m\u001b[0;34m\u001b[0m\u001b[0;34m\u001b[0m\u001b[0m\n\u001b[0m\u001b[1;32m    108\u001b[0m         )\n\u001b[1;32m    109\u001b[0m \u001b[0;34m\u001b[0m\u001b[0m\n",
      "\u001b[0;32m~/workspace/datumaro_sa/datumaro/components/extractor.py\u001b[0m in \u001b[0;36m__init__\u001b[0;34m(self, id, subset, media, annotations, attributes, save_hash, image, point_cloud, related_images, hash_key)\u001b[0m\n\u001b[1;32m    119\u001b[0m \u001b[0;34m\u001b[0m\u001b[0m\n\u001b[1;32m    120\u001b[0m         \u001b[0;32mif\u001b[0m \u001b[0msave_hash\u001b[0m\u001b[0;34m:\u001b[0m\u001b[0;34m\u001b[0m\u001b[0;34m\u001b[0m\u001b[0m\n\u001b[0;32m--> 121\u001b[0;31m             \u001b[0mhash_key\u001b[0m \u001b[0;34m=\u001b[0m \u001b[0minference\u001b[0m\u001b[0;34m(\u001b[0m\u001b[0mmedia\u001b[0m\u001b[0;34m)\u001b[0m\u001b[0;34m\u001b[0m\u001b[0;34m\u001b[0m\u001b[0m\n\u001b[0m\u001b[1;32m    122\u001b[0m \u001b[0;34m\u001b[0m\u001b[0m\n\u001b[1;32m    123\u001b[0m         self.__attrs_init__(\n",
      "\u001b[0;32m~/workspace/datumaro_sa/datumaro/components/model_inference.py\u001b[0m in \u001b[0;36minference\u001b[0;34m(item)\u001b[0m\n\u001b[1;32m    612\u001b[0m \u001b[0;34m\u001b[0m\u001b[0m\n\u001b[1;32m    613\u001b[0m \u001b[0;32mdef\u001b[0m \u001b[0minference\u001b[0m\u001b[0;34m(\u001b[0m\u001b[0mitem\u001b[0m\u001b[0;34m)\u001b[0m\u001b[0;34m:\u001b[0m\u001b[0;34m\u001b[0m\u001b[0;34m\u001b[0m\u001b[0m\n\u001b[0;32m--> 614\u001b[0;31m     \u001b[0;32massert\u001b[0m \u001b[0;32mnot\u001b[0m \u001b[0misinstance\u001b[0m\u001b[0;34m(\u001b[0m\u001b[0mitem\u001b[0m\u001b[0;34m,\u001b[0m \u001b[0mVideo\u001b[0m\u001b[0;34m)\u001b[0m \u001b[0;32mand\u001b[0m \u001b[0;32mnot\u001b[0m \u001b[0misinstance\u001b[0m\u001b[0;34m(\u001b[0m\u001b[0mitem\u001b[0m\u001b[0;34m,\u001b[0m \u001b[0mPointCloud\u001b[0m\u001b[0;34m)\u001b[0m\u001b[0;34m,\u001b[0m \u001b[0;34mf\"Media type should be Image, Current type={type(item)}\"\u001b[0m\u001b[0;34m\u001b[0m\u001b[0;34m\u001b[0m\u001b[0m\n\u001b[0m\u001b[1;32m    615\u001b[0m     \u001b[0;32massert\u001b[0m \u001b[0;32mnot\u001b[0m \u001b[0misinstance\u001b[0m\u001b[0;34m(\u001b[0m\u001b[0mitem\u001b[0m\u001b[0;34m,\u001b[0m \u001b[0mImage\u001b[0m\u001b[0;34m)\u001b[0m\u001b[0;34m,\u001b[0m \u001b[0;34mf\"Media type should be Image, Current type={type(item)}\"\u001b[0m\u001b[0;34m\u001b[0m\u001b[0;34m\u001b[0m\u001b[0m\n\u001b[1;32m    616\u001b[0m \u001b[0;34m\u001b[0m\u001b[0m\n",
      "\u001b[0;31mAssertionError\u001b[0m: Media type should be Image, Current type=<class 'datumaro.components.media.Video'>"
     ]
    }
   ],
   "source": [
    "start_time = time.time()\n",
    "dataset = dm.Dataset.import_from('./tests/assets/kinetics_dataset', save_hash=True)\n",
    "print(f'setting dataset time for {len(dataset)} items: ', time.time()-start_time)\n",
    "dataset\n",
    "for i, item in enumerate(dataset):\n",
    "    print(item)"
   ]
  },
  {
   "cell_type": "markdown",
   "id": "33ca7de1",
   "metadata": {},
   "source": [
    "## kitti"
   ]
  },
  {
   "cell_type": "code",
   "execution_count": 3,
   "id": "454687b9",
   "metadata": {},
   "outputs": [
    {
     "ename": "TypeError",
     "evalue": "isinstance() arg 2 must be a type or tuple of types",
     "output_type": "error",
     "traceback": [
      "\u001b[0;31m---------------------------------------------------------------------------\u001b[0m",
      "\u001b[0;31mTypeError\u001b[0m                                 Traceback (most recent call last)",
      "\u001b[0;32m~/workspace/datumaro_sa/datumaro/components/dataset.py\u001b[0m in \u001b[0;36mimport_from\u001b[0;34m(cls, path, format, env, progress_reporter, error_policy, save_hash, **kwargs)\u001b[0m\n\u001b[1;32m   1280\u001b[0m                     extractors.append(\n\u001b[0;32m-> 1281\u001b[0;31m                         \u001b[0menv\u001b[0m\u001b[0;34m.\u001b[0m\u001b[0mmake_extractor\u001b[0m\u001b[0;34m(\u001b[0m\u001b[0msrc_conf\u001b[0m\u001b[0;34m.\u001b[0m\u001b[0mformat\u001b[0m\u001b[0;34m,\u001b[0m \u001b[0msrc_conf\u001b[0m\u001b[0;34m.\u001b[0m\u001b[0murl\u001b[0m\u001b[0;34m,\u001b[0m \u001b[0;34m**\u001b[0m\u001b[0mextractor_kwargs\u001b[0m\u001b[0;34m)\u001b[0m\u001b[0;34m\u001b[0m\u001b[0;34m\u001b[0m\u001b[0m\n\u001b[0m\u001b[1;32m   1282\u001b[0m                     )\n",
      "\u001b[0;32m~/workspace/datumaro_sa/datumaro/components/environment.py\u001b[0m in \u001b[0;36mmake_extractor\u001b[0;34m(self, name, *args, **kwargs)\u001b[0m\n\u001b[1;32m    229\u001b[0m     \u001b[0;32mdef\u001b[0m \u001b[0mmake_extractor\u001b[0m\u001b[0;34m(\u001b[0m\u001b[0mself\u001b[0m\u001b[0;34m,\u001b[0m \u001b[0mname\u001b[0m\u001b[0;34m,\u001b[0m \u001b[0;34m*\u001b[0m\u001b[0margs\u001b[0m\u001b[0;34m,\u001b[0m \u001b[0;34m**\u001b[0m\u001b[0mkwargs\u001b[0m\u001b[0;34m)\u001b[0m\u001b[0;34m:\u001b[0m\u001b[0;34m\u001b[0m\u001b[0;34m\u001b[0m\u001b[0m\n\u001b[0;32m--> 230\u001b[0;31m         \u001b[0;32mreturn\u001b[0m \u001b[0mself\u001b[0m\u001b[0;34m.\u001b[0m\u001b[0mextractors\u001b[0m\u001b[0;34m.\u001b[0m\u001b[0mget\u001b[0m\u001b[0;34m(\u001b[0m\u001b[0mname\u001b[0m\u001b[0;34m)\u001b[0m\u001b[0;34m(\u001b[0m\u001b[0;34m*\u001b[0m\u001b[0margs\u001b[0m\u001b[0;34m,\u001b[0m \u001b[0;34m**\u001b[0m\u001b[0mkwargs\u001b[0m\u001b[0;34m)\u001b[0m\u001b[0;34m\u001b[0m\u001b[0;34m\u001b[0m\u001b[0m\n\u001b[0m\u001b[1;32m    231\u001b[0m \u001b[0;34m\u001b[0m\u001b[0m\n",
      "\u001b[0;31mTypeError\u001b[0m: __init__() got an unexpected keyword argument 'ctx'",
      "\nDuring handling of the above exception, another exception occurred:\n",
      "\u001b[0;31mTypeError\u001b[0m                                 Traceback (most recent call last)",
      "\u001b[0;32m/tmp/ipykernel_27348/2740434816.py\u001b[0m in \u001b[0;36m<module>\u001b[0;34m\u001b[0m\n\u001b[1;32m      1\u001b[0m \u001b[0mstart_time\u001b[0m \u001b[0;34m=\u001b[0m \u001b[0mtime\u001b[0m\u001b[0;34m.\u001b[0m\u001b[0mtime\u001b[0m\u001b[0;34m(\u001b[0m\u001b[0;34m)\u001b[0m\u001b[0;34m\u001b[0m\u001b[0;34m\u001b[0m\u001b[0m\n\u001b[0;32m----> 2\u001b[0;31m \u001b[0mdataset\u001b[0m \u001b[0;34m=\u001b[0m \u001b[0mdm\u001b[0m\u001b[0;34m.\u001b[0m\u001b[0mDataset\u001b[0m\u001b[0;34m.\u001b[0m\u001b[0mimport_from\u001b[0m\u001b[0;34m(\u001b[0m\u001b[0;34m'./tests/assets/kitti_dataset/kitti_segmentation'\u001b[0m\u001b[0;34m,\u001b[0m \u001b[0;34m'kitti'\u001b[0m\u001b[0;34m,\u001b[0m \u001b[0msave_hash\u001b[0m\u001b[0;34m=\u001b[0m\u001b[0;32mTrue\u001b[0m\u001b[0;34m)\u001b[0m\u001b[0;34m\u001b[0m\u001b[0;34m\u001b[0m\u001b[0m\n\u001b[0m\u001b[1;32m      3\u001b[0m \u001b[0mprint\u001b[0m\u001b[0;34m(\u001b[0m\u001b[0;34mf'setting dataset time for {len(dataset)} items: '\u001b[0m\u001b[0;34m,\u001b[0m \u001b[0mtime\u001b[0m\u001b[0;34m.\u001b[0m\u001b[0mtime\u001b[0m\u001b[0;34m(\u001b[0m\u001b[0;34m)\u001b[0m\u001b[0;34m-\u001b[0m\u001b[0mstart_time\u001b[0m\u001b[0;34m)\u001b[0m\u001b[0;34m\u001b[0m\u001b[0;34m\u001b[0m\u001b[0m\n\u001b[1;32m      4\u001b[0m \u001b[0mdataset\u001b[0m\u001b[0;34m\u001b[0m\u001b[0;34m\u001b[0m\u001b[0m\n\u001b[1;32m      5\u001b[0m \u001b[0;32mfor\u001b[0m \u001b[0mi\u001b[0m\u001b[0;34m,\u001b[0m \u001b[0mitem\u001b[0m \u001b[0;32min\u001b[0m \u001b[0menumerate\u001b[0m\u001b[0;34m(\u001b[0m\u001b[0mdataset\u001b[0m\u001b[0;34m)\u001b[0m\u001b[0;34m:\u001b[0m\u001b[0;34m\u001b[0m\u001b[0;34m\u001b[0m\u001b[0m\n",
      "\u001b[0;32m~/workspace/datumaro_sa/datumaro/components/dataset.py\u001b[0m in \u001b[0;36mimport_from\u001b[0;34m(cls, path, format, env, progress_reporter, error_policy, save_hash, **kwargs)\u001b[0m\n\u001b[1;32m   1296\u001b[0m \u001b[0;34m\u001b[0m\u001b[0m\n\u001b[1;32m   1297\u001b[0m                     extractors.append(\n\u001b[0;32m-> 1298\u001b[0;31m                         \u001b[0menv\u001b[0m\u001b[0;34m.\u001b[0m\u001b[0mmake_extractor\u001b[0m\u001b[0;34m(\u001b[0m\u001b[0msrc_conf\u001b[0m\u001b[0;34m.\u001b[0m\u001b[0mformat\u001b[0m\u001b[0;34m,\u001b[0m \u001b[0msrc_conf\u001b[0m\u001b[0;34m.\u001b[0m\u001b[0murl\u001b[0m\u001b[0;34m,\u001b[0m \u001b[0;34m**\u001b[0m\u001b[0mextractor_kwargs\u001b[0m\u001b[0;34m)\u001b[0m\u001b[0;34m\u001b[0m\u001b[0;34m\u001b[0m\u001b[0m\n\u001b[0m\u001b[1;32m   1299\u001b[0m                     )\n\u001b[1;32m   1300\u001b[0m \u001b[0;34m\u001b[0m\u001b[0m\n",
      "\u001b[0;32m~/workspace/datumaro_sa/datumaro/components/environment.py\u001b[0m in \u001b[0;36mmake_extractor\u001b[0;34m(self, name, *args, **kwargs)\u001b[0m\n\u001b[1;32m    228\u001b[0m \u001b[0;34m\u001b[0m\u001b[0m\n\u001b[1;32m    229\u001b[0m     \u001b[0;32mdef\u001b[0m \u001b[0mmake_extractor\u001b[0m\u001b[0;34m(\u001b[0m\u001b[0mself\u001b[0m\u001b[0;34m,\u001b[0m \u001b[0mname\u001b[0m\u001b[0;34m,\u001b[0m \u001b[0;34m*\u001b[0m\u001b[0margs\u001b[0m\u001b[0;34m,\u001b[0m \u001b[0;34m**\u001b[0m\u001b[0mkwargs\u001b[0m\u001b[0;34m)\u001b[0m\u001b[0;34m:\u001b[0m\u001b[0;34m\u001b[0m\u001b[0;34m\u001b[0m\u001b[0m\n\u001b[0;32m--> 230\u001b[0;31m         \u001b[0;32mreturn\u001b[0m \u001b[0mself\u001b[0m\u001b[0;34m.\u001b[0m\u001b[0mextractors\u001b[0m\u001b[0;34m.\u001b[0m\u001b[0mget\u001b[0m\u001b[0;34m(\u001b[0m\u001b[0mname\u001b[0m\u001b[0;34m)\u001b[0m\u001b[0;34m(\u001b[0m\u001b[0;34m*\u001b[0m\u001b[0margs\u001b[0m\u001b[0;34m,\u001b[0m \u001b[0;34m**\u001b[0m\u001b[0mkwargs\u001b[0m\u001b[0;34m)\u001b[0m\u001b[0;34m\u001b[0m\u001b[0;34m\u001b[0m\u001b[0m\n\u001b[0m\u001b[1;32m    231\u001b[0m \u001b[0;34m\u001b[0m\u001b[0m\n\u001b[1;32m    232\u001b[0m     \u001b[0;32mdef\u001b[0m \u001b[0mmake_importer\u001b[0m\u001b[0;34m(\u001b[0m\u001b[0mself\u001b[0m\u001b[0;34m,\u001b[0m \u001b[0mname\u001b[0m\u001b[0;34m,\u001b[0m \u001b[0;34m*\u001b[0m\u001b[0margs\u001b[0m\u001b[0;34m,\u001b[0m \u001b[0;34m**\u001b[0m\u001b[0mkwargs\u001b[0m\u001b[0;34m)\u001b[0m\u001b[0;34m:\u001b[0m\u001b[0;34m\u001b[0m\u001b[0;34m\u001b[0m\u001b[0m\n",
      "\u001b[0;32m~/workspace/datumaro_sa/datumaro/plugins/kitti_format/extractor.py\u001b[0m in \u001b[0;36m__init__\u001b[0;34m(self, path, save_hash)\u001b[0m\n\u001b[1;32m    158\u001b[0m \u001b[0;32mclass\u001b[0m \u001b[0mKittiSegmentationExtractor\u001b[0m\u001b[0;34m(\u001b[0m\u001b[0m_KittiExtractor\u001b[0m\u001b[0;34m)\u001b[0m\u001b[0;34m:\u001b[0m\u001b[0;34m\u001b[0m\u001b[0;34m\u001b[0m\u001b[0m\n\u001b[1;32m    159\u001b[0m     \u001b[0;32mdef\u001b[0m \u001b[0m__init__\u001b[0m\u001b[0;34m(\u001b[0m\u001b[0mself\u001b[0m\u001b[0;34m,\u001b[0m \u001b[0mpath\u001b[0m\u001b[0;34m,\u001b[0m \u001b[0msave_hash\u001b[0m\u001b[0;34m=\u001b[0m\u001b[0;32mFalse\u001b[0m\u001b[0;34m)\u001b[0m\u001b[0;34m:\u001b[0m\u001b[0;34m\u001b[0m\u001b[0;34m\u001b[0m\u001b[0m\n\u001b[0;32m--> 160\u001b[0;31m         \u001b[0msuper\u001b[0m\u001b[0;34m(\u001b[0m\u001b[0;34m)\u001b[0m\u001b[0;34m.\u001b[0m\u001b[0m__init__\u001b[0m\u001b[0;34m(\u001b[0m\u001b[0mpath\u001b[0m\u001b[0;34m,\u001b[0m \u001b[0mtask\u001b[0m\u001b[0;34m=\u001b[0m\u001b[0mKittiTask\u001b[0m\u001b[0;34m.\u001b[0m\u001b[0msegmentation\u001b[0m\u001b[0;34m,\u001b[0m \u001b[0msave_hash\u001b[0m\u001b[0;34m=\u001b[0m\u001b[0msave_hash\u001b[0m\u001b[0;34m)\u001b[0m\u001b[0;34m\u001b[0m\u001b[0;34m\u001b[0m\u001b[0m\n\u001b[0m\u001b[1;32m    161\u001b[0m \u001b[0;34m\u001b[0m\u001b[0m\n\u001b[1;32m    162\u001b[0m \u001b[0;34m\u001b[0m\u001b[0m\n",
      "\u001b[0;32m~/workspace/datumaro_sa/datumaro/plugins/kitti_format/extractor.py\u001b[0m in \u001b[0;36m__init__\u001b[0;34m(self, path, task, subset, save_hash)\u001b[0m\n\u001b[1;32m     30\u001b[0m \u001b[0;34m\u001b[0m\u001b[0m\n\u001b[1;32m     31\u001b[0m         \u001b[0mself\u001b[0m\u001b[0;34m.\u001b[0m\u001b[0m_categories\u001b[0m \u001b[0;34m=\u001b[0m \u001b[0mself\u001b[0m\u001b[0;34m.\u001b[0m\u001b[0m_load_categories\u001b[0m\u001b[0;34m(\u001b[0m\u001b[0mosp\u001b[0m\u001b[0;34m.\u001b[0m\u001b[0mdirname\u001b[0m\u001b[0;34m(\u001b[0m\u001b[0mself\u001b[0m\u001b[0;34m.\u001b[0m\u001b[0m_path\u001b[0m\u001b[0;34m)\u001b[0m\u001b[0;34m)\u001b[0m\u001b[0;34m\u001b[0m\u001b[0;34m\u001b[0m\u001b[0m\n\u001b[0;32m---> 32\u001b[0;31m         \u001b[0mself\u001b[0m\u001b[0;34m.\u001b[0m\u001b[0m_items\u001b[0m \u001b[0;34m=\u001b[0m \u001b[0mlist\u001b[0m\u001b[0;34m(\u001b[0m\u001b[0mself\u001b[0m\u001b[0;34m.\u001b[0m\u001b[0m_load_items\u001b[0m\u001b[0;34m(\u001b[0m\u001b[0;34m)\u001b[0m\u001b[0;34m.\u001b[0m\u001b[0mvalues\u001b[0m\u001b[0;34m(\u001b[0m\u001b[0;34m)\u001b[0m\u001b[0;34m)\u001b[0m\u001b[0;34m\u001b[0m\u001b[0;34m\u001b[0m\u001b[0m\n\u001b[0m\u001b[1;32m     33\u001b[0m \u001b[0;34m\u001b[0m\u001b[0m\n\u001b[1;32m     34\u001b[0m     \u001b[0;32mdef\u001b[0m \u001b[0m_load_categories\u001b[0m\u001b[0;34m(\u001b[0m\u001b[0mself\u001b[0m\u001b[0;34m,\u001b[0m \u001b[0mpath\u001b[0m\u001b[0;34m)\u001b[0m\u001b[0;34m:\u001b[0m\u001b[0;34m\u001b[0m\u001b[0;34m\u001b[0m\u001b[0m\n",
      "\u001b[0;32m~/workspace/datumaro_sa/datumaro/plugins/kitti_format/extractor.py\u001b[0m in \u001b[0;36m_load_items\u001b[0;34m(self)\u001b[0m\n\u001b[1;32m     94\u001b[0m \u001b[0;34m\u001b[0m\u001b[0m\n\u001b[1;32m     95\u001b[0m                 items[item_id] = DatasetItem(\n\u001b[0;32m---> 96\u001b[0;31m                     \u001b[0mid\u001b[0m\u001b[0;34m=\u001b[0m\u001b[0mitem_id\u001b[0m\u001b[0;34m,\u001b[0m \u001b[0mannotations\u001b[0m\u001b[0;34m=\u001b[0m\u001b[0manns\u001b[0m\u001b[0;34m,\u001b[0m \u001b[0mmedia\u001b[0m\u001b[0;34m=\u001b[0m\u001b[0mimage\u001b[0m\u001b[0;34m,\u001b[0m \u001b[0msubset\u001b[0m\u001b[0;34m=\u001b[0m\u001b[0mself\u001b[0m\u001b[0;34m.\u001b[0m\u001b[0m_subset\u001b[0m\u001b[0;34m,\u001b[0m \u001b[0msave_hash\u001b[0m\u001b[0;34m=\u001b[0m\u001b[0mself\u001b[0m\u001b[0;34m.\u001b[0m\u001b[0m_save_hash\u001b[0m\u001b[0;34m\u001b[0m\u001b[0;34m\u001b[0m\u001b[0m\n\u001b[0m\u001b[1;32m     97\u001b[0m                 )\n\u001b[1;32m     98\u001b[0m \u001b[0;34m\u001b[0m\u001b[0m\n",
      "\u001b[0;32m~/workspace/datumaro_sa/datumaro/components/extractor.py\u001b[0m in \u001b[0;36m__init__\u001b[0;34m(self, id, subset, media, annotations, attributes, save_hash, image, point_cloud, related_images, hash_key)\u001b[0m\n\u001b[1;32m    119\u001b[0m \u001b[0;34m\u001b[0m\u001b[0m\n\u001b[1;32m    120\u001b[0m         \u001b[0;32mif\u001b[0m \u001b[0msave_hash\u001b[0m\u001b[0;34m:\u001b[0m\u001b[0;34m\u001b[0m\u001b[0;34m\u001b[0m\u001b[0m\n\u001b[0;32m--> 121\u001b[0;31m             \u001b[0mhash_key\u001b[0m \u001b[0;34m=\u001b[0m \u001b[0minference\u001b[0m\u001b[0;34m(\u001b[0m\u001b[0mmedia\u001b[0m\u001b[0;34m)\u001b[0m\u001b[0;34m\u001b[0m\u001b[0;34m\u001b[0m\u001b[0m\n\u001b[0m\u001b[1;32m    122\u001b[0m \u001b[0;34m\u001b[0m\u001b[0m\n\u001b[1;32m    123\u001b[0m         self.__attrs_init__(\n",
      "\u001b[0;32m~/workspace/datumaro_sa/datumaro/components/model_inference.py\u001b[0m in \u001b[0;36minference\u001b[0;34m(item)\u001b[0m\n\u001b[1;32m    613\u001b[0m \u001b[0;32mdef\u001b[0m \u001b[0minference\u001b[0m\u001b[0;34m(\u001b[0m\u001b[0mitem\u001b[0m\u001b[0;34m)\u001b[0m\u001b[0;34m:\u001b[0m\u001b[0;34m\u001b[0m\u001b[0;34m\u001b[0m\u001b[0m\n\u001b[1;32m    614\u001b[0m     \u001b[0;32massert\u001b[0m \u001b[0;32mnot\u001b[0m \u001b[0misinstance\u001b[0m\u001b[0;34m(\u001b[0m\u001b[0mitem\u001b[0m\u001b[0;34m,\u001b[0m \u001b[0mVideo\u001b[0m\u001b[0;34m)\u001b[0m \u001b[0;32mand\u001b[0m \u001b[0;32mnot\u001b[0m \u001b[0misinstance\u001b[0m\u001b[0;34m(\u001b[0m\u001b[0mitem\u001b[0m\u001b[0;34m,\u001b[0m \u001b[0mPointCloud\u001b[0m\u001b[0;34m)\u001b[0m\u001b[0;34m,\u001b[0m \u001b[0;34mf\"Media type should be Image, Current type={type(item)}\"\u001b[0m\u001b[0;34m\u001b[0m\u001b[0;34m\u001b[0m\u001b[0m\n\u001b[0;32m--> 615\u001b[0;31m     \u001b[0;32massert\u001b[0m \u001b[0;32mnot\u001b[0m \u001b[0misinstance\u001b[0m\u001b[0;34m(\u001b[0m\u001b[0mitem\u001b[0m\u001b[0;34m,\u001b[0m \u001b[0mImage\u001b[0m\u001b[0;34m)\u001b[0m\u001b[0;34m,\u001b[0m \u001b[0;34mf\"Media type should be Image, Current type={type(item)}\"\u001b[0m\u001b[0;34m\u001b[0m\u001b[0;34m\u001b[0m\u001b[0m\n\u001b[0m\u001b[1;32m    616\u001b[0m \u001b[0;34m\u001b[0m\u001b[0m\n\u001b[1;32m    617\u001b[0m     \u001b[0;32mif\u001b[0m \u001b[0misinstance\u001b[0m\u001b[0;34m(\u001b[0m\u001b[0mitem\u001b[0m\u001b[0;34m.\u001b[0m\u001b[0mdata\u001b[0m\u001b[0;34m,\u001b[0m \u001b[0mtype\u001b[0m\u001b[0;34m(\u001b[0m\u001b[0;32mNone\u001b[0m\u001b[0;34m)\u001b[0m\u001b[0;34m)\u001b[0m\u001b[0;34m:\u001b[0m\u001b[0;34m\u001b[0m\u001b[0;34m\u001b[0m\u001b[0m\n",
      "\u001b[0;31mTypeError\u001b[0m: isinstance() arg 2 must be a type or tuple of types"
     ]
    }
   ],
   "source": [
    "start_time = time.time()\n",
    "dataset = dm.Dataset.import_from('./tests/assets/kitti_dataset/kitti_segmentation', 'kitti', save_hash=True)\n",
    "print(f'setting dataset time for {len(dataset)} items: ', time.time()-start_time)\n",
    "dataset\n",
    "for i, item in enumerate(dataset):\n",
    "    print(item)"
   ]
  },
  {
   "cell_type": "code",
   "execution_count": 4,
   "id": "bdfc6ddd",
   "metadata": {},
   "outputs": [
    {
     "ename": "TypeError",
     "evalue": "isinstance() arg 2 must be a type or tuple of types",
     "output_type": "error",
     "traceback": [
      "\u001b[0;31m---------------------------------------------------------------------------\u001b[0m",
      "\u001b[0;31mTypeError\u001b[0m                                 Traceback (most recent call last)",
      "\u001b[0;32m~/workspace/datumaro_sa/datumaro/components/dataset.py\u001b[0m in \u001b[0;36mimport_from\u001b[0;34m(cls, path, format, env, progress_reporter, error_policy, save_hash, **kwargs)\u001b[0m\n\u001b[1;32m   1280\u001b[0m                     extractors.append(\n\u001b[0;32m-> 1281\u001b[0;31m                         \u001b[0menv\u001b[0m\u001b[0;34m.\u001b[0m\u001b[0mmake_extractor\u001b[0m\u001b[0;34m(\u001b[0m\u001b[0msrc_conf\u001b[0m\u001b[0;34m.\u001b[0m\u001b[0mformat\u001b[0m\u001b[0;34m,\u001b[0m \u001b[0msrc_conf\u001b[0m\u001b[0;34m.\u001b[0m\u001b[0murl\u001b[0m\u001b[0;34m,\u001b[0m \u001b[0;34m**\u001b[0m\u001b[0mextractor_kwargs\u001b[0m\u001b[0;34m)\u001b[0m\u001b[0;34m\u001b[0m\u001b[0;34m\u001b[0m\u001b[0m\n\u001b[0m\u001b[1;32m   1282\u001b[0m                     )\n",
      "\u001b[0;32m~/workspace/datumaro_sa/datumaro/components/environment.py\u001b[0m in \u001b[0;36mmake_extractor\u001b[0;34m(self, name, *args, **kwargs)\u001b[0m\n\u001b[1;32m    229\u001b[0m     \u001b[0;32mdef\u001b[0m \u001b[0mmake_extractor\u001b[0m\u001b[0;34m(\u001b[0m\u001b[0mself\u001b[0m\u001b[0;34m,\u001b[0m \u001b[0mname\u001b[0m\u001b[0;34m,\u001b[0m \u001b[0;34m*\u001b[0m\u001b[0margs\u001b[0m\u001b[0;34m,\u001b[0m \u001b[0;34m**\u001b[0m\u001b[0mkwargs\u001b[0m\u001b[0;34m)\u001b[0m\u001b[0;34m:\u001b[0m\u001b[0;34m\u001b[0m\u001b[0;34m\u001b[0m\u001b[0m\n\u001b[0;32m--> 230\u001b[0;31m         \u001b[0;32mreturn\u001b[0m \u001b[0mself\u001b[0m\u001b[0;34m.\u001b[0m\u001b[0mextractors\u001b[0m\u001b[0;34m.\u001b[0m\u001b[0mget\u001b[0m\u001b[0;34m(\u001b[0m\u001b[0mname\u001b[0m\u001b[0;34m)\u001b[0m\u001b[0;34m(\u001b[0m\u001b[0;34m*\u001b[0m\u001b[0margs\u001b[0m\u001b[0;34m,\u001b[0m \u001b[0;34m**\u001b[0m\u001b[0mkwargs\u001b[0m\u001b[0;34m)\u001b[0m\u001b[0;34m\u001b[0m\u001b[0;34m\u001b[0m\u001b[0m\n\u001b[0m\u001b[1;32m    231\u001b[0m \u001b[0;34m\u001b[0m\u001b[0m\n",
      "\u001b[0;31mTypeError\u001b[0m: __init__() got an unexpected keyword argument 'ctx'",
      "\nDuring handling of the above exception, another exception occurred:\n",
      "\u001b[0;31mTypeError\u001b[0m                                 Traceback (most recent call last)",
      "\u001b[0;32m/tmp/ipykernel_27348/1078985924.py\u001b[0m in \u001b[0;36m<module>\u001b[0;34m\u001b[0m\n\u001b[1;32m      1\u001b[0m \u001b[0mstart_time\u001b[0m \u001b[0;34m=\u001b[0m \u001b[0mtime\u001b[0m\u001b[0;34m.\u001b[0m\u001b[0mtime\u001b[0m\u001b[0;34m(\u001b[0m\u001b[0;34m)\u001b[0m\u001b[0;34m\u001b[0m\u001b[0;34m\u001b[0m\u001b[0m\n\u001b[0;32m----> 2\u001b[0;31m \u001b[0mdataset\u001b[0m \u001b[0;34m=\u001b[0m \u001b[0mdm\u001b[0m\u001b[0;34m.\u001b[0m\u001b[0mDataset\u001b[0m\u001b[0;34m.\u001b[0m\u001b[0mimport_from\u001b[0m\u001b[0;34m(\u001b[0m\u001b[0;34m'./tests/assets/kitti_dataset/kitti_detection'\u001b[0m\u001b[0;34m,\u001b[0m \u001b[0;34m'kitti'\u001b[0m\u001b[0;34m,\u001b[0m \u001b[0msave_hash\u001b[0m\u001b[0;34m=\u001b[0m\u001b[0;32mTrue\u001b[0m\u001b[0;34m)\u001b[0m\u001b[0;34m\u001b[0m\u001b[0;34m\u001b[0m\u001b[0m\n\u001b[0m\u001b[1;32m      3\u001b[0m \u001b[0mprint\u001b[0m\u001b[0;34m(\u001b[0m\u001b[0;34mf'setting dataset time for {len(dataset)} items: '\u001b[0m\u001b[0;34m,\u001b[0m \u001b[0mtime\u001b[0m\u001b[0;34m.\u001b[0m\u001b[0mtime\u001b[0m\u001b[0;34m(\u001b[0m\u001b[0;34m)\u001b[0m\u001b[0;34m-\u001b[0m\u001b[0mstart_time\u001b[0m\u001b[0;34m)\u001b[0m\u001b[0;34m\u001b[0m\u001b[0;34m\u001b[0m\u001b[0m\n\u001b[1;32m      4\u001b[0m \u001b[0mdataset\u001b[0m\u001b[0;34m\u001b[0m\u001b[0;34m\u001b[0m\u001b[0m\n\u001b[1;32m      5\u001b[0m \u001b[0;32mfor\u001b[0m \u001b[0mi\u001b[0m\u001b[0;34m,\u001b[0m \u001b[0mitem\u001b[0m \u001b[0;32min\u001b[0m \u001b[0menumerate\u001b[0m\u001b[0;34m(\u001b[0m\u001b[0mdataset\u001b[0m\u001b[0;34m)\u001b[0m\u001b[0;34m:\u001b[0m\u001b[0;34m\u001b[0m\u001b[0;34m\u001b[0m\u001b[0m\n",
      "\u001b[0;32m~/workspace/datumaro_sa/datumaro/components/dataset.py\u001b[0m in \u001b[0;36mimport_from\u001b[0;34m(cls, path, format, env, progress_reporter, error_policy, save_hash, **kwargs)\u001b[0m\n\u001b[1;32m   1296\u001b[0m \u001b[0;34m\u001b[0m\u001b[0m\n\u001b[1;32m   1297\u001b[0m                     extractors.append(\n\u001b[0;32m-> 1298\u001b[0;31m                         \u001b[0menv\u001b[0m\u001b[0;34m.\u001b[0m\u001b[0mmake_extractor\u001b[0m\u001b[0;34m(\u001b[0m\u001b[0msrc_conf\u001b[0m\u001b[0;34m.\u001b[0m\u001b[0mformat\u001b[0m\u001b[0;34m,\u001b[0m \u001b[0msrc_conf\u001b[0m\u001b[0;34m.\u001b[0m\u001b[0murl\u001b[0m\u001b[0;34m,\u001b[0m \u001b[0;34m**\u001b[0m\u001b[0mextractor_kwargs\u001b[0m\u001b[0;34m)\u001b[0m\u001b[0;34m\u001b[0m\u001b[0;34m\u001b[0m\u001b[0m\n\u001b[0m\u001b[1;32m   1299\u001b[0m                     )\n\u001b[1;32m   1300\u001b[0m \u001b[0;34m\u001b[0m\u001b[0m\n",
      "\u001b[0;32m~/workspace/datumaro_sa/datumaro/components/environment.py\u001b[0m in \u001b[0;36mmake_extractor\u001b[0;34m(self, name, *args, **kwargs)\u001b[0m\n\u001b[1;32m    228\u001b[0m \u001b[0;34m\u001b[0m\u001b[0m\n\u001b[1;32m    229\u001b[0m     \u001b[0;32mdef\u001b[0m \u001b[0mmake_extractor\u001b[0m\u001b[0;34m(\u001b[0m\u001b[0mself\u001b[0m\u001b[0;34m,\u001b[0m \u001b[0mname\u001b[0m\u001b[0;34m,\u001b[0m \u001b[0;34m*\u001b[0m\u001b[0margs\u001b[0m\u001b[0;34m,\u001b[0m \u001b[0;34m**\u001b[0m\u001b[0mkwargs\u001b[0m\u001b[0;34m)\u001b[0m\u001b[0;34m:\u001b[0m\u001b[0;34m\u001b[0m\u001b[0;34m\u001b[0m\u001b[0m\n\u001b[0;32m--> 230\u001b[0;31m         \u001b[0;32mreturn\u001b[0m \u001b[0mself\u001b[0m\u001b[0;34m.\u001b[0m\u001b[0mextractors\u001b[0m\u001b[0;34m.\u001b[0m\u001b[0mget\u001b[0m\u001b[0;34m(\u001b[0m\u001b[0mname\u001b[0m\u001b[0;34m)\u001b[0m\u001b[0;34m(\u001b[0m\u001b[0;34m*\u001b[0m\u001b[0margs\u001b[0m\u001b[0;34m,\u001b[0m \u001b[0;34m**\u001b[0m\u001b[0mkwargs\u001b[0m\u001b[0;34m)\u001b[0m\u001b[0;34m\u001b[0m\u001b[0;34m\u001b[0m\u001b[0m\n\u001b[0m\u001b[1;32m    231\u001b[0m \u001b[0;34m\u001b[0m\u001b[0m\n\u001b[1;32m    232\u001b[0m     \u001b[0;32mdef\u001b[0m \u001b[0mmake_importer\u001b[0m\u001b[0;34m(\u001b[0m\u001b[0mself\u001b[0m\u001b[0;34m,\u001b[0m \u001b[0mname\u001b[0m\u001b[0;34m,\u001b[0m \u001b[0;34m*\u001b[0m\u001b[0margs\u001b[0m\u001b[0;34m,\u001b[0m \u001b[0;34m**\u001b[0m\u001b[0mkwargs\u001b[0m\u001b[0;34m)\u001b[0m\u001b[0;34m:\u001b[0m\u001b[0;34m\u001b[0m\u001b[0;34m\u001b[0m\u001b[0m\n",
      "\u001b[0;32m~/workspace/datumaro_sa/datumaro/plugins/kitti_format/extractor.py\u001b[0m in \u001b[0;36m__init__\u001b[0;34m(self, path, save_hash)\u001b[0m\n\u001b[1;32m    163\u001b[0m \u001b[0;32mclass\u001b[0m \u001b[0mKittiDetectionExtractor\u001b[0m\u001b[0;34m(\u001b[0m\u001b[0m_KittiExtractor\u001b[0m\u001b[0;34m)\u001b[0m\u001b[0;34m:\u001b[0m\u001b[0;34m\u001b[0m\u001b[0;34m\u001b[0m\u001b[0m\n\u001b[1;32m    164\u001b[0m     \u001b[0;32mdef\u001b[0m \u001b[0m__init__\u001b[0m\u001b[0;34m(\u001b[0m\u001b[0mself\u001b[0m\u001b[0;34m,\u001b[0m \u001b[0mpath\u001b[0m\u001b[0;34m,\u001b[0m \u001b[0msave_hash\u001b[0m\u001b[0;34m=\u001b[0m\u001b[0;32mFalse\u001b[0m\u001b[0;34m)\u001b[0m\u001b[0;34m:\u001b[0m\u001b[0;34m\u001b[0m\u001b[0;34m\u001b[0m\u001b[0m\n\u001b[0;32m--> 165\u001b[0;31m         \u001b[0msuper\u001b[0m\u001b[0;34m(\u001b[0m\u001b[0;34m)\u001b[0m\u001b[0;34m.\u001b[0m\u001b[0m__init__\u001b[0m\u001b[0;34m(\u001b[0m\u001b[0mpath\u001b[0m\u001b[0;34m,\u001b[0m \u001b[0mtask\u001b[0m\u001b[0;34m=\u001b[0m\u001b[0mKittiTask\u001b[0m\u001b[0;34m.\u001b[0m\u001b[0mdetection\u001b[0m\u001b[0;34m,\u001b[0m \u001b[0msave_hash\u001b[0m\u001b[0;34m=\u001b[0m\u001b[0msave_hash\u001b[0m\u001b[0;34m)\u001b[0m\u001b[0;34m\u001b[0m\u001b[0;34m\u001b[0m\u001b[0m\n\u001b[0m",
      "\u001b[0;32m~/workspace/datumaro_sa/datumaro/plugins/kitti_format/extractor.py\u001b[0m in \u001b[0;36m__init__\u001b[0;34m(self, path, task, subset, save_hash)\u001b[0m\n\u001b[1;32m     30\u001b[0m \u001b[0;34m\u001b[0m\u001b[0m\n\u001b[1;32m     31\u001b[0m         \u001b[0mself\u001b[0m\u001b[0;34m.\u001b[0m\u001b[0m_categories\u001b[0m \u001b[0;34m=\u001b[0m \u001b[0mself\u001b[0m\u001b[0;34m.\u001b[0m\u001b[0m_load_categories\u001b[0m\u001b[0;34m(\u001b[0m\u001b[0mosp\u001b[0m\u001b[0;34m.\u001b[0m\u001b[0mdirname\u001b[0m\u001b[0;34m(\u001b[0m\u001b[0mself\u001b[0m\u001b[0;34m.\u001b[0m\u001b[0m_path\u001b[0m\u001b[0;34m)\u001b[0m\u001b[0;34m)\u001b[0m\u001b[0;34m\u001b[0m\u001b[0;34m\u001b[0m\u001b[0m\n\u001b[0;32m---> 32\u001b[0;31m         \u001b[0mself\u001b[0m\u001b[0;34m.\u001b[0m\u001b[0m_items\u001b[0m \u001b[0;34m=\u001b[0m \u001b[0mlist\u001b[0m\u001b[0;34m(\u001b[0m\u001b[0mself\u001b[0m\u001b[0;34m.\u001b[0m\u001b[0m_load_items\u001b[0m\u001b[0;34m(\u001b[0m\u001b[0;34m)\u001b[0m\u001b[0;34m.\u001b[0m\u001b[0mvalues\u001b[0m\u001b[0;34m(\u001b[0m\u001b[0;34m)\u001b[0m\u001b[0;34m)\u001b[0m\u001b[0;34m\u001b[0m\u001b[0;34m\u001b[0m\u001b[0m\n\u001b[0m\u001b[1;32m     33\u001b[0m \u001b[0;34m\u001b[0m\u001b[0m\n\u001b[1;32m     34\u001b[0m     \u001b[0;32mdef\u001b[0m \u001b[0m_load_categories\u001b[0m\u001b[0;34m(\u001b[0m\u001b[0mself\u001b[0m\u001b[0;34m,\u001b[0m \u001b[0mpath\u001b[0m\u001b[0;34m)\u001b[0m\u001b[0;34m:\u001b[0m\u001b[0;34m\u001b[0m\u001b[0;34m\u001b[0m\u001b[0m\n",
      "\u001b[0;32m~/workspace/datumaro_sa/datumaro/plugins/kitti_format/extractor.py\u001b[0m in \u001b[0;36m_load_items\u001b[0;34m(self)\u001b[0m\n\u001b[1;32m    141\u001b[0m \u001b[0;34m\u001b[0m\u001b[0m\n\u001b[1;32m    142\u001b[0m                 items[item_id] = DatasetItem(\n\u001b[0;32m--> 143\u001b[0;31m                     \u001b[0mid\u001b[0m\u001b[0;34m=\u001b[0m\u001b[0mitem_id\u001b[0m\u001b[0;34m,\u001b[0m \u001b[0mannotations\u001b[0m\u001b[0;34m=\u001b[0m\u001b[0manns\u001b[0m\u001b[0;34m,\u001b[0m \u001b[0mmedia\u001b[0m\u001b[0;34m=\u001b[0m\u001b[0mimage\u001b[0m\u001b[0;34m,\u001b[0m \u001b[0msubset\u001b[0m\u001b[0;34m=\u001b[0m\u001b[0mself\u001b[0m\u001b[0;34m.\u001b[0m\u001b[0m_subset\u001b[0m\u001b[0;34m,\u001b[0m \u001b[0msave_hash\u001b[0m\u001b[0;34m=\u001b[0m\u001b[0mself\u001b[0m\u001b[0;34m.\u001b[0m\u001b[0m_save_hash\u001b[0m\u001b[0;34m\u001b[0m\u001b[0;34m\u001b[0m\u001b[0m\n\u001b[0m\u001b[1;32m    144\u001b[0m                 )\n\u001b[1;32m    145\u001b[0m \u001b[0;34m\u001b[0m\u001b[0m\n",
      "\u001b[0;32m~/workspace/datumaro_sa/datumaro/components/extractor.py\u001b[0m in \u001b[0;36m__init__\u001b[0;34m(self, id, subset, media, annotations, attributes, save_hash, image, point_cloud, related_images, hash_key)\u001b[0m\n\u001b[1;32m    119\u001b[0m \u001b[0;34m\u001b[0m\u001b[0m\n\u001b[1;32m    120\u001b[0m         \u001b[0;32mif\u001b[0m \u001b[0msave_hash\u001b[0m\u001b[0;34m:\u001b[0m\u001b[0;34m\u001b[0m\u001b[0;34m\u001b[0m\u001b[0m\n\u001b[0;32m--> 121\u001b[0;31m             \u001b[0mhash_key\u001b[0m \u001b[0;34m=\u001b[0m \u001b[0minference\u001b[0m\u001b[0;34m(\u001b[0m\u001b[0mmedia\u001b[0m\u001b[0;34m)\u001b[0m\u001b[0;34m\u001b[0m\u001b[0;34m\u001b[0m\u001b[0m\n\u001b[0m\u001b[1;32m    122\u001b[0m \u001b[0;34m\u001b[0m\u001b[0m\n\u001b[1;32m    123\u001b[0m         self.__attrs_init__(\n",
      "\u001b[0;32m~/workspace/datumaro_sa/datumaro/components/model_inference.py\u001b[0m in \u001b[0;36minference\u001b[0;34m(item)\u001b[0m\n\u001b[1;32m    613\u001b[0m \u001b[0;32mdef\u001b[0m \u001b[0minference\u001b[0m\u001b[0;34m(\u001b[0m\u001b[0mitem\u001b[0m\u001b[0;34m)\u001b[0m\u001b[0;34m:\u001b[0m\u001b[0;34m\u001b[0m\u001b[0;34m\u001b[0m\u001b[0m\n\u001b[1;32m    614\u001b[0m     \u001b[0;32massert\u001b[0m \u001b[0;32mnot\u001b[0m \u001b[0misinstance\u001b[0m\u001b[0;34m(\u001b[0m\u001b[0mitem\u001b[0m\u001b[0;34m,\u001b[0m \u001b[0mVideo\u001b[0m\u001b[0;34m)\u001b[0m \u001b[0;32mand\u001b[0m \u001b[0;32mnot\u001b[0m \u001b[0misinstance\u001b[0m\u001b[0;34m(\u001b[0m\u001b[0mitem\u001b[0m\u001b[0;34m,\u001b[0m \u001b[0mPointCloud\u001b[0m\u001b[0;34m)\u001b[0m\u001b[0;34m,\u001b[0m \u001b[0;34mf\"Media type should be Image, Current type={type(item)}\"\u001b[0m\u001b[0;34m\u001b[0m\u001b[0;34m\u001b[0m\u001b[0m\n\u001b[0;32m--> 615\u001b[0;31m     \u001b[0;32massert\u001b[0m \u001b[0;32mnot\u001b[0m \u001b[0misinstance\u001b[0m\u001b[0;34m(\u001b[0m\u001b[0mitem\u001b[0m\u001b[0;34m,\u001b[0m \u001b[0mImage\u001b[0m\u001b[0;34m)\u001b[0m\u001b[0;34m,\u001b[0m \u001b[0;34mf\"Media type should be Image, Current type={type(item)}\"\u001b[0m\u001b[0;34m\u001b[0m\u001b[0;34m\u001b[0m\u001b[0m\n\u001b[0m\u001b[1;32m    616\u001b[0m \u001b[0;34m\u001b[0m\u001b[0m\n\u001b[1;32m    617\u001b[0m     \u001b[0;32mif\u001b[0m \u001b[0misinstance\u001b[0m\u001b[0;34m(\u001b[0m\u001b[0mitem\u001b[0m\u001b[0;34m.\u001b[0m\u001b[0mdata\u001b[0m\u001b[0;34m,\u001b[0m \u001b[0mtype\u001b[0m\u001b[0;34m(\u001b[0m\u001b[0;32mNone\u001b[0m\u001b[0;34m)\u001b[0m\u001b[0;34m)\u001b[0m\u001b[0;34m:\u001b[0m\u001b[0;34m\u001b[0m\u001b[0;34m\u001b[0m\u001b[0m\n",
      "\u001b[0;31mTypeError\u001b[0m: isinstance() arg 2 must be a type or tuple of types"
     ]
    }
   ],
   "source": [
    "start_time = time.time()\n",
    "dataset = dm.Dataset.import_from('./tests/assets/kitti_dataset/kitti_detection', 'kitti', save_hash=True)\n",
    "print(f'setting dataset time for {len(dataset)} items: ', time.time()-start_time)\n",
    "dataset\n",
    "for i, item in enumerate(dataset):\n",
    "    print(item)"
   ]
  },
  {
   "cell_type": "markdown",
   "id": "4e935be4",
   "metadata": {},
   "source": [
    "## kitti_raw"
   ]
  },
  {
   "cell_type": "code",
   "execution_count": 4,
   "id": "802c6a69",
   "metadata": {},
   "outputs": [
    {
     "ename": "AssertionError",
     "evalue": "Media type should be Image, Current type=<class 'datumaro.components.media.PointCloud'>",
     "output_type": "error",
     "traceback": [
      "\u001b[0;31m---------------------------------------------------------------------------\u001b[0m",
      "\u001b[0;31mTypeError\u001b[0m                                 Traceback (most recent call last)",
      "\u001b[0;32m~/workspace/datumaro_sa/datumaro/components/dataset.py\u001b[0m in \u001b[0;36mimport_from\u001b[0;34m(cls, path, format, env, progress_reporter, error_policy, save_hash, **kwargs)\u001b[0m\n\u001b[1;32m   1280\u001b[0m                     extractors.append(\n\u001b[0;32m-> 1281\u001b[0;31m                         \u001b[0menv\u001b[0m\u001b[0;34m.\u001b[0m\u001b[0mmake_extractor\u001b[0m\u001b[0;34m(\u001b[0m\u001b[0msrc_conf\u001b[0m\u001b[0;34m.\u001b[0m\u001b[0mformat\u001b[0m\u001b[0;34m,\u001b[0m \u001b[0msrc_conf\u001b[0m\u001b[0;34m.\u001b[0m\u001b[0murl\u001b[0m\u001b[0;34m,\u001b[0m \u001b[0;34m**\u001b[0m\u001b[0mextractor_kwargs\u001b[0m\u001b[0;34m)\u001b[0m\u001b[0;34m\u001b[0m\u001b[0;34m\u001b[0m\u001b[0m\n\u001b[0m\u001b[1;32m   1282\u001b[0m                     )\n",
      "\u001b[0;32m~/workspace/datumaro_sa/datumaro/components/environment.py\u001b[0m in \u001b[0;36mmake_extractor\u001b[0;34m(self, name, *args, **kwargs)\u001b[0m\n\u001b[1;32m    229\u001b[0m     \u001b[0;32mdef\u001b[0m \u001b[0mmake_extractor\u001b[0m\u001b[0;34m(\u001b[0m\u001b[0mself\u001b[0m\u001b[0;34m,\u001b[0m \u001b[0mname\u001b[0m\u001b[0;34m,\u001b[0m \u001b[0;34m*\u001b[0m\u001b[0margs\u001b[0m\u001b[0;34m,\u001b[0m \u001b[0;34m**\u001b[0m\u001b[0mkwargs\u001b[0m\u001b[0;34m)\u001b[0m\u001b[0;34m:\u001b[0m\u001b[0;34m\u001b[0m\u001b[0;34m\u001b[0m\u001b[0m\n\u001b[0;32m--> 230\u001b[0;31m         \u001b[0;32mreturn\u001b[0m \u001b[0mself\u001b[0m\u001b[0;34m.\u001b[0m\u001b[0mextractors\u001b[0m\u001b[0;34m.\u001b[0m\u001b[0mget\u001b[0m\u001b[0;34m(\u001b[0m\u001b[0mname\u001b[0m\u001b[0;34m)\u001b[0m\u001b[0;34m(\u001b[0m\u001b[0;34m*\u001b[0m\u001b[0margs\u001b[0m\u001b[0;34m,\u001b[0m \u001b[0;34m**\u001b[0m\u001b[0mkwargs\u001b[0m\u001b[0;34m)\u001b[0m\u001b[0;34m\u001b[0m\u001b[0;34m\u001b[0m\u001b[0m\n\u001b[0m\u001b[1;32m    231\u001b[0m \u001b[0;34m\u001b[0m\u001b[0m\n",
      "\u001b[0;31mTypeError\u001b[0m: __init__() got an unexpected keyword argument 'ctx'",
      "\nDuring handling of the above exception, another exception occurred:\n",
      "\u001b[0;31mAssertionError\u001b[0m                            Traceback (most recent call last)",
      "\u001b[0;32m/tmp/ipykernel_29389/4250895615.py\u001b[0m in \u001b[0;36m<module>\u001b[0;34m\u001b[0m\n\u001b[1;32m      1\u001b[0m \u001b[0mstart_time\u001b[0m \u001b[0;34m=\u001b[0m \u001b[0mtime\u001b[0m\u001b[0;34m.\u001b[0m\u001b[0mtime\u001b[0m\u001b[0;34m(\u001b[0m\u001b[0;34m)\u001b[0m\u001b[0;34m\u001b[0m\u001b[0;34m\u001b[0m\u001b[0m\n\u001b[0;32m----> 2\u001b[0;31m \u001b[0mdataset\u001b[0m \u001b[0;34m=\u001b[0m \u001b[0mdm\u001b[0m\u001b[0;34m.\u001b[0m\u001b[0mDataset\u001b[0m\u001b[0;34m.\u001b[0m\u001b[0mimport_from\u001b[0m\u001b[0;34m(\u001b[0m\u001b[0;34m'./tests/assets/kitti_dataset/kitti_raw'\u001b[0m\u001b[0;34m,\u001b[0m \u001b[0;34m'kitti_raw'\u001b[0m\u001b[0;34m,\u001b[0m \u001b[0msave_hash\u001b[0m\u001b[0;34m=\u001b[0m\u001b[0;32mTrue\u001b[0m\u001b[0;34m)\u001b[0m\u001b[0;34m\u001b[0m\u001b[0;34m\u001b[0m\u001b[0m\n\u001b[0m\u001b[1;32m      3\u001b[0m \u001b[0mprint\u001b[0m\u001b[0;34m(\u001b[0m\u001b[0;34mf'setting dataset time for {len(dataset)} items: '\u001b[0m\u001b[0;34m,\u001b[0m \u001b[0mtime\u001b[0m\u001b[0;34m.\u001b[0m\u001b[0mtime\u001b[0m\u001b[0;34m(\u001b[0m\u001b[0;34m)\u001b[0m\u001b[0;34m-\u001b[0m\u001b[0mstart_time\u001b[0m\u001b[0;34m)\u001b[0m\u001b[0;34m\u001b[0m\u001b[0;34m\u001b[0m\u001b[0m\n\u001b[1;32m      4\u001b[0m \u001b[0mdataset\u001b[0m\u001b[0;34m\u001b[0m\u001b[0;34m\u001b[0m\u001b[0m\n\u001b[1;32m      5\u001b[0m \u001b[0;32mfor\u001b[0m \u001b[0mi\u001b[0m\u001b[0;34m,\u001b[0m \u001b[0mitem\u001b[0m \u001b[0;32min\u001b[0m \u001b[0menumerate\u001b[0m\u001b[0;34m(\u001b[0m\u001b[0mdataset\u001b[0m\u001b[0;34m)\u001b[0m\u001b[0;34m:\u001b[0m\u001b[0;34m\u001b[0m\u001b[0;34m\u001b[0m\u001b[0m\n",
      "\u001b[0;32m~/workspace/datumaro_sa/datumaro/components/dataset.py\u001b[0m in \u001b[0;36mimport_from\u001b[0;34m(cls, path, format, env, progress_reporter, error_policy, save_hash, **kwargs)\u001b[0m\n\u001b[1;32m   1296\u001b[0m \u001b[0;34m\u001b[0m\u001b[0m\n\u001b[1;32m   1297\u001b[0m                     extractors.append(\n\u001b[0;32m-> 1298\u001b[0;31m                         \u001b[0menv\u001b[0m\u001b[0;34m.\u001b[0m\u001b[0mmake_extractor\u001b[0m\u001b[0;34m(\u001b[0m\u001b[0msrc_conf\u001b[0m\u001b[0;34m.\u001b[0m\u001b[0mformat\u001b[0m\u001b[0;34m,\u001b[0m \u001b[0msrc_conf\u001b[0m\u001b[0;34m.\u001b[0m\u001b[0murl\u001b[0m\u001b[0;34m,\u001b[0m \u001b[0;34m**\u001b[0m\u001b[0mextractor_kwargs\u001b[0m\u001b[0;34m)\u001b[0m\u001b[0;34m\u001b[0m\u001b[0;34m\u001b[0m\u001b[0m\n\u001b[0m\u001b[1;32m   1299\u001b[0m                     )\n\u001b[1;32m   1300\u001b[0m \u001b[0;34m\u001b[0m\u001b[0m\n",
      "\u001b[0;32m~/workspace/datumaro_sa/datumaro/components/environment.py\u001b[0m in \u001b[0;36mmake_extractor\u001b[0;34m(self, name, *args, **kwargs)\u001b[0m\n\u001b[1;32m    228\u001b[0m \u001b[0;34m\u001b[0m\u001b[0m\n\u001b[1;32m    229\u001b[0m     \u001b[0;32mdef\u001b[0m \u001b[0mmake_extractor\u001b[0m\u001b[0;34m(\u001b[0m\u001b[0mself\u001b[0m\u001b[0;34m,\u001b[0m \u001b[0mname\u001b[0m\u001b[0;34m,\u001b[0m \u001b[0;34m*\u001b[0m\u001b[0margs\u001b[0m\u001b[0;34m,\u001b[0m \u001b[0;34m**\u001b[0m\u001b[0mkwargs\u001b[0m\u001b[0;34m)\u001b[0m\u001b[0;34m:\u001b[0m\u001b[0;34m\u001b[0m\u001b[0;34m\u001b[0m\u001b[0m\n\u001b[0;32m--> 230\u001b[0;31m         \u001b[0;32mreturn\u001b[0m \u001b[0mself\u001b[0m\u001b[0;34m.\u001b[0m\u001b[0mextractors\u001b[0m\u001b[0;34m.\u001b[0m\u001b[0mget\u001b[0m\u001b[0;34m(\u001b[0m\u001b[0mname\u001b[0m\u001b[0;34m)\u001b[0m\u001b[0;34m(\u001b[0m\u001b[0;34m*\u001b[0m\u001b[0margs\u001b[0m\u001b[0;34m,\u001b[0m \u001b[0;34m**\u001b[0m\u001b[0mkwargs\u001b[0m\u001b[0;34m)\u001b[0m\u001b[0;34m\u001b[0m\u001b[0;34m\u001b[0m\u001b[0m\n\u001b[0m\u001b[1;32m    231\u001b[0m \u001b[0;34m\u001b[0m\u001b[0m\n\u001b[1;32m    232\u001b[0m     \u001b[0;32mdef\u001b[0m \u001b[0mmake_importer\u001b[0m\u001b[0;34m(\u001b[0m\u001b[0mself\u001b[0m\u001b[0;34m,\u001b[0m \u001b[0mname\u001b[0m\u001b[0;34m,\u001b[0m \u001b[0;34m*\u001b[0m\u001b[0margs\u001b[0m\u001b[0;34m,\u001b[0m \u001b[0;34m**\u001b[0m\u001b[0mkwargs\u001b[0m\u001b[0;34m)\u001b[0m\u001b[0;34m:\u001b[0m\u001b[0;34m\u001b[0m\u001b[0;34m\u001b[0m\u001b[0m\n",
      "\u001b[0;32m~/workspace/datumaro_sa/datumaro/plugins/kitti_raw_format/extractor.py\u001b[0m in \u001b[0;36m__init__\u001b[0;34m(self, path, subset, save_hash)\u001b[0m\n\u001b[1;32m     32\u001b[0m \u001b[0;34m\u001b[0m\u001b[0m\n\u001b[1;32m     33\u001b[0m         \u001b[0mitems\u001b[0m\u001b[0;34m,\u001b[0m \u001b[0mcategories\u001b[0m \u001b[0;34m=\u001b[0m \u001b[0mself\u001b[0m\u001b[0;34m.\u001b[0m\u001b[0m_parse\u001b[0m\u001b[0;34m(\u001b[0m\u001b[0mpath\u001b[0m\u001b[0;34m)\u001b[0m\u001b[0;34m\u001b[0m\u001b[0;34m\u001b[0m\u001b[0m\n\u001b[0;32m---> 34\u001b[0;31m         \u001b[0mself\u001b[0m\u001b[0;34m.\u001b[0m\u001b[0m_items\u001b[0m \u001b[0;34m=\u001b[0m \u001b[0mlist\u001b[0m\u001b[0;34m(\u001b[0m\u001b[0mself\u001b[0m\u001b[0;34m.\u001b[0m\u001b[0m_load_items\u001b[0m\u001b[0;34m(\u001b[0m\u001b[0mitems\u001b[0m\u001b[0;34m)\u001b[0m\u001b[0;34m.\u001b[0m\u001b[0mvalues\u001b[0m\u001b[0;34m(\u001b[0m\u001b[0;34m)\u001b[0m\u001b[0;34m)\u001b[0m\u001b[0;34m\u001b[0m\u001b[0;34m\u001b[0m\u001b[0m\n\u001b[0m\u001b[1;32m     35\u001b[0m         \u001b[0mself\u001b[0m\u001b[0;34m.\u001b[0m\u001b[0m_categories\u001b[0m \u001b[0;34m=\u001b[0m \u001b[0mcategories\u001b[0m\u001b[0;34m\u001b[0m\u001b[0;34m\u001b[0m\u001b[0m\n\u001b[1;32m     36\u001b[0m \u001b[0;34m\u001b[0m\u001b[0m\n",
      "\u001b[0;32m~/workspace/datumaro_sa/datumaro/plugins/kitti_raw_format/extractor.py\u001b[0m in \u001b[0;36m_load_items\u001b[0;34m(self, parsed)\u001b[0m\n\u001b[1;32m    248\u001b[0m                 \u001b[0mannotations\u001b[0m\u001b[0;34m=\u001b[0m\u001b[0mitem_desc\u001b[0m\u001b[0;34m.\u001b[0m\u001b[0mget\u001b[0m\u001b[0;34m(\u001b[0m\u001b[0;34m\"annotations\"\u001b[0m\u001b[0;34m)\u001b[0m\u001b[0;34m,\u001b[0m\u001b[0;34m\u001b[0m\u001b[0;34m\u001b[0m\u001b[0m\n\u001b[1;32m    249\u001b[0m                 \u001b[0mattributes\u001b[0m\u001b[0;34m=\u001b[0m\u001b[0;34m{\u001b[0m\u001b[0;34m\"frame\"\u001b[0m\u001b[0;34m:\u001b[0m \u001b[0mint\u001b[0m\u001b[0;34m(\u001b[0m\u001b[0mframe_id\u001b[0m\u001b[0;34m)\u001b[0m\u001b[0;34m}\u001b[0m\u001b[0;34m,\u001b[0m\u001b[0;34m\u001b[0m\u001b[0;34m\u001b[0m\u001b[0m\n\u001b[0;32m--> 250\u001b[0;31m                 \u001b[0msave_hash\u001b[0m\u001b[0;34m=\u001b[0m\u001b[0mself\u001b[0m\u001b[0;34m.\u001b[0m\u001b[0m_save_hash\u001b[0m\u001b[0;34m,\u001b[0m\u001b[0;34m\u001b[0m\u001b[0;34m\u001b[0m\u001b[0m\n\u001b[0m\u001b[1;32m    251\u001b[0m             )\n\u001b[1;32m    252\u001b[0m \u001b[0;34m\u001b[0m\u001b[0m\n",
      "\u001b[0;32m~/workspace/datumaro_sa/datumaro/components/extractor.py\u001b[0m in \u001b[0;36m__init__\u001b[0;34m(self, id, subset, media, annotations, attributes, save_hash, image, point_cloud, related_images, hash_key)\u001b[0m\n\u001b[1;32m    119\u001b[0m \u001b[0;34m\u001b[0m\u001b[0m\n\u001b[1;32m    120\u001b[0m         \u001b[0;32mif\u001b[0m \u001b[0msave_hash\u001b[0m\u001b[0;34m:\u001b[0m\u001b[0;34m\u001b[0m\u001b[0;34m\u001b[0m\u001b[0m\n\u001b[0;32m--> 121\u001b[0;31m             \u001b[0mhash_key\u001b[0m \u001b[0;34m=\u001b[0m \u001b[0minference\u001b[0m\u001b[0;34m(\u001b[0m\u001b[0mmedia\u001b[0m\u001b[0;34m)\u001b[0m\u001b[0;34m\u001b[0m\u001b[0;34m\u001b[0m\u001b[0m\n\u001b[0m\u001b[1;32m    122\u001b[0m \u001b[0;34m\u001b[0m\u001b[0m\n\u001b[1;32m    123\u001b[0m         self.__attrs_init__(\n",
      "\u001b[0;32m~/workspace/datumaro_sa/datumaro/components/model_inference.py\u001b[0m in \u001b[0;36minference\u001b[0;34m(item)\u001b[0m\n\u001b[1;32m    613\u001b[0m \u001b[0;32mdef\u001b[0m \u001b[0minference\u001b[0m\u001b[0;34m(\u001b[0m\u001b[0mitem\u001b[0m\u001b[0;34m)\u001b[0m\u001b[0;34m:\u001b[0m\u001b[0;34m\u001b[0m\u001b[0;34m\u001b[0m\u001b[0m\n\u001b[1;32m    614\u001b[0m     \u001b[0;32massert\u001b[0m \u001b[0;32mnot\u001b[0m \u001b[0misinstance\u001b[0m\u001b[0;34m(\u001b[0m\u001b[0mitem\u001b[0m\u001b[0;34m,\u001b[0m \u001b[0mVideo\u001b[0m\u001b[0;34m)\u001b[0m\u001b[0;34m,\u001b[0m \u001b[0;34mf\"Media type should be Image, Current type={type(item)}\"\u001b[0m\u001b[0;34m\u001b[0m\u001b[0;34m\u001b[0m\u001b[0m\n\u001b[0;32m--> 615\u001b[0;31m     \u001b[0;32massert\u001b[0m \u001b[0;32mnot\u001b[0m \u001b[0misinstance\u001b[0m\u001b[0;34m(\u001b[0m\u001b[0mitem\u001b[0m\u001b[0;34m,\u001b[0m \u001b[0mPointCloud\u001b[0m\u001b[0;34m)\u001b[0m\u001b[0;34m,\u001b[0m \u001b[0;34mf\"Media type should be Image, Current type={type(item)}\"\u001b[0m\u001b[0;34m\u001b[0m\u001b[0;34m\u001b[0m\u001b[0m\n\u001b[0m\u001b[1;32m    616\u001b[0m     \u001b[0;32mif\u001b[0m \u001b[0misinstance\u001b[0m\u001b[0;34m(\u001b[0m\u001b[0mitem\u001b[0m\u001b[0;34m.\u001b[0m\u001b[0mdata\u001b[0m\u001b[0;34m,\u001b[0m \u001b[0mtype\u001b[0m\u001b[0;34m(\u001b[0m\u001b[0;32mNone\u001b[0m\u001b[0;34m)\u001b[0m\u001b[0;34m)\u001b[0m\u001b[0;34m:\u001b[0m\u001b[0;34m\u001b[0m\u001b[0;34m\u001b[0m\u001b[0m\n\u001b[1;32m    617\u001b[0m         \u001b[0;32mreturn\u001b[0m \u001b[0;34m[\u001b[0m\u001b[0;34m]\u001b[0m\u001b[0;34m\u001b[0m\u001b[0;34m\u001b[0m\u001b[0m\n",
      "\u001b[0;31mAssertionError\u001b[0m: Media type should be Image, Current type=<class 'datumaro.components.media.PointCloud'>"
     ]
    }
   ],
   "source": [
    "start_time = time.time()\n",
    "dataset = dm.Dataset.import_from('./tests/assets/kitti_dataset/kitti_raw', 'kitti_raw', save_hash=True)\n",
    "print(f'setting dataset time for {len(dataset)} items: ', time.time()-start_time)\n",
    "dataset\n",
    "for i, item in enumerate(dataset):\n",
    "    print(item)"
   ]
  },
  {
   "cell_type": "markdown",
   "id": "cdaf169d",
   "metadata": {},
   "source": [
    "## mapillary_vistas"
   ]
  },
  {
   "cell_type": "code",
   "execution_count": 7,
   "id": "ac6b766b",
   "metadata": {},
   "outputs": [
    {
     "ename": "AttributeError",
     "evalue": "'NoneType' object has no attribute 'data'",
     "output_type": "error",
     "traceback": [
      "\u001b[0;31m---------------------------------------------------------------------------\u001b[0m",
      "\u001b[0;31mTypeError\u001b[0m                                 Traceback (most recent call last)",
      "\u001b[0;32m~/workspace/datumaro_sa/datumaro/components/dataset.py\u001b[0m in \u001b[0;36mimport_from\u001b[0;34m(cls, path, format, env, progress_reporter, error_policy, save_hash, **kwargs)\u001b[0m\n\u001b[1;32m   1280\u001b[0m                     extractors.append(\n\u001b[0;32m-> 1281\u001b[0;31m                         \u001b[0menv\u001b[0m\u001b[0;34m.\u001b[0m\u001b[0mmake_extractor\u001b[0m\u001b[0;34m(\u001b[0m\u001b[0msrc_conf\u001b[0m\u001b[0;34m.\u001b[0m\u001b[0mformat\u001b[0m\u001b[0;34m,\u001b[0m \u001b[0msrc_conf\u001b[0m\u001b[0;34m.\u001b[0m\u001b[0murl\u001b[0m\u001b[0;34m,\u001b[0m \u001b[0;34m**\u001b[0m\u001b[0mextractor_kwargs\u001b[0m\u001b[0;34m)\u001b[0m\u001b[0;34m\u001b[0m\u001b[0;34m\u001b[0m\u001b[0m\n\u001b[0m\u001b[1;32m   1282\u001b[0m                     )\n",
      "\u001b[0;32m~/workspace/datumaro_sa/datumaro/components/environment.py\u001b[0m in \u001b[0;36mmake_extractor\u001b[0;34m(self, name, *args, **kwargs)\u001b[0m\n\u001b[1;32m    229\u001b[0m     \u001b[0;32mdef\u001b[0m \u001b[0mmake_extractor\u001b[0m\u001b[0;34m(\u001b[0m\u001b[0mself\u001b[0m\u001b[0;34m,\u001b[0m \u001b[0mname\u001b[0m\u001b[0;34m,\u001b[0m \u001b[0;34m*\u001b[0m\u001b[0margs\u001b[0m\u001b[0;34m,\u001b[0m \u001b[0;34m**\u001b[0m\u001b[0mkwargs\u001b[0m\u001b[0;34m)\u001b[0m\u001b[0;34m:\u001b[0m\u001b[0;34m\u001b[0m\u001b[0;34m\u001b[0m\u001b[0m\n\u001b[0;32m--> 230\u001b[0;31m         \u001b[0;32mreturn\u001b[0m \u001b[0mself\u001b[0m\u001b[0;34m.\u001b[0m\u001b[0mextractors\u001b[0m\u001b[0;34m.\u001b[0m\u001b[0mget\u001b[0m\u001b[0;34m(\u001b[0m\u001b[0mname\u001b[0m\u001b[0;34m)\u001b[0m\u001b[0;34m(\u001b[0m\u001b[0;34m*\u001b[0m\u001b[0margs\u001b[0m\u001b[0;34m,\u001b[0m \u001b[0;34m**\u001b[0m\u001b[0mkwargs\u001b[0m\u001b[0;34m)\u001b[0m\u001b[0;34m\u001b[0m\u001b[0;34m\u001b[0m\u001b[0m\n\u001b[0m\u001b[1;32m    231\u001b[0m \u001b[0;34m\u001b[0m\u001b[0m\n",
      "\u001b[0;32m~/workspace/datumaro_sa/datumaro/plugins/mapillary_vistas_format/extractor.py\u001b[0m in \u001b[0;36m__init__\u001b[0;34m(self, path, **kwargs)\u001b[0m\n\u001b[1;32m    285\u001b[0m         \u001b[0mkwargs\u001b[0m\u001b[0;34m[\u001b[0m\u001b[0;34m\"task\"\u001b[0m\u001b[0;34m]\u001b[0m \u001b[0;34m=\u001b[0m \u001b[0mMapillaryVistasTask\u001b[0m\u001b[0;34m.\u001b[0m\u001b[0minstances\u001b[0m\u001b[0;34m\u001b[0m\u001b[0;34m\u001b[0m\u001b[0m\n\u001b[0;32m--> 286\u001b[0;31m         \u001b[0msuper\u001b[0m\u001b[0;34m(\u001b[0m\u001b[0;34m)\u001b[0m\u001b[0;34m.\u001b[0m\u001b[0m__init__\u001b[0m\u001b[0;34m(\u001b[0m\u001b[0mpath\u001b[0m\u001b[0;34m,\u001b[0m \u001b[0;34m**\u001b[0m\u001b[0mkwargs\u001b[0m\u001b[0;34m)\u001b[0m\u001b[0;34m\u001b[0m\u001b[0;34m\u001b[0m\u001b[0m\n\u001b[0m\u001b[1;32m    287\u001b[0m \u001b[0;34m\u001b[0m\u001b[0m\n",
      "\u001b[0;31mTypeError\u001b[0m: __init__() got an unexpected keyword argument 'ctx'",
      "\nDuring handling of the above exception, another exception occurred:\n",
      "\u001b[0;31mAttributeError\u001b[0m                            Traceback (most recent call last)",
      "\u001b[0;32m/tmp/ipykernel_29389/1860797148.py\u001b[0m in \u001b[0;36m<module>\u001b[0;34m\u001b[0m\n\u001b[1;32m      1\u001b[0m \u001b[0mstart_time\u001b[0m \u001b[0;34m=\u001b[0m \u001b[0mtime\u001b[0m\u001b[0;34m.\u001b[0m\u001b[0mtime\u001b[0m\u001b[0;34m(\u001b[0m\u001b[0;34m)\u001b[0m\u001b[0;34m\u001b[0m\u001b[0;34m\u001b[0m\u001b[0m\n\u001b[0;32m----> 2\u001b[0;31m \u001b[0mdataset\u001b[0m \u001b[0;34m=\u001b[0m \u001b[0mdm\u001b[0m\u001b[0;34m.\u001b[0m\u001b[0mDataset\u001b[0m\u001b[0;34m.\u001b[0m\u001b[0mimport_from\u001b[0m\u001b[0;34m(\u001b[0m\u001b[0;34m'./tests/assets/mapillary_vistas_dataset/dataset_with_meta_file'\u001b[0m\u001b[0;34m,\u001b[0m \u001b[0;34m'mapillary_vistas'\u001b[0m\u001b[0;34m,\u001b[0m \u001b[0msave_hash\u001b[0m\u001b[0;34m=\u001b[0m\u001b[0;32mTrue\u001b[0m\u001b[0;34m)\u001b[0m\u001b[0;34m\u001b[0m\u001b[0;34m\u001b[0m\u001b[0m\n\u001b[0m\u001b[1;32m      3\u001b[0m \u001b[0mprint\u001b[0m\u001b[0;34m(\u001b[0m\u001b[0;34mf'setting dataset time for {len(dataset)} items: '\u001b[0m\u001b[0;34m,\u001b[0m \u001b[0mtime\u001b[0m\u001b[0;34m.\u001b[0m\u001b[0mtime\u001b[0m\u001b[0;34m(\u001b[0m\u001b[0;34m)\u001b[0m\u001b[0;34m-\u001b[0m\u001b[0mstart_time\u001b[0m\u001b[0;34m)\u001b[0m\u001b[0;34m\u001b[0m\u001b[0;34m\u001b[0m\u001b[0m\n\u001b[1;32m      4\u001b[0m \u001b[0mdataset\u001b[0m\u001b[0;34m\u001b[0m\u001b[0;34m\u001b[0m\u001b[0m\n\u001b[1;32m      5\u001b[0m \u001b[0;32mfor\u001b[0m \u001b[0mi\u001b[0m\u001b[0;34m,\u001b[0m \u001b[0mitem\u001b[0m \u001b[0;32min\u001b[0m \u001b[0menumerate\u001b[0m\u001b[0;34m(\u001b[0m\u001b[0mdataset\u001b[0m\u001b[0;34m)\u001b[0m\u001b[0;34m:\u001b[0m\u001b[0;34m\u001b[0m\u001b[0;34m\u001b[0m\u001b[0m\n",
      "\u001b[0;32m~/workspace/datumaro_sa/datumaro/components/dataset.py\u001b[0m in \u001b[0;36mimport_from\u001b[0;34m(cls, path, format, env, progress_reporter, error_policy, save_hash, **kwargs)\u001b[0m\n\u001b[1;32m   1296\u001b[0m \u001b[0;34m\u001b[0m\u001b[0m\n\u001b[1;32m   1297\u001b[0m                     extractors.append(\n\u001b[0;32m-> 1298\u001b[0;31m                         \u001b[0menv\u001b[0m\u001b[0;34m.\u001b[0m\u001b[0mmake_extractor\u001b[0m\u001b[0;34m(\u001b[0m\u001b[0msrc_conf\u001b[0m\u001b[0;34m.\u001b[0m\u001b[0mformat\u001b[0m\u001b[0;34m,\u001b[0m \u001b[0msrc_conf\u001b[0m\u001b[0;34m.\u001b[0m\u001b[0murl\u001b[0m\u001b[0;34m,\u001b[0m \u001b[0;34m**\u001b[0m\u001b[0mextractor_kwargs\u001b[0m\u001b[0;34m)\u001b[0m\u001b[0;34m\u001b[0m\u001b[0;34m\u001b[0m\u001b[0m\n\u001b[0m\u001b[1;32m   1299\u001b[0m                     )\n\u001b[1;32m   1300\u001b[0m \u001b[0;34m\u001b[0m\u001b[0m\n",
      "\u001b[0;32m~/workspace/datumaro_sa/datumaro/components/environment.py\u001b[0m in \u001b[0;36mmake_extractor\u001b[0;34m(self, name, *args, **kwargs)\u001b[0m\n\u001b[1;32m    228\u001b[0m \u001b[0;34m\u001b[0m\u001b[0m\n\u001b[1;32m    229\u001b[0m     \u001b[0;32mdef\u001b[0m \u001b[0mmake_extractor\u001b[0m\u001b[0;34m(\u001b[0m\u001b[0mself\u001b[0m\u001b[0;34m,\u001b[0m \u001b[0mname\u001b[0m\u001b[0;34m,\u001b[0m \u001b[0;34m*\u001b[0m\u001b[0margs\u001b[0m\u001b[0;34m,\u001b[0m \u001b[0;34m**\u001b[0m\u001b[0mkwargs\u001b[0m\u001b[0;34m)\u001b[0m\u001b[0;34m:\u001b[0m\u001b[0;34m\u001b[0m\u001b[0;34m\u001b[0m\u001b[0m\n\u001b[0;32m--> 230\u001b[0;31m         \u001b[0;32mreturn\u001b[0m \u001b[0mself\u001b[0m\u001b[0;34m.\u001b[0m\u001b[0mextractors\u001b[0m\u001b[0;34m.\u001b[0m\u001b[0mget\u001b[0m\u001b[0;34m(\u001b[0m\u001b[0mname\u001b[0m\u001b[0;34m)\u001b[0m\u001b[0;34m(\u001b[0m\u001b[0;34m*\u001b[0m\u001b[0margs\u001b[0m\u001b[0;34m,\u001b[0m \u001b[0;34m**\u001b[0m\u001b[0mkwargs\u001b[0m\u001b[0;34m)\u001b[0m\u001b[0;34m\u001b[0m\u001b[0;34m\u001b[0m\u001b[0m\n\u001b[0m\u001b[1;32m    231\u001b[0m \u001b[0;34m\u001b[0m\u001b[0m\n\u001b[1;32m    232\u001b[0m     \u001b[0;32mdef\u001b[0m \u001b[0mmake_importer\u001b[0m\u001b[0;34m(\u001b[0m\u001b[0mself\u001b[0m\u001b[0;34m,\u001b[0m \u001b[0mname\u001b[0m\u001b[0;34m,\u001b[0m \u001b[0;34m*\u001b[0m\u001b[0margs\u001b[0m\u001b[0;34m,\u001b[0m \u001b[0;34m**\u001b[0m\u001b[0mkwargs\u001b[0m\u001b[0;34m)\u001b[0m\u001b[0;34m:\u001b[0m\u001b[0;34m\u001b[0m\u001b[0;34m\u001b[0m\u001b[0m\n",
      "\u001b[0;32m~/workspace/datumaro_sa/datumaro/plugins/mapillary_vistas_format/extractor.py\u001b[0m in \u001b[0;36m__init__\u001b[0;34m(self, path, **kwargs)\u001b[0m\n\u001b[1;32m    284\u001b[0m     \u001b[0;32mdef\u001b[0m \u001b[0m__init__\u001b[0m\u001b[0;34m(\u001b[0m\u001b[0mself\u001b[0m\u001b[0;34m,\u001b[0m \u001b[0mpath\u001b[0m\u001b[0;34m,\u001b[0m \u001b[0;34m**\u001b[0m\u001b[0mkwargs\u001b[0m\u001b[0;34m)\u001b[0m\u001b[0;34m:\u001b[0m\u001b[0;34m\u001b[0m\u001b[0;34m\u001b[0m\u001b[0m\n\u001b[1;32m    285\u001b[0m         \u001b[0mkwargs\u001b[0m\u001b[0;34m[\u001b[0m\u001b[0;34m\"task\"\u001b[0m\u001b[0;34m]\u001b[0m \u001b[0;34m=\u001b[0m \u001b[0mMapillaryVistasTask\u001b[0m\u001b[0;34m.\u001b[0m\u001b[0minstances\u001b[0m\u001b[0;34m\u001b[0m\u001b[0;34m\u001b[0m\u001b[0m\n\u001b[0;32m--> 286\u001b[0;31m         \u001b[0msuper\u001b[0m\u001b[0;34m(\u001b[0m\u001b[0;34m)\u001b[0m\u001b[0;34m.\u001b[0m\u001b[0m__init__\u001b[0m\u001b[0;34m(\u001b[0m\u001b[0mpath\u001b[0m\u001b[0;34m,\u001b[0m \u001b[0;34m**\u001b[0m\u001b[0mkwargs\u001b[0m\u001b[0;34m)\u001b[0m\u001b[0;34m\u001b[0m\u001b[0;34m\u001b[0m\u001b[0m\n\u001b[0m\u001b[1;32m    287\u001b[0m \u001b[0;34m\u001b[0m\u001b[0m\n\u001b[1;32m    288\u001b[0m \u001b[0;34m\u001b[0m\u001b[0m\n",
      "\u001b[0;32m~/workspace/datumaro_sa/datumaro/plugins/mapillary_vistas_format/extractor.py\u001b[0m in \u001b[0;36m__init__\u001b[0;34m(self, path, task, subset, use_original_config, keep_original_category_ids, save_hash)\u001b[0m\n\u001b[1;32m     69\u001b[0m             \u001b[0;32melse\u001b[0m\u001b[0;34m:\u001b[0m\u001b[0;34m\u001b[0m\u001b[0;34m\u001b[0m\u001b[0m\n\u001b[1;32m     70\u001b[0m                 \u001b[0mself\u001b[0m\u001b[0;34m.\u001b[0m\u001b[0m_categories\u001b[0m \u001b[0;34m=\u001b[0m \u001b[0mself\u001b[0m\u001b[0;34m.\u001b[0m\u001b[0m_load_instances_categories\u001b[0m\u001b[0;34m(\u001b[0m\u001b[0;34m)\u001b[0m\u001b[0;34m\u001b[0m\u001b[0;34m\u001b[0m\u001b[0m\n\u001b[0;32m---> 71\u001b[0;31m             \u001b[0mself\u001b[0m\u001b[0;34m.\u001b[0m\u001b[0m_items\u001b[0m \u001b[0;34m=\u001b[0m \u001b[0mself\u001b[0m\u001b[0;34m.\u001b[0m\u001b[0m_load_instances_items\u001b[0m\u001b[0;34m(\u001b[0m\u001b[0;34m)\u001b[0m\u001b[0;34m\u001b[0m\u001b[0;34m\u001b[0m\u001b[0m\n\u001b[0m\u001b[1;32m     72\u001b[0m         \u001b[0;32melse\u001b[0m\u001b[0;34m:\u001b[0m\u001b[0;34m\u001b[0m\u001b[0;34m\u001b[0m\u001b[0m\n\u001b[1;32m     73\u001b[0m             \u001b[0mpanoptic_config\u001b[0m \u001b[0;34m=\u001b[0m \u001b[0mself\u001b[0m\u001b[0;34m.\u001b[0m\u001b[0m_load_panoptic_config\u001b[0m\u001b[0;34m(\u001b[0m\u001b[0mself\u001b[0m\u001b[0;34m.\u001b[0m\u001b[0m_annotations_dir\u001b[0m\u001b[0;34m)\u001b[0m\u001b[0;34m\u001b[0m\u001b[0;34m\u001b[0m\u001b[0m\n",
      "\u001b[0;32m~/workspace/datumaro_sa/datumaro/plugins/mapillary_vistas_format/extractor.py\u001b[0m in \u001b[0;36m_load_instances_items\u001b[0;34m(self)\u001b[0m\n\u001b[1;32m    195\u001b[0m                 )\n\u001b[1;32m    196\u001b[0m \u001b[0;34m\u001b[0m\u001b[0m\n\u001b[0;32m--> 197\u001b[0;31m             \u001b[0mitems\u001b[0m\u001b[0;34m[\u001b[0m\u001b[0mitem_id\u001b[0m\u001b[0;34m]\u001b[0m \u001b[0;34m=\u001b[0m \u001b[0mDatasetItem\u001b[0m\u001b[0;34m(\u001b[0m\u001b[0mid\u001b[0m\u001b[0;34m=\u001b[0m\u001b[0mitem_id\u001b[0m\u001b[0;34m,\u001b[0m \u001b[0msubset\u001b[0m\u001b[0;34m=\u001b[0m\u001b[0mself\u001b[0m\u001b[0;34m.\u001b[0m\u001b[0m_subset\u001b[0m\u001b[0;34m,\u001b[0m \u001b[0mannotations\u001b[0m\u001b[0;34m=\u001b[0m\u001b[0mannotations\u001b[0m\u001b[0;34m)\u001b[0m\u001b[0;34m\u001b[0m\u001b[0;34m\u001b[0m\u001b[0m\n\u001b[0m\u001b[1;32m    198\u001b[0m \u001b[0;34m\u001b[0m\u001b[0m\n\u001b[1;32m    199\u001b[0m         \u001b[0mclass_dir\u001b[0m \u001b[0;34m=\u001b[0m \u001b[0mosp\u001b[0m\u001b[0;34m.\u001b[0m\u001b[0mjoin\u001b[0m\u001b[0;34m(\u001b[0m\u001b[0mself\u001b[0m\u001b[0;34m.\u001b[0m\u001b[0m_annotations_dir\u001b[0m\u001b[0;34m,\u001b[0m \u001b[0mMapillaryVistasPath\u001b[0m\u001b[0;34m.\u001b[0m\u001b[0mCLASS_DIR\u001b[0m\u001b[0;34m)\u001b[0m\u001b[0;34m\u001b[0m\u001b[0;34m\u001b[0m\u001b[0m\n",
      "\u001b[0;32m~/workspace/datumaro_sa/datumaro/components/extractor.py\u001b[0m in \u001b[0;36m__init__\u001b[0;34m(self, id, subset, media, annotations, attributes, save_hash, image, point_cloud, related_images, hash_key)\u001b[0m\n\u001b[1;32m    119\u001b[0m \u001b[0;34m\u001b[0m\u001b[0m\n\u001b[1;32m    120\u001b[0m         \u001b[0;32mif\u001b[0m \u001b[0msave_hash\u001b[0m\u001b[0;34m:\u001b[0m\u001b[0;34m\u001b[0m\u001b[0;34m\u001b[0m\u001b[0m\n\u001b[0;32m--> 121\u001b[0;31m             \u001b[0mhash_key\u001b[0m \u001b[0;34m=\u001b[0m \u001b[0minference\u001b[0m\u001b[0;34m(\u001b[0m\u001b[0mmedia\u001b[0m\u001b[0;34m)\u001b[0m\u001b[0;34m\u001b[0m\u001b[0;34m\u001b[0m\u001b[0m\n\u001b[0m\u001b[1;32m    122\u001b[0m \u001b[0;34m\u001b[0m\u001b[0m\n\u001b[1;32m    123\u001b[0m         self.__attrs_init__(\n",
      "\u001b[0;32m~/workspace/datumaro_sa/datumaro/components/model_inference.py\u001b[0m in \u001b[0;36minference\u001b[0;34m(item)\u001b[0m\n\u001b[1;32m    614\u001b[0m     \u001b[0;32massert\u001b[0m \u001b[0;32mnot\u001b[0m \u001b[0misinstance\u001b[0m\u001b[0;34m(\u001b[0m\u001b[0mitem\u001b[0m\u001b[0;34m,\u001b[0m \u001b[0mVideo\u001b[0m\u001b[0;34m)\u001b[0m\u001b[0;34m,\u001b[0m \u001b[0;34mf\"Media type should be Image, Current type={type(item)}\"\u001b[0m\u001b[0;34m\u001b[0m\u001b[0;34m\u001b[0m\u001b[0m\n\u001b[1;32m    615\u001b[0m     \u001b[0;32massert\u001b[0m \u001b[0;32mnot\u001b[0m \u001b[0misinstance\u001b[0m\u001b[0;34m(\u001b[0m\u001b[0mitem\u001b[0m\u001b[0;34m,\u001b[0m \u001b[0mPointCloud\u001b[0m\u001b[0;34m)\u001b[0m\u001b[0;34m,\u001b[0m \u001b[0;34mf\"Media type should be Image, Current type={type(item)}\"\u001b[0m\u001b[0;34m\u001b[0m\u001b[0;34m\u001b[0m\u001b[0m\n\u001b[0;32m--> 616\u001b[0;31m     \u001b[0;32mif\u001b[0m \u001b[0misinstance\u001b[0m\u001b[0;34m(\u001b[0m\u001b[0mitem\u001b[0m\u001b[0;34m.\u001b[0m\u001b[0mdata\u001b[0m\u001b[0;34m,\u001b[0m \u001b[0mtype\u001b[0m\u001b[0;34m(\u001b[0m\u001b[0;32mNone\u001b[0m\u001b[0;34m)\u001b[0m\u001b[0;34m)\u001b[0m\u001b[0;34m:\u001b[0m\u001b[0;34m\u001b[0m\u001b[0;34m\u001b[0m\u001b[0m\n\u001b[0m\u001b[1;32m    617\u001b[0m         \u001b[0;32mreturn\u001b[0m \u001b[0;34m[\u001b[0m\u001b[0;34m]\u001b[0m\u001b[0;34m\u001b[0m\u001b[0;34m\u001b[0m\u001b[0m\n\u001b[1;32m    618\u001b[0m \u001b[0;34m\u001b[0m\u001b[0m\n",
      "\u001b[0;31mAttributeError\u001b[0m: 'NoneType' object has no attribute 'data'"
     ]
    }
   ],
   "source": [
    "start_time = time.time()\n",
    "dataset = dm.Dataset.import_from('./tests/assets/mapillary_vistas_dataset/dataset_with_meta_file', 'mapillary_vistas', save_hash=True)\n",
    "print(f'setting dataset time for {len(dataset)} items: ', time.time()-start_time)\n",
    "dataset\n",
    "for i, item in enumerate(dataset):\n",
    "    print(item)"
   ]
  },
  {
   "cell_type": "markdown",
   "id": "b435a64b",
   "metadata": {},
   "source": [
    "## mars_dataset"
   ]
  },
  {
   "cell_type": "code",
   "execution_count": 2,
   "id": "55af77aa",
   "metadata": {},
   "outputs": [
    {
     "name": "stdout",
     "output_type": "stream",
     "text": [
      "setting dataset time for 3 items:  3.490913152694702\n",
      "DatasetItem(id='00-1C2T0081F201', subset='test', media=<datumaro.components.media.Image object at 0x7f7c9d85fb50>, annotations=[Label(id=0, attributes={}, group=0, label=0)], attributes={'person_id': '00-1', 'camera_id': 2, 'track_id': 81, 'frame_id': 201}, hash_key=['09effa1b4c54099b48ce2f97ca195100f5115aad2e1aad36e1abfaf8fd10c0c7a167ddf6b539399e7ddaf32ba0b1ee07a038369e6ad898e50a2cf98912248bcc'])\n",
      "DatasetItem(id='0000C6T0101F001', subset='train', media=<datumaro.components.media.Image object at 0x7f7c9d871810>, annotations=[Label(id=0, attributes={}, group=0, label=1)], attributes={'person_id': '0000', 'camera_id': 6, 'track_id': 101, 'frame_id': 1}, hash_key=['09effa1b4c54099b48ce2f97ca195100f5115aad2e1aad36e1abfaf8fd10c0c7a167ddf6b539399e7ddaf32ba0b1ee07a038369e6ad898e50a2cf98912248bcc'])\n",
      "DatasetItem(id='0001C1T0001F001', subset='train', media=<datumaro.components.media.Image object at 0x7f7c9af723d0>, annotations=[Label(id=0, attributes={}, group=0, label=2)], attributes={'person_id': '0001', 'camera_id': 1, 'track_id': 1, 'frame_id': 1}, hash_key=['09effa1b4c54099b48ce2f97ca195100f5115aad2e1aad36e1abfaf8fd10c0c7a167ddf6b539399e7ddaf32ba0b1ee07a038369e6ad898e50a2cf98912248bcc'])\n"
     ]
    }
   ],
   "source": [
    "start_time = time.time()\n",
    "dataset = dm.Dataset.import_from('./tests/assets/mars_dataset', 'mars', save_hash=True)\n",
    "print(f'setting dataset time for {len(dataset)} items: ', time.time()-start_time)\n",
    "dataset\n",
    "for i, item in enumerate(dataset):\n",
    "    print(item)"
   ]
  },
  {
   "cell_type": "markdown",
   "id": "4728840d",
   "metadata": {},
   "source": [
    "## mot_seq_with_seqinfo"
   ]
  },
  {
   "cell_type": "code",
   "execution_count": 5,
   "id": "9baf0964",
   "metadata": {},
   "outputs": [
    {
     "name": "stdout",
     "output_type": "stream",
     "text": [
      "setting dataset time for 1 items:  0.03484010696411133\n",
      "DatasetItem(id='1', subset='default', media=<datumaro.components.media.Image object at 0x7f7c8589d550>, annotations=[Bbox(id=0, attributes={'visibility': 1.0, 'occluded': False, 'ignored': False}, group=0, points=[0.0, 4.0, 4.0, 12.0], label=2, z_order=0)], attributes={}, hash_key=['09effa1b4c54099b48ce2f97ca195100f5115aad2e1aad36e1abfaf8fd10c0c7a167ddf6b539399e7ddaf32ba0b1ee07a038369e6ad898e50a2cf98912248bcc'])\n"
     ]
    }
   ],
   "source": [
    "start_time = time.time()\n",
    "dataset = dm.Dataset.import_from('./tests/assets/mot_dataset/mot_seq', 'mot_seq', save_hash=True)\n",
    "print(f'setting dataset time for {len(dataset)} items: ', time.time()-start_time)\n",
    "dataset\n",
    "for i, item in enumerate(dataset):\n",
    "    print(item)"
   ]
  },
  {
   "cell_type": "markdown",
   "id": "4315e38f",
   "metadata": {},
   "source": [
    "## voc_dataset/voc_dataset2"
   ]
  },
  {
   "cell_type": "code",
   "execution_count": 2,
   "id": "73328ee7",
   "metadata": {},
   "outputs": [
    {
     "name": "stdout",
     "output_type": "stream",
     "text": [
      "setting dataset time for 5 items:  0.2578573226928711\n",
      "DatasetItem(id='@', subset='trainval', media=<datumaro.components.media.Image object at 0x7fdc803961d0>, annotations=[], attributes={}, hash_key=[])\n",
      "DatasetItem(id='a', subset='trainval', media=<datumaro.components.media.Image object at 0x7fdc6f4edd10>, annotations=[Bbox(id=1, attributes={'difficult': False, 'truncated': False, 'occluded': True}, group=1, points=[1.0, 2.0, 4.0, 6.0], label=0, z_order=0)], attributes={}, hash_key=[])\n",
      "DatasetItem(id='b', subset='trainval', media=<datumaro.components.media.Image object at 0x7fdc6f4744d0>, annotations=[Bbox(id=1, attributes={'difficult': False, 'truncated': False, 'occluded': True}, group=1, points=[2.0, 2.0, 7.0, 6.0], label=1, z_order=0)], attributes={}, hash_key=[])\n",
      "DatasetItem(id='c', subset='trainval', media=<datumaro.components.media.Image object at 0x7fdc6f4cc5d0>, annotations=[Bbox(id=1, attributes={'difficult': False, 'truncated': False, 'occluded': False}, group=1, points=[3.0, 1.0, 11.0, 6.0], label=2, z_order=0)], attributes={}, hash_key=[])\n",
      "DatasetItem(id='d', subset='trainval', media=<datumaro.components.media.Image object at 0x7fdc6f474f10>, annotations=[Bbox(id=1, attributes={'difficult': False, 'truncated': False, 'occluded': False}, group=1, points=[4.0, 4.0, 8.0, 8.0], label=3, z_order=0)], attributes={}, hash_key=[])\n"
     ]
    }
   ],
   "source": [
    "start_time = time.time()\n",
    "dataset = dm.Dataset.import_from('./tests/assets/voc_dataset/voc_dataset2', 'voc', save_hash=True)\n",
    "print(f'setting dataset time for {len(dataset)} items: ', time.time()-start_time)\n",
    "dataset\n",
    "for i, item in enumerate(dataset):\n",
    "    print(item)"
   ]
  },
  {
   "cell_type": "code",
   "execution_count": null,
   "id": "d379cb58",
   "metadata": {},
   "outputs": [],
   "source": []
  }
 ],
 "metadata": {
  "kernelspec": {
   "display_name": "jupyter datumaro",
   "language": "python",
   "name": "datumaro"
  },
  "language_info": {
   "codemirror_mode": {
    "name": "ipython",
    "version": 3
   },
   "file_extension": ".py",
   "mimetype": "text/x-python",
   "name": "python",
   "nbconvert_exporter": "python",
   "pygments_lexer": "ipython3",
   "version": "3.7.13"
  }
 },
 "nbformat": 4,
 "nbformat_minor": 5
}
