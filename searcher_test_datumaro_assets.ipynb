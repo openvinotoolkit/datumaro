{
 "cells": [
  {
   "cell_type": "code",
   "execution_count": 4,
   "id": "ba1f1130",
   "metadata": {},
   "outputs": [],
   "source": [
    "# Copyright (C) 2022 Intel Corporationworkbench.action.openLargeOutput\n",
    "#\n",
    "# SPDX-License-Identifier: MIT\n",
    "\n",
    "import os\n",
    "import datumaro as dm\n",
    "import time\n",
    "\n",
    "from datumaro.components.searcher import Searcher\n",
    "from datumaro.components.visualizer import Visualizer"
   ]
  },
  {
   "cell_type": "markdown",
   "id": "7746187a",
   "metadata": {},
   "source": [
    "## ade20k2017_dataset"
   ]
  },
  {
   "cell_type": "code",
   "execution_count": 2,
   "id": "5467fe8c",
   "metadata": {},
   "outputs": [
    {
     "name": "stdout",
     "output_type": "stream",
     "text": [
      "setting dataset time for 2 items:  11.089853763580322\n"
     ]
    },
    {
     "data": {
      "text/plain": [
       "Dataset\n",
       "\tsize=2\n",
       "\tsource_path=./tests/assets/ade20k2017_dataset/dataset\n",
       "\tmedia_type=<class 'datumaro.components.media.Image'>\n",
       "\tannotated_items_count=2\n",
       "\tannotations_count=7\n",
       "subsets\n",
       "\ttraining: # of items=1, # of annotated items=1, # of annotations=3, annotation types=['mask']\n",
       "\tvalidation: # of items=1, # of annotated items=1, # of annotations=4, annotation types=['mask']\n",
       "infos\n",
       "\tcategories\n",
       "\tlabel: ['sky', 'person', 'license plate', 'rim']"
      ]
     },
     "execution_count": 2,
     "metadata": {},
     "output_type": "execute_result"
    }
   ],
   "source": [
    "start_time = time.time()\n",
    "dataset = dm.Dataset.import_from('./tests/assets/ade20k2017_dataset/dataset', save_hash=True)\n",
    "print(f'setting dataset time for {len(dataset)} items: ', time.time()-start_time)\n",
    "dataset"
   ]
  },
  {
   "cell_type": "code",
   "execution_count": 3,
   "id": "f2990750",
   "metadata": {},
   "outputs": [
    {
     "name": "stdout",
     "output_type": "stream",
     "text": [
      "DatasetItem(id='street/1', subset='training', media=<datumaro.components.media.Image object at 0x7f745c34ec90>, annotations=[Mask(id=1, attributes={}, group=1, _image=functools.partial(<bound method CompiledMask.extract of <datumaro.components.annotation.CompiledMask object at 0x7f745c34e1d0>>, 1), label=0, z_order=0), Mask(id=2, attributes={'walkin': True}, group=2, _image=functools.partial(<bound method CompiledMask.extract of <datumaro.components.annotation.CompiledMask object at 0x7f745c34e1d0>>, 2), label=1, z_order=0), Mask(id=1, attributes={}, group=1, _image=functools.partial(<bound method CompiledMask.extract of <datumaro.components.annotation.CompiledMask object at 0x7f74762fdf90>>, 1), label=2, z_order=1)], attributes={}, hash_key=['09effa1b4c54099b48ce2f97ca195100f5115aad2e1aad36e1abfaf8fd10c0c7a167ddf6b539399e7ddaf32ba0b1ee07a038369e6ad898e50a2cf98912248bcc'])\n",
      "DatasetItem(id='2', subset='validation', media=<datumaro.components.media.Image object at 0x7f745c2f1850>, annotations=[Mask(id=1, attributes={}, group=1, _image=functools.partial(<bound method CompiledMask.extract of <datumaro.components.annotation.CompiledMask object at 0x7f7475fb0b10>>, 1), label=0, z_order=0), Mask(id=2, attributes={}, group=2, _image=functools.partial(<bound method CompiledMask.extract of <datumaro.components.annotation.CompiledMask object at 0x7f7475fb0b10>>, 2), label=1, z_order=0), Mask(id=1, attributes={}, group=1, _image=functools.partial(<bound method CompiledMask.extract of <datumaro.components.annotation.CompiledMask object at 0x7f7475de7990>>, 1), label=2, z_order=1), Mask(id=1, attributes={}, group=1, _image=functools.partial(<bound method CompiledMask.extract of <datumaro.components.annotation.CompiledMask object at 0x7f745c2f1b50>>, 1), label=3, z_order=2)], attributes={}, hash_key=['09effa1b4c54099b48ce2f97ca195100f5115aad2e1aad36e1abfaf8fd10c0c7a167ddf6b539399e7ddaf32ba0b1ee07a038369e6ad898e50a2cf98912248bcc'])\n"
     ]
    }
   ],
   "source": [
    "for i, item in enumerate(dataset):\n",
    "    print(item)"
   ]
  },
  {
   "cell_type": "code",
   "execution_count": 4,
   "id": "a8100184",
   "metadata": {},
   "outputs": [
    {
     "name": "stdout",
     "output_type": "stream",
     "text": [
      "[DatasetItem(id='street/1', subset='training', media=<datumaro.components.media.Image object at 0x7f745c34ec90>, annotations=[Mask(id=1, attributes={}, group=1, _image=functools.partial(<bound method CompiledMask.extract of <datumaro.components.annotation.CompiledMask object at 0x7f745c34e1d0>>, 1), label=0, z_order=0), Mask(id=2, attributes={'walkin': True}, group=2, _image=functools.partial(<bound method CompiledMask.extract of <datumaro.components.annotation.CompiledMask object at 0x7f745c34e1d0>>, 2), label=1, z_order=0), Mask(id=1, attributes={}, group=1, _image=functools.partial(<bound method CompiledMask.extract of <datumaro.components.annotation.CompiledMask object at 0x7f74762fdf90>>, 1), label=2, z_order=1)], attributes={}, hash_key=['09effa1b4c54099b48ce2f97ca195100f5115aad2e1aad36e1abfaf8fd10c0c7a167ddf6b539399e7ddaf32ba0b1ee07a038369e6ad898e50a2cf98912248bcc']), DatasetItem(id='2', subset='validation', media=<datumaro.components.media.Image object at 0x7f745c2f1850>, annotations=[Mask(id=1, attributes={}, group=1, _image=functools.partial(<bound method CompiledMask.extract of <datumaro.components.annotation.CompiledMask object at 0x7f7475fb0b10>>, 1), label=0, z_order=0), Mask(id=2, attributes={}, group=2, _image=functools.partial(<bound method CompiledMask.extract of <datumaro.components.annotation.CompiledMask object at 0x7f7475fb0b10>>, 2), label=1, z_order=0), Mask(id=1, attributes={}, group=1, _image=functools.partial(<bound method CompiledMask.extract of <datumaro.components.annotation.CompiledMask object at 0x7f7475de7990>>, 1), label=2, z_order=1), Mask(id=1, attributes={}, group=1, _image=functools.partial(<bound method CompiledMask.extract of <datumaro.components.annotation.CompiledMask object at 0x7f745c2f1b50>>, 1), label=3, z_order=2)], attributes={}, hash_key=['09effa1b4c54099b48ce2f97ca195100f5115aad2e1aad36e1abfaf8fd10c0c7a167ddf6b539399e7ddaf32ba0b1ee07a038369e6ad898e50a2cf98912248bcc'])]\n"
     ]
    }
   ],
   "source": [
    "for i, item in enumerate(dataset):\n",
    "    if i==0:\n",
    "        query = item\n",
    "searcher = Searcher(dataset)\n",
    "topk_list = searcher.search_topk(query, topk=2)\n",
    "print(topk_list)"
   ]
  },
  {
   "cell_type": "code",
   "execution_count": 5,
   "id": "34972a2e",
   "metadata": {},
   "outputs": [
    {
     "name": "stdout",
     "output_type": "stream",
     "text": [
      "setting dataset time for 1 items:  0.17575287818908691\n"
     ]
    },
    {
     "data": {
      "text/plain": [
       "Dataset\n",
       "\tsize=1\n",
       "\tsource_path=./tests/assets/ade20k2017_dataset/dataset_with_meta_file\n",
       "\tmedia_type=<class 'datumaro.components.media.Image'>\n",
       "\tannotated_items_count=1\n",
       "\tannotations_count=3\n",
       "subsets\n",
       "\ttraining: # of items=1, # of annotated items=1, # of annotations=3, annotation types=['mask']\n",
       "infos\n",
       "\tcategories\n",
       "\tlabel: ['sky', 'person', 'license plate', 'rim']"
      ]
     },
     "execution_count": 5,
     "metadata": {},
     "output_type": "execute_result"
    }
   ],
   "source": [
    "start_time = time.time()\n",
    "dataset = dm.Dataset.import_from('./tests/assets/ade20k2017_dataset/dataset_with_meta_file', save_hash=True)\n",
    "print(f'setting dataset time for {len(dataset)} items: ', time.time()-start_time)\n",
    "dataset"
   ]
  },
  {
   "cell_type": "code",
   "execution_count": 6,
   "id": "efe96f4a",
   "metadata": {},
   "outputs": [
    {
     "name": "stdout",
     "output_type": "stream",
     "text": [
      "DatasetItem(id='street/1', subset='training', media=<datumaro.components.media.Image object at 0x7f7475e13c10>, annotations=[Mask(id=1, attributes={}, group=1, _image=functools.partial(<bound method CompiledMask.extract of <datumaro.components.annotation.CompiledMask object at 0x7f7475f8f690>>, 1), label=0, z_order=0), Mask(id=2, attributes={'walkin': True}, group=2, _image=functools.partial(<bound method CompiledMask.extract of <datumaro.components.annotation.CompiledMask object at 0x7f7475f8f690>>, 2), label=1, z_order=0), Mask(id=1, attributes={}, group=1, _image=functools.partial(<bound method CompiledMask.extract of <datumaro.components.annotation.CompiledMask object at 0x7f7475e5e250>>, 1), label=2, z_order=1)], attributes={}, hash_key=['09effa1b4c54099b48ce2f97ca195100f5115aad2e1aad36e1abfaf8fd10c0c7a167ddf6b539399e7ddaf32ba0b1ee07a038369e6ad898e50a2cf98912248bcc'])\n"
     ]
    }
   ],
   "source": [
    "for i, item in enumerate(dataset):\n",
    "    print(item)"
   ]
  },
  {
   "cell_type": "code",
   "execution_count": 7,
   "id": "0656a782",
   "metadata": {},
   "outputs": [
    {
     "name": "stdout",
     "output_type": "stream",
     "text": [
      "[DatasetItem(id='street/1', subset='training', media=<datumaro.components.media.Image object at 0x7f7475e13c10>, annotations=[Mask(id=1, attributes={}, group=1, _image=functools.partial(<bound method CompiledMask.extract of <datumaro.components.annotation.CompiledMask object at 0x7f7475f8f690>>, 1), label=0, z_order=0), Mask(id=2, attributes={'walkin': True}, group=2, _image=functools.partial(<bound method CompiledMask.extract of <datumaro.components.annotation.CompiledMask object at 0x7f7475f8f690>>, 2), label=1, z_order=0), Mask(id=1, attributes={}, group=1, _image=functools.partial(<bound method CompiledMask.extract of <datumaro.components.annotation.CompiledMask object at 0x7f7475e5e250>>, 1), label=2, z_order=1)], attributes={}, hash_key=['09effa1b4c54099b48ce2f97ca195100f5115aad2e1aad36e1abfaf8fd10c0c7a167ddf6b539399e7ddaf32ba0b1ee07a038369e6ad898e50a2cf98912248bcc'])]\n"
     ]
    }
   ],
   "source": [
    "for i, item in enumerate(dataset):\n",
    "    if i==0:\n",
    "        query = item\n",
    "searcher = Searcher(dataset)\n",
    "topk_list = searcher.search_topk(query, topk=2)\n",
    "print(topk_list)"
   ]
  },
  {
   "cell_type": "markdown",
   "id": "265189ed",
   "metadata": {},
   "source": [
    "## ade20k2020_dataset"
   ]
  },
  {
   "cell_type": "code",
   "execution_count": 8,
   "id": "94a457da",
   "metadata": {},
   "outputs": [
    {
     "name": "stdout",
     "output_type": "stream",
     "text": [
      "setting dataset time for 2 items:  0.3513956069946289\n"
     ]
    },
    {
     "data": {
      "text/plain": [
       "Dataset\n",
       "\tsize=2\n",
       "\tsource_path=./tests/assets/ade20k2020_dataset/dataset\n",
       "\tmedia_type=<class 'datumaro.components.media.Image'>\n",
       "\tannotated_items_count=2\n",
       "\tannotations_count=15\n",
       "subsets\n",
       "\ttraining: # of items=1, # of annotated items=1, # of annotations=7, annotation types=['mask', 'polygon']\n",
       "\tvalidation: # of items=1, # of annotated items=1, # of annotations=8, annotation types=['mask']\n",
       "infos\n",
       "\tcategories\n",
       "\tlabel: ['car', 'person', 'door', 'rim']"
      ]
     },
     "execution_count": 8,
     "metadata": {},
     "output_type": "execute_result"
    }
   ],
   "source": [
    "start_time = time.time()\n",
    "dataset = dm.Dataset.import_from('./tests/assets/ade20k2020_dataset/dataset', save_hash=True)\n",
    "print(f'setting dataset time for {len(dataset)} items: ', time.time()-start_time)\n",
    "dataset"
   ]
  },
  {
   "cell_type": "code",
   "execution_count": 9,
   "id": "0d949056",
   "metadata": {},
   "outputs": [
    {
     "name": "stdout",
     "output_type": "stream",
     "text": [
      "DatasetItem(id='street/1', subset='training', media=<datumaro.components.media.Image object at 0x7f7434061e50>, annotations=[Mask(id=401, attributes={}, group=401, _image=functools.partial(<bound method CompiledMask.extract of <datumaro.components.annotation.CompiledMask object at 0x7f7434061ed0>>, 401), label=0, z_order=0), Mask(id=1831, attributes={}, group=1831, _image=functools.partial(<bound method CompiledMask.extract of <datumaro.components.annotation.CompiledMask object at 0x7f7434061ed0>>, 1831), label=1, z_order=0), Mask(id=774, attributes={}, group=774, _image=functools.partial(<bound method CompiledMask.extract of <datumaro.components.annotation.CompiledMask object at 0x7f7434061f90>>, 774), label=2, z_order=1), Mask(id=0, attributes={}, group=0, _image=functools.partial(<bound method CompiledMask.extract of <datumaro.components.annotation.CompiledMask object at 0x7f7434061c50>>, 1), label=0, z_order=0), Mask(id=1, attributes={'walkin': True}, group=1, _image=functools.partial(<bound method CompiledMask.extract of <datumaro.components.annotation.CompiledMask object at 0x7f74340610d0>>, 1), label=1, z_order=0), Polygon(id=1, attributes={'walkin': True}, group=1, points=[1, 0, 1, 1, 1, 2, 1, 3, 1, 4], label=1, z_order=0), Mask(id=2, attributes={}, group=2, _image=functools.partial(<bound method CompiledMask.extract of <datumaro.components.annotation.CompiledMask object at 0x7f7434061e90>>, 1), label=2, z_order=1)], attributes={}, hash_key=['09effa1b4c54099b48ce2f97ca195100f5115aad2e1aad36e1abfaf8fd10c0c7a167ddf6b539399e7ddaf32ba0b1ee07a038369e6ad898e50a2cf98912248bcc'])\n",
      "DatasetItem(id='2', subset='validation', media=<datumaro.components.media.Image object at 0x7f7434061690>, annotations=[Mask(id=401, attributes={}, group=401, _image=functools.partial(<bound method CompiledMask.extract of <datumaro.components.annotation.CompiledMask object at 0x7f7434061090>>, 401), label=0, z_order=0), Mask(id=1831, attributes={}, group=1831, _image=functools.partial(<bound method CompiledMask.extract of <datumaro.components.annotation.CompiledMask object at 0x7f7434061090>>, 1831), label=1, z_order=0), Mask(id=774, attributes={}, group=774, _image=functools.partial(<bound method CompiledMask.extract of <datumaro.components.annotation.CompiledMask object at 0x7f7434061150>>, 774), label=2, z_order=1), Mask(id=2122, attributes={}, group=2122, _image=functools.partial(<bound method CompiledMask.extract of <datumaro.components.annotation.CompiledMask object at 0x7f7434061110>>, 2122), label=3, z_order=2), Mask(id=0, attributes={}, group=0, _image=functools.partial(<bound method CompiledMask.extract of <datumaro.components.annotation.CompiledMask object at 0x7f7434061b90>>, 1), label=0, z_order=0), Mask(id=1, attributes={'walkin': True}, group=1, _image=functools.partial(<bound method CompiledMask.extract of <datumaro.components.annotation.CompiledMask object at 0x7f7434063510>>, 1), label=1, z_order=0), Mask(id=2, attributes={}, group=2, _image=functools.partial(<bound method CompiledMask.extract of <datumaro.components.annotation.CompiledMask object at 0x7f7434063190>>, 1), label=2, z_order=1), Mask(id=3, attributes={}, group=3, _image=functools.partial(<bound method CompiledMask.extract of <datumaro.components.annotation.CompiledMask object at 0x7f7434063290>>, 1), label=3, z_order=2)], attributes={}, hash_key=['09effa1b4c54099b48ce2f97ca195100f5115aad2e1aad36e1abfaf8fd10c0c7a167ddf6b539399e7ddaf32ba0b1ee07a038369e6ad898e50a2cf98912248bcc'])\n"
     ]
    }
   ],
   "source": [
    "for i, item in enumerate(dataset):\n",
    "    print(item)"
   ]
  },
  {
   "cell_type": "code",
   "execution_count": 10,
   "id": "08346613",
   "metadata": {},
   "outputs": [
    {
     "name": "stdout",
     "output_type": "stream",
     "text": [
      "[DatasetItem(id='street/1', subset='training', media=<datumaro.components.media.Image object at 0x7f7434061e50>, annotations=[Mask(id=401, attributes={}, group=401, _image=functools.partial(<bound method CompiledMask.extract of <datumaro.components.annotation.CompiledMask object at 0x7f7434061ed0>>, 401), label=0, z_order=0), Mask(id=1831, attributes={}, group=1831, _image=functools.partial(<bound method CompiledMask.extract of <datumaro.components.annotation.CompiledMask object at 0x7f7434061ed0>>, 1831), label=1, z_order=0), Mask(id=774, attributes={}, group=774, _image=functools.partial(<bound method CompiledMask.extract of <datumaro.components.annotation.CompiledMask object at 0x7f7434061f90>>, 774), label=2, z_order=1), Mask(id=0, attributes={}, group=0, _image=functools.partial(<bound method CompiledMask.extract of <datumaro.components.annotation.CompiledMask object at 0x7f7434061c50>>, 1), label=0, z_order=0), Mask(id=1, attributes={'walkin': True}, group=1, _image=functools.partial(<bound method CompiledMask.extract of <datumaro.components.annotation.CompiledMask object at 0x7f74340610d0>>, 1), label=1, z_order=0), Polygon(id=1, attributes={'walkin': True}, group=1, points=[1, 0, 1, 1, 1, 2, 1, 3, 1, 4], label=1, z_order=0), Mask(id=2, attributes={}, group=2, _image=functools.partial(<bound method CompiledMask.extract of <datumaro.components.annotation.CompiledMask object at 0x7f7434061e90>>, 1), label=2, z_order=1)], attributes={}, hash_key=['09effa1b4c54099b48ce2f97ca195100f5115aad2e1aad36e1abfaf8fd10c0c7a167ddf6b539399e7ddaf32ba0b1ee07a038369e6ad898e50a2cf98912248bcc']), DatasetItem(id='2', subset='validation', media=<datumaro.components.media.Image object at 0x7f7434061690>, annotations=[Mask(id=401, attributes={}, group=401, _image=functools.partial(<bound method CompiledMask.extract of <datumaro.components.annotation.CompiledMask object at 0x7f7434061090>>, 401), label=0, z_order=0), Mask(id=1831, attributes={}, group=1831, _image=functools.partial(<bound method CompiledMask.extract of <datumaro.components.annotation.CompiledMask object at 0x7f7434061090>>, 1831), label=1, z_order=0), Mask(id=774, attributes={}, group=774, _image=functools.partial(<bound method CompiledMask.extract of <datumaro.components.annotation.CompiledMask object at 0x7f7434061150>>, 774), label=2, z_order=1), Mask(id=2122, attributes={}, group=2122, _image=functools.partial(<bound method CompiledMask.extract of <datumaro.components.annotation.CompiledMask object at 0x7f7434061110>>, 2122), label=3, z_order=2), Mask(id=0, attributes={}, group=0, _image=functools.partial(<bound method CompiledMask.extract of <datumaro.components.annotation.CompiledMask object at 0x7f7434061b90>>, 1), label=0, z_order=0), Mask(id=1, attributes={'walkin': True}, group=1, _image=functools.partial(<bound method CompiledMask.extract of <datumaro.components.annotation.CompiledMask object at 0x7f7434063510>>, 1), label=1, z_order=0), Mask(id=2, attributes={}, group=2, _image=functools.partial(<bound method CompiledMask.extract of <datumaro.components.annotation.CompiledMask object at 0x7f7434063190>>, 1), label=2, z_order=1), Mask(id=3, attributes={}, group=3, _image=functools.partial(<bound method CompiledMask.extract of <datumaro.components.annotation.CompiledMask object at 0x7f7434063290>>, 1), label=3, z_order=2)], attributes={}, hash_key=['09effa1b4c54099b48ce2f97ca195100f5115aad2e1aad36e1abfaf8fd10c0c7a167ddf6b539399e7ddaf32ba0b1ee07a038369e6ad898e50a2cf98912248bcc'])]\n"
     ]
    }
   ],
   "source": [
    "for i, item in enumerate(dataset):\n",
    "    if i==0:\n",
    "        query = item\n",
    "searcher = Searcher(dataset)\n",
    "topk_list = searcher.search_topk(query, topk=2)\n",
    "print(topk_list)"
   ]
  },
  {
   "cell_type": "code",
   "execution_count": 11,
   "id": "6e7960d3",
   "metadata": {},
   "outputs": [
    {
     "name": "stdout",
     "output_type": "stream",
     "text": [
      "setting dataset time for 1 items:  0.15681862831115723\n"
     ]
    },
    {
     "data": {
      "text/plain": [
       "Dataset\n",
       "\tsize=1\n",
       "\tsource_path=./tests/assets/ade20k2020_dataset/dataset_with_meta_file\n",
       "\tmedia_type=<class 'datumaro.components.media.Image'>\n",
       "\tannotated_items_count=1\n",
       "\tannotations_count=7\n",
       "subsets\n",
       "\ttraining: # of items=1, # of annotated items=1, # of annotations=7, annotation types=['mask', 'polygon']\n",
       "infos\n",
       "\tcategories\n",
       "\tlabel: ['car', 'person', 'door', 'rim']"
      ]
     },
     "execution_count": 11,
     "metadata": {},
     "output_type": "execute_result"
    }
   ],
   "source": [
    "start_time = time.time()\n",
    "dataset = dm.Dataset.import_from('./tests/assets/ade20k2020_dataset/dataset_with_meta_file', save_hash=True)\n",
    "print(f'setting dataset time for {len(dataset)} items: ', time.time()-start_time)\n",
    "dataset"
   ]
  },
  {
   "cell_type": "code",
   "execution_count": 12,
   "id": "64621007",
   "metadata": {},
   "outputs": [
    {
     "name": "stdout",
     "output_type": "stream",
     "text": [
      "DatasetItem(id='street/1', subset='training', media=<datumaro.components.media.Image object at 0x7f7434075a50>, annotations=[Mask(id=401, attributes={}, group=401, _image=functools.partial(<bound method CompiledMask.extract of <datumaro.components.annotation.CompiledMask object at 0x7f7434075b50>>, 401), label=0, z_order=0), Mask(id=1831, attributes={}, group=1831, _image=functools.partial(<bound method CompiledMask.extract of <datumaro.components.annotation.CompiledMask object at 0x7f7434075b50>>, 1831), label=1, z_order=0), Mask(id=774, attributes={}, group=774, _image=functools.partial(<bound method CompiledMask.extract of <datumaro.components.annotation.CompiledMask object at 0x7f7434075b90>>, 774), label=2, z_order=1), Mask(id=0, attributes={}, group=0, _image=functools.partial(<bound method CompiledMask.extract of <datumaro.components.annotation.CompiledMask object at 0x7f74340756d0>>, 1), label=0, z_order=0), Mask(id=1, attributes={'walkin': True}, group=1, _image=functools.partial(<bound method CompiledMask.extract of <datumaro.components.annotation.CompiledMask object at 0x7f74340759d0>>, 1), label=1, z_order=0), Polygon(id=1, attributes={'walkin': True}, group=1, points=[1, 0, 1, 1, 1, 2, 1, 3, 1, 4], label=1, z_order=0), Mask(id=2, attributes={}, group=2, _image=functools.partial(<bound method CompiledMask.extract of <datumaro.components.annotation.CompiledMask object at 0x7f7434075ad0>>, 1), label=2, z_order=1)], attributes={}, hash_key=['09effa1b4c54099b48ce2f97ca195100f5115aad2e1aad36e1abfaf8fd10c0c7a167ddf6b539399e7ddaf32ba0b1ee07a038369e6ad898e50a2cf98912248bcc'])\n"
     ]
    }
   ],
   "source": [
    "for i, item in enumerate(dataset):\n",
    "    print(item)"
   ]
  },
  {
   "cell_type": "code",
   "execution_count": 13,
   "id": "dbd3c920",
   "metadata": {},
   "outputs": [
    {
     "name": "stdout",
     "output_type": "stream",
     "text": [
      "[DatasetItem(id='street/1', subset='training', media=<datumaro.components.media.Image object at 0x7f7434075a50>, annotations=[Mask(id=401, attributes={}, group=401, _image=functools.partial(<bound method CompiledMask.extract of <datumaro.components.annotation.CompiledMask object at 0x7f7434075b50>>, 401), label=0, z_order=0), Mask(id=1831, attributes={}, group=1831, _image=functools.partial(<bound method CompiledMask.extract of <datumaro.components.annotation.CompiledMask object at 0x7f7434075b50>>, 1831), label=1, z_order=0), Mask(id=774, attributes={}, group=774, _image=functools.partial(<bound method CompiledMask.extract of <datumaro.components.annotation.CompiledMask object at 0x7f7434075b90>>, 774), label=2, z_order=1), Mask(id=0, attributes={}, group=0, _image=functools.partial(<bound method CompiledMask.extract of <datumaro.components.annotation.CompiledMask object at 0x7f74340756d0>>, 1), label=0, z_order=0), Mask(id=1, attributes={'walkin': True}, group=1, _image=functools.partial(<bound method CompiledMask.extract of <datumaro.components.annotation.CompiledMask object at 0x7f74340759d0>>, 1), label=1, z_order=0), Polygon(id=1, attributes={'walkin': True}, group=1, points=[1, 0, 1, 1, 1, 2, 1, 3, 1, 4], label=1, z_order=0), Mask(id=2, attributes={}, group=2, _image=functools.partial(<bound method CompiledMask.extract of <datumaro.components.annotation.CompiledMask object at 0x7f7434075ad0>>, 1), label=2, z_order=1)], attributes={}, hash_key=['09effa1b4c54099b48ce2f97ca195100f5115aad2e1aad36e1abfaf8fd10c0c7a167ddf6b539399e7ddaf32ba0b1ee07a038369e6ad898e50a2cf98912248bcc'])]\n"
     ]
    }
   ],
   "source": [
    "for i, item in enumerate(dataset):\n",
    "    if i==0:\n",
    "        query = item\n",
    "searcher = Searcher(dataset)\n",
    "topk_list = searcher.search_topk(query, topk=2)\n",
    "print(topk_list)"
   ]
  },
  {
   "cell_type": "markdown",
   "id": "230549bb",
   "metadata": {},
   "source": [
    "## align_celeba_dataset"
   ]
  },
  {
   "cell_type": "code",
   "execution_count": 14,
   "id": "6289f4db",
   "metadata": {},
   "outputs": [
    {
     "name": "stdout",
     "output_type": "stream",
     "text": [
      "setting dataset time for 5 items:  0.8349370956420898\n"
     ]
    },
    {
     "data": {
      "text/plain": [
       "Dataset\n",
       "\tsize=5\n",
       "\tsource_path=./tests/assets/align_celeba_dataset/dataset\n",
       "\tmedia_type=<class 'datumaro.components.media.Image'>\n",
       "\tannotated_items_count=5\n",
       "\tannotations_count=10\n",
       "subsets\n",
       "\ttest: # of items=2, # of annotated items=2, # of annotations=4, annotation types=['label', 'points']\n",
       "\ttrain: # of items=2, # of annotated items=2, # of annotations=4, annotation types=['label', 'points']\n",
       "\tval: # of items=1, # of annotated items=1, # of annotations=2, annotation types=['label', 'points']\n",
       "infos\n",
       "\tcategories\n",
       "\tlabel: ['class-0', 'class-1', 'class-2', 'class-3', 'class-4', 'class-5', 'class-6', 'class-7', 'class-8', 'class-9', 'class-10', 'class-11', 'class-12']\n",
       "\tpoints: []"
      ]
     },
     "execution_count": 14,
     "metadata": {},
     "output_type": "execute_result"
    }
   ],
   "source": [
    "start_time = time.time()\n",
    "dataset = dm.Dataset.import_from('./tests/assets/align_celeba_dataset/dataset', format=\"align_celeba\", save_hash=True)\n",
    "print(f'setting dataset time for {len(dataset)} items: ', time.time()-start_time)\n",
    "dataset"
   ]
  },
  {
   "cell_type": "code",
   "execution_count": 15,
   "id": "17cea7b8",
   "metadata": {},
   "outputs": [
    {
     "name": "stdout",
     "output_type": "stream",
     "text": [
      "DatasetItem(id='000001', subset='train', media=<datumaro.components.media.Image object at 0x7f7434080810>, annotations=[Label(id=0, attributes={}, group=0, label=12), Points(id=0, attributes={}, group=0, points=[69.0, 109.0, 106.0, 113.0, 77.0, 142.0, 73.0, 152.0, 108.0, 154.0], label=12, z_order=0, visibility=[<Visibility.visible: 2>, <Visibility.visible: 2>, <Visibility.visible: 2>, <Visibility.visible: 2>, <Visibility.visible: 2>])], attributes={'5_o_Clock_Shadow': False, 'Arched_Eyebrows': True, 'Attractive': True, 'Bags_Under_Eyes': False, 'Bald': False, 'Bangs': False, 'Big_Lips': False, 'Big_Nose': False}, hash_key=['09effa1b4c54099b48ce2f97ca195100f5115aad2e1aad36e1abfaf8fd10c0c7a167ddf6b539399e7ddaf32ba0b1ee07a038369e6ad898e50a2cf98912248bcc'])\n",
      "DatasetItem(id='000002', subset='train', media=<datumaro.components.media.Image object at 0x7f74340807d0>, annotations=[Label(id=0, attributes={}, group=0, label=5), Points(id=0, attributes={}, group=0, points=[69.0, 110.0, 107.0, 112.0, 81.0, 135.0, 70.0, 151.0, 108.0, 153.0], label=5, z_order=0, visibility=[<Visibility.visible: 2>, <Visibility.visible: 2>, <Visibility.visible: 2>, <Visibility.visible: 2>, <Visibility.visible: 2>])], attributes={}, hash_key=['09effa1b4c54099b48ce2f97ca195100f5115aad2e1aad36e1abfaf8fd10c0c7a167ddf6b539399e7ddaf32ba0b1ee07a038369e6ad898e50a2cf98912248bcc'])\n",
      "DatasetItem(id='000003', subset='val', media=<datumaro.components.media.Image object at 0x7f7475d61710>, annotations=[Label(id=0, attributes={}, group=0, label=2), Points(id=0, attributes={}, group=0, points=[76.0, 112.0, 104.0, 106.0, 108.0, 128.0, 74.0, 156.0, 98.0, 158.0], label=2, z_order=0, visibility=[<Visibility.visible: 2>, <Visibility.visible: 2>, <Visibility.visible: 2>, <Visibility.visible: 2>, <Visibility.visible: 2>])], attributes={'5_o_Clock_Shadow': False, 'Arched_Eyebrows': False, 'Attractive': False, 'Bags_Under_Eyes': True, 'Bald': False, 'Bangs': False, 'Big_Lips': False, 'Big_Nose': True}, hash_key=['09effa1b4c54099b48ce2f97ca195100f5115aad2e1aad36e1abfaf8fd10c0c7a167ddf6b539399e7ddaf32ba0b1ee07a038369e6ad898e50a2cf98912248bcc'])\n",
      "DatasetItem(id='000004', subset='test', media=<datumaro.components.media.Image object at 0x7f7434080d10>, annotations=[Label(id=0, attributes={}, group=0, label=10), Points(id=0, attributes={}, group=0, points=[72.0, 113.0, 108.0, 108.0, 101.0, 138.0, 71.0, 155.0, 101.0, 151.0], label=10, z_order=0, visibility=[<Visibility.visible: 2>, <Visibility.visible: 2>, <Visibility.visible: 2>, <Visibility.visible: 2>, <Visibility.visible: 2>])], attributes={}, hash_key=['09effa1b4c54099b48ce2f97ca195100f5115aad2e1aad36e1abfaf8fd10c0c7a167ddf6b539399e7ddaf32ba0b1ee07a038369e6ad898e50a2cf98912248bcc'])\n",
      "DatasetItem(id='000005', subset='test', media=<datumaro.components.media.Image object at 0x7f7434068310>, annotations=[Label(id=0, attributes={}, group=0, label=7), Points(id=0, attributes={}, group=0, points=[66.0, 114.0, 112.0, 112.0, 86.0, 119.0, 71.0, 147.0, 104.0, 150.0], label=7, z_order=0, visibility=[<Visibility.visible: 2>, <Visibility.visible: 2>, <Visibility.visible: 2>, <Visibility.visible: 2>, <Visibility.visible: 2>])], attributes={}, hash_key=['09effa1b4c54099b48ce2f97ca195100f5115aad2e1aad36e1abfaf8fd10c0c7a167ddf6b539399e7ddaf32ba0b1ee07a038369e6ad898e50a2cf98912248bcc'])\n"
     ]
    }
   ],
   "source": [
    "for i, item in enumerate(dataset):\n",
    "    print(item)"
   ]
  },
  {
   "cell_type": "code",
   "execution_count": 16,
   "id": "d20157e8",
   "metadata": {},
   "outputs": [
    {
     "name": "stdout",
     "output_type": "stream",
     "text": [
      "[DatasetItem(id='000001', subset='train', media=<datumaro.components.media.Image object at 0x7f7434080810>, annotations=[Label(id=0, attributes={}, group=0, label=12), Points(id=0, attributes={}, group=0, points=[69.0, 109.0, 106.0, 113.0, 77.0, 142.0, 73.0, 152.0, 108.0, 154.0], label=12, z_order=0, visibility=[<Visibility.visible: 2>, <Visibility.visible: 2>, <Visibility.visible: 2>, <Visibility.visible: 2>, <Visibility.visible: 2>])], attributes={'5_o_Clock_Shadow': False, 'Arched_Eyebrows': True, 'Attractive': True, 'Bags_Under_Eyes': False, 'Bald': False, 'Bangs': False, 'Big_Lips': False, 'Big_Nose': False}, hash_key=['09effa1b4c54099b48ce2f97ca195100f5115aad2e1aad36e1abfaf8fd10c0c7a167ddf6b539399e7ddaf32ba0b1ee07a038369e6ad898e50a2cf98912248bcc']), DatasetItem(id='000002', subset='train', media=<datumaro.components.media.Image object at 0x7f74340807d0>, annotations=[Label(id=0, attributes={}, group=0, label=5), Points(id=0, attributes={}, group=0, points=[69.0, 110.0, 107.0, 112.0, 81.0, 135.0, 70.0, 151.0, 108.0, 153.0], label=5, z_order=0, visibility=[<Visibility.visible: 2>, <Visibility.visible: 2>, <Visibility.visible: 2>, <Visibility.visible: 2>, <Visibility.visible: 2>])], attributes={}, hash_key=['09effa1b4c54099b48ce2f97ca195100f5115aad2e1aad36e1abfaf8fd10c0c7a167ddf6b539399e7ddaf32ba0b1ee07a038369e6ad898e50a2cf98912248bcc'])]\n"
     ]
    }
   ],
   "source": [
    "for i, item in enumerate(dataset):\n",
    "    if i==0:\n",
    "        query = item\n",
    "searcher = Searcher(dataset)\n",
    "topk_list = searcher.search_topk(query, topk=2)\n",
    "print(topk_list)"
   ]
  },
  {
   "cell_type": "code",
   "execution_count": 17,
   "id": "7b9d50be",
   "metadata": {},
   "outputs": [
    {
     "name": "stdout",
     "output_type": "stream",
     "text": [
      "setting dataset time for 5 items:  0.8199515342712402\n"
     ]
    },
    {
     "data": {
      "text/plain": [
       "Dataset\n",
       "\tsize=5\n",
       "\tsource_path=./tests/assets/align_celeba_dataset/dataset_with_meta_file\n",
       "\tmedia_type=<class 'datumaro.components.media.Image'>\n",
       "\tannotated_items_count=5\n",
       "\tannotations_count=5\n",
       "subsets\n",
       "\ttest: # of items=2, # of annotated items=2, # of annotations=2, annotation types=['label']\n",
       "\ttrain: # of items=2, # of annotated items=2, # of annotations=2, annotation types=['label']\n",
       "\tval: # of items=1, # of annotated items=1, # of annotations=1, annotation types=['label']\n",
       "infos\n",
       "\tcategories\n",
       "\tlabel: ['class-0', 'class-1', 'class-2', 'class-3', 'class-4', 'class-5', 'class-6']"
      ]
     },
     "execution_count": 17,
     "metadata": {},
     "output_type": "execute_result"
    }
   ],
   "source": [
    "start_time = time.time()\n",
    "dataset = dm.Dataset.import_from('./tests/assets/align_celeba_dataset/dataset_with_meta_file', format=\"align_celeba\", save_hash=True)\n",
    "print(f'setting dataset time for {len(dataset)} items: ', time.time()-start_time)\n",
    "dataset"
   ]
  },
  {
   "cell_type": "code",
   "execution_count": 18,
   "id": "a794f6da",
   "metadata": {},
   "outputs": [
    {
     "name": "stdout",
     "output_type": "stream",
     "text": [
      "DatasetItem(id='000001', subset='train', media=<datumaro.components.media.Image object at 0x7f7434068490>, annotations=[Label(id=0, attributes={}, group=0, label=1)], attributes={}, hash_key=['09effa1b4c54099b48ce2f97ca195100f5115aad2e1aad36e1abfaf8fd10c0c7a167ddf6b539399e7ddaf32ba0b1ee07a038369e6ad898e50a2cf98912248bcc'])\n",
      "DatasetItem(id='000002', subset='train', media=<datumaro.components.media.Image object at 0x7f747633f310>, annotations=[Label(id=0, attributes={}, group=0, label=3)], attributes={}, hash_key=['09effa1b4c54099b48ce2f97ca195100f5115aad2e1aad36e1abfaf8fd10c0c7a167ddf6b539399e7ddaf32ba0b1ee07a038369e6ad898e50a2cf98912248bcc'])\n",
      "DatasetItem(id='000003', subset='val', media=<datumaro.components.media.Image object at 0x7f7434080cd0>, annotations=[Label(id=0, attributes={}, group=0, label=0)], attributes={}, hash_key=['09effa1b4c54099b48ce2f97ca195100f5115aad2e1aad36e1abfaf8fd10c0c7a167ddf6b539399e7ddaf32ba0b1ee07a038369e6ad898e50a2cf98912248bcc'])\n",
      "DatasetItem(id='000004', subset='test', media=<datumaro.components.media.Image object at 0x7f74485abd10>, annotations=[Label(id=0, attributes={}, group=0, label=2)], attributes={}, hash_key=['09effa1b4c54099b48ce2f97ca195100f5115aad2e1aad36e1abfaf8fd10c0c7a167ddf6b539399e7ddaf32ba0b1ee07a038369e6ad898e50a2cf98912248bcc'])\n",
      "DatasetItem(id='000005', subset='test', media=<datumaro.components.media.Image object at 0x7f74569379d0>, annotations=[Label(id=0, attributes={}, group=0, label=6)], attributes={}, hash_key=['09effa1b4c54099b48ce2f97ca195100f5115aad2e1aad36e1abfaf8fd10c0c7a167ddf6b539399e7ddaf32ba0b1ee07a038369e6ad898e50a2cf98912248bcc'])\n"
     ]
    }
   ],
   "source": [
    "for i, item in enumerate(dataset):\n",
    "    print(item)"
   ]
  },
  {
   "cell_type": "code",
   "execution_count": 19,
   "id": "40786b90",
   "metadata": {},
   "outputs": [
    {
     "name": "stdout",
     "output_type": "stream",
     "text": [
      "[DatasetItem(id='000001', subset='train', media=<datumaro.components.media.Image object at 0x7f7434068490>, annotations=[Label(id=0, attributes={}, group=0, label=1)], attributes={}, hash_key=['09effa1b4c54099b48ce2f97ca195100f5115aad2e1aad36e1abfaf8fd10c0c7a167ddf6b539399e7ddaf32ba0b1ee07a038369e6ad898e50a2cf98912248bcc']), DatasetItem(id='000002', subset='train', media=<datumaro.components.media.Image object at 0x7f747633f310>, annotations=[Label(id=0, attributes={}, group=0, label=3)], attributes={}, hash_key=['09effa1b4c54099b48ce2f97ca195100f5115aad2e1aad36e1abfaf8fd10c0c7a167ddf6b539399e7ddaf32ba0b1ee07a038369e6ad898e50a2cf98912248bcc'])]\n"
     ]
    }
   ],
   "source": [
    "for i, item in enumerate(dataset):\n",
    "    if i==0:\n",
    "        query = item\n",
    "searcher = Searcher(dataset)\n",
    "topk_list = searcher.search_topk(query, topk=2)\n",
    "print(topk_list)"
   ]
  },
  {
   "cell_type": "markdown",
   "id": "f3be8eeb",
   "metadata": {},
   "source": [
    "## brats_dataset"
   ]
  },
  {
   "cell_type": "code",
   "execution_count": 20,
   "id": "8c43fde8",
   "metadata": {},
   "outputs": [
    {
     "ename": "AssertionError",
     "evalue": "Media type should be Image, Current type=<class 'datumaro.components.media.MultiframeImage'>",
     "output_type": "error",
     "traceback": [
      "\u001b[0;31m---------------------------------------------------------------------------\u001b[0m",
      "\u001b[0;31mTypeError\u001b[0m                                 Traceback (most recent call last)",
      "\u001b[0;32m~/workspace/datumaro_sa/datumaro/components/dataset.py\u001b[0m in \u001b[0;36mimport_from\u001b[0;34m(cls, path, format, env, progress_reporter, error_policy, save_hash, **kwargs)\u001b[0m\n\u001b[1;32m   1371\u001b[0m                     extractors.append(\n\u001b[0;32m-> 1372\u001b[0;31m                         \u001b[0menv\u001b[0m\u001b[0;34m.\u001b[0m\u001b[0mmake_extractor\u001b[0m\u001b[0;34m(\u001b[0m\u001b[0msrc_conf\u001b[0m\u001b[0;34m.\u001b[0m\u001b[0mformat\u001b[0m\u001b[0;34m,\u001b[0m \u001b[0msrc_conf\u001b[0m\u001b[0;34m.\u001b[0m\u001b[0murl\u001b[0m\u001b[0;34m,\u001b[0m \u001b[0;34m**\u001b[0m\u001b[0mextractor_kwargs\u001b[0m\u001b[0;34m)\u001b[0m\u001b[0;34m\u001b[0m\u001b[0;34m\u001b[0m\u001b[0m\n\u001b[0m\u001b[1;32m   1373\u001b[0m                     )\n",
      "\u001b[0;32m~/workspace/datumaro_sa/datumaro/components/environment.py\u001b[0m in \u001b[0;36mmake_extractor\u001b[0;34m(self, name, *args, **kwargs)\u001b[0m\n\u001b[1;32m    229\u001b[0m     \u001b[0;32mdef\u001b[0m \u001b[0mmake_extractor\u001b[0m\u001b[0;34m(\u001b[0m\u001b[0mself\u001b[0m\u001b[0;34m,\u001b[0m \u001b[0mname\u001b[0m\u001b[0;34m,\u001b[0m \u001b[0;34m*\u001b[0m\u001b[0margs\u001b[0m\u001b[0;34m,\u001b[0m \u001b[0;34m**\u001b[0m\u001b[0mkwargs\u001b[0m\u001b[0;34m)\u001b[0m\u001b[0;34m:\u001b[0m\u001b[0;34m\u001b[0m\u001b[0;34m\u001b[0m\u001b[0m\n\u001b[0;32m--> 230\u001b[0;31m         \u001b[0;32mreturn\u001b[0m \u001b[0mself\u001b[0m\u001b[0;34m.\u001b[0m\u001b[0mextractors\u001b[0m\u001b[0;34m.\u001b[0m\u001b[0mget\u001b[0m\u001b[0;34m(\u001b[0m\u001b[0mname\u001b[0m\u001b[0;34m)\u001b[0m\u001b[0;34m(\u001b[0m\u001b[0;34m*\u001b[0m\u001b[0margs\u001b[0m\u001b[0;34m,\u001b[0m \u001b[0;34m**\u001b[0m\u001b[0mkwargs\u001b[0m\u001b[0;34m)\u001b[0m\u001b[0;34m\u001b[0m\u001b[0;34m\u001b[0m\u001b[0m\n\u001b[0m\u001b[1;32m    231\u001b[0m \u001b[0;34m\u001b[0m\u001b[0m\n",
      "\u001b[0;31mTypeError\u001b[0m: __init__() got an unexpected keyword argument 'ctx'",
      "\nDuring handling of the above exception, another exception occurred:\n",
      "\u001b[0;31mAssertionError\u001b[0m                            Traceback (most recent call last)",
      "\u001b[0;32m/tmp/ipykernel_28790/1401597541.py\u001b[0m in \u001b[0;36m<module>\u001b[0;34m\u001b[0m\n\u001b[1;32m      1\u001b[0m \u001b[0mstart_time\u001b[0m \u001b[0;34m=\u001b[0m \u001b[0mtime\u001b[0m\u001b[0;34m.\u001b[0m\u001b[0mtime\u001b[0m\u001b[0;34m(\u001b[0m\u001b[0;34m)\u001b[0m\u001b[0;34m\u001b[0m\u001b[0;34m\u001b[0m\u001b[0m\n\u001b[0;32m----> 2\u001b[0;31m \u001b[0mdataset\u001b[0m \u001b[0;34m=\u001b[0m \u001b[0mdm\u001b[0m\u001b[0;34m.\u001b[0m\u001b[0mDataset\u001b[0m\u001b[0;34m.\u001b[0m\u001b[0mimport_from\u001b[0m\u001b[0;34m(\u001b[0m\u001b[0;34m'./tests/assets/brats_dataset'\u001b[0m\u001b[0;34m,\u001b[0m \u001b[0msave_hash\u001b[0m\u001b[0;34m=\u001b[0m\u001b[0;32mTrue\u001b[0m\u001b[0;34m)\u001b[0m\u001b[0;34m\u001b[0m\u001b[0;34m\u001b[0m\u001b[0m\n\u001b[0m\u001b[1;32m      3\u001b[0m \u001b[0mprint\u001b[0m\u001b[0;34m(\u001b[0m\u001b[0;34mf'setting dataset time for {len(dataset)} items: '\u001b[0m\u001b[0;34m,\u001b[0m \u001b[0mtime\u001b[0m\u001b[0;34m.\u001b[0m\u001b[0mtime\u001b[0m\u001b[0;34m(\u001b[0m\u001b[0;34m)\u001b[0m\u001b[0;34m-\u001b[0m\u001b[0mstart_time\u001b[0m\u001b[0;34m)\u001b[0m\u001b[0;34m\u001b[0m\u001b[0;34m\u001b[0m\u001b[0m\n\u001b[1;32m      4\u001b[0m \u001b[0mdataset\u001b[0m\u001b[0;34m\u001b[0m\u001b[0;34m\u001b[0m\u001b[0m\n",
      "\u001b[0;32m~/workspace/datumaro_sa/datumaro/components/dataset.py\u001b[0m in \u001b[0;36mimport_from\u001b[0;34m(cls, path, format, env, progress_reporter, error_policy, save_hash, **kwargs)\u001b[0m\n\u001b[1;32m   1387\u001b[0m \u001b[0;34m\u001b[0m\u001b[0m\n\u001b[1;32m   1388\u001b[0m                     extractors.append(\n\u001b[0;32m-> 1389\u001b[0;31m                         \u001b[0menv\u001b[0m\u001b[0;34m.\u001b[0m\u001b[0mmake_extractor\u001b[0m\u001b[0;34m(\u001b[0m\u001b[0msrc_conf\u001b[0m\u001b[0;34m.\u001b[0m\u001b[0mformat\u001b[0m\u001b[0;34m,\u001b[0m \u001b[0msrc_conf\u001b[0m\u001b[0;34m.\u001b[0m\u001b[0murl\u001b[0m\u001b[0;34m,\u001b[0m \u001b[0;34m**\u001b[0m\u001b[0mextractor_kwargs\u001b[0m\u001b[0;34m)\u001b[0m\u001b[0;34m\u001b[0m\u001b[0;34m\u001b[0m\u001b[0m\n\u001b[0m\u001b[1;32m   1390\u001b[0m                     )\n\u001b[1;32m   1391\u001b[0m \u001b[0;34m\u001b[0m\u001b[0m\n",
      "\u001b[0;32m~/workspace/datumaro_sa/datumaro/components/environment.py\u001b[0m in \u001b[0;36mmake_extractor\u001b[0;34m(self, name, *args, **kwargs)\u001b[0m\n\u001b[1;32m    228\u001b[0m \u001b[0;34m\u001b[0m\u001b[0m\n\u001b[1;32m    229\u001b[0m     \u001b[0;32mdef\u001b[0m \u001b[0mmake_extractor\u001b[0m\u001b[0;34m(\u001b[0m\u001b[0mself\u001b[0m\u001b[0;34m,\u001b[0m \u001b[0mname\u001b[0m\u001b[0;34m,\u001b[0m \u001b[0;34m*\u001b[0m\u001b[0margs\u001b[0m\u001b[0;34m,\u001b[0m \u001b[0;34m**\u001b[0m\u001b[0mkwargs\u001b[0m\u001b[0;34m)\u001b[0m\u001b[0;34m:\u001b[0m\u001b[0;34m\u001b[0m\u001b[0;34m\u001b[0m\u001b[0m\n\u001b[0;32m--> 230\u001b[0;31m         \u001b[0;32mreturn\u001b[0m \u001b[0mself\u001b[0m\u001b[0;34m.\u001b[0m\u001b[0mextractors\u001b[0m\u001b[0;34m.\u001b[0m\u001b[0mget\u001b[0m\u001b[0;34m(\u001b[0m\u001b[0mname\u001b[0m\u001b[0;34m)\u001b[0m\u001b[0;34m(\u001b[0m\u001b[0;34m*\u001b[0m\u001b[0margs\u001b[0m\u001b[0;34m,\u001b[0m \u001b[0;34m**\u001b[0m\u001b[0mkwargs\u001b[0m\u001b[0;34m)\u001b[0m\u001b[0;34m\u001b[0m\u001b[0;34m\u001b[0m\u001b[0m\n\u001b[0m\u001b[1;32m    231\u001b[0m \u001b[0;34m\u001b[0m\u001b[0m\n\u001b[1;32m    232\u001b[0m     \u001b[0;32mdef\u001b[0m \u001b[0mmake_importer\u001b[0m\u001b[0;34m(\u001b[0m\u001b[0mself\u001b[0m\u001b[0;34m,\u001b[0m \u001b[0mname\u001b[0m\u001b[0;34m,\u001b[0m \u001b[0;34m*\u001b[0m\u001b[0margs\u001b[0m\u001b[0;34m,\u001b[0m \u001b[0;34m**\u001b[0m\u001b[0mkwargs\u001b[0m\u001b[0;34m)\u001b[0m\u001b[0;34m:\u001b[0m\u001b[0;34m\u001b[0m\u001b[0;34m\u001b[0m\u001b[0m\n",
      "\u001b[0;32m~/workspace/datumaro_sa/datumaro/plugins/brats_format.py\u001b[0m in \u001b[0;36m__init__\u001b[0;34m(self, path, save_hash)\u001b[0m\n\u001b[1;32m     37\u001b[0m         \u001b[0mself\u001b[0m\u001b[0;34m.\u001b[0m\u001b[0m_save_hash\u001b[0m \u001b[0;34m=\u001b[0m \u001b[0msave_hash\u001b[0m\u001b[0;34m\u001b[0m\u001b[0;34m\u001b[0m\u001b[0m\n\u001b[1;32m     38\u001b[0m         \u001b[0mself\u001b[0m\u001b[0;34m.\u001b[0m\u001b[0m_categories\u001b[0m \u001b[0;34m=\u001b[0m \u001b[0mself\u001b[0m\u001b[0;34m.\u001b[0m\u001b[0m_load_categories\u001b[0m\u001b[0;34m(\u001b[0m\u001b[0;34m)\u001b[0m\u001b[0;34m\u001b[0m\u001b[0;34m\u001b[0m\u001b[0m\n\u001b[0;32m---> 39\u001b[0;31m         \u001b[0mself\u001b[0m\u001b[0;34m.\u001b[0m\u001b[0m_items\u001b[0m \u001b[0;34m=\u001b[0m \u001b[0mlist\u001b[0m\u001b[0;34m(\u001b[0m\u001b[0mself\u001b[0m\u001b[0;34m.\u001b[0m\u001b[0m_load_items\u001b[0m\u001b[0;34m(\u001b[0m\u001b[0mpath\u001b[0m\u001b[0;34m)\u001b[0m\u001b[0;34m.\u001b[0m\u001b[0mvalues\u001b[0m\u001b[0;34m(\u001b[0m\u001b[0;34m)\u001b[0m\u001b[0;34m)\u001b[0m\u001b[0;34m\u001b[0m\u001b[0;34m\u001b[0m\u001b[0m\n\u001b[0m\u001b[1;32m     40\u001b[0m \u001b[0;34m\u001b[0m\u001b[0m\n\u001b[1;32m     41\u001b[0m     \u001b[0;32mdef\u001b[0m \u001b[0m_load_categories\u001b[0m\u001b[0;34m(\u001b[0m\u001b[0mself\u001b[0m\u001b[0;34m)\u001b[0m\u001b[0;34m:\u001b[0m\u001b[0;34m\u001b[0m\u001b[0;34m\u001b[0m\u001b[0m\n",
      "\u001b[0;32m~/workspace/datumaro_sa/datumaro/plugins/brats_format.py\u001b[0m in \u001b[0;36m_load_items\u001b[0;34m(self, path)\u001b[0m\n\u001b[1;32m     63\u001b[0m \u001b[0;34m\u001b[0m\u001b[0m\n\u001b[1;32m     64\u001b[0m             items[item_id] = DatasetItem(\n\u001b[0;32m---> 65\u001b[0;31m                 \u001b[0mid\u001b[0m\u001b[0;34m=\u001b[0m\u001b[0mitem_id\u001b[0m\u001b[0;34m,\u001b[0m \u001b[0msubset\u001b[0m\u001b[0;34m=\u001b[0m\u001b[0mself\u001b[0m\u001b[0;34m.\u001b[0m\u001b[0m_subset\u001b[0m\u001b[0;34m,\u001b[0m \u001b[0mmedia\u001b[0m\u001b[0;34m=\u001b[0m\u001b[0mMultiframeImage\u001b[0m\u001b[0;34m(\u001b[0m\u001b[0mimages\u001b[0m\u001b[0;34m,\u001b[0m \u001b[0mpath\u001b[0m\u001b[0;34m=\u001b[0m\u001b[0mimage_path\u001b[0m\u001b[0;34m)\u001b[0m\u001b[0;34m,\u001b[0m \u001b[0msave_hash\u001b[0m\u001b[0;34m=\u001b[0m\u001b[0mself\u001b[0m\u001b[0;34m.\u001b[0m\u001b[0m_save_hash\u001b[0m\u001b[0;34m\u001b[0m\u001b[0;34m\u001b[0m\u001b[0m\n\u001b[0m\u001b[1;32m     66\u001b[0m             )\n\u001b[1;32m     67\u001b[0m \u001b[0;34m\u001b[0m\u001b[0m\n",
      "\u001b[0;32m~/workspace/datumaro_sa/datumaro/components/extractor.py\u001b[0m in \u001b[0;36m__init__\u001b[0;34m(self, id, subset, media, annotations, attributes, save_hash, image, point_cloud, related_images, hash_key)\u001b[0m\n\u001b[1;32m    119\u001b[0m \u001b[0;34m\u001b[0m\u001b[0m\n\u001b[1;32m    120\u001b[0m         \u001b[0;32mif\u001b[0m \u001b[0msave_hash\u001b[0m \u001b[0;32mand\u001b[0m \u001b[0mbool\u001b[0m\u001b[0;34m(\u001b[0m\u001b[0mmedia\u001b[0m\u001b[0;34m)\u001b[0m\u001b[0;34m:\u001b[0m\u001b[0;34m\u001b[0m\u001b[0;34m\u001b[0m\u001b[0m\n\u001b[0;32m--> 121\u001b[0;31m             \u001b[0mhash_key\u001b[0m \u001b[0;34m=\u001b[0m \u001b[0minference\u001b[0m\u001b[0;34m(\u001b[0m\u001b[0mmedia\u001b[0m\u001b[0;34m)\u001b[0m\u001b[0;34m\u001b[0m\u001b[0;34m\u001b[0m\u001b[0m\n\u001b[0m\u001b[1;32m    122\u001b[0m \u001b[0;34m\u001b[0m\u001b[0m\n\u001b[1;32m    123\u001b[0m         self.__attrs_init__(\n",
      "\u001b[0;32m~/workspace/datumaro_sa/datumaro/components/model_inference.py\u001b[0m in \u001b[0;36minference\u001b[0;34m(item)\u001b[0m\n\u001b[1;32m    645\u001b[0m \u001b[0;34m\u001b[0m\u001b[0m\n\u001b[1;32m    646\u001b[0m \u001b[0;32mdef\u001b[0m \u001b[0minference\u001b[0m\u001b[0;34m(\u001b[0m\u001b[0mitem\u001b[0m\u001b[0;34m)\u001b[0m\u001b[0;34m:\u001b[0m\u001b[0;34m\u001b[0m\u001b[0;34m\u001b[0m\u001b[0m\n\u001b[0;32m--> 647\u001b[0;31m     \u001b[0;32massert\u001b[0m \u001b[0;32mnot\u001b[0m \u001b[0mtype\u001b[0m\u001b[0;34m(\u001b[0m\u001b[0mitem\u001b[0m\u001b[0;34m)\u001b[0m \u001b[0;32min\u001b[0m \u001b[0;34m[\u001b[0m\u001b[0mVideo\u001b[0m\u001b[0;34m,\u001b[0m \u001b[0mPointCloud\u001b[0m\u001b[0;34m,\u001b[0m \u001b[0mMultiframeImage\u001b[0m\u001b[0;34m]\u001b[0m\u001b[0;34m,\u001b[0m \u001b[0;34mf\"Media type should be Image, Current type={type(item)}\"\u001b[0m\u001b[0;34m\u001b[0m\u001b[0;34m\u001b[0m\u001b[0m\n\u001b[0m\u001b[1;32m    648\u001b[0m     \u001b[0;31m# assert not isinstance(item, Video), f\"Media type should be Image, Current type={type(item)}\"\u001b[0m\u001b[0;34m\u001b[0m\u001b[0;34m\u001b[0m\u001b[0;34m\u001b[0m\u001b[0m\n\u001b[1;32m    649\u001b[0m     \u001b[0;31m# assert not isinstance(item, PointCloud), f\"Media type should be Image, Current type={type(item)}\"\u001b[0m\u001b[0;34m\u001b[0m\u001b[0;34m\u001b[0m\u001b[0;34m\u001b[0m\u001b[0m\n",
      "\u001b[0;31mAssertionError\u001b[0m: Media type should be Image, Current type=<class 'datumaro.components.media.MultiframeImage'>"
     ]
    }
   ],
   "source": [
    "start_time = time.time()\n",
    "dataset = dm.Dataset.import_from('./tests/assets/brats_dataset', save_hash=True)\n",
    "print(f'setting dataset time for {len(dataset)} items: ', time.time()-start_time)\n",
    "dataset"
   ]
  },
  {
   "cell_type": "markdown",
   "id": "59d66f43",
   "metadata": {},
   "source": [
    "## brats_numpy_dataset"
   ]
  },
  {
   "cell_type": "code",
   "execution_count": 21,
   "id": "1aeb4c64",
   "metadata": {},
   "outputs": [
    {
     "ename": "AssertionError",
     "evalue": "Media type should be Image, Current type=<class 'datumaro.components.media.MultiframeImage'>",
     "output_type": "error",
     "traceback": [
      "\u001b[0;31m---------------------------------------------------------------------------\u001b[0m",
      "\u001b[0;31mTypeError\u001b[0m                                 Traceback (most recent call last)",
      "\u001b[0;32m~/workspace/datumaro_sa/datumaro/components/dataset.py\u001b[0m in \u001b[0;36mimport_from\u001b[0;34m(cls, path, format, env, progress_reporter, error_policy, save_hash, **kwargs)\u001b[0m\n\u001b[1;32m   1371\u001b[0m                     extractors.append(\n\u001b[0;32m-> 1372\u001b[0;31m                         \u001b[0menv\u001b[0m\u001b[0;34m.\u001b[0m\u001b[0mmake_extractor\u001b[0m\u001b[0;34m(\u001b[0m\u001b[0msrc_conf\u001b[0m\u001b[0;34m.\u001b[0m\u001b[0mformat\u001b[0m\u001b[0;34m,\u001b[0m \u001b[0msrc_conf\u001b[0m\u001b[0;34m.\u001b[0m\u001b[0murl\u001b[0m\u001b[0;34m,\u001b[0m \u001b[0;34m**\u001b[0m\u001b[0mextractor_kwargs\u001b[0m\u001b[0;34m)\u001b[0m\u001b[0;34m\u001b[0m\u001b[0;34m\u001b[0m\u001b[0m\n\u001b[0m\u001b[1;32m   1373\u001b[0m                     )\n",
      "\u001b[0;32m~/workspace/datumaro_sa/datumaro/components/environment.py\u001b[0m in \u001b[0;36mmake_extractor\u001b[0;34m(self, name, *args, **kwargs)\u001b[0m\n\u001b[1;32m    229\u001b[0m     \u001b[0;32mdef\u001b[0m \u001b[0mmake_extractor\u001b[0m\u001b[0;34m(\u001b[0m\u001b[0mself\u001b[0m\u001b[0;34m,\u001b[0m \u001b[0mname\u001b[0m\u001b[0;34m,\u001b[0m \u001b[0;34m*\u001b[0m\u001b[0margs\u001b[0m\u001b[0;34m,\u001b[0m \u001b[0;34m**\u001b[0m\u001b[0mkwargs\u001b[0m\u001b[0;34m)\u001b[0m\u001b[0;34m:\u001b[0m\u001b[0;34m\u001b[0m\u001b[0;34m\u001b[0m\u001b[0m\n\u001b[0;32m--> 230\u001b[0;31m         \u001b[0;32mreturn\u001b[0m \u001b[0mself\u001b[0m\u001b[0;34m.\u001b[0m\u001b[0mextractors\u001b[0m\u001b[0;34m.\u001b[0m\u001b[0mget\u001b[0m\u001b[0;34m(\u001b[0m\u001b[0mname\u001b[0m\u001b[0;34m)\u001b[0m\u001b[0;34m(\u001b[0m\u001b[0;34m*\u001b[0m\u001b[0margs\u001b[0m\u001b[0;34m,\u001b[0m \u001b[0;34m**\u001b[0m\u001b[0mkwargs\u001b[0m\u001b[0;34m)\u001b[0m\u001b[0;34m\u001b[0m\u001b[0;34m\u001b[0m\u001b[0m\n\u001b[0m\u001b[1;32m    231\u001b[0m \u001b[0;34m\u001b[0m\u001b[0m\n",
      "\u001b[0;31mTypeError\u001b[0m: __init__() got an unexpected keyword argument 'ctx'",
      "\nDuring handling of the above exception, another exception occurred:\n",
      "\u001b[0;31mAssertionError\u001b[0m                            Traceback (most recent call last)",
      "\u001b[0;32m/tmp/ipykernel_28790/2147075950.py\u001b[0m in \u001b[0;36m<module>\u001b[0;34m\u001b[0m\n\u001b[1;32m      1\u001b[0m \u001b[0mstart_time\u001b[0m \u001b[0;34m=\u001b[0m \u001b[0mtime\u001b[0m\u001b[0;34m.\u001b[0m\u001b[0mtime\u001b[0m\u001b[0;34m(\u001b[0m\u001b[0;34m)\u001b[0m\u001b[0;34m\u001b[0m\u001b[0;34m\u001b[0m\u001b[0m\n\u001b[0;32m----> 2\u001b[0;31m \u001b[0mdataset\u001b[0m \u001b[0;34m=\u001b[0m \u001b[0mdm\u001b[0m\u001b[0;34m.\u001b[0m\u001b[0mDataset\u001b[0m\u001b[0;34m.\u001b[0m\u001b[0mimport_from\u001b[0m\u001b[0;34m(\u001b[0m\u001b[0;34m'./tests/assets/brats_numpy_dataset'\u001b[0m\u001b[0;34m,\u001b[0m \u001b[0msave_hash\u001b[0m\u001b[0;34m=\u001b[0m\u001b[0;32mTrue\u001b[0m\u001b[0;34m)\u001b[0m\u001b[0;34m\u001b[0m\u001b[0;34m\u001b[0m\u001b[0m\n\u001b[0m\u001b[1;32m      3\u001b[0m \u001b[0mprint\u001b[0m\u001b[0;34m(\u001b[0m\u001b[0;34mf'setting dataset time for {len(dataset)} items: '\u001b[0m\u001b[0;34m,\u001b[0m \u001b[0mtime\u001b[0m\u001b[0;34m.\u001b[0m\u001b[0mtime\u001b[0m\u001b[0;34m(\u001b[0m\u001b[0;34m)\u001b[0m\u001b[0;34m-\u001b[0m\u001b[0mstart_time\u001b[0m\u001b[0;34m)\u001b[0m\u001b[0;34m\u001b[0m\u001b[0;34m\u001b[0m\u001b[0m\n\u001b[1;32m      4\u001b[0m \u001b[0mdataset\u001b[0m\u001b[0;34m\u001b[0m\u001b[0;34m\u001b[0m\u001b[0m\n",
      "\u001b[0;32m~/workspace/datumaro_sa/datumaro/components/dataset.py\u001b[0m in \u001b[0;36mimport_from\u001b[0;34m(cls, path, format, env, progress_reporter, error_policy, save_hash, **kwargs)\u001b[0m\n\u001b[1;32m   1387\u001b[0m \u001b[0;34m\u001b[0m\u001b[0m\n\u001b[1;32m   1388\u001b[0m                     extractors.append(\n\u001b[0;32m-> 1389\u001b[0;31m                         \u001b[0menv\u001b[0m\u001b[0;34m.\u001b[0m\u001b[0mmake_extractor\u001b[0m\u001b[0;34m(\u001b[0m\u001b[0msrc_conf\u001b[0m\u001b[0;34m.\u001b[0m\u001b[0mformat\u001b[0m\u001b[0;34m,\u001b[0m \u001b[0msrc_conf\u001b[0m\u001b[0;34m.\u001b[0m\u001b[0murl\u001b[0m\u001b[0;34m,\u001b[0m \u001b[0;34m**\u001b[0m\u001b[0mextractor_kwargs\u001b[0m\u001b[0;34m)\u001b[0m\u001b[0;34m\u001b[0m\u001b[0;34m\u001b[0m\u001b[0m\n\u001b[0m\u001b[1;32m   1390\u001b[0m                     )\n\u001b[1;32m   1391\u001b[0m \u001b[0;34m\u001b[0m\u001b[0m\n",
      "\u001b[0;32m~/workspace/datumaro_sa/datumaro/components/environment.py\u001b[0m in \u001b[0;36mmake_extractor\u001b[0;34m(self, name, *args, **kwargs)\u001b[0m\n\u001b[1;32m    228\u001b[0m \u001b[0;34m\u001b[0m\u001b[0m\n\u001b[1;32m    229\u001b[0m     \u001b[0;32mdef\u001b[0m \u001b[0mmake_extractor\u001b[0m\u001b[0;34m(\u001b[0m\u001b[0mself\u001b[0m\u001b[0;34m,\u001b[0m \u001b[0mname\u001b[0m\u001b[0;34m,\u001b[0m \u001b[0;34m*\u001b[0m\u001b[0margs\u001b[0m\u001b[0;34m,\u001b[0m \u001b[0;34m**\u001b[0m\u001b[0mkwargs\u001b[0m\u001b[0;34m)\u001b[0m\u001b[0;34m:\u001b[0m\u001b[0;34m\u001b[0m\u001b[0;34m\u001b[0m\u001b[0m\n\u001b[0;32m--> 230\u001b[0;31m         \u001b[0;32mreturn\u001b[0m \u001b[0mself\u001b[0m\u001b[0;34m.\u001b[0m\u001b[0mextractors\u001b[0m\u001b[0;34m.\u001b[0m\u001b[0mget\u001b[0m\u001b[0;34m(\u001b[0m\u001b[0mname\u001b[0m\u001b[0;34m)\u001b[0m\u001b[0;34m(\u001b[0m\u001b[0;34m*\u001b[0m\u001b[0margs\u001b[0m\u001b[0;34m,\u001b[0m \u001b[0;34m**\u001b[0m\u001b[0mkwargs\u001b[0m\u001b[0;34m)\u001b[0m\u001b[0;34m\u001b[0m\u001b[0;34m\u001b[0m\u001b[0m\n\u001b[0m\u001b[1;32m    231\u001b[0m \u001b[0;34m\u001b[0m\u001b[0m\n\u001b[1;32m    232\u001b[0m     \u001b[0;32mdef\u001b[0m \u001b[0mmake_importer\u001b[0m\u001b[0;34m(\u001b[0m\u001b[0mself\u001b[0m\u001b[0;34m,\u001b[0m \u001b[0mname\u001b[0m\u001b[0;34m,\u001b[0m \u001b[0;34m*\u001b[0m\u001b[0margs\u001b[0m\u001b[0;34m,\u001b[0m \u001b[0;34m**\u001b[0m\u001b[0mkwargs\u001b[0m\u001b[0;34m)\u001b[0m\u001b[0;34m:\u001b[0m\u001b[0;34m\u001b[0m\u001b[0;34m\u001b[0m\u001b[0m\n",
      "\u001b[0;32m~/workspace/datumaro_sa/datumaro/plugins/brats_numpy_format.py\u001b[0m in \u001b[0;36m__init__\u001b[0;34m(self, path, save_hash)\u001b[0m\n\u001b[1;32m     32\u001b[0m         \u001b[0mself\u001b[0m\u001b[0;34m.\u001b[0m\u001b[0m_save_hash\u001b[0m \u001b[0;34m=\u001b[0m \u001b[0msave_hash\u001b[0m\u001b[0;34m\u001b[0m\u001b[0;34m\u001b[0m\u001b[0m\n\u001b[1;32m     33\u001b[0m         \u001b[0mself\u001b[0m\u001b[0;34m.\u001b[0m\u001b[0m_categories\u001b[0m \u001b[0;34m=\u001b[0m \u001b[0mself\u001b[0m\u001b[0;34m.\u001b[0m\u001b[0m_load_categories\u001b[0m\u001b[0;34m(\u001b[0m\u001b[0;34m)\u001b[0m\u001b[0;34m\u001b[0m\u001b[0;34m\u001b[0m\u001b[0m\n\u001b[0;32m---> 34\u001b[0;31m         \u001b[0mself\u001b[0m\u001b[0;34m.\u001b[0m\u001b[0m_items\u001b[0m \u001b[0;34m=\u001b[0m \u001b[0mlist\u001b[0m\u001b[0;34m(\u001b[0m\u001b[0mself\u001b[0m\u001b[0;34m.\u001b[0m\u001b[0m_load_items\u001b[0m\u001b[0;34m(\u001b[0m\u001b[0mpath\u001b[0m\u001b[0;34m)\u001b[0m\u001b[0;34m.\u001b[0m\u001b[0mvalues\u001b[0m\u001b[0;34m(\u001b[0m\u001b[0;34m)\u001b[0m\u001b[0;34m)\u001b[0m\u001b[0;34m\u001b[0m\u001b[0;34m\u001b[0m\u001b[0m\n\u001b[0m\u001b[1;32m     35\u001b[0m \u001b[0;34m\u001b[0m\u001b[0m\n\u001b[1;32m     36\u001b[0m     \u001b[0;32mdef\u001b[0m \u001b[0m_load_categories\u001b[0m\u001b[0;34m(\u001b[0m\u001b[0mself\u001b[0m\u001b[0;34m)\u001b[0m\u001b[0;34m:\u001b[0m\u001b[0;34m\u001b[0m\u001b[0;34m\u001b[0m\u001b[0m\n",
      "\u001b[0;32m~/workspace/datumaro_sa/datumaro/plugins/brats_numpy_format.py\u001b[0m in \u001b[0;36m_load_items\u001b[0;34m(self, path)\u001b[0m\n\u001b[1;32m     87\u001b[0m                 \u001b[0manno\u001b[0m\u001b[0;34m.\u001b[0m\u001b[0mappend\u001b[0m\u001b[0;34m(\u001b[0m\u001b[0mCuboid3d\u001b[0m\u001b[0;34m(\u001b[0m\u001b[0mposition\u001b[0m\u001b[0;34m=\u001b[0m\u001b[0mlist\u001b[0m\u001b[0;34m(\u001b[0m\u001b[0mbox\u001b[0m\u001b[0;34m[\u001b[0m\u001b[0;36m0\u001b[0m\u001b[0;34m]\u001b[0m\u001b[0;34m)\u001b[0m\u001b[0;34m,\u001b[0m \u001b[0mrotation\u001b[0m\u001b[0;34m=\u001b[0m\u001b[0mlist\u001b[0m\u001b[0;34m(\u001b[0m\u001b[0mbox\u001b[0m\u001b[0;34m[\u001b[0m\u001b[0;36m1\u001b[0m\u001b[0;34m]\u001b[0m\u001b[0;34m)\u001b[0m\u001b[0;34m)\u001b[0m\u001b[0;34m)\u001b[0m\u001b[0;34m\u001b[0m\u001b[0;34m\u001b[0m\u001b[0m\n\u001b[1;32m     88\u001b[0m \u001b[0;34m\u001b[0m\u001b[0m\n\u001b[0;32m---> 89\u001b[0;31m             \u001b[0mitems\u001b[0m\u001b[0;34m[\u001b[0m\u001b[0mitem_id\u001b[0m\u001b[0;34m]\u001b[0m \u001b[0;34m=\u001b[0m \u001b[0mDatasetItem\u001b[0m\u001b[0;34m(\u001b[0m\u001b[0mid\u001b[0m\u001b[0;34m=\u001b[0m\u001b[0mitem_id\u001b[0m\u001b[0;34m,\u001b[0m \u001b[0mmedia\u001b[0m\u001b[0;34m=\u001b[0m\u001b[0mmedia\u001b[0m\u001b[0;34m,\u001b[0m \u001b[0mannotations\u001b[0m\u001b[0;34m=\u001b[0m\u001b[0manno\u001b[0m\u001b[0;34m,\u001b[0m \u001b[0msave_hash\u001b[0m\u001b[0;34m=\u001b[0m\u001b[0mself\u001b[0m\u001b[0;34m.\u001b[0m\u001b[0m_save_hash\u001b[0m\u001b[0;34m)\u001b[0m\u001b[0;34m\u001b[0m\u001b[0;34m\u001b[0m\u001b[0m\n\u001b[0m\u001b[1;32m     90\u001b[0m \u001b[0;34m\u001b[0m\u001b[0m\n\u001b[1;32m     91\u001b[0m         \u001b[0;32mreturn\u001b[0m \u001b[0mitems\u001b[0m\u001b[0;34m\u001b[0m\u001b[0;34m\u001b[0m\u001b[0m\n",
      "\u001b[0;32m~/workspace/datumaro_sa/datumaro/components/extractor.py\u001b[0m in \u001b[0;36m__init__\u001b[0;34m(self, id, subset, media, annotations, attributes, save_hash, image, point_cloud, related_images, hash_key)\u001b[0m\n\u001b[1;32m    119\u001b[0m \u001b[0;34m\u001b[0m\u001b[0m\n\u001b[1;32m    120\u001b[0m         \u001b[0;32mif\u001b[0m \u001b[0msave_hash\u001b[0m \u001b[0;32mand\u001b[0m \u001b[0mbool\u001b[0m\u001b[0;34m(\u001b[0m\u001b[0mmedia\u001b[0m\u001b[0;34m)\u001b[0m\u001b[0;34m:\u001b[0m\u001b[0;34m\u001b[0m\u001b[0;34m\u001b[0m\u001b[0m\n\u001b[0;32m--> 121\u001b[0;31m             \u001b[0mhash_key\u001b[0m \u001b[0;34m=\u001b[0m \u001b[0minference\u001b[0m\u001b[0;34m(\u001b[0m\u001b[0mmedia\u001b[0m\u001b[0;34m)\u001b[0m\u001b[0;34m\u001b[0m\u001b[0;34m\u001b[0m\u001b[0m\n\u001b[0m\u001b[1;32m    122\u001b[0m \u001b[0;34m\u001b[0m\u001b[0m\n\u001b[1;32m    123\u001b[0m         self.__attrs_init__(\n",
      "\u001b[0;32m~/workspace/datumaro_sa/datumaro/components/model_inference.py\u001b[0m in \u001b[0;36minference\u001b[0;34m(item)\u001b[0m\n\u001b[1;32m    645\u001b[0m \u001b[0;34m\u001b[0m\u001b[0m\n\u001b[1;32m    646\u001b[0m \u001b[0;32mdef\u001b[0m \u001b[0minference\u001b[0m\u001b[0;34m(\u001b[0m\u001b[0mitem\u001b[0m\u001b[0;34m)\u001b[0m\u001b[0;34m:\u001b[0m\u001b[0;34m\u001b[0m\u001b[0;34m\u001b[0m\u001b[0m\n\u001b[0;32m--> 647\u001b[0;31m     \u001b[0;32massert\u001b[0m \u001b[0;32mnot\u001b[0m \u001b[0mtype\u001b[0m\u001b[0;34m(\u001b[0m\u001b[0mitem\u001b[0m\u001b[0;34m)\u001b[0m \u001b[0;32min\u001b[0m \u001b[0;34m[\u001b[0m\u001b[0mVideo\u001b[0m\u001b[0;34m,\u001b[0m \u001b[0mPointCloud\u001b[0m\u001b[0;34m,\u001b[0m \u001b[0mMultiframeImage\u001b[0m\u001b[0;34m]\u001b[0m\u001b[0;34m,\u001b[0m \u001b[0;34mf\"Media type should be Image, Current type={type(item)}\"\u001b[0m\u001b[0;34m\u001b[0m\u001b[0;34m\u001b[0m\u001b[0m\n\u001b[0m\u001b[1;32m    648\u001b[0m     \u001b[0;31m# assert not isinstance(item, Video), f\"Media type should be Image, Current type={type(item)}\"\u001b[0m\u001b[0;34m\u001b[0m\u001b[0;34m\u001b[0m\u001b[0;34m\u001b[0m\u001b[0m\n\u001b[1;32m    649\u001b[0m     \u001b[0;31m# assert not isinstance(item, PointCloud), f\"Media type should be Image, Current type={type(item)}\"\u001b[0m\u001b[0;34m\u001b[0m\u001b[0;34m\u001b[0m\u001b[0;34m\u001b[0m\u001b[0m\n",
      "\u001b[0;31mAssertionError\u001b[0m: Media type should be Image, Current type=<class 'datumaro.components.media.MultiframeImage'>"
     ]
    }
   ],
   "source": [
    "start_time = time.time()\n",
    "dataset = dm.Dataset.import_from('./tests/assets/brats_numpy_dataset', save_hash=True)\n",
    "print(f'setting dataset time for {len(dataset)} items: ', time.time()-start_time)\n",
    "dataset"
   ]
  },
  {
   "cell_type": "code",
   "execution_count": 22,
   "id": "de07f7a2",
   "metadata": {},
   "outputs": [
    {
     "name": "stdout",
     "output_type": "stream",
     "text": [
      "[DatasetItem(id='000001', subset='train', media=<datumaro.components.media.Image object at 0x7f7434068490>, annotations=[Label(id=0, attributes={}, group=0, label=1)], attributes={}, hash_key=['09effa1b4c54099b48ce2f97ca195100f5115aad2e1aad36e1abfaf8fd10c0c7a167ddf6b539399e7ddaf32ba0b1ee07a038369e6ad898e50a2cf98912248bcc']), DatasetItem(id='000002', subset='train', media=<datumaro.components.media.Image object at 0x7f747633f310>, annotations=[Label(id=0, attributes={}, group=0, label=3)], attributes={}, hash_key=['09effa1b4c54099b48ce2f97ca195100f5115aad2e1aad36e1abfaf8fd10c0c7a167ddf6b539399e7ddaf32ba0b1ee07a038369e6ad898e50a2cf98912248bcc'])]\n"
     ]
    }
   ],
   "source": [
    "for i, item in enumerate(dataset):\n",
    "    if i==0:\n",
    "        query = item\n",
    "searcher = Searcher(dataset)\n",
    "topk_list = searcher.search_topk(query, topk=2)\n",
    "print(topk_list)"
   ]
  },
  {
   "cell_type": "markdown",
   "id": "c2536d9d",
   "metadata": {},
   "source": [
    "## camvid_dataset"
   ]
  },
  {
   "cell_type": "code",
   "execution_count": 23,
   "id": "fa6dd381",
   "metadata": {},
   "outputs": [
    {
     "name": "stdout",
     "output_type": "stream",
     "text": [
      "setting dataset time for 4 items:  0.5787663459777832\n"
     ]
    },
    {
     "data": {
      "text/plain": [
       "Dataset\n",
       "\tsize=4\n",
       "\tsource_path=./tests/assets/camvid_dataset\n",
       "\tmedia_type=<class 'datumaro.components.media.Image'>\n",
       "\tannotated_items_count=4\n",
       "\tannotations_count=10\n",
       "subsets\n",
       "\ttest: # of items=2, # of annotated items=2, # of annotations=6, annotation types=['mask']\n",
       "\ttrain: # of items=1, # of annotated items=1, # of annotations=2, annotation types=['mask']\n",
       "\tval: # of items=1, # of annotated items=1, # of annotations=2, annotation types=['mask']\n",
       "infos\n",
       "\tcategories\n",
       "\tlabel: ['Void', 'Animal', 'Archway', 'Bicyclist', 'Bridge', 'Building', 'Car', 'CartLuggagePram', 'Child', 'Column_Pole', 'Fence', 'LaneMkgsDriv', 'LaneMkgsNonDriv', 'Misc_Text', 'MotorcycycleScooter', 'OtherMoving', 'ParkingBlock', 'Pedestrian', 'Road', 'RoadShoulder', 'Sidewalk', 'SignSymbol', 'Sky', 'SUVPickupTruck', 'TrafficCone', 'TrafficLight', 'Train', 'Tree', 'Truck_Bus', 'Tunnel', 'VegetationMisc', 'Wall']\n",
       "\tmask: []"
      ]
     },
     "execution_count": 23,
     "metadata": {},
     "output_type": "execute_result"
    }
   ],
   "source": [
    "start_time = time.time()\n",
    "dataset = dm.Dataset.import_from('./tests/assets/camvid_dataset', save_hash=True)\n",
    "print(f'setting dataset time for {len(dataset)} items: ', time.time()-start_time)\n",
    "dataset"
   ]
  },
  {
   "cell_type": "code",
   "execution_count": 24,
   "id": "07af94f5",
   "metadata": {},
   "outputs": [
    {
     "name": "stdout",
     "output_type": "stream",
     "text": [
      "DatasetItem(id='0001TP_008550', subset='test', media=<datumaro.components.media.Image object at 0x7f745694dad0>, annotations=[Mask(id=0, attributes={}, group=0, _image=<function CamvidExtractor._lazy_extract_mask.<locals>.<lambda> at 0x7f74568ceef0>, label=1, z_order=0), Mask(id=0, attributes={}, group=0, _image=<function CamvidExtractor._lazy_extract_mask.<locals>.<lambda> at 0x7f745693ba70>, label=18, z_order=0), Mask(id=0, attributes={}, group=0, _image=<function CamvidExtractor._lazy_extract_mask.<locals>.<lambda> at 0x7f745693b0e0>, label=22, z_order=0)], attributes={}, hash_key=['09effa1b4c54099b48ce2f97ca195100f5115aad2e1aad36e1abfaf8fd10c0c7a167ddf6b539399e7ddaf32ba0b1ee07a038369e6ad898e50a2cf98912248bcc'])\n",
      "DatasetItem(id='0001TP_008580', subset='test', media=<datumaro.components.media.Image object at 0x7f7475df6090>, annotations=[Mask(id=0, attributes={}, group=0, _image=<function CamvidExtractor._lazy_extract_mask.<locals>.<lambda> at 0x7f7475d825f0>, label=2, z_order=0), Mask(id=0, attributes={}, group=0, _image=<function CamvidExtractor._lazy_extract_mask.<locals>.<lambda> at 0x7f755c424170>, label=4, z_order=0), Mask(id=0, attributes={}, group=0, _image=<function CamvidExtractor._lazy_extract_mask.<locals>.<lambda> at 0x7f747781af80>, label=27, z_order=0)], attributes={}, hash_key=['09effa1b4c54099b48ce2f97ca195100f5115aad2e1aad36e1abfaf8fd10c0c7a167ddf6b539399e7ddaf32ba0b1ee07a038369e6ad898e50a2cf98912248bcc'])\n",
      "DatasetItem(id='0016E5_07959', subset='val', media=<datumaro.components.media.Image object at 0x7f7456888850>, annotations=[Mask(id=0, attributes={}, group=0, _image=<function CamvidExtractor._lazy_extract_mask.<locals>.<lambda> at 0x7f74485825f0>, label=1, z_order=0), Mask(id=0, attributes={}, group=0, _image=<function CamvidExtractor._lazy_extract_mask.<locals>.<lambda> at 0x7f743407a0e0>, label=8, z_order=0)], attributes={}, hash_key=['09effa1b4c54099b48ce2f97ca195100f5115aad2e1aad36e1abfaf8fd10c0c7a167ddf6b539399e7ddaf32ba0b1ee07a038369e6ad898e50a2cf98912248bcc'])\n",
      "DatasetItem(id='0001TP_006690', subset='train', media=<datumaro.components.media.Image object at 0x7f7434068450>, annotations=[Mask(id=0, attributes={}, group=0, _image=<function CamvidExtractor._lazy_extract_mask.<locals>.<lambda> at 0x7f743407a050>, label=3, z_order=0), Mask(id=0, attributes={}, group=0, _image=<function CamvidExtractor._lazy_extract_mask.<locals>.<lambda> at 0x7f743407ae60>, label=18, z_order=0)], attributes={}, hash_key=['09effa1b4c54099b48ce2f97ca195100f5115aad2e1aad36e1abfaf8fd10c0c7a167ddf6b539399e7ddaf32ba0b1ee07a038369e6ad898e50a2cf98912248bcc'])\n"
     ]
    }
   ],
   "source": [
    "for i, item in enumerate(dataset):\n",
    "    print(item)"
   ]
  },
  {
   "cell_type": "code",
   "execution_count": 25,
   "id": "ca305194",
   "metadata": {},
   "outputs": [
    {
     "name": "stdout",
     "output_type": "stream",
     "text": [
      "[DatasetItem(id='0001TP_008550', subset='test', media=<datumaro.components.media.Image object at 0x7f745694dad0>, annotations=[Mask(id=0, attributes={}, group=0, _image=<function CamvidExtractor._lazy_extract_mask.<locals>.<lambda> at 0x7f74568ceef0>, label=1, z_order=0), Mask(id=0, attributes={}, group=0, _image=<function CamvidExtractor._lazy_extract_mask.<locals>.<lambda> at 0x7f745693ba70>, label=18, z_order=0), Mask(id=0, attributes={}, group=0, _image=<function CamvidExtractor._lazy_extract_mask.<locals>.<lambda> at 0x7f745693b0e0>, label=22, z_order=0)], attributes={}, hash_key=['09effa1b4c54099b48ce2f97ca195100f5115aad2e1aad36e1abfaf8fd10c0c7a167ddf6b539399e7ddaf32ba0b1ee07a038369e6ad898e50a2cf98912248bcc']), DatasetItem(id='0001TP_008580', subset='test', media=<datumaro.components.media.Image object at 0x7f7475df6090>, annotations=[Mask(id=0, attributes={}, group=0, _image=<function CamvidExtractor._lazy_extract_mask.<locals>.<lambda> at 0x7f7475d825f0>, label=2, z_order=0), Mask(id=0, attributes={}, group=0, _image=<function CamvidExtractor._lazy_extract_mask.<locals>.<lambda> at 0x7f755c424170>, label=4, z_order=0), Mask(id=0, attributes={}, group=0, _image=<function CamvidExtractor._lazy_extract_mask.<locals>.<lambda> at 0x7f747781af80>, label=27, z_order=0)], attributes={}, hash_key=['09effa1b4c54099b48ce2f97ca195100f5115aad2e1aad36e1abfaf8fd10c0c7a167ddf6b539399e7ddaf32ba0b1ee07a038369e6ad898e50a2cf98912248bcc'])]\n"
     ]
    }
   ],
   "source": [
    "for i, item in enumerate(dataset):\n",
    "    if i==0:\n",
    "        query = item\n",
    "searcher = Searcher(dataset)\n",
    "topk_list = searcher.search_topk(query, topk=2)\n",
    "print(topk_list)"
   ]
  },
  {
   "cell_type": "markdown",
   "id": "ad5e378b",
   "metadata": {},
   "source": [
    "## celeba_dataset"
   ]
  },
  {
   "cell_type": "code",
   "execution_count": 26,
   "id": "06f4e166",
   "metadata": {},
   "outputs": [
    {
     "name": "stdout",
     "output_type": "stream",
     "text": [
      "setting dataset time for 5 items:  0.7675337791442871\n"
     ]
    },
    {
     "data": {
      "text/plain": [
       "Dataset\n",
       "\tsize=5\n",
       "\tsource_path=./tests/assets/celeba_dataset/dataset\n",
       "\tmedia_type=<class 'datumaro.components.media.Image'>\n",
       "\tannotated_items_count=5\n",
       "\tannotations_count=15\n",
       "subsets\n",
       "\ttest: # of items=2, # of annotated items=2, # of annotations=6, annotation types=['bbox', 'label', 'points']\n",
       "\ttrain: # of items=2, # of annotated items=2, # of annotations=6, annotation types=['bbox', 'label', 'points']\n",
       "\tval: # of items=1, # of annotated items=1, # of annotations=3, annotation types=['bbox', 'label', 'points']\n",
       "infos\n",
       "\tcategories\n",
       "\tlabel: ['class-0', 'class-1', 'class-2', 'class-3', 'class-4', 'class-5', 'class-6', 'class-7', 'class-8', 'class-9', 'class-10', 'class-11', 'class-12']\n",
       "\tpoints: []"
      ]
     },
     "execution_count": 26,
     "metadata": {},
     "output_type": "execute_result"
    }
   ],
   "source": [
    "start_time = time.time()\n",
    "dataset = dm.Dataset.import_from('./tests/assets/celeba_dataset/dataset', 'celeba', save_hash=True)\n",
    "print(f'setting dataset time for {len(dataset)} items: ', time.time()-start_time)\n",
    "dataset"
   ]
  },
  {
   "cell_type": "code",
   "execution_count": 27,
   "id": "5ba5e00b",
   "metadata": {},
   "outputs": [
    {
     "name": "stdout",
     "output_type": "stream",
     "text": [
      "DatasetItem(id='000001', subset='train', media=<datumaro.components.media.Image object at 0x7f745c2f1110>, annotations=[Label(id=0, attributes={}, group=0, label=12), Points(id=0, attributes={}, group=0, points=[165.0, 184.0, 244.0, 176.0, 196.0, 249.0, 194.0, 271.0, 266.0, 260.0], label=12, z_order=0, visibility=[<Visibility.visible: 2>, <Visibility.visible: 2>, <Visibility.visible: 2>, <Visibility.visible: 2>, <Visibility.visible: 2>]), Bbox(id=0, attributes={}, group=0, points=[95.0, 71.0, 321.0, 384.0], label=12, z_order=0)], attributes={'5_o_Clock_Shadow': False, 'Arched_Eyebrows': True, 'Attractive': True, 'Bags_Under_Eyes': False, 'Bald': False, 'Bangs': False, 'Big_Lips': False, 'Big_Nose': False}, hash_key=['09effa1b4c54099b48ce2f97ca195100f5115aad2e1aad36e1abfaf8fd10c0c7a167ddf6b539399e7ddaf32ba0b1ee07a038369e6ad898e50a2cf98912248bcc'])\n",
      "DatasetItem(id='000002', subset='train', media=<datumaro.components.media.Image object at 0x7f745c2f1990>, annotations=[Label(id=0, attributes={}, group=0, label=5), Points(id=0, attributes={}, group=0, points=[140.0, 204.0, 220.0, 204.0, 168.0, 254.0, 146.0, 289.0, 226.0, 289.0], label=5, z_order=0, visibility=[<Visibility.visible: 2>, <Visibility.visible: 2>, <Visibility.visible: 2>, <Visibility.visible: 2>, <Visibility.visible: 2>]), Bbox(id=0, attributes={}, group=0, points=[72.0, 94.0, 293.0, 400.0], label=5, z_order=0)], attributes={}, hash_key=['09effa1b4c54099b48ce2f97ca195100f5115aad2e1aad36e1abfaf8fd10c0c7a167ddf6b539399e7ddaf32ba0b1ee07a038369e6ad898e50a2cf98912248bcc'])\n",
      "DatasetItem(id='000003', subset='val', media=<datumaro.components.media.Image object at 0x7f7434068050>, annotations=[Label(id=0, attributes={}, group=0, label=2), Points(id=0, attributes={}, group=0, points=[244.0, 104.0, 264.0, 105.0, 263.0, 121.0, 235.0, 134.0, 251.0, 140.0], label=2, z_order=0, visibility=[<Visibility.visible: 2>, <Visibility.visible: 2>, <Visibility.visible: 2>, <Visibility.visible: 2>, <Visibility.visible: 2>]), Bbox(id=0, attributes={}, group=0, points=[216.0, 59.0, 307.0, 185.0], label=2, z_order=0)], attributes={'5_o_Clock_Shadow': False, 'Arched_Eyebrows': False, 'Attractive': False, 'Bags_Under_Eyes': True, 'Bald': False, 'Bangs': False, 'Big_Lips': False, 'Big_Nose': True}, hash_key=['09effa1b4c54099b48ce2f97ca195100f5115aad2e1aad36e1abfaf8fd10c0c7a167ddf6b539399e7ddaf32ba0b1ee07a038369e6ad898e50a2cf98912248bcc'])\n",
      "DatasetItem(id='000004', subset='test', media=<datumaro.components.media.Image object at 0x7f74340680d0>, annotations=[Label(id=0, attributes={}, group=0, label=10), Points(id=0, attributes={}, group=0, points=[796.0, 539.0, 984.0, 539.0, 930.0, 687.0, 762.0, 756.0, 915.0, 756.0], label=10, z_order=0, visibility=[<Visibility.visible: 2>, <Visibility.visible: 2>, <Visibility.visible: 2>, <Visibility.visible: 2>, <Visibility.visible: 2>]), Bbox(id=0, attributes={}, group=0, points=[622.0, 257.0, 1186.0, 1038.0], label=10, z_order=0)], attributes={}, hash_key=['09effa1b4c54099b48ce2f97ca195100f5115aad2e1aad36e1abfaf8fd10c0c7a167ddf6b539399e7ddaf32ba0b1ee07a038369e6ad898e50a2cf98912248bcc'])\n",
      "DatasetItem(id='000005', subset='test', media=<datumaro.components.media.Image object at 0x7f745c2dd850>, annotations=[Label(id=0, attributes={}, group=0, label=7), Points(id=0, attributes={}, group=0, points=[273.0, 169.0, 328.0, 161.0, 298.0, 172.0, 283.0, 208.0, 323.0, 207.0], label=7, z_order=0, visibility=[<Visibility.visible: 2>, <Visibility.visible: 2>, <Visibility.visible: 2>, <Visibility.visible: 2>, <Visibility.visible: 2>]), Bbox(id=0, attributes={}, group=0, points=[236.0, 109.0, 356.0, 275.0], label=7, z_order=0)], attributes={}, hash_key=['09effa1b4c54099b48ce2f97ca195100f5115aad2e1aad36e1abfaf8fd10c0c7a167ddf6b539399e7ddaf32ba0b1ee07a038369e6ad898e50a2cf98912248bcc'])\n"
     ]
    }
   ],
   "source": [
    "for i, item in enumerate(dataset):\n",
    "    print(item)"
   ]
  },
  {
   "cell_type": "code",
   "execution_count": 28,
   "id": "82d4b7c3",
   "metadata": {},
   "outputs": [
    {
     "name": "stdout",
     "output_type": "stream",
     "text": [
      "[DatasetItem(id='000001', subset='train', media=<datumaro.components.media.Image object at 0x7f745c2f1110>, annotations=[Label(id=0, attributes={}, group=0, label=12), Points(id=0, attributes={}, group=0, points=[165.0, 184.0, 244.0, 176.0, 196.0, 249.0, 194.0, 271.0, 266.0, 260.0], label=12, z_order=0, visibility=[<Visibility.visible: 2>, <Visibility.visible: 2>, <Visibility.visible: 2>, <Visibility.visible: 2>, <Visibility.visible: 2>]), Bbox(id=0, attributes={}, group=0, points=[95.0, 71.0, 321.0, 384.0], label=12, z_order=0)], attributes={'5_o_Clock_Shadow': False, 'Arched_Eyebrows': True, 'Attractive': True, 'Bags_Under_Eyes': False, 'Bald': False, 'Bangs': False, 'Big_Lips': False, 'Big_Nose': False}, hash_key=['09effa1b4c54099b48ce2f97ca195100f5115aad2e1aad36e1abfaf8fd10c0c7a167ddf6b539399e7ddaf32ba0b1ee07a038369e6ad898e50a2cf98912248bcc']), DatasetItem(id='000002', subset='train', media=<datumaro.components.media.Image object at 0x7f745c2f1990>, annotations=[Label(id=0, attributes={}, group=0, label=5), Points(id=0, attributes={}, group=0, points=[140.0, 204.0, 220.0, 204.0, 168.0, 254.0, 146.0, 289.0, 226.0, 289.0], label=5, z_order=0, visibility=[<Visibility.visible: 2>, <Visibility.visible: 2>, <Visibility.visible: 2>, <Visibility.visible: 2>, <Visibility.visible: 2>]), Bbox(id=0, attributes={}, group=0, points=[72.0, 94.0, 293.0, 400.0], label=5, z_order=0)], attributes={}, hash_key=['09effa1b4c54099b48ce2f97ca195100f5115aad2e1aad36e1abfaf8fd10c0c7a167ddf6b539399e7ddaf32ba0b1ee07a038369e6ad898e50a2cf98912248bcc'])]\n"
     ]
    }
   ],
   "source": [
    "for i, item in enumerate(dataset):\n",
    "    if i==0:\n",
    "        query = item\n",
    "searcher = Searcher(dataset)\n",
    "topk_list = searcher.search_topk(query, topk=2)\n",
    "print(topk_list)"
   ]
  },
  {
   "cell_type": "code",
   "execution_count": 29,
   "id": "511ef502",
   "metadata": {},
   "outputs": [
    {
     "name": "stdout",
     "output_type": "stream",
     "text": [
      "setting dataset time for 5 items:  0.7867989540100098\n"
     ]
    },
    {
     "data": {
      "text/plain": [
       "Dataset\n",
       "\tsize=5\n",
       "\tsource_path=./tests/assets/celeba_dataset/dataset_with_meta_file\n",
       "\tmedia_type=<class 'datumaro.components.media.Image'>\n",
       "\tannotated_items_count=5\n",
       "\tannotations_count=5\n",
       "subsets\n",
       "\ttest: # of items=2, # of annotated items=2, # of annotations=2, annotation types=['label']\n",
       "\ttrain: # of items=2, # of annotated items=2, # of annotations=2, annotation types=['label']\n",
       "\tval: # of items=1, # of annotated items=1, # of annotations=1, annotation types=['label']\n",
       "infos\n",
       "\tcategories\n",
       "\tlabel: ['class-0', 'class-1', 'class-2', 'class-3', 'class-4', 'class-5', 'class-6']"
      ]
     },
     "execution_count": 29,
     "metadata": {},
     "output_type": "execute_result"
    }
   ],
   "source": [
    "start_time = time.time()\n",
    "dataset = dm.Dataset.import_from('./tests/assets/celeba_dataset/dataset_with_meta_file', 'celeba', save_hash=True)\n",
    "print(f'setting dataset time for {len(dataset)} items: ', time.time()-start_time)\n",
    "dataset"
   ]
  },
  {
   "cell_type": "code",
   "execution_count": 30,
   "id": "873fbb2a",
   "metadata": {},
   "outputs": [
    {
     "name": "stdout",
     "output_type": "stream",
     "text": [
      "DatasetItem(id='000001', subset='train', media=<datumaro.components.media.Image object at 0x7f7456877790>, annotations=[Label(id=0, attributes={}, group=0, label=1)], attributes={}, hash_key=['09effa1b4c54099b48ce2f97ca195100f5115aad2e1aad36e1abfaf8fd10c0c7a167ddf6b539399e7ddaf32ba0b1ee07a038369e6ad898e50a2cf98912248bcc'])\n",
      "DatasetItem(id='000002', subset='train', media=<datumaro.components.media.Image object at 0x7f7456898a50>, annotations=[Label(id=0, attributes={}, group=0, label=3)], attributes={}, hash_key=['09effa1b4c54099b48ce2f97ca195100f5115aad2e1aad36e1abfaf8fd10c0c7a167ddf6b539399e7ddaf32ba0b1ee07a038369e6ad898e50a2cf98912248bcc'])\n",
      "DatasetItem(id='000003', subset='val', media=<datumaro.components.media.Image object at 0x7f745c2ea350>, annotations=[Label(id=0, attributes={}, group=0, label=0)], attributes={}, hash_key=['09effa1b4c54099b48ce2f97ca195100f5115aad2e1aad36e1abfaf8fd10c0c7a167ddf6b539399e7ddaf32ba0b1ee07a038369e6ad898e50a2cf98912248bcc'])\n",
      "DatasetItem(id='000004', subset='test', media=<datumaro.components.media.Image object at 0x7f7475f96350>, annotations=[Label(id=0, attributes={}, group=0, label=2)], attributes={}, hash_key=['09effa1b4c54099b48ce2f97ca195100f5115aad2e1aad36e1abfaf8fd10c0c7a167ddf6b539399e7ddaf32ba0b1ee07a038369e6ad898e50a2cf98912248bcc'])\n",
      "DatasetItem(id='000005', subset='test', media=<datumaro.components.media.Image object at 0x7f7456892c10>, annotations=[Label(id=0, attributes={}, group=0, label=6)], attributes={}, hash_key=['09effa1b4c54099b48ce2f97ca195100f5115aad2e1aad36e1abfaf8fd10c0c7a167ddf6b539399e7ddaf32ba0b1ee07a038369e6ad898e50a2cf98912248bcc'])\n"
     ]
    }
   ],
   "source": [
    "for i, item in enumerate(dataset):\n",
    "    print(item)"
   ]
  },
  {
   "cell_type": "code",
   "execution_count": 31,
   "id": "e6ee37c2",
   "metadata": {},
   "outputs": [
    {
     "name": "stdout",
     "output_type": "stream",
     "text": [
      "[DatasetItem(id='000001', subset='train', media=<datumaro.components.media.Image object at 0x7f7456877790>, annotations=[Label(id=0, attributes={}, group=0, label=1)], attributes={}, hash_key=['09effa1b4c54099b48ce2f97ca195100f5115aad2e1aad36e1abfaf8fd10c0c7a167ddf6b539399e7ddaf32ba0b1ee07a038369e6ad898e50a2cf98912248bcc']), DatasetItem(id='000002', subset='train', media=<datumaro.components.media.Image object at 0x7f7456898a50>, annotations=[Label(id=0, attributes={}, group=0, label=3)], attributes={}, hash_key=['09effa1b4c54099b48ce2f97ca195100f5115aad2e1aad36e1abfaf8fd10c0c7a167ddf6b539399e7ddaf32ba0b1ee07a038369e6ad898e50a2cf98912248bcc'])]\n"
     ]
    }
   ],
   "source": [
    "for i, item in enumerate(dataset):\n",
    "    if i==0:\n",
    "        query = item\n",
    "searcher = Searcher(dataset)\n",
    "topk_list = searcher.search_topk(query, topk=2)\n",
    "print(topk_list)"
   ]
  },
  {
   "cell_type": "markdown",
   "id": "5808b76b",
   "metadata": {},
   "source": [
    "## cifar"
   ]
  },
  {
   "cell_type": "code",
   "execution_count": 32,
   "id": "de59bb6e",
   "metadata": {},
   "outputs": [
    {
     "name": "stderr",
     "output_type": "stream",
     "text": [
      "4it [00:00,  6.40it/s]\n",
      "1it [00:00,  5.64it/s]\n"
     ]
    },
    {
     "name": "stdout",
     "output_type": "stream",
     "text": [
      "setting dataset time for 5 items:  0.8282537460327148\n"
     ]
    },
    {
     "data": {
      "text/plain": [
       "Dataset\n",
       "\tsize=5\n",
       "\tsource_path=./tests/assets/cifar10_dataset\n",
       "\tmedia_type=<class 'datumaro.components.media.Image'>\n",
       "\tannotated_items_count=5\n",
       "\tannotations_count=5\n",
       "subsets\n",
       "\tdata_batch_1: # of items=1, # of annotated items=1, # of annotations=1, annotation types=['label']\n",
       "\ttest_batch: # of items=4, # of annotated items=4, # of annotations=4, annotation types=['label']\n",
       "infos\n",
       "\tcategories\n",
       "\tlabel: ['airplane', 'automobile', 'bird', 'cat']"
      ]
     },
     "execution_count": 32,
     "metadata": {},
     "output_type": "execute_result"
    }
   ],
   "source": [
    "start_time = time.time()\n",
    "dataset = dm.Dataset.import_from('./tests/assets/cifar10_dataset', 'cifar', save_hash=True)\n",
    "print(f'setting dataset time for {len(dataset)} items: ', time.time()-start_time)\n",
    "dataset"
   ]
  },
  {
   "cell_type": "code",
   "execution_count": 33,
   "id": "d3d3d6c2",
   "metadata": {},
   "outputs": [
    {
     "name": "stdout",
     "output_type": "stream",
     "text": [
      "DatasetItem(id='image_2', subset='test_batch', media=<datumaro.components.media.Image object at 0x7f74568a21d0>, annotations=[Label(id=0, attributes={}, group=0, label=1)], attributes={}, hash_key=['09effa1b4c54099b48ce2f97ca195100f5115aad2e1aad36e1abfaf8fd10c0c7a167ddf6b539399e7ddaf32ba0b1ee07a038369e6ad898e50a2cf98912248bcc'])\n",
      "DatasetItem(id='image_3', subset='test_batch', media=<datumaro.components.media.Image object at 0x7f7456898710>, annotations=[Label(id=0, attributes={}, group=0, label=3)], attributes={}, hash_key=['09effa1b4c54099b48ce2f97ca195100f5115aad2e1aad36e1abfaf8fd10c0c7a167ddf6b539399e7ddaf32ba0b1ee07a038369e6ad898e50a2cf98912248bcc'])\n",
      "DatasetItem(id='image_4', subset='test_batch', media=<datumaro.components.media.Image object at 0x7f74568a23d0>, annotations=[Label(id=0, attributes={}, group=0, label=2)], attributes={}, hash_key=['09effa1b4c54099b48ce2f97ca195100f5115aad2e1aad36e1abfaf8fd10c0c7a167ddf6b539399e7ddaf32ba0b1ee07a038369e6ad898e50a2cf98912248bcc'])\n",
      "DatasetItem(id='image_5', subset='test_batch', media=<datumaro.components.media.Image object at 0x7f74568a2150>, annotations=[Label(id=0, attributes={}, group=0, label=3)], attributes={}, hash_key=['09effa1b4c54099348ce2f97ce180300f5135aaf2c1aad36e5a9fbf8fd10c0c7a16fddfeb53939bf7ddaf36ba4b1ef06a438369e68d818e50b2ce989123489c4'])\n",
      "DatasetItem(id='image_1', subset='data_batch_1', media=<datumaro.components.media.Image object at 0x7f74568a26d0>, annotations=[Label(id=0, attributes={}, group=0, label=0)], attributes={}, hash_key=['09effa1b4c54099b48ce2f97ca195100f5115aad2e1aad36e1abfaf8fd10c0c7a167ddf6b539399e7ddaf32ba0b1ee07a038369e6ad898e50a2cf98912248bcc'])\n"
     ]
    }
   ],
   "source": [
    "for i, item in enumerate(dataset):\n",
    "    print(item)"
   ]
  },
  {
   "cell_type": "code",
   "execution_count": 34,
   "id": "952be465",
   "metadata": {},
   "outputs": [
    {
     "name": "stdout",
     "output_type": "stream",
     "text": [
      "[DatasetItem(id='image_5', subset='test_batch', media=<datumaro.components.media.Image object at 0x7f74568a2150>, annotations=[Label(id=0, attributes={}, group=0, label=3)], attributes={}, hash_key=['09effa1b4c54099348ce2f97ce180300f5135aaf2c1aad36e5a9fbf8fd10c0c7a16fddfeb53939bf7ddaf36ba4b1ef06a438369e68d818e50b2ce989123489c4']), DatasetItem(id='image_2', subset='test_batch', media=<datumaro.components.media.Image object at 0x7f74568a21d0>, annotations=[Label(id=0, attributes={}, group=0, label=1)], attributes={}, hash_key=['09effa1b4c54099b48ce2f97ca195100f5115aad2e1aad36e1abfaf8fd10c0c7a167ddf6b539399e7ddaf32ba0b1ee07a038369e6ad898e50a2cf98912248bcc'])]\n"
     ]
    }
   ],
   "source": [
    "for i, item in enumerate(dataset):\n",
    "    if i==0:\n",
    "        query = item\n",
    "searcher = Searcher(dataset)\n",
    "topk_list = searcher.search_topk(query, topk=2)\n",
    "print(topk_list)"
   ]
  },
  {
   "cell_type": "markdown",
   "id": "c118e17b",
   "metadata": {},
   "source": [
    "## cifar100"
   ]
  },
  {
   "cell_type": "code",
   "execution_count": 35,
   "id": "d7fe5d73",
   "metadata": {},
   "outputs": [
    {
     "name": "stderr",
     "output_type": "stream",
     "text": [
      "3it [00:00,  8.50it/s]\n",
      "3it [00:00,  5.53it/s]"
     ]
    },
    {
     "name": "stdout",
     "output_type": "stream",
     "text": [
      "setting dataset time for 6 items:  0.9013559818267822\n"
     ]
    },
    {
     "name": "stderr",
     "output_type": "stream",
     "text": [
      "\n"
     ]
    },
    {
     "data": {
      "text/plain": [
       "Dataset\n",
       "\tsize=6\n",
       "\tsource_path=./tests/assets/cifar100_dataset\n",
       "\tmedia_type=<class 'datumaro.components.media.Image'>\n",
       "\tannotated_items_count=6\n",
       "\tannotations_count=6\n",
       "subsets\n",
       "\ttest: # of items=3, # of annotated items=3, # of annotations=3, annotation types=['label']\n",
       "\ttrain: # of items=3, # of annotated items=3, # of annotations=3, annotation types=['label']\n",
       "infos\n",
       "\tcategories\n",
       "\tlabel: ['airplane', 'automobile', 'bird']"
      ]
     },
     "execution_count": 35,
     "metadata": {},
     "output_type": "execute_result"
    }
   ],
   "source": [
    "start_time = time.time()\n",
    "dataset = dm.Dataset.import_from('./tests/assets/cifar100_dataset', 'cifar', save_hash=True)\n",
    "print(f'setting dataset time for {len(dataset)} items: ', time.time()-start_time)\n",
    "dataset"
   ]
  },
  {
   "cell_type": "code",
   "execution_count": 36,
   "id": "f86cdf50",
   "metadata": {},
   "outputs": [
    {
     "name": "stdout",
     "output_type": "stream",
     "text": [
      "DatasetItem(id='image_1', subset='train', media=<datumaro.components.media.Image object at 0x7f74568acf50>, annotations=[Label(id=0, attributes={}, group=0, label=0)], attributes={}, hash_key=['09effa1b4c54099b48ce2f97ca195100f5115aad2e1aad36e1abfaf8fd10c0c7a167ddf6b539399e7ddaf32ba0b1ee07a038369e6ad898e50a2cf98912248bcc'])\n",
      "DatasetItem(id='image_2', subset='train', media=<datumaro.components.media.Image object at 0x7f745694ad10>, annotations=[Label(id=0, attributes={}, group=0, label=1)], attributes={}, hash_key=['09effa1b4c54099b48ce2f97ca195100f5115aad2e1aad36e1abfaf8fd10c0c7a167ddf6b539399e7ddaf32ba0b1ee07a038369e6ad898e50a2cf98912248bcc'])\n",
      "DatasetItem(id='image_3', subset='train', media=<datumaro.components.media.Image object at 0x7f745694a890>, annotations=[Label(id=0, attributes={}, group=0, label=2)], attributes={}, hash_key=['09effa1b4c54099b48ce2f97ca195100f5115aad2e1aad36e1abfaf8fd10c0c7a167ddf6b539399e7ddaf32ba0b1ee07a038369e6ad898e50a2cf98912248bcc'])\n",
      "DatasetItem(id='image_1', subset='test', media=<datumaro.components.media.Image object at 0x7f7456895c10>, annotations=[Label(id=0, attributes={}, group=0, label=0)], attributes={}, hash_key=['09effa1b4c54099b48ce2f97ca195100f5115aad2e1aad36e1abfaf8fd10c0c7a167ddf6b539399e7ddaf32ba0b1ee07a038369e6ad898e50a2cf98912248bcc'])\n",
      "DatasetItem(id='image_2', subset='test', media=<datumaro.components.media.Image object at 0x7f7456898dd0>, annotations=[Label(id=0, attributes={}, group=0, label=1)], attributes={}, hash_key=['09effa1b4c54099b48ce2f97ca195100f5115aad2e1aad36e1abfaf8fd10c0c7a167ddf6b539399e7ddaf32ba0b1ee07a038369e6ad898e50a2cf98912248bcc'])\n",
      "DatasetItem(id='image_3', subset='test', media=<datumaro.components.media.Image object at 0x7f745689c050>, annotations=[Label(id=0, attributes={}, group=0, label=2)], attributes={}, hash_key=['09effa1b4c54099348ce2f97ce180300f5135aaf2c1aad36e5a9fbf8fd10c0c7a16fddfeb53939bf7ddaf36ba4b1ef06a438369e68d818e50b2ce989123489c4'])\n"
     ]
    }
   ],
   "source": [
    "for i, item in enumerate(dataset):\n",
    "    print(item)"
   ]
  },
  {
   "cell_type": "code",
   "execution_count": 37,
   "id": "97fa56a1",
   "metadata": {},
   "outputs": [
    {
     "name": "stdout",
     "output_type": "stream",
     "text": [
      "[DatasetItem(id='image_3', subset='test', media=<datumaro.components.media.Image object at 0x7f745689c050>, annotations=[Label(id=0, attributes={}, group=0, label=2)], attributes={}, hash_key=['09effa1b4c54099348ce2f97ce180300f5135aaf2c1aad36e5a9fbf8fd10c0c7a16fddfeb53939bf7ddaf36ba4b1ef06a438369e68d818e50b2ce989123489c4']), DatasetItem(id='image_1', subset='train', media=<datumaro.components.media.Image object at 0x7f74568acf50>, annotations=[Label(id=0, attributes={}, group=0, label=0)], attributes={}, hash_key=['09effa1b4c54099b48ce2f97ca195100f5115aad2e1aad36e1abfaf8fd10c0c7a167ddf6b539399e7ddaf32ba0b1ee07a038369e6ad898e50a2cf98912248bcc'])]\n"
     ]
    }
   ],
   "source": [
    "for i, item in enumerate(dataset):\n",
    "    if i==0:\n",
    "        query = item\n",
    "searcher = Searcher(dataset)\n",
    "topk_list = searcher.search_topk(query, topk=2)\n",
    "print(topk_list)"
   ]
  },
  {
   "cell_type": "markdown",
   "id": "a4a610f5",
   "metadata": {},
   "source": [
    "## cityscape_dataset"
   ]
  },
  {
   "cell_type": "code",
   "execution_count": 38,
   "id": "442b2e44",
   "metadata": {},
   "outputs": [
    {
     "name": "stdout",
     "output_type": "stream",
     "text": [
      "setting dataset time for 4 items:  0.6298601627349854\n"
     ]
    },
    {
     "data": {
      "text/plain": [
       "Dataset\n",
       "\tsize=4\n",
       "\tsource_path=./tests/assets/cityscapes_dataset/dataset\n",
       "\tmedia_type=<class 'datumaro.components.media.Image'>\n",
       "\tannotated_items_count=4\n",
       "\tannotations_count=10\n",
       "subsets\n",
       "\ttest: # of items=2, # of annotated items=2, # of annotations=6, annotation types=['mask']\n",
       "\ttrain: # of items=1, # of annotated items=1, # of annotations=2, annotation types=['mask']\n",
       "\tval: # of items=1, # of annotated items=1, # of annotations=2, annotation types=['mask']\n",
       "infos\n",
       "\tcategories\n",
       "\tlabel: ['unlabeled', 'egovehicle', 'rectificationborder', 'outofroi', 'static', 'dynamic', 'ground', 'road', 'sidewalk', 'parking', 'railtrack', 'building', 'wall', 'fence', 'guardrail', 'bridge', 'tunnel', 'pole', 'polegroup', 'trafficlight', 'trafficsign', 'vegetation', 'terrain', 'sky', 'person', 'rider', 'car', 'truck', 'bus', 'caravan', 'trailer', 'train', 'motorcycle', 'bicycle', 'licenseplate']\n",
       "\tmask: []"
      ]
     },
     "execution_count": 38,
     "metadata": {},
     "output_type": "execute_result"
    }
   ],
   "source": [
    "start_time = time.time()\n",
    "dataset = dm.Dataset.import_from('./tests/assets/cityscapes_dataset/dataset', save_hash=True)\n",
    "print(f'setting dataset time for {len(dataset)} items: ', time.time()-start_time)\n",
    "dataset"
   ]
  },
  {
   "cell_type": "code",
   "execution_count": 39,
   "id": "3e13bc90",
   "metadata": {},
   "outputs": [
    {
     "name": "stdout",
     "output_type": "stream",
     "text": [
      "DatasetItem(id='defaultcity/defaultcity_000001_000019', subset='val', media=<datumaro.components.media.Image object at 0x7f745694cf10>, annotations=[Mask(id=0, attributes={'is_crowd': True}, group=0, _image=<function CityscapesExtractor._lazy_extract_mask.<locals>.<lambda> at 0x7f74568cedd0>, label=3, z_order=0), Mask(id=24, attributes={'is_crowd': False}, group=0, _image=<function CityscapesExtractor._lazy_extract_mask.<locals>.<lambda> at 0x7f745689fe60>, label=1, z_order=0)], attributes={}, hash_key=['09effa1b4c54099b48ce2f97ca195100f5115aad2e1aad36e1abfaf8fd10c0c7a167ddf6b539399e7ddaf32ba0b1ee07a038369e6ad898e50a2cf98912248bcc'])\n",
      "DatasetItem(id='defaultcity/defaultcity_000002_000045', subset='train', media=<datumaro.components.media.Image object at 0x7f74568afc90>, annotations=[Mask(id=0, attributes={'is_crowd': True}, group=0, _image=<function CityscapesExtractor._lazy_extract_mask.<locals>.<lambda> at 0x7f745c334f80>, label=3, z_order=0), Mask(id=1, attributes={'is_crowd': False}, group=0, _image=<function CityscapesExtractor._lazy_extract_mask.<locals>.<lambda> at 0x7f74485ac170>, label=24, z_order=0)], attributes={}, hash_key=['09effa1b4c54099b48ce2f97ca195100f5115aad2e1aad36e1abfaf8fd10c0c7a167ddf6b539399e7ddaf32ba0b1ee07a038369e6ad898e50a2cf98912248bcc'])\n",
      "DatasetItem(id='defaultcity/defaultcity_000001_000032', subset='test', media=<datumaro.components.media.Image object at 0x7f74568affd0>, annotations=[Mask(id=0, attributes={'is_crowd': True}, group=0, _image=<function CityscapesExtractor._lazy_extract_mask.<locals>.<lambda> at 0x7f74485acb00>, label=3, z_order=0), Mask(id=0, attributes={'is_crowd': True}, group=0, _image=<function CityscapesExtractor._lazy_extract_mask.<locals>.<lambda> at 0x7f74485ac680>, label=12, z_order=0), Mask(id=1, attributes={'is_crowd': False}, group=0, _image=<function CityscapesExtractor._lazy_extract_mask.<locals>.<lambda> at 0x7f74485ac7a0>, label=31, z_order=0)], attributes={}, hash_key=['09effa1b4c54099b48ce2f97ca195100f5115aad2e1aad36e1abfaf8fd10c0c7a167ddf6b539399e7ddaf32ba0b1ee07a038369e6ad898e50a2cf98912248bcc'])\n",
      "DatasetItem(id='defaultcity/defaultcity_000001_000031', subset='test', media=<datumaro.components.media.Image object at 0x7f747692c3d0>, annotations=[Mask(id=0, attributes={'is_crowd': True}, group=0, _image=<function CityscapesExtractor._lazy_extract_mask.<locals>.<lambda> at 0x7f743407a5f0>, label=3, z_order=0), Mask(id=1, attributes={'is_crowd': False}, group=0, _image=<function CityscapesExtractor._lazy_extract_mask.<locals>.<lambda> at 0x7f743407a320>, label=27, z_order=0), Mask(id=2, attributes={'is_crowd': False}, group=0, _image=<function CityscapesExtractor._lazy_extract_mask.<locals>.<lambda> at 0x7f743407acb0>, label=27, z_order=0)], attributes={}, hash_key=['09effa1b4c54099b48ce2f97ca195100f5115aad2e1aad36e1abfaf8fd10c0c7a167ddf6b539399e7ddaf32ba0b1ee07a038369e6ad898e50a2cf98912248bcc'])\n"
     ]
    }
   ],
   "source": [
    "for i, item in enumerate(dataset):\n",
    "    print(item)"
   ]
  },
  {
   "cell_type": "code",
   "execution_count": 40,
   "id": "489e7057",
   "metadata": {},
   "outputs": [
    {
     "name": "stdout",
     "output_type": "stream",
     "text": [
      "[DatasetItem(id='defaultcity/defaultcity_000001_000019', subset='val', media=<datumaro.components.media.Image object at 0x7f745694cf10>, annotations=[Mask(id=0, attributes={'is_crowd': True}, group=0, _image=<function CityscapesExtractor._lazy_extract_mask.<locals>.<lambda> at 0x7f74568cedd0>, label=3, z_order=0), Mask(id=24, attributes={'is_crowd': False}, group=0, _image=<function CityscapesExtractor._lazy_extract_mask.<locals>.<lambda> at 0x7f745689fe60>, label=1, z_order=0)], attributes={}, hash_key=['09effa1b4c54099b48ce2f97ca195100f5115aad2e1aad36e1abfaf8fd10c0c7a167ddf6b539399e7ddaf32ba0b1ee07a038369e6ad898e50a2cf98912248bcc']), DatasetItem(id='defaultcity/defaultcity_000002_000045', subset='train', media=<datumaro.components.media.Image object at 0x7f74568afc90>, annotations=[Mask(id=0, attributes={'is_crowd': True}, group=0, _image=<function CityscapesExtractor._lazy_extract_mask.<locals>.<lambda> at 0x7f745c334f80>, label=3, z_order=0), Mask(id=1, attributes={'is_crowd': False}, group=0, _image=<function CityscapesExtractor._lazy_extract_mask.<locals>.<lambda> at 0x7f74485ac170>, label=24, z_order=0)], attributes={}, hash_key=['09effa1b4c54099b48ce2f97ca195100f5115aad2e1aad36e1abfaf8fd10c0c7a167ddf6b539399e7ddaf32ba0b1ee07a038369e6ad898e50a2cf98912248bcc'])]\n"
     ]
    }
   ],
   "source": [
    "for i, item in enumerate(dataset):\n",
    "    if i==0:\n",
    "        query = item\n",
    "searcher = Searcher(dataset)\n",
    "topk_list = searcher.search_topk(query, topk=2)\n",
    "print(topk_list)"
   ]
  },
  {
   "cell_type": "code",
   "execution_count": 41,
   "id": "cfa98460",
   "metadata": {},
   "outputs": [
    {
     "name": "stdout",
     "output_type": "stream",
     "text": [
      "setting dataset time for 4 items:  0.6853320598602295\n"
     ]
    },
    {
     "data": {
      "text/plain": [
       "Dataset\n",
       "\tsize=4\n",
       "\tsource_path=./tests/assets/cityscapes_dataset/train_dataset\n",
       "\tmedia_type=<class 'datumaro.components.media.Image'>\n",
       "\tannotated_items_count=4\n",
       "\tannotations_count=8\n",
       "subsets\n",
       "\ttest: # of items=2, # of annotated items=2, # of annotations=5, annotation types=['mask']\n",
       "\ttrain: # of items=1, # of annotated items=1, # of annotations=2, annotation types=['mask']\n",
       "\tval: # of items=1, # of annotated items=1, # of annotations=1, annotation types=['mask']\n",
       "infos\n",
       "\tcategories\n",
       "\tlabel: ['road', 'sidewalk', 'building', 'wall', 'fence', 'pole', 'trafficlight', 'trafficsign', 'vegetation', 'terrain', 'sky', 'person', 'rider', 'car', 'truck', 'bus', 'train', 'motorcycle', 'bicycle', 'background']\n",
       "\tmask: []"
      ]
     },
     "execution_count": 41,
     "metadata": {},
     "output_type": "execute_result"
    }
   ],
   "source": [
    "start_time = time.time()\n",
    "dataset = dm.Dataset.import_from('./tests/assets/cityscapes_dataset/train_dataset', save_hash=True)\n",
    "print(f'setting dataset time for {len(dataset)} items: ', time.time()-start_time)\n",
    "dataset"
   ]
  },
  {
   "cell_type": "code",
   "execution_count": 42,
   "id": "8845e467",
   "metadata": {},
   "outputs": [
    {
     "name": "stdout",
     "output_type": "stream",
     "text": [
      "DatasetItem(id='defaultcity/defaultcity_000001_000019', subset='val', media=<datumaro.components.media.Image object at 0x7f745603d550>, annotations=[Mask(id=0, attributes={'is_crowd': True}, group=0, _image=<function CityscapesExtractor._lazy_extract_mask.<locals>.<lambda> at 0x7f755c48e680>, label=19, z_order=0)], attributes={}, hash_key=['09effa1b4c54099b48ce2f97ca195100f5115aad2e1aad36e1abfaf8fd10c0c7a167ddf6b539399e7ddaf32ba0b1ee07a038369e6ad898e50a2cf98912248bcc'])\n",
      "DatasetItem(id='defaultcity/defaultcity_000002_000045', subset='train', media=<datumaro.components.media.Image object at 0x7f74f7c98c90>, annotations=[Mask(id=0, attributes={'is_crowd': True}, group=0, _image=<function CityscapesExtractor._lazy_extract_mask.<locals>.<lambda> at 0x7f745c32e8c0>, label=11, z_order=0), Mask(id=0, attributes={'is_crowd': True}, group=0, _image=<function CityscapesExtractor._lazy_extract_mask.<locals>.<lambda> at 0x7f74568a1a70>, label=19, z_order=0)], attributes={}, hash_key=['09effa1b4c54099b48ce2f97ca195100f5115aad2e1aad36e1abfaf8fd10c0c7a167ddf6b539399e7ddaf32ba0b1ee07a038369e6ad898e50a2cf98912248bcc'])\n",
      "DatasetItem(id='defaultcity/defaultcity_000001_000032', subset='test', media=<datumaro.components.media.Image object at 0x7f745694ae90>, annotations=[Mask(id=0, attributes={'is_crowd': True}, group=0, _image=<function CityscapesExtractor._lazy_extract_mask.<locals>.<lambda> at 0x7f74568a1f80>, label=3, z_order=0), Mask(id=0, attributes={'is_crowd': True}, group=0, _image=<function CityscapesExtractor._lazy_extract_mask.<locals>.<lambda> at 0x7f74568a19e0>, label=16, z_order=0), Mask(id=0, attributes={'is_crowd': True}, group=0, _image=<function CityscapesExtractor._lazy_extract_mask.<locals>.<lambda> at 0x7f74568a1b00>, label=19, z_order=0)], attributes={}, hash_key=['09effa1b4c54099b48ce2f97ca195100f5115aad2e1aad36e1abfaf8fd10c0c7a167ddf6b539399e7ddaf32ba0b1ee07a038369e6ad898e50a2cf98912248bcc'])\n",
      "DatasetItem(id='defaultcity/defaultcity_000001_000031', subset='test', media=<datumaro.components.media.Image object at 0x7f7434068350>, annotations=[Mask(id=0, attributes={'is_crowd': True}, group=0, _image=<function CityscapesExtractor._lazy_extract_mask.<locals>.<lambda> at 0x7f745689f950>, label=14, z_order=0), Mask(id=0, attributes={'is_crowd': True}, group=0, _image=<function CityscapesExtractor._lazy_extract_mask.<locals>.<lambda> at 0x7f745689fdd0>, label=19, z_order=0)], attributes={}, hash_key=['09effa1b4c54099b48ce2f97ca195100f5115aad2e1aad36e1abfaf8fd10c0c7a167ddf6b539399e7ddaf32ba0b1ee07a038369e6ad898e50a2cf98912248bcc'])\n"
     ]
    }
   ],
   "source": [
    "for i, item in enumerate(dataset):\n",
    "    print(item)"
   ]
  },
  {
   "cell_type": "code",
   "execution_count": 43,
   "id": "f07df056",
   "metadata": {},
   "outputs": [
    {
     "name": "stdout",
     "output_type": "stream",
     "text": [
      "[DatasetItem(id='defaultcity/defaultcity_000001_000019', subset='val', media=<datumaro.components.media.Image object at 0x7f745603d550>, annotations=[Mask(id=0, attributes={'is_crowd': True}, group=0, _image=<function CityscapesExtractor._lazy_extract_mask.<locals>.<lambda> at 0x7f755c48e680>, label=19, z_order=0)], attributes={}, hash_key=['09effa1b4c54099b48ce2f97ca195100f5115aad2e1aad36e1abfaf8fd10c0c7a167ddf6b539399e7ddaf32ba0b1ee07a038369e6ad898e50a2cf98912248bcc']), DatasetItem(id='defaultcity/defaultcity_000002_000045', subset='train', media=<datumaro.components.media.Image object at 0x7f74f7c98c90>, annotations=[Mask(id=0, attributes={'is_crowd': True}, group=0, _image=<function CityscapesExtractor._lazy_extract_mask.<locals>.<lambda> at 0x7f745c32e8c0>, label=11, z_order=0), Mask(id=0, attributes={'is_crowd': True}, group=0, _image=<function CityscapesExtractor._lazy_extract_mask.<locals>.<lambda> at 0x7f74568a1a70>, label=19, z_order=0)], attributes={}, hash_key=['09effa1b4c54099b48ce2f97ca195100f5115aad2e1aad36e1abfaf8fd10c0c7a167ddf6b539399e7ddaf32ba0b1ee07a038369e6ad898e50a2cf98912248bcc'])]\n"
     ]
    }
   ],
   "source": [
    "for i, item in enumerate(dataset):\n",
    "    if i==0:\n",
    "        query = item\n",
    "searcher = Searcher(dataset)\n",
    "topk_list = searcher.search_topk(query, topk=2)\n",
    "print(topk_list)"
   ]
  },
  {
   "cell_type": "markdown",
   "id": "28da374e",
   "metadata": {},
   "source": [
    "## coco"
   ]
  },
  {
   "cell_type": "code",
   "execution_count": 44,
   "id": "be311785",
   "metadata": {},
   "outputs": [
    {
     "name": "stderr",
     "output_type": "stream",
     "text": [
      "WARNING:root:Not implemented: Found potentially conflicting source types with labels: stuff, person_keypoints, panoptic, instances, labels. Only one type will be used: instances\n",
      "WARNING:root:Not implemented: conflicting source './tests/assets/coco_dataset/coco/annotations/labels_train.json' is skipped.\n",
      "WARNING:root:Not implemented: conflicting source './tests/assets/coco_dataset/coco/annotations/person_keypoints_train.json' is skipped.\n",
      "WARNING:root:Not implemented: conflicting source './tests/assets/coco_dataset/coco/annotations/stuff_train.json' is skipped.\n",
      "WARNING:root:Not implemented: conflicting source './tests/assets/coco_dataset/coco/annotations/panoptic_train.json' is skipped.\n",
      "WARNING:root:Not implemented: conflicting source './tests/assets/coco_dataset/coco/annotations/panoptic_val.json' is skipped.\n",
      "WARNING:root:Not implemented: conflicting source './tests/assets/coco_dataset/coco/annotations/labels_val.json' is skipped.\n",
      "WARNING:root:Not implemented: conflicting source './tests/assets/coco_dataset/coco/annotations/person_keypoints_val.json' is skipped.\n",
      "WARNING:root:Not implemented: conflicting source './tests/assets/coco_dataset/coco/annotations/stuff_val.json' is skipped.\n",
      "1it [00:00, 14.87it/s]\n",
      "1it [00:00,  7.66it/s]\n",
      "1it [00:00,  5.86it/s]\n",
      "1it [00:00,  5.17it/s]\n",
      "1it [00:00,  5.85it/s]\n",
      "1it [00:00,  6.42it/s]"
     ]
    },
    {
     "name": "stdout",
     "output_type": "stream",
     "text": [
      "setting dataset time for 2 items:  0.9386773109436035\n"
     ]
    },
    {
     "name": "stderr",
     "output_type": "stream",
     "text": [
      "\n"
     ]
    },
    {
     "data": {
      "text/plain": [
       "Dataset\n",
       "\tsize=2\n",
       "\tsource_path=./tests/assets/coco_dataset/coco\n",
       "\tmedia_type=<class 'datumaro.components.media.Image'>\n",
       "\tannotated_items_count=2\n",
       "\tannotations_count=6\n",
       "subsets\n",
       "\ttrain: # of items=1, # of annotated items=1, # of annotations=2, annotation types=['bbox', 'caption']\n",
       "\tval: # of items=1, # of annotated items=1, # of annotations=4, annotation types=['caption', 'mask', 'polygon']\n",
       "infos\n",
       "\tcategories\n",
       "\tlabel: ['a', 'b', 'c']"
      ]
     },
     "execution_count": 44,
     "metadata": {},
     "output_type": "execute_result"
    }
   ],
   "source": [
    "start_time = time.time()\n",
    "dataset = dm.Dataset.import_from('./tests/assets/coco_dataset/coco', save_hash=True)\n",
    "print(f'setting dataset time for {len(dataset)} items: ', time.time()-start_time)\n",
    "dataset"
   ]
  },
  {
   "cell_type": "code",
   "execution_count": 45,
   "id": "127b89f5",
   "metadata": {},
   "outputs": [
    {
     "name": "stdout",
     "output_type": "stream",
     "text": [
      "DatasetItem(id='a', subset='train', media=<datumaro.components.media.Image object at 0x7f7456038a90>, annotations=[Caption(id=1, attributes={}, group=1, caption='hello'), Bbox(id=1, attributes={'is_crowd': False}, group=1, points=[2.0, 2.0, 5.0, 3.0], label=1, z_order=0)], attributes={'id': 5}, hash_key=['09effa1b4c54099b48ce2f97ca195100f5115aad2e1aad36e1abfaf8fd10c0c7a167ddf6b539399e7ddaf32ba0b1ee07a038369e6ad898e50a2cf98912248bcc'])\n",
      "DatasetItem(id='b', subset='val', media=<datumaro.components.media.Image object at 0x7f745604e890>, annotations=[Polygon(id=1, attributes={'x': 1, 'y': 'hello', 'is_crowd': False}, group=1, points=[0.0, 0.0, 1.0, 0.0, 1.0, 2.0, 0.0, 2.0], label=0, z_order=0), RleMask(id=2, attributes={'is_crowd': True}, group=2, label=1, z_order=0, _rle=_CocoExtractor._lazy_merged_mask(segmentation=[{'counts': [0, 20, 30], 'size': [10, 5]}], h=10, w=5), _image=None), Caption(id=1, attributes={}, group=1, caption='world'), Caption(id=2, attributes={}, group=2, caption='text')], attributes={'id': 40}, hash_key=['09effa1b4c54099b48ce2f97ca195100f5115aad2e1aad36e1abfaf8fd10c0c7a167ddf6b539399e7ddaf32ba0b1ee07a038369e6ad898e50a2cf98912248bcc'])\n"
     ]
    }
   ],
   "source": [
    "for i, item in enumerate(dataset):\n",
    "    print(item)"
   ]
  },
  {
   "cell_type": "code",
   "execution_count": 46,
   "id": "74091857",
   "metadata": {},
   "outputs": [
    {
     "name": "stdout",
     "output_type": "stream",
     "text": [
      "[DatasetItem(id='a', subset='train', media=<datumaro.components.media.Image object at 0x7f7456038a90>, annotations=[Caption(id=1, attributes={}, group=1, caption='hello'), Bbox(id=1, attributes={'is_crowd': False}, group=1, points=[2.0, 2.0, 5.0, 3.0], label=1, z_order=0)], attributes={'id': 5}, hash_key=['09effa1b4c54099b48ce2f97ca195100f5115aad2e1aad36e1abfaf8fd10c0c7a167ddf6b539399e7ddaf32ba0b1ee07a038369e6ad898e50a2cf98912248bcc']), DatasetItem(id='b', subset='val', media=<datumaro.components.media.Image object at 0x7f745604e890>, annotations=[Polygon(id=1, attributes={'x': 1, 'y': 'hello', 'is_crowd': False}, group=1, points=[0.0, 0.0, 1.0, 0.0, 1.0, 2.0, 0.0, 2.0], label=0, z_order=0), RleMask(id=2, attributes={'is_crowd': True}, group=2, label=1, z_order=0, _rle=_CocoExtractor._lazy_merged_mask(segmentation=[{'counts': [0, 20, 30], 'size': [10, 5]}], h=10, w=5), _image=None), Caption(id=1, attributes={}, group=1, caption='world'), Caption(id=2, attributes={}, group=2, caption='text')], attributes={'id': 40}, hash_key=['09effa1b4c54099b48ce2f97ca195100f5115aad2e1aad36e1abfaf8fd10c0c7a167ddf6b539399e7ddaf32ba0b1ee07a038369e6ad898e50a2cf98912248bcc'])]\n"
     ]
    }
   ],
   "source": [
    "for i, item in enumerate(dataset):\n",
    "    if i==0:\n",
    "        query = item\n",
    "searcher = Searcher(dataset)\n",
    "topk_list = searcher.search_topk(query, topk=2)\n",
    "print(topk_list)"
   ]
  },
  {
   "cell_type": "code",
   "execution_count": 47,
   "id": "cb6b5e97",
   "metadata": {},
   "outputs": [
    {
     "name": "stderr",
     "output_type": "stream",
     "text": [
      "1it [00:00,  5.69it/s]\n",
      "1it [00:00, 81.26it/s]"
     ]
    },
    {
     "name": "stdout",
     "output_type": "stream",
     "text": [
      "setting dataset time for 2 items:  0.2118816375732422\n"
     ]
    },
    {
     "name": "stderr",
     "output_type": "stream",
     "text": [
      "\n"
     ]
    },
    {
     "data": {
      "text/plain": [
       "Dataset\n",
       "\tsize=2\n",
       "\tsource_path=./tests/assets/coco_dataset/coco_captions\n",
       "\tmedia_type=<class 'datumaro.components.media.Image'>\n",
       "\tannotated_items_count=2\n",
       "\tannotations_count=3\n",
       "subsets\n",
       "\ttrain: # of items=1, # of annotated items=1, # of annotations=1, annotation types=['caption']\n",
       "\tval: # of items=1, # of annotated items=1, # of annotations=2, annotation types=['caption']\n",
       "infos\n",
       "\tcategories\n",
       "\t"
      ]
     },
     "execution_count": 47,
     "metadata": {},
     "output_type": "execute_result"
    }
   ],
   "source": [
    "start_time = time.time()\n",
    "dataset = dm.Dataset.import_from('./tests/assets/coco_dataset/coco_captions', save_hash=True)\n",
    "print(f'setting dataset time for {len(dataset)} items: ', time.time()-start_time)\n",
    "dataset"
   ]
  },
  {
   "cell_type": "code",
   "execution_count": 48,
   "id": "b9a8299a",
   "metadata": {},
   "outputs": [
    {
     "name": "stdout",
     "output_type": "stream",
     "text": [
      "DatasetItem(id='a', subset='train', media=<datumaro.components.media.Image object at 0x7f7456054890>, annotations=[Caption(id=1, attributes={}, group=1, caption='hello')], attributes={'id': 5}, hash_key=['09effa1b4c54099b48ce2f97ca195100f5115aad2e1aad36e1abfaf8fd10c0c7a167ddf6b539399e7ddaf32ba0b1ee07a038369e6ad898e50a2cf98912248bcc'])\n",
      "DatasetItem(id='b', subset='val', media=<datumaro.components.media.Image object at 0x7f7456054850>, annotations=[Caption(id=1, attributes={}, group=1, caption='world'), Caption(id=2, attributes={}, group=2, caption='text')], attributes={'id': 40}, hash_key=['09effa1b4c54099b48ce2f97ca195100f5115aad2e1aad36e1abfaf8fd10c0c7a167ddf6b539399e7ddaf32ba0b1ee07a038369e6ad898e50a2cf98912248bcc'])\n"
     ]
    }
   ],
   "source": [
    "for i, item in enumerate(dataset):\n",
    "    print(item)"
   ]
  },
  {
   "cell_type": "code",
   "execution_count": 49,
   "id": "d1bb59ee",
   "metadata": {},
   "outputs": [
    {
     "name": "stdout",
     "output_type": "stream",
     "text": [
      "[DatasetItem(id='a', subset='train', media=<datumaro.components.media.Image object at 0x7f7456054890>, annotations=[Caption(id=1, attributes={}, group=1, caption='hello')], attributes={'id': 5}, hash_key=['09effa1b4c54099b48ce2f97ca195100f5115aad2e1aad36e1abfaf8fd10c0c7a167ddf6b539399e7ddaf32ba0b1ee07a038369e6ad898e50a2cf98912248bcc']), DatasetItem(id='b', subset='val', media=<datumaro.components.media.Image object at 0x7f7456054850>, annotations=[Caption(id=1, attributes={}, group=1, caption='world'), Caption(id=2, attributes={}, group=2, caption='text')], attributes={'id': 40}, hash_key=['09effa1b4c54099b48ce2f97ca195100f5115aad2e1aad36e1abfaf8fd10c0c7a167ddf6b539399e7ddaf32ba0b1ee07a038369e6ad898e50a2cf98912248bcc'])]\n"
     ]
    }
   ],
   "source": [
    "for i, item in enumerate(dataset):\n",
    "    if i==0:\n",
    "        query = item\n",
    "searcher = Searcher(dataset)\n",
    "topk_list = searcher.search_topk(query, topk=2)\n",
    "print(topk_list)"
   ]
  },
  {
   "cell_type": "code",
   "execution_count": 50,
   "id": "c94343b0",
   "metadata": {},
   "outputs": [
    {
     "name": "stderr",
     "output_type": "stream",
     "text": [
      "1it [00:00, 11.78it/s]\n",
      "1it [00:00,  5.39it/s]"
     ]
    },
    {
     "name": "stdout",
     "output_type": "stream",
     "text": [
      "setting dataset time for 2 items:  0.2914009094238281\n"
     ]
    },
    {
     "name": "stderr",
     "output_type": "stream",
     "text": [
      "\n"
     ]
    },
    {
     "data": {
      "text/plain": [
       "Dataset\n",
       "\tsize=2\n",
       "\tsource_path=./tests/assets/coco_dataset/coco_image_info\n",
       "\tmedia_type=<class 'datumaro.components.media.Image'>\n",
       "\tannotated_items_count=0\n",
       "\tannotations_count=0\n",
       "subsets\n",
       "\ttrain: # of items=1, # of annotated items=0, # of annotations=0, annotation types=[]\n",
       "\tval: # of items=1, # of annotated items=0, # of annotations=0, annotation types=[]\n",
       "infos\n",
       "\tcategories\n",
       "\t"
      ]
     },
     "execution_count": 50,
     "metadata": {},
     "output_type": "execute_result"
    }
   ],
   "source": [
    "start_time = time.time()\n",
    "dataset = dm.Dataset.import_from('./tests/assets/coco_dataset/coco_image_info', save_hash=True)\n",
    "print(f'setting dataset time for {len(dataset)} items: ', time.time()-start_time)\n",
    "dataset"
   ]
  },
  {
   "cell_type": "code",
   "execution_count": 51,
   "id": "951c407e",
   "metadata": {},
   "outputs": [
    {
     "name": "stdout",
     "output_type": "stream",
     "text": [
      "DatasetItem(id='b', subset='val', media=<datumaro.components.media.Image object at 0x7f745605f690>, annotations=[], attributes={'id': 40}, hash_key=['09effa1b4c54099b48ce2f97ca195100f5115aad2e1aad36e1abfaf8fd10c0c7a167ddf6b539399e7ddaf32ba0b1ee07a038369e6ad898e50a2cf98912248bcc'])\n",
      "DatasetItem(id='a', subset='train', media=<datumaro.components.media.Image object at 0x7f745603d890>, annotations=[], attributes={'id': 5}, hash_key=['09effa1b4c54099b48ce2f97ca195100f5115aad2e1aad36e1abfaf8fd10c0c7a167ddf6b539399e7ddaf32ba0b1ee07a038369e6ad898e50a2cf98912248bcc'])\n"
     ]
    }
   ],
   "source": [
    "for i, item in enumerate(dataset):\n",
    "    print(item)"
   ]
  },
  {
   "cell_type": "code",
   "execution_count": 52,
   "id": "f9608431",
   "metadata": {},
   "outputs": [
    {
     "name": "stdout",
     "output_type": "stream",
     "text": [
      "[DatasetItem(id='b', subset='val', media=<datumaro.components.media.Image object at 0x7f745605f690>, annotations=[], attributes={'id': 40}, hash_key=['09effa1b4c54099b48ce2f97ca195100f5115aad2e1aad36e1abfaf8fd10c0c7a167ddf6b539399e7ddaf32ba0b1ee07a038369e6ad898e50a2cf98912248bcc']), DatasetItem(id='a', subset='train', media=<datumaro.components.media.Image object at 0x7f745603d890>, annotations=[], attributes={'id': 5}, hash_key=['09effa1b4c54099b48ce2f97ca195100f5115aad2e1aad36e1abfaf8fd10c0c7a167ddf6b539399e7ddaf32ba0b1ee07a038369e6ad898e50a2cf98912248bcc'])]\n"
     ]
    }
   ],
   "source": [
    "for i, item in enumerate(dataset):\n",
    "    if i==0:\n",
    "        query = item\n",
    "searcher = Searcher(dataset)\n",
    "topk_list = searcher.search_topk(query, topk=2)\n",
    "print(topk_list)"
   ]
  },
  {
   "cell_type": "code",
   "execution_count": 53,
   "id": "c81548fc",
   "metadata": {},
   "outputs": [
    {
     "name": "stderr",
     "output_type": "stream",
     "text": [
      "1it [00:00,  5.30it/s]\n",
      "1it [00:00,  4.70it/s]"
     ]
    },
    {
     "name": "stdout",
     "output_type": "stream",
     "text": [
      "setting dataset time for 2 items:  0.41259765625\n",
      "DatasetItem(id='b', subset='val', media=<datumaro.components.media.Image object at 0x7f745606f1d0>, annotations=[Polygon(id=1, attributes={'x': 1, 'y': 'hello', 'is_crowd': False}, group=1, points=[0.0, 0.0, 1.0, 0.0, 1.0, 2.0, 0.0, 2.0], label=0, z_order=0), RleMask(id=2, attributes={'is_crowd': True}, group=2, label=1, z_order=0, _rle=_CocoExtractor._lazy_merged_mask(segmentation=[{'counts': [0, 20, 30], 'size': [10, 5]}], h=10, w=5), _image=None)], attributes={'id': 40}, hash_key=['09effa1b4c54099b48ce2f97ca195100f5115aad2e1aad36e1abfaf8fd10c0c7a167ddf6b539399e7ddaf32ba0b1ee07a038369e6ad898e50a2cf98912248bcc'])\n",
      "DatasetItem(id='a', subset='train', media=<datumaro.components.media.Image object at 0x7f7456036b50>, annotations=[Bbox(id=1, attributes={'is_crowd': False}, group=1, points=[2.0, 2.0, 5.0, 3.0], label=1, z_order=0)], attributes={'id': 5}, hash_key=['09effa1b4c54099b48ce2f97ca195100f5115aad2e1aad36e1abfaf8fd10c0c7a167ddf6b539399e7ddaf32ba0b1ee07a038369e6ad898e50a2cf98912248bcc'])\n"
     ]
    },
    {
     "name": "stderr",
     "output_type": "stream",
     "text": [
      "\n"
     ]
    }
   ],
   "source": [
    "start_time = time.time()\n",
    "dataset = dm.Dataset.import_from('./tests/assets/coco_dataset/coco_instances', save_hash=True)\n",
    "print(f'setting dataset time for {len(dataset)} items: ', time.time()-start_time)\n",
    "dataset\n",
    "for i, item in enumerate(dataset):\n",
    "    print(item)"
   ]
  },
  {
   "cell_type": "code",
   "execution_count": 54,
   "id": "d1ef5cc4",
   "metadata": {},
   "outputs": [
    {
     "name": "stdout",
     "output_type": "stream",
     "text": [
      "[DatasetItem(id='b', subset='val', media=<datumaro.components.media.Image object at 0x7f745606f1d0>, annotations=[Polygon(id=1, attributes={'x': 1, 'y': 'hello', 'is_crowd': False}, group=1, points=[0.0, 0.0, 1.0, 0.0, 1.0, 2.0, 0.0, 2.0], label=0, z_order=0), RleMask(id=2, attributes={'is_crowd': True}, group=2, label=1, z_order=0, _rle=_CocoExtractor._lazy_merged_mask(segmentation=[{'counts': [0, 20, 30], 'size': [10, 5]}], h=10, w=5), _image=None)], attributes={'id': 40}, hash_key=['09effa1b4c54099b48ce2f97ca195100f5115aad2e1aad36e1abfaf8fd10c0c7a167ddf6b539399e7ddaf32ba0b1ee07a038369e6ad898e50a2cf98912248bcc']), DatasetItem(id='a', subset='train', media=<datumaro.components.media.Image object at 0x7f7456036b50>, annotations=[Bbox(id=1, attributes={'is_crowd': False}, group=1, points=[2.0, 2.0, 5.0, 3.0], label=1, z_order=0)], attributes={'id': 5}, hash_key=['09effa1b4c54099b48ce2f97ca195100f5115aad2e1aad36e1abfaf8fd10c0c7a167ddf6b539399e7ddaf32ba0b1ee07a038369e6ad898e50a2cf98912248bcc'])]\n"
     ]
    }
   ],
   "source": [
    "for i, item in enumerate(dataset):\n",
    "    if i==0:\n",
    "        query = item\n",
    "searcher = Searcher(dataset)\n",
    "topk_list = searcher.search_topk(query, topk=2)\n",
    "print(topk_list)"
   ]
  },
  {
   "cell_type": "code",
   "execution_count": 55,
   "id": "7dc90ffa",
   "metadata": {},
   "outputs": [
    {
     "name": "stderr",
     "output_type": "stream",
     "text": [
      "1it [00:00,  6.18it/s]\n",
      "1it [00:00,  5.81it/s]"
     ]
    },
    {
     "name": "stdout",
     "output_type": "stream",
     "text": [
      "setting dataset time for 2 items:  0.34660792350769043\n",
      "DatasetItem(id='a', subset='train', media=<datumaro.components.media.Image object at 0x7f744bfc0ad0>, annotations=[Label(id=1, attributes={}, group=1, label=1)], attributes={'id': 5}, hash_key=['09effa1b4c54099b48ce2f97ca195100f5115aad2e1aad36e1abfaf8fd10c0c7a167ddf6b539399e7ddaf32ba0b1ee07a038369e6ad898e50a2cf98912248bcc'])\n",
      "DatasetItem(id='b', subset='val', media=<datumaro.components.media.Image object at 0x7f744bfc0f10>, annotations=[Label(id=1, attributes={}, group=1, label=0), Label(id=2, attributes={}, group=2, label=1)], attributes={'id': 40}, hash_key=['09effa1b4c54099b48ce2f97ca195100f5115aad2e1aad36e1abfaf8fd10c0c7a167ddf6b539399e7ddaf32ba0b1ee07a038369e6ad898e50a2cf98912248bcc'])\n"
     ]
    },
    {
     "name": "stderr",
     "output_type": "stream",
     "text": [
      "\n"
     ]
    }
   ],
   "source": [
    "start_time = time.time()\n",
    "dataset = dm.Dataset.import_from('./tests/assets/coco_dataset/coco_labels', save_hash=True)\n",
    "print(f'setting dataset time for {len(dataset)} items: ', time.time()-start_time)\n",
    "dataset\n",
    "for i, item in enumerate(dataset):\n",
    "    print(item)"
   ]
  },
  {
   "cell_type": "code",
   "execution_count": 56,
   "id": "d7395d54",
   "metadata": {},
   "outputs": [
    {
     "name": "stdout",
     "output_type": "stream",
     "text": [
      "[DatasetItem(id='a', subset='train', media=<datumaro.components.media.Image object at 0x7f744bfc0ad0>, annotations=[Label(id=1, attributes={}, group=1, label=1)], attributes={'id': 5}, hash_key=['09effa1b4c54099b48ce2f97ca195100f5115aad2e1aad36e1abfaf8fd10c0c7a167ddf6b539399e7ddaf32ba0b1ee07a038369e6ad898e50a2cf98912248bcc']), DatasetItem(id='b', subset='val', media=<datumaro.components.media.Image object at 0x7f744bfc0f10>, annotations=[Label(id=1, attributes={}, group=1, label=0), Label(id=2, attributes={}, group=2, label=1)], attributes={'id': 40}, hash_key=['09effa1b4c54099b48ce2f97ca195100f5115aad2e1aad36e1abfaf8fd10c0c7a167ddf6b539399e7ddaf32ba0b1ee07a038369e6ad898e50a2cf98912248bcc'])]\n"
     ]
    }
   ],
   "source": [
    "for i, item in enumerate(dataset):\n",
    "    if i==0:\n",
    "        query = item\n",
    "searcher = Searcher(dataset)\n",
    "topk_list = searcher.search_topk(query, topk=2)\n",
    "print(topk_list)"
   ]
  },
  {
   "cell_type": "code",
   "execution_count": 57,
   "id": "26a2a37c",
   "metadata": {},
   "outputs": [
    {
     "name": "stderr",
     "output_type": "stream",
     "text": [
      "1it [00:00,  6.36it/s]\n",
      "1it [00:00,  5.85it/s]"
     ]
    },
    {
     "name": "stdout",
     "output_type": "stream",
     "text": [
      "setting dataset time for 2 items:  0.3626987934112549\n",
      "DatasetItem(id='b', subset='val', media=<datumaro.components.media.Image object at 0x7f744bfcbb90>, annotations=[Mask(id=7, attributes={'is_crowd': False}, group=7, _image=functools.partial(<bound method CompiledMask.extract of <datumaro.components.annotation.CompiledMask object at 0x7f74568ac610>>, 7), label=0, z_order=0), Mask(id=20, attributes={'is_crowd': True}, group=20, _image=functools.partial(<bound method CompiledMask.extract of <datumaro.components.annotation.CompiledMask object at 0x7f74568ac610>>, 20), label=1, z_order=0)], attributes={'id': 40}, hash_key=['09effa1b4c54099b48ce2f97ca195100f5115aad2e1aad36e1abfaf8fd10c0c7a167ddf6b539399e7ddaf32ba0b1ee07a038369e6ad898e50a2cf98912248bcc'])\n",
      "DatasetItem(id='a', subset='train', media=<datumaro.components.media.Image object at 0x7f744bfcbcd0>, annotations=[Mask(id=460551, attributes={'is_crowd': False}, group=460551, _image=functools.partial(<bound method CompiledMask.extract of <datumaro.components.annotation.CompiledMask object at 0x7f744bfcbc90>>, 460551), label=0, z_order=0)], attributes={'id': 5}, hash_key=['09effa1b4c54099b48ce2f97ca195100f5115aad2e1aad36e1abfaf8fd10c0c7a167ddf6b539399e7ddaf32ba0b1ee07a038369e6ad898e50a2cf98912248bcc'])\n"
     ]
    },
    {
     "name": "stderr",
     "output_type": "stream",
     "text": [
      "\n"
     ]
    }
   ],
   "source": [
    "start_time = time.time()\n",
    "dataset = dm.Dataset.import_from('./tests/assets/coco_dataset/coco_panoptic', save_hash=True)\n",
    "print(f'setting dataset time for {len(dataset)} items: ', time.time()-start_time)\n",
    "dataset\n",
    "for i, item in enumerate(dataset):\n",
    "    print(item)"
   ]
  },
  {
   "cell_type": "code",
   "execution_count": 58,
   "id": "9054b934",
   "metadata": {},
   "outputs": [
    {
     "name": "stdout",
     "output_type": "stream",
     "text": [
      "[DatasetItem(id='b', subset='val', media=<datumaro.components.media.Image object at 0x7f744bfcbb90>, annotations=[Mask(id=7, attributes={'is_crowd': False}, group=7, _image=functools.partial(<bound method CompiledMask.extract of <datumaro.components.annotation.CompiledMask object at 0x7f74568ac610>>, 7), label=0, z_order=0), Mask(id=20, attributes={'is_crowd': True}, group=20, _image=functools.partial(<bound method CompiledMask.extract of <datumaro.components.annotation.CompiledMask object at 0x7f74568ac610>>, 20), label=1, z_order=0)], attributes={'id': 40}, hash_key=['09effa1b4c54099b48ce2f97ca195100f5115aad2e1aad36e1abfaf8fd10c0c7a167ddf6b539399e7ddaf32ba0b1ee07a038369e6ad898e50a2cf98912248bcc']), DatasetItem(id='a', subset='train', media=<datumaro.components.media.Image object at 0x7f744bfcbcd0>, annotations=[Mask(id=460551, attributes={'is_crowd': False}, group=460551, _image=functools.partial(<bound method CompiledMask.extract of <datumaro.components.annotation.CompiledMask object at 0x7f744bfcbc90>>, 460551), label=0, z_order=0)], attributes={'id': 5}, hash_key=['09effa1b4c54099b48ce2f97ca195100f5115aad2e1aad36e1abfaf8fd10c0c7a167ddf6b539399e7ddaf32ba0b1ee07a038369e6ad898e50a2cf98912248bcc'])]\n"
     ]
    }
   ],
   "source": [
    "for i, item in enumerate(dataset):\n",
    "    if i==0:\n",
    "        query = item\n",
    "searcher = Searcher(dataset)\n",
    "topk_list = searcher.search_topk(query, topk=2)\n",
    "print(topk_list)"
   ]
  },
  {
   "cell_type": "code",
   "execution_count": 59,
   "id": "9dbb25ac",
   "metadata": {},
   "outputs": [
    {
     "name": "stderr",
     "output_type": "stream",
     "text": [
      "1it [00:00,  5.95it/s]\n",
      "1it [00:00,  5.29it/s]"
     ]
    },
    {
     "name": "stdout",
     "output_type": "stream",
     "text": [
      "setting dataset time for 2 items:  0.3880956172943115\n",
      "DatasetItem(id='a', subset='train', media=<datumaro.components.media.Image object at 0x7f744bfc89d0>, annotations=[Points(id=1, attributes={'is_crowd': False}, group=1, points=[0, 0, 0, 2, 4, 1], label=1, z_order=0, visibility=[<Visibility.absent: 0>, <Visibility.hidden: 1>, <Visibility.visible: 2>]), Bbox(id=1, attributes={'is_crowd': False}, group=1, points=[2.0, 2.0, 5.0, 3.0], label=1, z_order=0)], attributes={'id': 5}, hash_key=['09effa1b4c54099b48ce2f97ca195100f5115aad2e1aad36e1abfaf8fd10c0c7a167ddf6b539399e7ddaf32ba0b1ee07a038369e6ad898e50a2cf98912248bcc'])\n",
      "DatasetItem(id='b', subset='val', media=<datumaro.components.media.Image object at 0x7f744bfc8f50>, annotations=[Points(id=1, attributes={'x': 1, 'y': 'hello', 'is_crowd': False}, group=1, points=[1, 2, 3, 4, 2, 3], label=0, z_order=0, visibility=[<Visibility.visible: 2>, <Visibility.visible: 2>, <Visibility.visible: 2>]), Polygon(id=1, attributes={'x': 1, 'y': 'hello', 'is_crowd': False}, group=1, points=[0.0, 0.0, 1.0, 0.0, 1.0, 2.0, 0.0, 2.0], label=0, z_order=0), Points(id=2, attributes={'is_crowd': True}, group=2, points=[2, 4, 4, 4, 4, 2], label=1, z_order=0, visibility=[<Visibility.visible: 2>, <Visibility.visible: 2>, <Visibility.visible: 2>]), RleMask(id=2, attributes={'is_crowd': True}, group=2, label=1, z_order=0, _rle=_CocoExtractor._lazy_merged_mask(segmentation=[{'counts': [0, 20, 30], 'size': [10, 5]}], h=10, w=5), _image=None)], attributes={'id': 40}, hash_key=['09effa1b4c54099b48ce2f97ca195100f5115aad2e1aad36e1abfaf8fd10c0c7a167ddf6b539399e7ddaf32ba0b1ee07a038369e6ad898e50a2cf98912248bcc'])\n"
     ]
    },
    {
     "name": "stderr",
     "output_type": "stream",
     "text": [
      "\n"
     ]
    }
   ],
   "source": [
    "start_time = time.time()\n",
    "dataset = dm.Dataset.import_from('./tests/assets/coco_dataset/coco_person_keypoints', save_hash=True)\n",
    "print(f'setting dataset time for {len(dataset)} items: ', time.time()-start_time)\n",
    "dataset\n",
    "for i, item in enumerate(dataset):\n",
    "    print(item)"
   ]
  },
  {
   "cell_type": "code",
   "execution_count": 60,
   "id": "bb8fd422",
   "metadata": {},
   "outputs": [
    {
     "name": "stdout",
     "output_type": "stream",
     "text": [
      "[DatasetItem(id='a', subset='train', media=<datumaro.components.media.Image object at 0x7f744bfc89d0>, annotations=[Points(id=1, attributes={'is_crowd': False}, group=1, points=[0, 0, 0, 2, 4, 1], label=1, z_order=0, visibility=[<Visibility.absent: 0>, <Visibility.hidden: 1>, <Visibility.visible: 2>]), Bbox(id=1, attributes={'is_crowd': False}, group=1, points=[2.0, 2.0, 5.0, 3.0], label=1, z_order=0)], attributes={'id': 5}, hash_key=['09effa1b4c54099b48ce2f97ca195100f5115aad2e1aad36e1abfaf8fd10c0c7a167ddf6b539399e7ddaf32ba0b1ee07a038369e6ad898e50a2cf98912248bcc']), DatasetItem(id='b', subset='val', media=<datumaro.components.media.Image object at 0x7f744bfc8f50>, annotations=[Points(id=1, attributes={'x': 1, 'y': 'hello', 'is_crowd': False}, group=1, points=[1, 2, 3, 4, 2, 3], label=0, z_order=0, visibility=[<Visibility.visible: 2>, <Visibility.visible: 2>, <Visibility.visible: 2>]), Polygon(id=1, attributes={'x': 1, 'y': 'hello', 'is_crowd': False}, group=1, points=[0.0, 0.0, 1.0, 0.0, 1.0, 2.0, 0.0, 2.0], label=0, z_order=0), Points(id=2, attributes={'is_crowd': True}, group=2, points=[2, 4, 4, 4, 4, 2], label=1, z_order=0, visibility=[<Visibility.visible: 2>, <Visibility.visible: 2>, <Visibility.visible: 2>]), RleMask(id=2, attributes={'is_crowd': True}, group=2, label=1, z_order=0, _rle=_CocoExtractor._lazy_merged_mask(segmentation=[{'counts': [0, 20, 30], 'size': [10, 5]}], h=10, w=5), _image=None)], attributes={'id': 40}, hash_key=['09effa1b4c54099b48ce2f97ca195100f5115aad2e1aad36e1abfaf8fd10c0c7a167ddf6b539399e7ddaf32ba0b1ee07a038369e6ad898e50a2cf98912248bcc'])]\n"
     ]
    }
   ],
   "source": [
    "for i, item in enumerate(dataset):\n",
    "    if i==0:\n",
    "        query = item\n",
    "searcher = Searcher(dataset)\n",
    "topk_list = searcher.search_topk(query, topk=2)\n",
    "print(topk_list)"
   ]
  },
  {
   "cell_type": "code",
   "execution_count": 61,
   "id": "a8220097",
   "metadata": {},
   "outputs": [
    {
     "name": "stderr",
     "output_type": "stream",
     "text": [
      "1it [00:00, 106.11it/s]\n",
      "1it [00:00,  7.13it/s]"
     ]
    },
    {
     "name": "stdout",
     "output_type": "stream",
     "text": [
      "setting dataset time for 2 items:  0.1782681941986084\n",
      "DatasetItem(id='a', subset='train', media=<datumaro.components.media.Image object at 0x7f7456036850>, annotations=[RleMask(id=7, attributes={'is_crowd': True}, group=7, label=0, z_order=0, _rle=_CocoExtractor._lazy_merged_mask(segmentation=[{'counts': [10, 10, 5, 10, 15], 'size': [5, 10]}], h=5, w=10), _image=None)], attributes={'id': 5}, hash_key=['09effa1b4c54099b48ce2f97ca195100f5115aad2e1aad36e1abfaf8fd10c0c7a167ddf6b539399e7ddaf32ba0b1ee07a038369e6ad898e50a2cf98912248bcc'])\n",
      "DatasetItem(id='b', subset='val', media=<datumaro.components.media.Image object at 0x7f7456895a90>, annotations=[RleMask(id=2, attributes={'is_crowd': True}, group=2, label=1, z_order=0, _rle=_CocoExtractor._lazy_merged_mask(segmentation=[{'counts': [0, 20, 30], 'size': [10, 5]}], h=10, w=5), _image=None)], attributes={'id': 40}, hash_key=['09effa1b4c54099b48ce2f97ca195100f5115aad2e1aad36e1abfaf8fd10c0c7a167ddf6b539399e7ddaf32ba0b1ee07a038369e6ad898e50a2cf98912248bcc'])\n"
     ]
    },
    {
     "name": "stderr",
     "output_type": "stream",
     "text": [
      "\n"
     ]
    }
   ],
   "source": [
    "start_time = time.time()\n",
    "dataset = dm.Dataset.import_from('./tests/assets/coco_dataset/coco_stuff', save_hash=True)\n",
    "print(f'setting dataset time for {len(dataset)} items: ', time.time()-start_time)\n",
    "dataset\n",
    "for i, item in enumerate(dataset):\n",
    "    print(item)"
   ]
  },
  {
   "cell_type": "code",
   "execution_count": 62,
   "id": "c848864a",
   "metadata": {},
   "outputs": [
    {
     "name": "stdout",
     "output_type": "stream",
     "text": [
      "[DatasetItem(id='a', subset='train', media=<datumaro.components.media.Image object at 0x7f7456036850>, annotations=[RleMask(id=7, attributes={'is_crowd': True}, group=7, label=0, z_order=0, _rle=_CocoExtractor._lazy_merged_mask(segmentation=[{'counts': [10, 10, 5, 10, 15], 'size': [5, 10]}], h=5, w=10), _image=None)], attributes={'id': 5}, hash_key=['09effa1b4c54099b48ce2f97ca195100f5115aad2e1aad36e1abfaf8fd10c0c7a167ddf6b539399e7ddaf32ba0b1ee07a038369e6ad898e50a2cf98912248bcc']), DatasetItem(id='b', subset='val', media=<datumaro.components.media.Image object at 0x7f7456895a90>, annotations=[RleMask(id=2, attributes={'is_crowd': True}, group=2, label=1, z_order=0, _rle=_CocoExtractor._lazy_merged_mask(segmentation=[{'counts': [0, 20, 30], 'size': [10, 5]}], h=10, w=5), _image=None)], attributes={'id': 40}, hash_key=['09effa1b4c54099b48ce2f97ca195100f5115aad2e1aad36e1abfaf8fd10c0c7a167ddf6b539399e7ddaf32ba0b1ee07a038369e6ad898e50a2cf98912248bcc'])]\n"
     ]
    }
   ],
   "source": [
    "for i, item in enumerate(dataset):\n",
    "    if i==0:\n",
    "        query = item\n",
    "searcher = Searcher(dataset)\n",
    "topk_list = searcher.search_topk(query, topk=2)\n",
    "print(topk_list)"
   ]
  },
  {
   "cell_type": "markdown",
   "id": "5d857f83",
   "metadata": {},
   "source": [
    "## common semantic seg"
   ]
  },
  {
   "cell_type": "code",
   "execution_count": 63,
   "id": "4cd3d6e7",
   "metadata": {},
   "outputs": [
    {
     "name": "stdout",
     "output_type": "stream",
     "text": [
      "setting dataset time for 2 items:  0.34743475914001465\n",
      "DatasetItem(id='0001', subset='default', media=<datumaro.components.media.Image object at 0x7f744bfcfbd0>, annotations=[Mask(id=0, attributes={}, group=0, _image=<function CommonSemanticSegmentationExtractor._lazy_extract_mask.<locals>.<lambda> at 0x7f744bfcc3b0>, label=3, z_order=0), Mask(id=0, attributes={}, group=0, _image=<function CommonSemanticSegmentationExtractor._lazy_extract_mask.<locals>.<lambda> at 0x7f744bfcc5f0>, label=5, z_order=0)], attributes={}, hash_key=['09effa1b4c54099b48ce2f97ca195100f5115aad2e1aad36e1abfaf8fd10c0c7a167ddf6b539399e7ddaf32ba0b1ee07a038369e6ad898e50a2cf98912248bcc'])\n",
      "DatasetItem(id='0002', subset='default', media=<datumaro.components.media.Image object at 0x7f744bfc8950>, annotations=[Mask(id=0, attributes={}, group=0, _image=<function CommonSemanticSegmentationExtractor._lazy_extract_mask.<locals>.<lambda> at 0x7f744bfcc8c0>, label=1, z_order=0), Mask(id=0, attributes={}, group=0, _image=<function CommonSemanticSegmentationExtractor._lazy_extract_mask.<locals>.<lambda> at 0x7f744bfcc830>, label=4, z_order=0)], attributes={}, hash_key=['09effa1b4c54099b48ce2f97ca195100f5115aad2e1aad36e1abfaf8fd10c0c7a167ddf6b539399e7ddaf32ba0b1ee07a038369e6ad898e50a2cf98912248bcc'])\n"
     ]
    }
   ],
   "source": [
    "start_time = time.time()\n",
    "dataset = dm.Dataset.import_from('./tests/assets/common_semantic_segmentation_dataset/dataset', save_hash=True)\n",
    "print(f'setting dataset time for {len(dataset)} items: ', time.time()-start_time)\n",
    "dataset\n",
    "for i, item in enumerate(dataset):\n",
    "    print(item)"
   ]
  },
  {
   "cell_type": "code",
   "execution_count": 64,
   "id": "f753d35a",
   "metadata": {},
   "outputs": [
    {
     "name": "stdout",
     "output_type": "stream",
     "text": [
      "[DatasetItem(id='0001', subset='default', media=<datumaro.components.media.Image object at 0x7f744bfcfbd0>, annotations=[Mask(id=0, attributes={}, group=0, _image=<function CommonSemanticSegmentationExtractor._lazy_extract_mask.<locals>.<lambda> at 0x7f744bfcc3b0>, label=3, z_order=0), Mask(id=0, attributes={}, group=0, _image=<function CommonSemanticSegmentationExtractor._lazy_extract_mask.<locals>.<lambda> at 0x7f744bfcc5f0>, label=5, z_order=0)], attributes={}, hash_key=['09effa1b4c54099b48ce2f97ca195100f5115aad2e1aad36e1abfaf8fd10c0c7a167ddf6b539399e7ddaf32ba0b1ee07a038369e6ad898e50a2cf98912248bcc']), DatasetItem(id='0002', subset='default', media=<datumaro.components.media.Image object at 0x7f744bfc8950>, annotations=[Mask(id=0, attributes={}, group=0, _image=<function CommonSemanticSegmentationExtractor._lazy_extract_mask.<locals>.<lambda> at 0x7f744bfcc8c0>, label=1, z_order=0), Mask(id=0, attributes={}, group=0, _image=<function CommonSemanticSegmentationExtractor._lazy_extract_mask.<locals>.<lambda> at 0x7f744bfcc830>, label=4, z_order=0)], attributes={}, hash_key=['09effa1b4c54099b48ce2f97ca195100f5115aad2e1aad36e1abfaf8fd10c0c7a167ddf6b539399e7ddaf32ba0b1ee07a038369e6ad898e50a2cf98912248bcc'])]\n"
     ]
    }
   ],
   "source": [
    "for i, item in enumerate(dataset):\n",
    "    if i==0:\n",
    "        query = item\n",
    "searcher = Searcher(dataset)\n",
    "topk_list = searcher.search_topk(query, topk=2)\n",
    "print(topk_list)"
   ]
  },
  {
   "cell_type": "code",
   "execution_count": 65,
   "id": "113c188c",
   "metadata": {},
   "outputs": [
    {
     "name": "stdout",
     "output_type": "stream",
     "text": [
      "setting dataset time for 2 items:  0.374758243560791\n",
      "DatasetItem(id='0002', subset='default', media=<datumaro.components.media.Image object at 0x7f744bfd2150>, annotations=[Mask(id=0, attributes={}, group=0, _image=<function CommonSemanticSegmentationExtractor._lazy_extract_mask.<locals>.<lambda> at 0x7f744bfd6680>, label=1, z_order=0), Mask(id=0, attributes={}, group=0, _image=<function CommonSemanticSegmentationExtractor._lazy_extract_mask.<locals>.<lambda> at 0x7f744bfd6440>, label=5, z_order=0), Mask(id=0, attributes={}, group=0, _image=<function CommonSemanticSegmentationExtractor._lazy_extract_mask.<locals>.<lambda> at 0x7f744bfd6170>, label=7, z_order=0)], attributes={}, hash_key=['09effa1b4c54099b48ce2f97ca195100f5115aad2e1aad36e1abfaf8fd10c0c7a167ddf6b539399e7ddaf32ba0b1ee07a038369e6ad898e50a2cf98912248bcc'])\n",
      "DatasetItem(id='0001', subset='default', media=<datumaro.components.media.Image object at 0x7f744bfd22d0>, annotations=[Mask(id=0, attributes={}, group=0, _image=<function CommonSemanticSegmentationExtractor._lazy_extract_mask.<locals>.<lambda> at 0x7f744bfd6a70>, label=3, z_order=0), Mask(id=0, attributes={}, group=0, _image=<function CommonSemanticSegmentationExtractor._lazy_extract_mask.<locals>.<lambda> at 0x7f744bfd69e0>, label=5, z_order=0)], attributes={}, hash_key=['09effa1b4c54099b48ce2f97ca195100f5115aad2e1aad36e1abfaf8fd10c0c7a167ddf6b539399e7ddaf32ba0b1ee07a038369e6ad898e50a2cf98912248bcc'])\n"
     ]
    }
   ],
   "source": [
    "start_time = time.time()\n",
    "dataset = dm.Dataset.import_from('./tests/assets/common_semantic_segmentation_dataset/non_standard_dataset/segmentation', image_prefix=\"image_\", mask_prefix=\"gt_\", save_hash=True)\n",
    "print(f'setting dataset time for {len(dataset)} items: ', time.time()-start_time)\n",
    "dataset\n",
    "for i, item in enumerate(dataset):\n",
    "    print(item)"
   ]
  },
  {
   "cell_type": "code",
   "execution_count": 66,
   "id": "c8744e11",
   "metadata": {},
   "outputs": [
    {
     "name": "stdout",
     "output_type": "stream",
     "text": [
      "[DatasetItem(id='0002', subset='default', media=<datumaro.components.media.Image object at 0x7f744bfd2150>, annotations=[Mask(id=0, attributes={}, group=0, _image=<function CommonSemanticSegmentationExtractor._lazy_extract_mask.<locals>.<lambda> at 0x7f744bfd6680>, label=1, z_order=0), Mask(id=0, attributes={}, group=0, _image=<function CommonSemanticSegmentationExtractor._lazy_extract_mask.<locals>.<lambda> at 0x7f744bfd6440>, label=5, z_order=0), Mask(id=0, attributes={}, group=0, _image=<function CommonSemanticSegmentationExtractor._lazy_extract_mask.<locals>.<lambda> at 0x7f744bfd6170>, label=7, z_order=0)], attributes={}, hash_key=['09effa1b4c54099b48ce2f97ca195100f5115aad2e1aad36e1abfaf8fd10c0c7a167ddf6b539399e7ddaf32ba0b1ee07a038369e6ad898e50a2cf98912248bcc']), DatasetItem(id='0001', subset='default', media=<datumaro.components.media.Image object at 0x7f744bfd22d0>, annotations=[Mask(id=0, attributes={}, group=0, _image=<function CommonSemanticSegmentationExtractor._lazy_extract_mask.<locals>.<lambda> at 0x7f744bfd6a70>, label=3, z_order=0), Mask(id=0, attributes={}, group=0, _image=<function CommonSemanticSegmentationExtractor._lazy_extract_mask.<locals>.<lambda> at 0x7f744bfd69e0>, label=5, z_order=0)], attributes={}, hash_key=['09effa1b4c54099b48ce2f97ca195100f5115aad2e1aad36e1abfaf8fd10c0c7a167ddf6b539399e7ddaf32ba0b1ee07a038369e6ad898e50a2cf98912248bcc'])]\n"
     ]
    }
   ],
   "source": [
    "for i, item in enumerate(dataset):\n",
    "    if i==0:\n",
    "        query = item\n",
    "searcher = Searcher(dataset)\n",
    "topk_list = searcher.search_topk(query, topk=2)\n",
    "print(topk_list)"
   ]
  },
  {
   "cell_type": "markdown",
   "id": "057ad735",
   "metadata": {},
   "source": [
    "## common_super_resolution"
   ]
  },
  {
   "cell_type": "code",
   "execution_count": 67,
   "id": "bf8efaa4",
   "metadata": {},
   "outputs": [
    {
     "name": "stdout",
     "output_type": "stream",
     "text": [
      "setting dataset time for 2 items:  0.3271934986114502\n",
      "DatasetItem(id='1', subset='default', media=<datumaro.components.media.Image object at 0x7f744bfd7710>, annotations=[SuperResolutionAnnotation(id=0, attributes={}, group=0, image=<datumaro.components.media.Image object at 0x7f7475e84b10>)], attributes={'upsampled': <datumaro.components.media.Image object at 0x7f744bfd7690>}, hash_key=['09effa1b4c54099b48ce2f97ca195100f5115aad2e1aad36e1abfaf8fd10c0c7a167ddf6b539399e7ddaf32ba0b1ee07a038369e6ad898e50a2cf98912248bcc'])\n",
      "DatasetItem(id='2', subset='default', media=<datumaro.components.media.Image object at 0x7f74568acc50>, annotations=[SuperResolutionAnnotation(id=0, attributes={}, group=0, image=<datumaro.components.media.Image object at 0x7f745606f790>)], attributes={'upsampled': <datumaro.components.media.Image object at 0x7f744bfce410>}, hash_key=['09effa1b4c54099b48ce2f97ca195100f5115aad2e1aad36e1abfaf8fd10c0c7a167ddf6b539399e7ddaf32ba0b1ee07a038369e6ad898e50a2cf98912248bcc'])\n"
     ]
    }
   ],
   "source": [
    "start_time = time.time()\n",
    "dataset = dm.Dataset.import_from('./tests/assets/common_super_resolution_dataset', save_hash=True)\n",
    "print(f'setting dataset time for {len(dataset)} items: ', time.time()-start_time)\n",
    "dataset\n",
    "for i, item in enumerate(dataset):\n",
    "    print(item)"
   ]
  },
  {
   "cell_type": "code",
   "execution_count": 68,
   "id": "5b4da85d",
   "metadata": {},
   "outputs": [
    {
     "name": "stdout",
     "output_type": "stream",
     "text": [
      "[DatasetItem(id='1', subset='default', media=<datumaro.components.media.Image object at 0x7f744bfd7710>, annotations=[SuperResolutionAnnotation(id=0, attributes={}, group=0, image=<datumaro.components.media.Image object at 0x7f7475e84b10>)], attributes={'upsampled': <datumaro.components.media.Image object at 0x7f744bfd7690>}, hash_key=['09effa1b4c54099b48ce2f97ca195100f5115aad2e1aad36e1abfaf8fd10c0c7a167ddf6b539399e7ddaf32ba0b1ee07a038369e6ad898e50a2cf98912248bcc']), DatasetItem(id='2', subset='default', media=<datumaro.components.media.Image object at 0x7f74568acc50>, annotations=[SuperResolutionAnnotation(id=0, attributes={}, group=0, image=<datumaro.components.media.Image object at 0x7f745606f790>)], attributes={'upsampled': <datumaro.components.media.Image object at 0x7f744bfce410>}, hash_key=['09effa1b4c54099b48ce2f97ca195100f5115aad2e1aad36e1abfaf8fd10c0c7a167ddf6b539399e7ddaf32ba0b1ee07a038369e6ad898e50a2cf98912248bcc'])]\n"
     ]
    }
   ],
   "source": [
    "for i, item in enumerate(dataset):\n",
    "    if i==0:\n",
    "        query = item\n",
    "searcher = Searcher(dataset)\n",
    "topk_list = searcher.search_topk(query, topk=2)\n",
    "print(topk_list)"
   ]
  },
  {
   "cell_type": "markdown",
   "id": "1e1e79d3",
   "metadata": {},
   "source": [
    "## cvat"
   ]
  },
  {
   "cell_type": "code",
   "execution_count": 69,
   "id": "f19cc0fa",
   "metadata": {},
   "outputs": [
    {
     "name": "stdout",
     "output_type": "stream",
     "text": [
      "setting dataset time for 2 items:  0.2995607852935791\n",
      "DatasetItem(id='img0', subset='train', media=<datumaro.components.media.Image object at 0x7f744bfe4fd0>, annotations=[Bbox(id=0, attributes={'a1': True, 'a2': 'v3', 'a3': '0003', 'a4': 2.4, 'occluded': True}, group=0, points=[0.0, 2.0, 4.0, 4.0], label=0, z_order=1), PolyLine(id=0, attributes={'occluded': False}, group=0, points=[1.0, 2.0, 3.0, 4.0, 5.0, 6.0, 7.0, 8.0], label=None, z_order=0)], attributes={'frame': 0}, hash_key=['09effa1b4c54099b48ce2f97ca195100f5115aad2e1aad36e1abfaf8fd10c0c7a167ddf6b539399e7ddaf32ba0b1ee07a038369e6ad898e50a2cf98912248bcc'])\n",
      "DatasetItem(id='img1', subset='train', media=<datumaro.components.media.Image object at 0x7f74568acb50>, annotations=[Polygon(id=0, attributes={'occluded': False}, group=0, points=[1.0, 2.0, 3.0, 4.0, 6.0, 5.0], label=None, z_order=1), Points(id=0, attributes={'occluded': False}, group=0, points=[1.0, 2.0, 3.0, 4.0, 5.0, 6.0], label=1, z_order=2, visibility=[<Visibility.visible: 2>, <Visibility.visible: 2>, <Visibility.visible: 2>])], attributes={'frame': 1}, hash_key=['09effa1b4c54099b48ce2f97ca195100f5115aad2e1aad36e1abfaf8fd10c0c7a167ddf6b539399e7ddaf32ba0b1ee07a038369e6ad898e50a2cf98912248bcc'])\n"
     ]
    }
   ],
   "source": [
    "start_time = time.time()\n",
    "dataset = dm.Dataset.import_from('./tests/assets/cvat_dataset/for_images',save_hash=True)\n",
    "print(f'setting dataset time for {len(dataset)} items: ', time.time()-start_time)\n",
    "dataset\n",
    "for i, item in enumerate(dataset):\n",
    "    print(item)"
   ]
  },
  {
   "cell_type": "code",
   "execution_count": 70,
   "id": "459b2f47",
   "metadata": {},
   "outputs": [
    {
     "name": "stdout",
     "output_type": "stream",
     "text": [
      "[DatasetItem(id='img0', subset='train', media=<datumaro.components.media.Image object at 0x7f744bfe4fd0>, annotations=[Bbox(id=0, attributes={'a1': True, 'a2': 'v3', 'a3': '0003', 'a4': 2.4, 'occluded': True}, group=0, points=[0.0, 2.0, 4.0, 4.0], label=0, z_order=1), PolyLine(id=0, attributes={'occluded': False}, group=0, points=[1.0, 2.0, 3.0, 4.0, 5.0, 6.0, 7.0, 8.0], label=None, z_order=0)], attributes={'frame': 0}, hash_key=['09effa1b4c54099b48ce2f97ca195100f5115aad2e1aad36e1abfaf8fd10c0c7a167ddf6b539399e7ddaf32ba0b1ee07a038369e6ad898e50a2cf98912248bcc']), DatasetItem(id='img1', subset='train', media=<datumaro.components.media.Image object at 0x7f74568acb50>, annotations=[Polygon(id=0, attributes={'occluded': False}, group=0, points=[1.0, 2.0, 3.0, 4.0, 6.0, 5.0], label=None, z_order=1), Points(id=0, attributes={'occluded': False}, group=0, points=[1.0, 2.0, 3.0, 4.0, 5.0, 6.0], label=1, z_order=2, visibility=[<Visibility.visible: 2>, <Visibility.visible: 2>, <Visibility.visible: 2>])], attributes={'frame': 1}, hash_key=['09effa1b4c54099b48ce2f97ca195100f5115aad2e1aad36e1abfaf8fd10c0c7a167ddf6b539399e7ddaf32ba0b1ee07a038369e6ad898e50a2cf98912248bcc'])]\n"
     ]
    }
   ],
   "source": [
    "for i, item in enumerate(dataset):\n",
    "    if i==0:\n",
    "        query = item\n",
    "searcher = Searcher(dataset)\n",
    "topk_list = searcher.search_topk(query, topk=2)\n",
    "print(topk_list)"
   ]
  },
  {
   "cell_type": "code",
   "execution_count": 71,
   "id": "937eebc5",
   "metadata": {},
   "outputs": [
    {
     "name": "stdout",
     "output_type": "stream",
     "text": [
      "setting dataset time for 3 items:  0.35236096382141113\n",
      "DatasetItem(id='frame_000010', subset='annotations', media=<datumaro.components.media.Image object at 0x7f744bfd7150>, annotations=[Bbox(id=0, attributes={'occluded': True, 'outside': False, 'keyframe': True, 'track_id': 0}, group=0, points=[3.0, 4.0, 10.0, 5.0], label=2, z_order=0), Points(id=1, attributes={'hgl': 'hgkf', 'occluded': False, 'outside': False, 'keyframe': True, 'track_id': 1}, group=0, points=[21.95, 8.0, 2.55, 15.09, 2.23, 3.16], label=0, z_order=0, visibility=[<Visibility.visible: 2>, <Visibility.visible: 2>, <Visibility.visible: 2>])], attributes={'frame': 10}, hash_key=['19e778dbe056a9934ddaad37c21c13598781588dac0aad3421ba9b6af42053e3854f5d5eb57939fddfd3732ba691de0741b865af22d0bae71b2cbb80d72c0ad4'])\n",
      "DatasetItem(id='frame_000013', subset='annotations', media=<datumaro.components.media.Image object at 0x7f74568ac750>, annotations=[Bbox(id=0, attributes={'occluded': False, 'outside': True, 'keyframe': True, 'track_id': 0}, group=0, points=[7.0, 6.0, 14.0, 8.0], label=2, z_order=0), Points(id=1, attributes={'hgl': 'jk', 'occluded': False, 'outside': True, 'keyframe': True, 'track_id': 1}, group=0, points=[21.95, 8.0, 9.55, 15.09, 5.23, 1.16], label=0, z_order=0, visibility=[<Visibility.visible: 2>, <Visibility.visible: 2>, <Visibility.visible: 2>]), PolyLine(id=2, attributes={'occluded': False, 'outside': False, 'keyframe': True, 'track_id': 2}, group=0, points=[7.85, 13.88, 3.5, 6.67, 15.9, 2.0, 13.31, 7.21], label=2, z_order=0)], attributes={'frame': 13}, hash_key=['19e778dbe056a9934ddaad37c21c13598781588dac0aad3421ba9b6af42053e3854f5d5eb57939fddfd3732ba691de0741b865af22d0bae71b2cbb80d72c0ad4'])\n",
      "DatasetItem(id='frame_000016', subset='annotations', media=<datumaro.components.media.Image object at 0x7f744bfd7050>, annotations=[Bbox(id=0, attributes={'occluded': False, 'outside': True, 'keyframe': True, 'track_id': 0}, group=0, points=[8.0, 7.0, 14.0, 17.0], label=2, z_order=0), PolyLine(id=2, attributes={'occluded': False, 'outside': True, 'keyframe': True, 'track_id': 2}, group=0, points=[7.85, 13.88, 3.5, 6.67, 15.9, 2.0, 13.31, 7.21], label=2, z_order=0)], attributes={'frame': 16}, hash_key=[])\n"
     ]
    }
   ],
   "source": [
    "start_time = time.time()\n",
    "dataset = dm.Dataset.import_from('./tests/assets/cvat_dataset/for_video', \"cvat\", save_hash=True)\n",
    "print(f'setting dataset time for {len(dataset)} items: ', time.time()-start_time)\n",
    "dataset\n",
    "for i, item in enumerate(dataset):\n",
    "    print(item)"
   ]
  },
  {
   "cell_type": "code",
   "execution_count": 72,
   "id": "77cce003",
   "metadata": {},
   "outputs": [
    {
     "name": "stdout",
     "output_type": "stream",
     "text": [
      "[DatasetItem(id='frame_000010', subset='annotations', media=<datumaro.components.media.Image object at 0x7f744bfd7150>, annotations=[Bbox(id=0, attributes={'occluded': True, 'outside': False, 'keyframe': True, 'track_id': 0}, group=0, points=[3.0, 4.0, 10.0, 5.0], label=2, z_order=0), Points(id=1, attributes={'hgl': 'hgkf', 'occluded': False, 'outside': False, 'keyframe': True, 'track_id': 1}, group=0, points=[21.95, 8.0, 2.55, 15.09, 2.23, 3.16], label=0, z_order=0, visibility=[<Visibility.visible: 2>, <Visibility.visible: 2>, <Visibility.visible: 2>])], attributes={'frame': 10}, hash_key=['19e778dbe056a9934ddaad37c21c13598781588dac0aad3421ba9b6af42053e3854f5d5eb57939fddfd3732ba691de0741b865af22d0bae71b2cbb80d72c0ad4']), DatasetItem(id='frame_000013', subset='annotations', media=<datumaro.components.media.Image object at 0x7f74568ac750>, annotations=[Bbox(id=0, attributes={'occluded': False, 'outside': True, 'keyframe': True, 'track_id': 0}, group=0, points=[7.0, 6.0, 14.0, 8.0], label=2, z_order=0), Points(id=1, attributes={'hgl': 'jk', 'occluded': False, 'outside': True, 'keyframe': True, 'track_id': 1}, group=0, points=[21.95, 8.0, 9.55, 15.09, 5.23, 1.16], label=0, z_order=0, visibility=[<Visibility.visible: 2>, <Visibility.visible: 2>, <Visibility.visible: 2>]), PolyLine(id=2, attributes={'occluded': False, 'outside': False, 'keyframe': True, 'track_id': 2}, group=0, points=[7.85, 13.88, 3.5, 6.67, 15.9, 2.0, 13.31, 7.21], label=2, z_order=0)], attributes={'frame': 13}, hash_key=['19e778dbe056a9934ddaad37c21c13598781588dac0aad3421ba9b6af42053e3854f5d5eb57939fddfd3732ba691de0741b865af22d0bae71b2cbb80d72c0ad4'])]\n"
     ]
    }
   ],
   "source": [
    "for i, item in enumerate(dataset):\n",
    "    if i==0:\n",
    "        query = item\n",
    "searcher = Searcher(dataset)\n",
    "topk_list = searcher.search_topk(query, topk=2)\n",
    "print(topk_list)"
   ]
  },
  {
   "cell_type": "markdown",
   "id": "5cb89e35",
   "metadata": {},
   "source": [
    "## datumaro_dataset"
   ]
  },
  {
   "cell_type": "code",
   "execution_count": 73,
   "id": "dba4701a",
   "metadata": {},
   "outputs": [
    {
     "name": "stderr",
     "output_type": "stream",
     "text": [
      "WARNING:root:Duplicated infos field task: overwrite from classification to classification\n",
      "WARNING:root:Duplicated infos field author: overwrite from anonymous to anonymous\n",
      "WARNING:root:Duplicated infos field task: overwrite from classification to classification\n",
      "WARNING:root:Duplicated infos field author: overwrite from anonymous to anonymous\n"
     ]
    },
    {
     "name": "stdout",
     "output_type": "stream",
     "text": [
      "setting dataset time for 4 items:  0.4230196475982666\n",
      "DatasetItem(id='d', subset='validation', media=<datumaro.components.media.Image object at 0x7f744bfc5e50>, annotations=[], attributes={}, hash_key=[])\n",
      "DatasetItem(id='c', subset='test', media=<datumaro.components.media.Image object at 0x7f744bfc5bd0>, annotations=[Label(id=0, attributes={'score': 1.0}, group=0, label=1), Label(id=0, attributes={'score': 1.0}, group=0, label=3)], attributes={}, hash_key=['09effa1b4c54099b48ce2f97ca195100f5115aad2e1aad36e1abfaf8fd10c0c7a167ddf6b539399e7ddaf32ba0b1ee07a038369e6ad898e50a2cf98912248bcc'])\n",
      "DatasetItem(id='a', subset='train', media=<datumaro.components.media.Image object at 0x7f744bfce610>, annotations=[Label(id=0, attributes={'score': 1.0}, group=0, label=0)], attributes={}, hash_key=['09effa1b4c54099b48ce2f97ca195100f5115aad2e1aad36e1abfaf8fd10c0c7a167ddf6b539399e7ddaf32ba0b1ee07a038369e6ad898e50a2cf98912248bcc'])\n",
      "DatasetItem(id='b', subset='train', media=<datumaro.components.media.Image object at 0x7f744bfc5850>, annotations=[Label(id=0, attributes={}, group=0, label=0), Label(id=1, attributes={}, group=0, label=1), Label(id=2, attributes={}, group=0, label=2), Label(id=3, attributes={}, group=0, label=5)], attributes={}, hash_key=['09effa1b4c54099b48ce2f97ca195100f5115aad2e1aad36e1abfaf8fd10c0c7a167ddf6b539399e7ddaf32ba0b1ee07a038369e6ad898e50a2cf98912248bcc'])\n"
     ]
    }
   ],
   "source": [
    "start_time = time.time()\n",
    "dataset = dm.Dataset.import_from('./tests/assets/datumaro_dataset', save_hash=True)\n",
    "print(f'setting dataset time for {len(dataset)} items: ', time.time()-start_time)\n",
    "dataset\n",
    "for i, item in enumerate(dataset):\n",
    "    print(item)"
   ]
  },
  {
   "cell_type": "code",
   "execution_count": 74,
   "id": "5f137cc7",
   "metadata": {},
   "outputs": [
    {
     "ename": "ValueError",
     "evalue": "Query should have hash_key",
     "output_type": "error",
     "traceback": [
      "\u001b[0;31m---------------------------------------------------------------------------\u001b[0m",
      "\u001b[0;31mValueError\u001b[0m                                Traceback (most recent call last)",
      "\u001b[0;32m/tmp/ipykernel_28790/1658596801.py\u001b[0m in \u001b[0;36m<module>\u001b[0;34m\u001b[0m\n\u001b[1;32m      3\u001b[0m         \u001b[0mquery\u001b[0m \u001b[0;34m=\u001b[0m \u001b[0mitem\u001b[0m\u001b[0;34m\u001b[0m\u001b[0;34m\u001b[0m\u001b[0m\n\u001b[1;32m      4\u001b[0m \u001b[0msearcher\u001b[0m \u001b[0;34m=\u001b[0m \u001b[0mSearcher\u001b[0m\u001b[0;34m(\u001b[0m\u001b[0mdataset\u001b[0m\u001b[0;34m)\u001b[0m\u001b[0;34m\u001b[0m\u001b[0;34m\u001b[0m\u001b[0m\n\u001b[0;32m----> 5\u001b[0;31m \u001b[0mtopk_list\u001b[0m \u001b[0;34m=\u001b[0m \u001b[0msearcher\u001b[0m\u001b[0;34m.\u001b[0m\u001b[0msearch_topk\u001b[0m\u001b[0;34m(\u001b[0m\u001b[0mquery\u001b[0m\u001b[0;34m,\u001b[0m \u001b[0mtopk\u001b[0m\u001b[0;34m=\u001b[0m\u001b[0;36m2\u001b[0m\u001b[0;34m)\u001b[0m\u001b[0;34m\u001b[0m\u001b[0;34m\u001b[0m\u001b[0m\n\u001b[0m\u001b[1;32m      6\u001b[0m \u001b[0mprint\u001b[0m\u001b[0;34m(\u001b[0m\u001b[0mtopk_list\u001b[0m\u001b[0;34m)\u001b[0m\u001b[0;34m\u001b[0m\u001b[0;34m\u001b[0m\u001b[0m\n",
      "\u001b[0;32m~/workspace/datumaro_sa/datumaro/components/searcher.py\u001b[0m in \u001b[0;36msearch_topk\u001b[0;34m(self, query, topk)\u001b[0m\n\u001b[1;32m     85\u001b[0m \u001b[0;34m\u001b[0m\u001b[0m\n\u001b[1;32m     86\u001b[0m         \u001b[0;32mif\u001b[0m \u001b[0;32mnot\u001b[0m \u001b[0mquery_key\u001b[0m\u001b[0;34m:\u001b[0m\u001b[0;34m\u001b[0m\u001b[0;34m\u001b[0m\u001b[0m\n\u001b[0;32m---> 87\u001b[0;31m             \u001b[0;32mraise\u001b[0m \u001b[0mValueError\u001b[0m\u001b[0;34m(\u001b[0m\u001b[0;34m\"Query should have hash_key\"\u001b[0m\u001b[0;34m)\u001b[0m \u001b[0;31m# Usually data is None case\u001b[0m\u001b[0;34m\u001b[0m\u001b[0;34m\u001b[0m\u001b[0m\n\u001b[0m\u001b[1;32m     88\u001b[0m \u001b[0;34m\u001b[0m\u001b[0m\n\u001b[1;32m     89\u001b[0m         \u001b[0mquery_key\u001b[0m \u001b[0;34m=\u001b[0m \u001b[0mself\u001b[0m\u001b[0;34m.\u001b[0m\u001b[0munpack_hash_key\u001b[0m\u001b[0;34m(\u001b[0m\u001b[0mquery_key\u001b[0m\u001b[0;34m[\u001b[0m\u001b[0;36m0\u001b[0m\u001b[0;34m]\u001b[0m\u001b[0;34m)\u001b[0m\u001b[0;34m\u001b[0m\u001b[0;34m\u001b[0m\u001b[0m\n",
      "\u001b[0;31mValueError\u001b[0m: Query should have hash_key"
     ]
    }
   ],
   "source": [
    "for i, item in enumerate(dataset):\n",
    "    if i==0:\n",
    "        query = item\n",
    "searcher = Searcher(dataset)\n",
    "topk_list = searcher.search_topk(query, topk=2)\n",
    "print(topk_list)"
   ]
  },
  {
   "cell_type": "markdown",
   "id": "62a0bb4a",
   "metadata": {},
   "source": [
    "## icdar_dataset"
   ]
  },
  {
   "cell_type": "code",
   "execution_count": 75,
   "id": "5d608042",
   "metadata": {},
   "outputs": [
    {
     "name": "stdout",
     "output_type": "stream",
     "text": [
      "setting dataset time for 2 items:  0.2944035530090332\n",
      "DatasetItem(id='img_1', subset='train', media=<datumaro.components.media.Image object at 0x7f744bfcbf50>, annotations=[Polygon(id=0, attributes={'text': 'FOOD'}, group=0, points=[0.0, 0.0, 3.0, 1.0, 4.0, 6.0, 1.0, 7.0], label=None, z_order=0)], attributes={}, hash_key=['09effa1b4c54099b48ce2f97ca195100f5115aad2e1aad36e1abfaf8fd10c0c7a167ddf6b539399e7ddaf32ba0b1ee07a038369e6ad898e50a2cf98912248bcc'])\n",
      "DatasetItem(id='img_2', subset='train', media=<datumaro.components.media.Image object at 0x7f744bfc0510>, annotations=[Bbox(id=0, attributes={'text': 'RED'}, group=0, points=[0.0, 0.0, 2.0, 3.0], label=None, z_order=0), Bbox(id=0, attributes={'text': 'LION'}, group=0, points=[3.0, 3.0, 5.0, 6.0], label=None, z_order=0)], attributes={}, hash_key=['09effa1b4c54099b48ce2f97ca195100f5115aad2e1aad36e1abfaf8fd10c0c7a167ddf6b539399e7ddaf32ba0b1ee07a038369e6ad898e50a2cf98912248bcc'])\n"
     ]
    }
   ],
   "source": [
    "start_time = time.time()\n",
    "dataset = dm.Dataset.import_from('./tests/assets/icdar_dataset/text_localization', save_hash=True)\n",
    "print(f'setting dataset time for {len(dataset)} items: ', time.time()-start_time)\n",
    "dataset\n",
    "for i, item in enumerate(dataset):\n",
    "    print(item)"
   ]
  },
  {
   "cell_type": "code",
   "execution_count": 76,
   "id": "ddec82a4",
   "metadata": {},
   "outputs": [
    {
     "name": "stdout",
     "output_type": "stream",
     "text": [
      "[DatasetItem(id='img_1', subset='train', media=<datumaro.components.media.Image object at 0x7f744bfcbf50>, annotations=[Polygon(id=0, attributes={'text': 'FOOD'}, group=0, points=[0.0, 0.0, 3.0, 1.0, 4.0, 6.0, 1.0, 7.0], label=None, z_order=0)], attributes={}, hash_key=['09effa1b4c54099b48ce2f97ca195100f5115aad2e1aad36e1abfaf8fd10c0c7a167ddf6b539399e7ddaf32ba0b1ee07a038369e6ad898e50a2cf98912248bcc']), DatasetItem(id='img_2', subset='train', media=<datumaro.components.media.Image object at 0x7f744bfc0510>, annotations=[Bbox(id=0, attributes={'text': 'RED'}, group=0, points=[0.0, 0.0, 2.0, 3.0], label=None, z_order=0), Bbox(id=0, attributes={'text': 'LION'}, group=0, points=[3.0, 3.0, 5.0, 6.0], label=None, z_order=0)], attributes={}, hash_key=['09effa1b4c54099b48ce2f97ca195100f5115aad2e1aad36e1abfaf8fd10c0c7a167ddf6b539399e7ddaf32ba0b1ee07a038369e6ad898e50a2cf98912248bcc'])]\n"
     ]
    }
   ],
   "source": [
    "for i, item in enumerate(dataset):\n",
    "    if i==0:\n",
    "        query = item\n",
    "searcher = Searcher(dataset)\n",
    "topk_list = searcher.search_topk(query, topk=2)\n",
    "print(topk_list)"
   ]
  },
  {
   "cell_type": "code",
   "execution_count": 77,
   "id": "8a39bfaf",
   "metadata": {},
   "outputs": [
    {
     "name": "stdout",
     "output_type": "stream",
     "text": [
      "setting dataset time for 1 items:  0.1600968837738037\n",
      "DatasetItem(id='1', subset='train', media=<datumaro.components.media.Image object at 0x7f744bfe4b50>, annotations=[Mask(id=0, attributes={'index': 0, 'color': '108 225 132', 'text': 'F', 'center': '0 1'}, group=0, _image=<function _IcdarExtractor._lazy_extract_mask.<locals>.<lambda> at 0x7f7456067680>, label=None, z_order=0), Mask(id=0, attributes={'index': 1, 'color': '82 174 214', 'text': 'T', 'center': '1 3'}, group=1, _image=<function _IcdarExtractor._lazy_extract_mask.<locals>.<lambda> at 0x7f7456067440>, label=None, z_order=0), Mask(id=0, attributes={'index': 2, 'color': '241 73 144', 'text': 'h', 'center': '1 4'}, group=1, _image=<function _IcdarExtractor._lazy_extract_mask.<locals>.<lambda> at 0x7f7456067b90>, label=None, z_order=0)], attributes={}, hash_key=['09effa1b4c54099b48ce2f97ca195100f5115aad2e1aad36e1abfaf8fd10c0c7a167ddf6b539399e7ddaf32ba0b1ee07a038369e6ad898e50a2cf98912248bcc'])\n"
     ]
    }
   ],
   "source": [
    "start_time = time.time()\n",
    "dataset = dm.Dataset.import_from('./tests/assets/icdar_dataset/text_segmentation', save_hash=True)\n",
    "print(f'setting dataset time for {len(dataset)} items: ', time.time()-start_time)\n",
    "dataset\n",
    "for i, item in enumerate(dataset):\n",
    "    print(item)"
   ]
  },
  {
   "cell_type": "code",
   "execution_count": 78,
   "id": "fc902ef8",
   "metadata": {},
   "outputs": [
    {
     "name": "stdout",
     "output_type": "stream",
     "text": [
      "[DatasetItem(id='1', subset='train', media=<datumaro.components.media.Image object at 0x7f744bfe4b50>, annotations=[Mask(id=0, attributes={'index': 0, 'color': '108 225 132', 'text': 'F', 'center': '0 1'}, group=0, _image=<function _IcdarExtractor._lazy_extract_mask.<locals>.<lambda> at 0x7f7456067680>, label=None, z_order=0), Mask(id=0, attributes={'index': 1, 'color': '82 174 214', 'text': 'T', 'center': '1 3'}, group=1, _image=<function _IcdarExtractor._lazy_extract_mask.<locals>.<lambda> at 0x7f7456067440>, label=None, z_order=0), Mask(id=0, attributes={'index': 2, 'color': '241 73 144', 'text': 'h', 'center': '1 4'}, group=1, _image=<function _IcdarExtractor._lazy_extract_mask.<locals>.<lambda> at 0x7f7456067b90>, label=None, z_order=0)], attributes={}, hash_key=['09effa1b4c54099b48ce2f97ca195100f5115aad2e1aad36e1abfaf8fd10c0c7a167ddf6b539399e7ddaf32ba0b1ee07a038369e6ad898e50a2cf98912248bcc'])]\n"
     ]
    }
   ],
   "source": [
    "for i, item in enumerate(dataset):\n",
    "    if i==0:\n",
    "        query = item\n",
    "searcher = Searcher(dataset)\n",
    "topk_list = searcher.search_topk(query, topk=2)\n",
    "print(topk_list)"
   ]
  },
  {
   "cell_type": "code",
   "execution_count": 79,
   "id": "10280b48",
   "metadata": {},
   "outputs": [
    {
     "name": "stdout",
     "output_type": "stream",
     "text": [
      "setting dataset time for 2 items:  0.33189916610717773\n",
      "DatasetItem(id='word_1', subset='train', media=<datumaro.components.media.Image object at 0x7f74560571d0>, annotations=[Caption(id=0, attributes={}, group=0, caption='PROPER')], attributes={}, hash_key=['09effa1b4c54099b48ce2f97ca195100f5115aad2e1aad36e1abfaf8fd10c0c7a167ddf6b539399e7ddaf32ba0b1ee07a038369e6ad898e50a2cf98912248bcc'])\n",
      "DatasetItem(id='word_2', subset='train', media=<datumaro.components.media.Image object at 0x7f74568afbd0>, annotations=[Caption(id=0, attributes={}, group=0, caption='Canon')], attributes={}, hash_key=['09effa1b4c54099b48ce2f97ca195100f5115aad2e1aad36e1abfaf8fd10c0c7a167ddf6b539399e7ddaf32ba0b1ee07a038369e6ad898e50a2cf98912248bcc'])\n"
     ]
    }
   ],
   "source": [
    "start_time = time.time()\n",
    "dataset = dm.Dataset.import_from('./tests/assets/icdar_dataset/word_recognition', save_hash=True)\n",
    "print(f'setting dataset time for {len(dataset)} items: ', time.time()-start_time)\n",
    "dataset\n",
    "for i, item in enumerate(dataset):\n",
    "    print(item)"
   ]
  },
  {
   "cell_type": "code",
   "execution_count": 80,
   "id": "701e8daf",
   "metadata": {},
   "outputs": [
    {
     "name": "stdout",
     "output_type": "stream",
     "text": [
      "[DatasetItem(id='word_1', subset='train', media=<datumaro.components.media.Image object at 0x7f74560571d0>, annotations=[Caption(id=0, attributes={}, group=0, caption='PROPER')], attributes={}, hash_key=['09effa1b4c54099b48ce2f97ca195100f5115aad2e1aad36e1abfaf8fd10c0c7a167ddf6b539399e7ddaf32ba0b1ee07a038369e6ad898e50a2cf98912248bcc']), DatasetItem(id='word_2', subset='train', media=<datumaro.components.media.Image object at 0x7f74568afbd0>, annotations=[Caption(id=0, attributes={}, group=0, caption='Canon')], attributes={}, hash_key=['09effa1b4c54099b48ce2f97ca195100f5115aad2e1aad36e1abfaf8fd10c0c7a167ddf6b539399e7ddaf32ba0b1ee07a038369e6ad898e50a2cf98912248bcc'])]\n"
     ]
    }
   ],
   "source": [
    "for i, item in enumerate(dataset):\n",
    "    if i==0:\n",
    "        query = item\n",
    "searcher = Searcher(dataset)\n",
    "topk_list = searcher.search_topk(query, topk=2)\n",
    "print(topk_list)"
   ]
  },
  {
   "cell_type": "markdown",
   "id": "2d464a84",
   "metadata": {},
   "source": [
    "## image_zip_datset"
   ]
  },
  {
   "cell_type": "code",
   "execution_count": 81,
   "id": "11db3ccd",
   "metadata": {},
   "outputs": [
    {
     "name": "stdout",
     "output_type": "stream",
     "text": [
      "setting dataset time for 2 items:  0.30820369720458984\n",
      "DatasetItem(id='1', subset='default', media=<datumaro.components.media.ByteImage object at 0x7f74568951d0>, annotations=[], attributes={}, hash_key=['09effa1b4c54099b48ce2f97ca195100f5115aad2e1aad36e1abfaf8fd10c0c7a167ddf6b539399e7ddaf32ba0b1ee07a038369e6ad898e50a2cf98912248bcc'])\n",
      "DatasetItem(id='2', subset='default', media=<datumaro.components.media.ByteImage object at 0x7f744bfce050>, annotations=[], attributes={}, hash_key=['09effa1b4c54099b48ce2f97ca195100f5115aad2e1aad36e1abfaf8fd10c0c7a167ddf6b539399e7ddaf32ba0b1ee07a038369e6ad898e50a2cf98912248bcc'])\n"
     ]
    }
   ],
   "source": [
    "start_time = time.time()\n",
    "dataset = dm.Dataset.import_from('./tests/assets/image_zip_dataset', \"image_zip\", save_hash=True)\n",
    "print(f'setting dataset time for {len(dataset)} items: ', time.time()-start_time)\n",
    "dataset\n",
    "for i, item in enumerate(dataset):\n",
    "    print(item)"
   ]
  },
  {
   "cell_type": "code",
   "execution_count": 82,
   "id": "d49d751e",
   "metadata": {},
   "outputs": [
    {
     "name": "stdout",
     "output_type": "stream",
     "text": [
      "[DatasetItem(id='1', subset='default', media=<datumaro.components.media.ByteImage object at 0x7f74568951d0>, annotations=[], attributes={}, hash_key=['09effa1b4c54099b48ce2f97ca195100f5115aad2e1aad36e1abfaf8fd10c0c7a167ddf6b539399e7ddaf32ba0b1ee07a038369e6ad898e50a2cf98912248bcc']), DatasetItem(id='2', subset='default', media=<datumaro.components.media.ByteImage object at 0x7f744bfce050>, annotations=[], attributes={}, hash_key=['09effa1b4c54099b48ce2f97ca195100f5115aad2e1aad36e1abfaf8fd10c0c7a167ddf6b539399e7ddaf32ba0b1ee07a038369e6ad898e50a2cf98912248bcc'])]\n"
     ]
    }
   ],
   "source": [
    "for i, item in enumerate(dataset):\n",
    "    if i==0:\n",
    "        query = item\n",
    "searcher = Searcher(dataset)\n",
    "topk_list = searcher.search_topk(query, topk=2)\n",
    "print(topk_list)"
   ]
  },
  {
   "cell_type": "markdown",
   "id": "b6faeadf",
   "metadata": {},
   "source": [
    "### imagenet_dataset"
   ]
  },
  {
   "cell_type": "code",
   "execution_count": 83,
   "id": "523d4cde",
   "metadata": {},
   "outputs": [
    {
     "name": "stderr",
     "output_type": "stream",
     "text": [
      "3it [00:00,  6.09it/s]"
     ]
    },
    {
     "name": "stdout",
     "output_type": "stream",
     "text": [
      "setting dataset time for 3 items:  0.4976310729980469\n",
      "DatasetItem(id='label_0/label_0_1', subset='default', media=<datumaro.components.media.Image object at 0x7f745605d0d0>, annotations=[Label(id=0, attributes={}, group=0, label=0)], attributes={}, hash_key=['09effa1b4c54099b48ce2f97ca195100f5115aad2e1aad36e1abfaf8fd10c0c7a167ddf6b539399e7ddaf32ba0b1ee07a038369e6ad898e50a2cf98912248bcc'])\n",
      "DatasetItem(id='label_0/label_0_2', subset='default', media=<datumaro.components.media.Image object at 0x7f744bfced50>, annotations=[Label(id=0, attributes={}, group=0, label=0)], attributes={}, hash_key=['09effa1b4c54099b48ce2f97ca195100f5115aad2e1aad36e1abfaf8fd10c0c7a167ddf6b539399e7ddaf32ba0b1ee07a038369e6ad898e50a2cf98912248bcc'])\n",
      "DatasetItem(id='label_1/label_1_1', subset='default', media=<datumaro.components.media.Image object at 0x7f744bfce3d0>, annotations=[Label(id=0, attributes={}, group=0, label=1)], attributes={}, hash_key=['09effa1b4c54099b48ce2f97ca195100f5115aad2e1aad36e1abfaf8fd10c0c7a167ddf6b539399e7ddaf32ba0b1ee07a038369e6ad898e50a2cf98912248bcc'])\n"
     ]
    },
    {
     "name": "stderr",
     "output_type": "stream",
     "text": [
      "\n"
     ]
    }
   ],
   "source": [
    "start_time = time.time()\n",
    "dataset = dm.Dataset.import_from('./tests/assets/imagenet_dataset', \"imagenet\", save_hash=True)\n",
    "print(f'setting dataset time for {len(dataset)} items: ', time.time()-start_time)\n",
    "dataset\n",
    "for i, item in enumerate(dataset):\n",
    "    print(item)"
   ]
  },
  {
   "cell_type": "code",
   "execution_count": 84,
   "id": "e91af4c0",
   "metadata": {},
   "outputs": [
    {
     "name": "stdout",
     "output_type": "stream",
     "text": [
      "[DatasetItem(id='label_0/label_0_1', subset='default', media=<datumaro.components.media.Image object at 0x7f745605d0d0>, annotations=[Label(id=0, attributes={}, group=0, label=0)], attributes={}, hash_key=['09effa1b4c54099b48ce2f97ca195100f5115aad2e1aad36e1abfaf8fd10c0c7a167ddf6b539399e7ddaf32ba0b1ee07a038369e6ad898e50a2cf98912248bcc']), DatasetItem(id='label_0/label_0_2', subset='default', media=<datumaro.components.media.Image object at 0x7f744bfced50>, annotations=[Label(id=0, attributes={}, group=0, label=0)], attributes={}, hash_key=['09effa1b4c54099b48ce2f97ca195100f5115aad2e1aad36e1abfaf8fd10c0c7a167ddf6b539399e7ddaf32ba0b1ee07a038369e6ad898e50a2cf98912248bcc'])]\n"
     ]
    }
   ],
   "source": [
    "for i, item in enumerate(dataset):\n",
    "    if i==0:\n",
    "        query = item\n",
    "searcher = Searcher(dataset)\n",
    "topk_list = searcher.search_topk(query, topk=2)\n",
    "print(topk_list)"
   ]
  },
  {
   "cell_type": "markdown",
   "id": "0db8893c",
   "metadata": {},
   "source": [
    "## imagenet_txt_dataset"
   ]
  },
  {
   "cell_type": "code",
   "execution_count": 85,
   "id": "98df82f3",
   "metadata": {},
   "outputs": [
    {
     "name": "stdout",
     "output_type": "stream",
     "text": [
      "setting dataset time for 4 items:  0.30504918098449707\n",
      "DatasetItem(id='1', subset='train', media=<datumaro.components.media.Image object at 0x7f7475d61750>, annotations=[Label(id=0, attributes={}, group=0, label=0)], attributes={}, hash_key=['09effa1b4c54099b48ce2f97ca195100f5115aad2e1aad36e1abfaf8fd10c0c7a167ddf6b539399e7ddaf32ba0b1ee07a038369e6ad898e50a2cf98912248bcc'])\n",
      "DatasetItem(id='2', subset='train', media=<datumaro.components.media.Image object at 0x7f7456895050>, annotations=[Label(id=0, attributes={}, group=0, label=5)], attributes={}, hash_key=['09effa1b4c54099b48ce2f97ca195100f5115aad2e1aad36e1abfaf8fd10c0c7a167ddf6b539399e7ddaf32ba0b1ee07a038369e6ad898e50a2cf98912248bcc'])\n",
      "DatasetItem(id='3', subset='train', media=<datumaro.components.media.Image object at 0x7f745603ddd0>, annotations=[Label(id=0, attributes={}, group=0, label=3)], attributes={}, hash_key=[])\n",
      "DatasetItem(id='4', subset='train', media=<datumaro.components.media.Image object at 0x7f74768cea10>, annotations=[Label(id=0, attributes={}, group=0, label=5)], attributes={}, hash_key=[])\n"
     ]
    }
   ],
   "source": [
    "start_time = time.time()\n",
    "dataset = dm.Dataset.import_from('./tests/assets/imagenet_txt_dataset/basic', \"imagenet_txt\", labels_file=\"synsets.txt\",save_hash=True)\n",
    "print(f'setting dataset time for {len(dataset)} items: ', time.time()-start_time)\n",
    "dataset\n",
    "for i, item in enumerate(dataset):\n",
    "    print(item)"
   ]
  },
  {
   "cell_type": "code",
   "execution_count": 86,
   "id": "76d8a027",
   "metadata": {},
   "outputs": [
    {
     "name": "stdout",
     "output_type": "stream",
     "text": [
      "[DatasetItem(id='1', subset='train', media=<datumaro.components.media.Image object at 0x7f7475d61750>, annotations=[Label(id=0, attributes={}, group=0, label=0)], attributes={}, hash_key=['09effa1b4c54099b48ce2f97ca195100f5115aad2e1aad36e1abfaf8fd10c0c7a167ddf6b539399e7ddaf32ba0b1ee07a038369e6ad898e50a2cf98912248bcc']), DatasetItem(id='2', subset='train', media=<datumaro.components.media.Image object at 0x7f7456895050>, annotations=[Label(id=0, attributes={}, group=0, label=5)], attributes={}, hash_key=['09effa1b4c54099b48ce2f97ca195100f5115aad2e1aad36e1abfaf8fd10c0c7a167ddf6b539399e7ddaf32ba0b1ee07a038369e6ad898e50a2cf98912248bcc'])]\n"
     ]
    }
   ],
   "source": [
    "for i, item in enumerate(dataset):\n",
    "    if i==0:\n",
    "        query = item\n",
    "searcher = Searcher(dataset)\n",
    "topk_list = searcher.search_topk(query, topk=2)\n",
    "print(topk_list)"
   ]
  },
  {
   "cell_type": "markdown",
   "id": "b015ef3b",
   "metadata": {},
   "source": [
    "## kinetics_dataset"
   ]
  },
  {
   "cell_type": "code",
   "execution_count": 87,
   "id": "8c783135",
   "metadata": {},
   "outputs": [
    {
     "ename": "AssertionError",
     "evalue": "Media type should be Image, Current type=<class 'datumaro.components.media.Video'>",
     "output_type": "error",
     "traceback": [
      "\u001b[0;31m---------------------------------------------------------------------------\u001b[0m",
      "\u001b[0;31mTypeError\u001b[0m                                 Traceback (most recent call last)",
      "\u001b[0;32m~/workspace/datumaro_sa/datumaro/components/dataset.py\u001b[0m in \u001b[0;36mimport_from\u001b[0;34m(cls, path, format, env, progress_reporter, error_policy, save_hash, **kwargs)\u001b[0m\n\u001b[1;32m   1371\u001b[0m                     extractors.append(\n\u001b[0;32m-> 1372\u001b[0;31m                         \u001b[0menv\u001b[0m\u001b[0;34m.\u001b[0m\u001b[0mmake_extractor\u001b[0m\u001b[0;34m(\u001b[0m\u001b[0msrc_conf\u001b[0m\u001b[0;34m.\u001b[0m\u001b[0mformat\u001b[0m\u001b[0;34m,\u001b[0m \u001b[0msrc_conf\u001b[0m\u001b[0;34m.\u001b[0m\u001b[0murl\u001b[0m\u001b[0;34m,\u001b[0m \u001b[0;34m**\u001b[0m\u001b[0mextractor_kwargs\u001b[0m\u001b[0;34m)\u001b[0m\u001b[0;34m\u001b[0m\u001b[0;34m\u001b[0m\u001b[0m\n\u001b[0m\u001b[1;32m   1373\u001b[0m                     )\n",
      "\u001b[0;32m~/workspace/datumaro_sa/datumaro/components/environment.py\u001b[0m in \u001b[0;36mmake_extractor\u001b[0;34m(self, name, *args, **kwargs)\u001b[0m\n\u001b[1;32m    229\u001b[0m     \u001b[0;32mdef\u001b[0m \u001b[0mmake_extractor\u001b[0m\u001b[0;34m(\u001b[0m\u001b[0mself\u001b[0m\u001b[0;34m,\u001b[0m \u001b[0mname\u001b[0m\u001b[0;34m,\u001b[0m \u001b[0;34m*\u001b[0m\u001b[0margs\u001b[0m\u001b[0;34m,\u001b[0m \u001b[0;34m**\u001b[0m\u001b[0mkwargs\u001b[0m\u001b[0;34m)\u001b[0m\u001b[0;34m:\u001b[0m\u001b[0;34m\u001b[0m\u001b[0;34m\u001b[0m\u001b[0m\n\u001b[0;32m--> 230\u001b[0;31m         \u001b[0;32mreturn\u001b[0m \u001b[0mself\u001b[0m\u001b[0;34m.\u001b[0m\u001b[0mextractors\u001b[0m\u001b[0;34m.\u001b[0m\u001b[0mget\u001b[0m\u001b[0;34m(\u001b[0m\u001b[0mname\u001b[0m\u001b[0;34m)\u001b[0m\u001b[0;34m(\u001b[0m\u001b[0;34m*\u001b[0m\u001b[0margs\u001b[0m\u001b[0;34m,\u001b[0m \u001b[0;34m**\u001b[0m\u001b[0mkwargs\u001b[0m\u001b[0;34m)\u001b[0m\u001b[0;34m\u001b[0m\u001b[0;34m\u001b[0m\u001b[0m\n\u001b[0m\u001b[1;32m    231\u001b[0m \u001b[0;34m\u001b[0m\u001b[0m\n",
      "\u001b[0;31mTypeError\u001b[0m: __init__() got an unexpected keyword argument 'ctx'",
      "\nDuring handling of the above exception, another exception occurred:\n",
      "\u001b[0;31mAssertionError\u001b[0m                            Traceback (most recent call last)",
      "\u001b[0;32m/tmp/ipykernel_28790/803332256.py\u001b[0m in \u001b[0;36m<module>\u001b[0;34m\u001b[0m\n\u001b[1;32m      1\u001b[0m \u001b[0mstart_time\u001b[0m \u001b[0;34m=\u001b[0m \u001b[0mtime\u001b[0m\u001b[0;34m.\u001b[0m\u001b[0mtime\u001b[0m\u001b[0;34m(\u001b[0m\u001b[0;34m)\u001b[0m\u001b[0;34m\u001b[0m\u001b[0;34m\u001b[0m\u001b[0m\n\u001b[0;32m----> 2\u001b[0;31m \u001b[0mdataset\u001b[0m \u001b[0;34m=\u001b[0m \u001b[0mdm\u001b[0m\u001b[0;34m.\u001b[0m\u001b[0mDataset\u001b[0m\u001b[0;34m.\u001b[0m\u001b[0mimport_from\u001b[0m\u001b[0;34m(\u001b[0m\u001b[0;34m'./tests/assets/kinetics_dataset'\u001b[0m\u001b[0;34m,\u001b[0m \u001b[0msave_hash\u001b[0m\u001b[0;34m=\u001b[0m\u001b[0;32mTrue\u001b[0m\u001b[0;34m)\u001b[0m\u001b[0;34m\u001b[0m\u001b[0;34m\u001b[0m\u001b[0m\n\u001b[0m\u001b[1;32m      3\u001b[0m \u001b[0mprint\u001b[0m\u001b[0;34m(\u001b[0m\u001b[0;34mf'setting dataset time for {len(dataset)} items: '\u001b[0m\u001b[0;34m,\u001b[0m \u001b[0mtime\u001b[0m\u001b[0;34m.\u001b[0m\u001b[0mtime\u001b[0m\u001b[0;34m(\u001b[0m\u001b[0;34m)\u001b[0m\u001b[0;34m-\u001b[0m\u001b[0mstart_time\u001b[0m\u001b[0;34m)\u001b[0m\u001b[0;34m\u001b[0m\u001b[0;34m\u001b[0m\u001b[0m\n\u001b[1;32m      4\u001b[0m \u001b[0mdataset\u001b[0m\u001b[0;34m\u001b[0m\u001b[0;34m\u001b[0m\u001b[0m\n\u001b[1;32m      5\u001b[0m \u001b[0;32mfor\u001b[0m \u001b[0mi\u001b[0m\u001b[0;34m,\u001b[0m \u001b[0mitem\u001b[0m \u001b[0;32min\u001b[0m \u001b[0menumerate\u001b[0m\u001b[0;34m(\u001b[0m\u001b[0mdataset\u001b[0m\u001b[0;34m)\u001b[0m\u001b[0;34m:\u001b[0m\u001b[0;34m\u001b[0m\u001b[0;34m\u001b[0m\u001b[0m\n",
      "\u001b[0;32m~/workspace/datumaro_sa/datumaro/components/dataset.py\u001b[0m in \u001b[0;36mimport_from\u001b[0;34m(cls, path, format, env, progress_reporter, error_policy, save_hash, **kwargs)\u001b[0m\n\u001b[1;32m   1387\u001b[0m \u001b[0;34m\u001b[0m\u001b[0m\n\u001b[1;32m   1388\u001b[0m                     extractors.append(\n\u001b[0;32m-> 1389\u001b[0;31m                         \u001b[0menv\u001b[0m\u001b[0;34m.\u001b[0m\u001b[0mmake_extractor\u001b[0m\u001b[0;34m(\u001b[0m\u001b[0msrc_conf\u001b[0m\u001b[0;34m.\u001b[0m\u001b[0mformat\u001b[0m\u001b[0;34m,\u001b[0m \u001b[0msrc_conf\u001b[0m\u001b[0;34m.\u001b[0m\u001b[0murl\u001b[0m\u001b[0;34m,\u001b[0m \u001b[0;34m**\u001b[0m\u001b[0mextractor_kwargs\u001b[0m\u001b[0;34m)\u001b[0m\u001b[0;34m\u001b[0m\u001b[0;34m\u001b[0m\u001b[0m\n\u001b[0m\u001b[1;32m   1390\u001b[0m                     )\n\u001b[1;32m   1391\u001b[0m \u001b[0;34m\u001b[0m\u001b[0m\n",
      "\u001b[0;32m~/workspace/datumaro_sa/datumaro/components/environment.py\u001b[0m in \u001b[0;36mmake_extractor\u001b[0;34m(self, name, *args, **kwargs)\u001b[0m\n\u001b[1;32m    228\u001b[0m \u001b[0;34m\u001b[0m\u001b[0m\n\u001b[1;32m    229\u001b[0m     \u001b[0;32mdef\u001b[0m \u001b[0mmake_extractor\u001b[0m\u001b[0;34m(\u001b[0m\u001b[0mself\u001b[0m\u001b[0;34m,\u001b[0m \u001b[0mname\u001b[0m\u001b[0;34m,\u001b[0m \u001b[0;34m*\u001b[0m\u001b[0margs\u001b[0m\u001b[0;34m,\u001b[0m \u001b[0;34m**\u001b[0m\u001b[0mkwargs\u001b[0m\u001b[0;34m)\u001b[0m\u001b[0;34m:\u001b[0m\u001b[0;34m\u001b[0m\u001b[0;34m\u001b[0m\u001b[0m\n\u001b[0;32m--> 230\u001b[0;31m         \u001b[0;32mreturn\u001b[0m \u001b[0mself\u001b[0m\u001b[0;34m.\u001b[0m\u001b[0mextractors\u001b[0m\u001b[0;34m.\u001b[0m\u001b[0mget\u001b[0m\u001b[0;34m(\u001b[0m\u001b[0mname\u001b[0m\u001b[0;34m)\u001b[0m\u001b[0;34m(\u001b[0m\u001b[0;34m*\u001b[0m\u001b[0margs\u001b[0m\u001b[0;34m,\u001b[0m \u001b[0;34m**\u001b[0m\u001b[0mkwargs\u001b[0m\u001b[0;34m)\u001b[0m\u001b[0;34m\u001b[0m\u001b[0;34m\u001b[0m\u001b[0m\n\u001b[0m\u001b[1;32m    231\u001b[0m \u001b[0;34m\u001b[0m\u001b[0m\n\u001b[1;32m    232\u001b[0m     \u001b[0;32mdef\u001b[0m \u001b[0mmake_importer\u001b[0m\u001b[0;34m(\u001b[0m\u001b[0mself\u001b[0m\u001b[0;34m,\u001b[0m \u001b[0mname\u001b[0m\u001b[0;34m,\u001b[0m \u001b[0;34m*\u001b[0m\u001b[0margs\u001b[0m\u001b[0;34m,\u001b[0m \u001b[0;34m**\u001b[0m\u001b[0mkwargs\u001b[0m\u001b[0;34m)\u001b[0m\u001b[0;34m:\u001b[0m\u001b[0;34m\u001b[0m\u001b[0;34m\u001b[0m\u001b[0m\n",
      "\u001b[0;32m~/workspace/datumaro_sa/datumaro/plugins/kinetics_format.py\u001b[0m in \u001b[0;36m__init__\u001b[0;34m(self, path, save_hash)\u001b[0m\n\u001b[1;32m     40\u001b[0m         \u001b[0;32mfor\u001b[0m \u001b[0mann_file\u001b[0m \u001b[0;32min\u001b[0m \u001b[0msorted\u001b[0m\u001b[0;34m(\u001b[0m\u001b[0mself\u001b[0m\u001b[0;34m.\u001b[0m\u001b[0m_annotation_files\u001b[0m\u001b[0;34m.\u001b[0m\u001b[0mvalues\u001b[0m\u001b[0;34m(\u001b[0m\u001b[0;34m)\u001b[0m\u001b[0;34m)\u001b[0m\u001b[0;34m:\u001b[0m\u001b[0;34m\u001b[0m\u001b[0;34m\u001b[0m\u001b[0m\n\u001b[1;32m     41\u001b[0m             \u001b[0;32mif\u001b[0m \u001b[0mann_file\u001b[0m\u001b[0;34m.\u001b[0m\u001b[0mendswith\u001b[0m\u001b[0;34m(\u001b[0m\u001b[0;34m\"csv\"\u001b[0m\u001b[0;34m)\u001b[0m\u001b[0;34m:\u001b[0m\u001b[0;34m\u001b[0m\u001b[0;34m\u001b[0m\u001b[0m\n\u001b[0;32m---> 42\u001b[0;31m                 \u001b[0mself\u001b[0m\u001b[0;34m.\u001b[0m\u001b[0m_load_items_from_csv\u001b[0m\u001b[0;34m(\u001b[0m\u001b[0mann_file\u001b[0m\u001b[0;34m)\u001b[0m\u001b[0;34m\u001b[0m\u001b[0;34m\u001b[0m\u001b[0m\n\u001b[0m\u001b[1;32m     43\u001b[0m             \u001b[0;32melse\u001b[0m\u001b[0;34m:\u001b[0m\u001b[0;34m\u001b[0m\u001b[0;34m\u001b[0m\u001b[0m\n\u001b[1;32m     44\u001b[0m                 \u001b[0mself\u001b[0m\u001b[0;34m.\u001b[0m\u001b[0m_load_items_from_json\u001b[0m\u001b[0;34m(\u001b[0m\u001b[0mann_file\u001b[0m\u001b[0;34m)\u001b[0m\u001b[0;34m\u001b[0m\u001b[0;34m\u001b[0m\u001b[0m\n",
      "\u001b[0;32m~/workspace/datumaro_sa/datumaro/plugins/kinetics_format.py\u001b[0m in \u001b[0;36m_load_items_from_csv\u001b[0;34m(self, path)\u001b[0m\n\u001b[1;32m    117\u001b[0m                         \u001b[0mitem_desc\u001b[0m\u001b[0;34m[\u001b[0m\u001b[0;34m\"time_start\"\u001b[0m\u001b[0;34m]\u001b[0m\u001b[0;34m,\u001b[0m\u001b[0;34m\u001b[0m\u001b[0;34m\u001b[0m\u001b[0m\n\u001b[1;32m    118\u001b[0m                         \u001b[0mitem_desc\u001b[0m\u001b[0;34m[\u001b[0m\u001b[0;34m\"time_end\"\u001b[0m\u001b[0;34m]\u001b[0m\u001b[0;34m,\u001b[0m\u001b[0;34m\u001b[0m\u001b[0;34m\u001b[0m\u001b[0m\n\u001b[0;32m--> 119\u001b[0;31m                         \u001b[0mitem_desc\u001b[0m\u001b[0;34m[\u001b[0m\u001b[0;34m\"split\"\u001b[0m\u001b[0;34m]\u001b[0m\u001b[0;34m,\u001b[0m\u001b[0;34m\u001b[0m\u001b[0;34m\u001b[0m\u001b[0m\n\u001b[0m\u001b[1;32m    120\u001b[0m                     )\n\u001b[1;32m    121\u001b[0m                 )\n",
      "\u001b[0;32m~/workspace/datumaro_sa/datumaro/plugins/kinetics_format.py\u001b[0m in \u001b[0;36m_create_item\u001b[0;34m(self, item_id, label, time_start, time_end, subset)\u001b[0m\n\u001b[1;32m    105\u001b[0m             \u001b[0msubset\u001b[0m\u001b[0;34m=\u001b[0m\u001b[0msubset\u001b[0m\u001b[0;34m,\u001b[0m\u001b[0;34m\u001b[0m\u001b[0;34m\u001b[0m\u001b[0m\n\u001b[1;32m    106\u001b[0m             \u001b[0mmedia\u001b[0m\u001b[0;34m=\u001b[0m\u001b[0mmedia\u001b[0m\u001b[0;34m,\u001b[0m\u001b[0;34m\u001b[0m\u001b[0;34m\u001b[0m\u001b[0m\n\u001b[0;32m--> 107\u001b[0;31m             \u001b[0msave_hash\u001b[0m\u001b[0;34m=\u001b[0m\u001b[0mself\u001b[0m\u001b[0;34m.\u001b[0m\u001b[0m_save_hash\u001b[0m\u001b[0;34m,\u001b[0m\u001b[0;34m\u001b[0m\u001b[0;34m\u001b[0m\u001b[0m\n\u001b[0m\u001b[1;32m    108\u001b[0m         )\n\u001b[1;32m    109\u001b[0m \u001b[0;34m\u001b[0m\u001b[0m\n",
      "\u001b[0;32m~/workspace/datumaro_sa/datumaro/components/extractor.py\u001b[0m in \u001b[0;36m__init__\u001b[0;34m(self, id, subset, media, annotations, attributes, save_hash, image, point_cloud, related_images, hash_key)\u001b[0m\n\u001b[1;32m    119\u001b[0m \u001b[0;34m\u001b[0m\u001b[0m\n\u001b[1;32m    120\u001b[0m         \u001b[0;32mif\u001b[0m \u001b[0msave_hash\u001b[0m \u001b[0;32mand\u001b[0m \u001b[0mbool\u001b[0m\u001b[0;34m(\u001b[0m\u001b[0mmedia\u001b[0m\u001b[0;34m)\u001b[0m\u001b[0;34m:\u001b[0m\u001b[0;34m\u001b[0m\u001b[0;34m\u001b[0m\u001b[0m\n\u001b[0;32m--> 121\u001b[0;31m             \u001b[0mhash_key\u001b[0m \u001b[0;34m=\u001b[0m \u001b[0minference\u001b[0m\u001b[0;34m(\u001b[0m\u001b[0mmedia\u001b[0m\u001b[0;34m)\u001b[0m\u001b[0;34m\u001b[0m\u001b[0;34m\u001b[0m\u001b[0m\n\u001b[0m\u001b[1;32m    122\u001b[0m \u001b[0;34m\u001b[0m\u001b[0m\n\u001b[1;32m    123\u001b[0m         self.__attrs_init__(\n",
      "\u001b[0;32m~/workspace/datumaro_sa/datumaro/components/model_inference.py\u001b[0m in \u001b[0;36minference\u001b[0;34m(item)\u001b[0m\n\u001b[1;32m    645\u001b[0m \u001b[0;34m\u001b[0m\u001b[0m\n\u001b[1;32m    646\u001b[0m \u001b[0;32mdef\u001b[0m \u001b[0minference\u001b[0m\u001b[0;34m(\u001b[0m\u001b[0mitem\u001b[0m\u001b[0;34m)\u001b[0m\u001b[0;34m:\u001b[0m\u001b[0;34m\u001b[0m\u001b[0;34m\u001b[0m\u001b[0m\n\u001b[0;32m--> 647\u001b[0;31m     \u001b[0;32massert\u001b[0m \u001b[0;32mnot\u001b[0m \u001b[0mtype\u001b[0m\u001b[0;34m(\u001b[0m\u001b[0mitem\u001b[0m\u001b[0;34m)\u001b[0m \u001b[0;32min\u001b[0m \u001b[0;34m[\u001b[0m\u001b[0mVideo\u001b[0m\u001b[0;34m,\u001b[0m \u001b[0mPointCloud\u001b[0m\u001b[0;34m,\u001b[0m \u001b[0mMultiframeImage\u001b[0m\u001b[0;34m]\u001b[0m\u001b[0;34m,\u001b[0m \u001b[0;34mf\"Media type should be Image, Current type={type(item)}\"\u001b[0m\u001b[0;34m\u001b[0m\u001b[0;34m\u001b[0m\u001b[0m\n\u001b[0m\u001b[1;32m    648\u001b[0m     \u001b[0;31m# assert not isinstance(item, Video), f\"Media type should be Image, Current type={type(item)}\"\u001b[0m\u001b[0;34m\u001b[0m\u001b[0;34m\u001b[0m\u001b[0;34m\u001b[0m\u001b[0m\n\u001b[1;32m    649\u001b[0m     \u001b[0;31m# assert not isinstance(item, PointCloud), f\"Media type should be Image, Current type={type(item)}\"\u001b[0m\u001b[0;34m\u001b[0m\u001b[0;34m\u001b[0m\u001b[0;34m\u001b[0m\u001b[0m\n",
      "\u001b[0;31mAssertionError\u001b[0m: Media type should be Image, Current type=<class 'datumaro.components.media.Video'>"
     ]
    }
   ],
   "source": [
    "start_time = time.time()\n",
    "dataset = dm.Dataset.import_from('./tests/assets/kinetics_dataset', save_hash=True)\n",
    "print(f'setting dataset time for {len(dataset)} items: ', time.time()-start_time)\n",
    "dataset\n",
    "for i, item in enumerate(dataset):\n",
    "    print(item)"
   ]
  },
  {
   "cell_type": "markdown",
   "id": "33ca7de1",
   "metadata": {},
   "source": [
    "## kitti"
   ]
  },
  {
   "cell_type": "code",
   "execution_count": 88,
   "id": "454687b9",
   "metadata": {},
   "outputs": [
    {
     "name": "stdout",
     "output_type": "stream",
     "text": [
      "setting dataset time for 2 items:  0.27360033988952637\n",
      "DatasetItem(id='000030_10', subset='training', media=<datumaro.components.media.Image object at 0x7f744bfd2e50>, annotations=[Mask(id=0, attributes={'is_crowd': True}, group=0, _image=<function _KittiExtractor._lazy_extract_mask.<locals>.<lambda> at 0x7f745605bcb0>, label=3, z_order=0), Mask(id=1, attributes={'is_crowd': False}, group=0, _image=<function _KittiExtractor._lazy_extract_mask.<locals>.<lambda> at 0x7f745605b440>, label=27, z_order=0), Mask(id=2, attributes={'is_crowd': False}, group=0, _image=<function _KittiExtractor._lazy_extract_mask.<locals>.<lambda> at 0x7f744bfda200>, label=27, z_order=0)], attributes={}, hash_key=['09effa1b4c54099b48ce2f97ca195100f5115aad2e1aad36e1abfaf8fd10c0c7a167ddf6b539399e7ddaf32ba0b1ee07a038369e6ad898e50a2cf98912248bcc'])\n",
      "DatasetItem(id='000030_11', subset='training', media=<datumaro.components.media.Image object at 0x7f744bfd9cd0>, annotations=[Mask(id=0, attributes={'is_crowd': True}, group=0, _image=<function _KittiExtractor._lazy_extract_mask.<locals>.<lambda> at 0x7f744bfda0e0>, label=3, z_order=0), Mask(id=1, attributes={'is_crowd': False}, group=0, _image=<function _KittiExtractor._lazy_extract_mask.<locals>.<lambda> at 0x7f744bfda050>, label=12, z_order=0), Mask(id=1, attributes={'is_crowd': False}, group=0, _image=<function _KittiExtractor._lazy_extract_mask.<locals>.<lambda> at 0x7f7456067050>, label=31, z_order=0)], attributes={}, hash_key=['09effa1b4c54099b48ce2f97ca195100f5115aad2e1aad36e1abfaf8fd10c0c7a167ddf6b539399e7ddaf32ba0b1ee07a038369e6ad898e50a2cf98912248bcc'])\n"
     ]
    }
   ],
   "source": [
    "start_time = time.time()\n",
    "dataset = dm.Dataset.import_from('./tests/assets/kitti_dataset/kitti_segmentation', 'kitti', save_hash=True)\n",
    "print(f'setting dataset time for {len(dataset)} items: ', time.time()-start_time)\n",
    "dataset\n",
    "for i, item in enumerate(dataset):\n",
    "    print(item)"
   ]
  },
  {
   "cell_type": "code",
   "execution_count": 89,
   "id": "e2cc8731",
   "metadata": {},
   "outputs": [
    {
     "name": "stdout",
     "output_type": "stream",
     "text": [
      "[DatasetItem(id='000030_10', subset='training', media=<datumaro.components.media.Image object at 0x7f744bfd2e50>, annotations=[Mask(id=0, attributes={'is_crowd': True}, group=0, _image=<function _KittiExtractor._lazy_extract_mask.<locals>.<lambda> at 0x7f745605bcb0>, label=3, z_order=0), Mask(id=1, attributes={'is_crowd': False}, group=0, _image=<function _KittiExtractor._lazy_extract_mask.<locals>.<lambda> at 0x7f745605b440>, label=27, z_order=0), Mask(id=2, attributes={'is_crowd': False}, group=0, _image=<function _KittiExtractor._lazy_extract_mask.<locals>.<lambda> at 0x7f744bfda200>, label=27, z_order=0)], attributes={}, hash_key=['09effa1b4c54099b48ce2f97ca195100f5115aad2e1aad36e1abfaf8fd10c0c7a167ddf6b539399e7ddaf32ba0b1ee07a038369e6ad898e50a2cf98912248bcc']), DatasetItem(id='000030_11', subset='training', media=<datumaro.components.media.Image object at 0x7f744bfd9cd0>, annotations=[Mask(id=0, attributes={'is_crowd': True}, group=0, _image=<function _KittiExtractor._lazy_extract_mask.<locals>.<lambda> at 0x7f744bfda0e0>, label=3, z_order=0), Mask(id=1, attributes={'is_crowd': False}, group=0, _image=<function _KittiExtractor._lazy_extract_mask.<locals>.<lambda> at 0x7f744bfda050>, label=12, z_order=0), Mask(id=1, attributes={'is_crowd': False}, group=0, _image=<function _KittiExtractor._lazy_extract_mask.<locals>.<lambda> at 0x7f7456067050>, label=31, z_order=0)], attributes={}, hash_key=['09effa1b4c54099b48ce2f97ca195100f5115aad2e1aad36e1abfaf8fd10c0c7a167ddf6b539399e7ddaf32ba0b1ee07a038369e6ad898e50a2cf98912248bcc'])]\n"
     ]
    }
   ],
   "source": [
    "for i, item in enumerate(dataset):\n",
    "    if i==0:\n",
    "        query = item\n",
    "searcher = Searcher(dataset)\n",
    "topk_list = searcher.search_topk(query, topk=2)\n",
    "print(topk_list)"
   ]
  },
  {
   "cell_type": "code",
   "execution_count": 90,
   "id": "bdfc6ddd",
   "metadata": {},
   "outputs": [
    {
     "name": "stdout",
     "output_type": "stream",
     "text": [
      "setting dataset time for 2 items:  0.35036230087280273\n",
      "DatasetItem(id='000030_10', subset='training', media=<datumaro.components.media.Image object at 0x7f7475de0310>, annotations=[Bbox(id=0, attributes={'truncated': True, 'occluded': False}, group=0, points=[0.0, 1.0, 2.0, 3.0], label=0, z_order=0), Bbox(id=1, attributes={'truncated': False, 'occluded': False}, group=0, points=[0.0, 5.0, 1.0, 8.0], label=1, z_order=0)], attributes={}, hash_key=['09effa1b4c54099b48ce2f97ca195100f5115aad2e1aad36e1abfaf8fd10c0c7a167ddf6b539399e7ddaf32ba0b1ee07a038369e6ad898e50a2cf98912248bcc'])\n",
      "DatasetItem(id='000030_11', subset='training', media=<datumaro.components.media.Image object at 0x7f744bfcebd0>, annotations=[Bbox(id=0, attributes={'truncated': True, 'occluded': True}, group=0, points=[0.0, 0.0, 2.0, 2.0], label=1, z_order=0), Bbox(id=1, attributes={'truncated': False, 'occluded': False}, group=0, points=[4.0, 4.0, 6.0, 6.0], label=1, z_order=0), Bbox(id=2, attributes={'truncated': False, 'occluded': True}, group=0, points=[6.0, 6.0, 7.0, 9.0], label=1, z_order=0)], attributes={}, hash_key=['09effa1b4c54099b48ce2f97ca195100f5115aad2e1aad36e1abfaf8fd10c0c7a167ddf6b539399e7ddaf32ba0b1ee07a038369e6ad898e50a2cf98912248bcc'])\n"
     ]
    }
   ],
   "source": [
    "start_time = time.time()\n",
    "dataset = dm.Dataset.import_from('./tests/assets/kitti_dataset/kitti_detection', 'kitti', save_hash=True)\n",
    "print(f'setting dataset time for {len(dataset)} items: ', time.time()-start_time)\n",
    "dataset\n",
    "for i, item in enumerate(dataset):\n",
    "    print(item)"
   ]
  },
  {
   "cell_type": "code",
   "execution_count": 91,
   "id": "56f0526b",
   "metadata": {},
   "outputs": [
    {
     "name": "stdout",
     "output_type": "stream",
     "text": [
      "[DatasetItem(id='000030_10', subset='training', media=<datumaro.components.media.Image object at 0x7f7475de0310>, annotations=[Bbox(id=0, attributes={'truncated': True, 'occluded': False}, group=0, points=[0.0, 1.0, 2.0, 3.0], label=0, z_order=0), Bbox(id=1, attributes={'truncated': False, 'occluded': False}, group=0, points=[0.0, 5.0, 1.0, 8.0], label=1, z_order=0)], attributes={}, hash_key=['09effa1b4c54099b48ce2f97ca195100f5115aad2e1aad36e1abfaf8fd10c0c7a167ddf6b539399e7ddaf32ba0b1ee07a038369e6ad898e50a2cf98912248bcc']), DatasetItem(id='000030_11', subset='training', media=<datumaro.components.media.Image object at 0x7f744bfcebd0>, annotations=[Bbox(id=0, attributes={'truncated': True, 'occluded': True}, group=0, points=[0.0, 0.0, 2.0, 2.0], label=1, z_order=0), Bbox(id=1, attributes={'truncated': False, 'occluded': False}, group=0, points=[4.0, 4.0, 6.0, 6.0], label=1, z_order=0), Bbox(id=2, attributes={'truncated': False, 'occluded': True}, group=0, points=[6.0, 6.0, 7.0, 9.0], label=1, z_order=0)], attributes={}, hash_key=['09effa1b4c54099b48ce2f97ca195100f5115aad2e1aad36e1abfaf8fd10c0c7a167ddf6b539399e7ddaf32ba0b1ee07a038369e6ad898e50a2cf98912248bcc'])]\n"
     ]
    }
   ],
   "source": [
    "for i, item in enumerate(dataset):\n",
    "    if i==0:\n",
    "        query = item\n",
    "searcher = Searcher(dataset)\n",
    "topk_list = searcher.search_topk(query, topk=2)\n",
    "print(topk_list)"
   ]
  },
  {
   "cell_type": "markdown",
   "id": "4e935be4",
   "metadata": {},
   "source": [
    "## kitti_raw"
   ]
  },
  {
   "cell_type": "code",
   "execution_count": 92,
   "id": "802c6a69",
   "metadata": {},
   "outputs": [
    {
     "ename": "AssertionError",
     "evalue": "Media type should be Image, Current type=<class 'datumaro.components.media.PointCloud'>",
     "output_type": "error",
     "traceback": [
      "\u001b[0;31m---------------------------------------------------------------------------\u001b[0m",
      "\u001b[0;31mTypeError\u001b[0m                                 Traceback (most recent call last)",
      "\u001b[0;32m~/workspace/datumaro_sa/datumaro/components/dataset.py\u001b[0m in \u001b[0;36mimport_from\u001b[0;34m(cls, path, format, env, progress_reporter, error_policy, save_hash, **kwargs)\u001b[0m\n\u001b[1;32m   1371\u001b[0m                     extractors.append(\n\u001b[0;32m-> 1372\u001b[0;31m                         \u001b[0menv\u001b[0m\u001b[0;34m.\u001b[0m\u001b[0mmake_extractor\u001b[0m\u001b[0;34m(\u001b[0m\u001b[0msrc_conf\u001b[0m\u001b[0;34m.\u001b[0m\u001b[0mformat\u001b[0m\u001b[0;34m,\u001b[0m \u001b[0msrc_conf\u001b[0m\u001b[0;34m.\u001b[0m\u001b[0murl\u001b[0m\u001b[0;34m,\u001b[0m \u001b[0;34m**\u001b[0m\u001b[0mextractor_kwargs\u001b[0m\u001b[0;34m)\u001b[0m\u001b[0;34m\u001b[0m\u001b[0;34m\u001b[0m\u001b[0m\n\u001b[0m\u001b[1;32m   1373\u001b[0m                     )\n",
      "\u001b[0;32m~/workspace/datumaro_sa/datumaro/components/environment.py\u001b[0m in \u001b[0;36mmake_extractor\u001b[0;34m(self, name, *args, **kwargs)\u001b[0m\n\u001b[1;32m    229\u001b[0m     \u001b[0;32mdef\u001b[0m \u001b[0mmake_extractor\u001b[0m\u001b[0;34m(\u001b[0m\u001b[0mself\u001b[0m\u001b[0;34m,\u001b[0m \u001b[0mname\u001b[0m\u001b[0;34m,\u001b[0m \u001b[0;34m*\u001b[0m\u001b[0margs\u001b[0m\u001b[0;34m,\u001b[0m \u001b[0;34m**\u001b[0m\u001b[0mkwargs\u001b[0m\u001b[0;34m)\u001b[0m\u001b[0;34m:\u001b[0m\u001b[0;34m\u001b[0m\u001b[0;34m\u001b[0m\u001b[0m\n\u001b[0;32m--> 230\u001b[0;31m         \u001b[0;32mreturn\u001b[0m \u001b[0mself\u001b[0m\u001b[0;34m.\u001b[0m\u001b[0mextractors\u001b[0m\u001b[0;34m.\u001b[0m\u001b[0mget\u001b[0m\u001b[0;34m(\u001b[0m\u001b[0mname\u001b[0m\u001b[0;34m)\u001b[0m\u001b[0;34m(\u001b[0m\u001b[0;34m*\u001b[0m\u001b[0margs\u001b[0m\u001b[0;34m,\u001b[0m \u001b[0;34m**\u001b[0m\u001b[0mkwargs\u001b[0m\u001b[0;34m)\u001b[0m\u001b[0;34m\u001b[0m\u001b[0;34m\u001b[0m\u001b[0m\n\u001b[0m\u001b[1;32m    231\u001b[0m \u001b[0;34m\u001b[0m\u001b[0m\n",
      "\u001b[0;31mTypeError\u001b[0m: __init__() got an unexpected keyword argument 'ctx'",
      "\nDuring handling of the above exception, another exception occurred:\n",
      "\u001b[0;31mAssertionError\u001b[0m                            Traceback (most recent call last)",
      "\u001b[0;32m/tmp/ipykernel_28790/4250895615.py\u001b[0m in \u001b[0;36m<module>\u001b[0;34m\u001b[0m\n\u001b[1;32m      1\u001b[0m \u001b[0mstart_time\u001b[0m \u001b[0;34m=\u001b[0m \u001b[0mtime\u001b[0m\u001b[0;34m.\u001b[0m\u001b[0mtime\u001b[0m\u001b[0;34m(\u001b[0m\u001b[0;34m)\u001b[0m\u001b[0;34m\u001b[0m\u001b[0;34m\u001b[0m\u001b[0m\n\u001b[0;32m----> 2\u001b[0;31m \u001b[0mdataset\u001b[0m \u001b[0;34m=\u001b[0m \u001b[0mdm\u001b[0m\u001b[0;34m.\u001b[0m\u001b[0mDataset\u001b[0m\u001b[0;34m.\u001b[0m\u001b[0mimport_from\u001b[0m\u001b[0;34m(\u001b[0m\u001b[0;34m'./tests/assets/kitti_dataset/kitti_raw'\u001b[0m\u001b[0;34m,\u001b[0m \u001b[0;34m'kitti_raw'\u001b[0m\u001b[0;34m,\u001b[0m \u001b[0msave_hash\u001b[0m\u001b[0;34m=\u001b[0m\u001b[0;32mTrue\u001b[0m\u001b[0;34m)\u001b[0m\u001b[0;34m\u001b[0m\u001b[0;34m\u001b[0m\u001b[0m\n\u001b[0m\u001b[1;32m      3\u001b[0m \u001b[0mprint\u001b[0m\u001b[0;34m(\u001b[0m\u001b[0;34mf'setting dataset time for {len(dataset)} items: '\u001b[0m\u001b[0;34m,\u001b[0m \u001b[0mtime\u001b[0m\u001b[0;34m.\u001b[0m\u001b[0mtime\u001b[0m\u001b[0;34m(\u001b[0m\u001b[0;34m)\u001b[0m\u001b[0;34m-\u001b[0m\u001b[0mstart_time\u001b[0m\u001b[0;34m)\u001b[0m\u001b[0;34m\u001b[0m\u001b[0;34m\u001b[0m\u001b[0m\n\u001b[1;32m      4\u001b[0m \u001b[0mdataset\u001b[0m\u001b[0;34m\u001b[0m\u001b[0;34m\u001b[0m\u001b[0m\n\u001b[1;32m      5\u001b[0m \u001b[0;32mfor\u001b[0m \u001b[0mi\u001b[0m\u001b[0;34m,\u001b[0m \u001b[0mitem\u001b[0m \u001b[0;32min\u001b[0m \u001b[0menumerate\u001b[0m\u001b[0;34m(\u001b[0m\u001b[0mdataset\u001b[0m\u001b[0;34m)\u001b[0m\u001b[0;34m:\u001b[0m\u001b[0;34m\u001b[0m\u001b[0;34m\u001b[0m\u001b[0m\n",
      "\u001b[0;32m~/workspace/datumaro_sa/datumaro/components/dataset.py\u001b[0m in \u001b[0;36mimport_from\u001b[0;34m(cls, path, format, env, progress_reporter, error_policy, save_hash, **kwargs)\u001b[0m\n\u001b[1;32m   1387\u001b[0m \u001b[0;34m\u001b[0m\u001b[0m\n\u001b[1;32m   1388\u001b[0m                     extractors.append(\n\u001b[0;32m-> 1389\u001b[0;31m                         \u001b[0menv\u001b[0m\u001b[0;34m.\u001b[0m\u001b[0mmake_extractor\u001b[0m\u001b[0;34m(\u001b[0m\u001b[0msrc_conf\u001b[0m\u001b[0;34m.\u001b[0m\u001b[0mformat\u001b[0m\u001b[0;34m,\u001b[0m \u001b[0msrc_conf\u001b[0m\u001b[0;34m.\u001b[0m\u001b[0murl\u001b[0m\u001b[0;34m,\u001b[0m \u001b[0;34m**\u001b[0m\u001b[0mextractor_kwargs\u001b[0m\u001b[0;34m)\u001b[0m\u001b[0;34m\u001b[0m\u001b[0;34m\u001b[0m\u001b[0m\n\u001b[0m\u001b[1;32m   1390\u001b[0m                     )\n\u001b[1;32m   1391\u001b[0m \u001b[0;34m\u001b[0m\u001b[0m\n",
      "\u001b[0;32m~/workspace/datumaro_sa/datumaro/components/environment.py\u001b[0m in \u001b[0;36mmake_extractor\u001b[0;34m(self, name, *args, **kwargs)\u001b[0m\n\u001b[1;32m    228\u001b[0m \u001b[0;34m\u001b[0m\u001b[0m\n\u001b[1;32m    229\u001b[0m     \u001b[0;32mdef\u001b[0m \u001b[0mmake_extractor\u001b[0m\u001b[0;34m(\u001b[0m\u001b[0mself\u001b[0m\u001b[0;34m,\u001b[0m \u001b[0mname\u001b[0m\u001b[0;34m,\u001b[0m \u001b[0;34m*\u001b[0m\u001b[0margs\u001b[0m\u001b[0;34m,\u001b[0m \u001b[0;34m**\u001b[0m\u001b[0mkwargs\u001b[0m\u001b[0;34m)\u001b[0m\u001b[0;34m:\u001b[0m\u001b[0;34m\u001b[0m\u001b[0;34m\u001b[0m\u001b[0m\n\u001b[0;32m--> 230\u001b[0;31m         \u001b[0;32mreturn\u001b[0m \u001b[0mself\u001b[0m\u001b[0;34m.\u001b[0m\u001b[0mextractors\u001b[0m\u001b[0;34m.\u001b[0m\u001b[0mget\u001b[0m\u001b[0;34m(\u001b[0m\u001b[0mname\u001b[0m\u001b[0;34m)\u001b[0m\u001b[0;34m(\u001b[0m\u001b[0;34m*\u001b[0m\u001b[0margs\u001b[0m\u001b[0;34m,\u001b[0m \u001b[0;34m**\u001b[0m\u001b[0mkwargs\u001b[0m\u001b[0;34m)\u001b[0m\u001b[0;34m\u001b[0m\u001b[0;34m\u001b[0m\u001b[0m\n\u001b[0m\u001b[1;32m    231\u001b[0m \u001b[0;34m\u001b[0m\u001b[0m\n\u001b[1;32m    232\u001b[0m     \u001b[0;32mdef\u001b[0m \u001b[0mmake_importer\u001b[0m\u001b[0;34m(\u001b[0m\u001b[0mself\u001b[0m\u001b[0;34m,\u001b[0m \u001b[0mname\u001b[0m\u001b[0;34m,\u001b[0m \u001b[0;34m*\u001b[0m\u001b[0margs\u001b[0m\u001b[0;34m,\u001b[0m \u001b[0;34m**\u001b[0m\u001b[0mkwargs\u001b[0m\u001b[0;34m)\u001b[0m\u001b[0;34m:\u001b[0m\u001b[0;34m\u001b[0m\u001b[0;34m\u001b[0m\u001b[0m\n",
      "\u001b[0;32m~/workspace/datumaro_sa/datumaro/plugins/kitti_raw_format/extractor.py\u001b[0m in \u001b[0;36m__init__\u001b[0;34m(self, path, subset, save_hash)\u001b[0m\n\u001b[1;32m     32\u001b[0m \u001b[0;34m\u001b[0m\u001b[0m\n\u001b[1;32m     33\u001b[0m         \u001b[0mitems\u001b[0m\u001b[0;34m,\u001b[0m \u001b[0mcategories\u001b[0m \u001b[0;34m=\u001b[0m \u001b[0mself\u001b[0m\u001b[0;34m.\u001b[0m\u001b[0m_parse\u001b[0m\u001b[0;34m(\u001b[0m\u001b[0mpath\u001b[0m\u001b[0;34m)\u001b[0m\u001b[0;34m\u001b[0m\u001b[0;34m\u001b[0m\u001b[0m\n\u001b[0;32m---> 34\u001b[0;31m         \u001b[0mself\u001b[0m\u001b[0;34m.\u001b[0m\u001b[0m_items\u001b[0m \u001b[0;34m=\u001b[0m \u001b[0mlist\u001b[0m\u001b[0;34m(\u001b[0m\u001b[0mself\u001b[0m\u001b[0;34m.\u001b[0m\u001b[0m_load_items\u001b[0m\u001b[0;34m(\u001b[0m\u001b[0mitems\u001b[0m\u001b[0;34m)\u001b[0m\u001b[0;34m.\u001b[0m\u001b[0mvalues\u001b[0m\u001b[0;34m(\u001b[0m\u001b[0;34m)\u001b[0m\u001b[0;34m)\u001b[0m\u001b[0;34m\u001b[0m\u001b[0;34m\u001b[0m\u001b[0m\n\u001b[0m\u001b[1;32m     35\u001b[0m         \u001b[0mself\u001b[0m\u001b[0;34m.\u001b[0m\u001b[0m_categories\u001b[0m \u001b[0;34m=\u001b[0m \u001b[0mcategories\u001b[0m\u001b[0;34m\u001b[0m\u001b[0;34m\u001b[0m\u001b[0m\n\u001b[1;32m     36\u001b[0m \u001b[0;34m\u001b[0m\u001b[0m\n",
      "\u001b[0;32m~/workspace/datumaro_sa/datumaro/plugins/kitti_raw_format/extractor.py\u001b[0m in \u001b[0;36m_load_items\u001b[0;34m(self, parsed)\u001b[0m\n\u001b[1;32m    248\u001b[0m                 \u001b[0mannotations\u001b[0m\u001b[0;34m=\u001b[0m\u001b[0mitem_desc\u001b[0m\u001b[0;34m.\u001b[0m\u001b[0mget\u001b[0m\u001b[0;34m(\u001b[0m\u001b[0;34m\"annotations\"\u001b[0m\u001b[0;34m)\u001b[0m\u001b[0;34m,\u001b[0m\u001b[0;34m\u001b[0m\u001b[0;34m\u001b[0m\u001b[0m\n\u001b[1;32m    249\u001b[0m                 \u001b[0mattributes\u001b[0m\u001b[0;34m=\u001b[0m\u001b[0;34m{\u001b[0m\u001b[0;34m\"frame\"\u001b[0m\u001b[0;34m:\u001b[0m \u001b[0mint\u001b[0m\u001b[0;34m(\u001b[0m\u001b[0mframe_id\u001b[0m\u001b[0;34m)\u001b[0m\u001b[0;34m}\u001b[0m\u001b[0;34m,\u001b[0m\u001b[0;34m\u001b[0m\u001b[0;34m\u001b[0m\u001b[0m\n\u001b[0;32m--> 250\u001b[0;31m                 \u001b[0msave_hash\u001b[0m\u001b[0;34m=\u001b[0m\u001b[0mself\u001b[0m\u001b[0;34m.\u001b[0m\u001b[0m_save_hash\u001b[0m\u001b[0;34m,\u001b[0m\u001b[0;34m\u001b[0m\u001b[0;34m\u001b[0m\u001b[0m\n\u001b[0m\u001b[1;32m    251\u001b[0m             )\n\u001b[1;32m    252\u001b[0m \u001b[0;34m\u001b[0m\u001b[0m\n",
      "\u001b[0;32m~/workspace/datumaro_sa/datumaro/components/extractor.py\u001b[0m in \u001b[0;36m__init__\u001b[0;34m(self, id, subset, media, annotations, attributes, save_hash, image, point_cloud, related_images, hash_key)\u001b[0m\n\u001b[1;32m    119\u001b[0m \u001b[0;34m\u001b[0m\u001b[0m\n\u001b[1;32m    120\u001b[0m         \u001b[0;32mif\u001b[0m \u001b[0msave_hash\u001b[0m \u001b[0;32mand\u001b[0m \u001b[0mbool\u001b[0m\u001b[0;34m(\u001b[0m\u001b[0mmedia\u001b[0m\u001b[0;34m)\u001b[0m\u001b[0;34m:\u001b[0m\u001b[0;34m\u001b[0m\u001b[0;34m\u001b[0m\u001b[0m\n\u001b[0;32m--> 121\u001b[0;31m             \u001b[0mhash_key\u001b[0m \u001b[0;34m=\u001b[0m \u001b[0minference\u001b[0m\u001b[0;34m(\u001b[0m\u001b[0mmedia\u001b[0m\u001b[0;34m)\u001b[0m\u001b[0;34m\u001b[0m\u001b[0;34m\u001b[0m\u001b[0m\n\u001b[0m\u001b[1;32m    122\u001b[0m \u001b[0;34m\u001b[0m\u001b[0m\n\u001b[1;32m    123\u001b[0m         self.__attrs_init__(\n",
      "\u001b[0;32m~/workspace/datumaro_sa/datumaro/components/model_inference.py\u001b[0m in \u001b[0;36minference\u001b[0;34m(item)\u001b[0m\n\u001b[1;32m    645\u001b[0m \u001b[0;34m\u001b[0m\u001b[0m\n\u001b[1;32m    646\u001b[0m \u001b[0;32mdef\u001b[0m \u001b[0minference\u001b[0m\u001b[0;34m(\u001b[0m\u001b[0mitem\u001b[0m\u001b[0;34m)\u001b[0m\u001b[0;34m:\u001b[0m\u001b[0;34m\u001b[0m\u001b[0;34m\u001b[0m\u001b[0m\n\u001b[0;32m--> 647\u001b[0;31m     \u001b[0;32massert\u001b[0m \u001b[0;32mnot\u001b[0m \u001b[0mtype\u001b[0m\u001b[0;34m(\u001b[0m\u001b[0mitem\u001b[0m\u001b[0;34m)\u001b[0m \u001b[0;32min\u001b[0m \u001b[0;34m[\u001b[0m\u001b[0mVideo\u001b[0m\u001b[0;34m,\u001b[0m \u001b[0mPointCloud\u001b[0m\u001b[0;34m,\u001b[0m \u001b[0mMultiframeImage\u001b[0m\u001b[0;34m]\u001b[0m\u001b[0;34m,\u001b[0m \u001b[0;34mf\"Media type should be Image, Current type={type(item)}\"\u001b[0m\u001b[0;34m\u001b[0m\u001b[0;34m\u001b[0m\u001b[0m\n\u001b[0m\u001b[1;32m    648\u001b[0m     \u001b[0;31m# assert not isinstance(item, Video), f\"Media type should be Image, Current type={type(item)}\"\u001b[0m\u001b[0;34m\u001b[0m\u001b[0;34m\u001b[0m\u001b[0;34m\u001b[0m\u001b[0m\n\u001b[1;32m    649\u001b[0m     \u001b[0;31m# assert not isinstance(item, PointCloud), f\"Media type should be Image, Current type={type(item)}\"\u001b[0m\u001b[0;34m\u001b[0m\u001b[0;34m\u001b[0m\u001b[0;34m\u001b[0m\u001b[0m\n",
      "\u001b[0;31mAssertionError\u001b[0m: Media type should be Image, Current type=<class 'datumaro.components.media.PointCloud'>"
     ]
    }
   ],
   "source": [
    "start_time = time.time()\n",
    "dataset = dm.Dataset.import_from('./tests/assets/kitti_dataset/kitti_raw', 'kitti_raw', save_hash=True)\n",
    "print(f'setting dataset time for {len(dataset)} items: ', time.time()-start_time)\n",
    "dataset\n",
    "for i, item in enumerate(dataset):\n",
    "    print(item)"
   ]
  },
  {
   "cell_type": "markdown",
   "id": "cdaf169d",
   "metadata": {},
   "source": [
    "## mapillary_vistas"
   ]
  },
  {
   "cell_type": "code",
   "execution_count": 5,
   "id": "ac6b766b",
   "metadata": {},
   "outputs": [
    {
     "name": "stdout",
     "output_type": "stream",
     "text": [
      "setting dataset time for 3 items:  0.004586219787597656\n",
      "DatasetItem(id='0', subset='val', media=<datumaro.components.media.Image object at 0x7f6e5c437790>, annotations=[Mask(id=0, attributes={}, group=0, _image=<function _MapillaryVistasExtractor._lazy_extract_mask.<locals>.<lambda> at 0x7f6f5c608710>, label=0, z_order=0), Mask(id=0, attributes={}, group=0, _image=<function _MapillaryVistasExtractor._lazy_extract_mask.<locals>.<lambda> at 0x7f6e5eb31c20>, label=1, z_order=0), Mask(id=0, attributes={}, group=0, _image=<function _MapillaryVistasExtractor._lazy_extract_mask.<locals>.<lambda> at 0x7f6e5c407d40>, label=2, z_order=0)], attributes={}, hash_key=[])\n",
      "DatasetItem(id='1', subset='train', media=<datumaro.components.media.Image object at 0x7f6e5c437910>, annotations=[Mask(id=0, attributes={}, group=0, _image=<function _MapillaryVistasExtractor._lazy_extract_mask.<locals>.<lambda> at 0x7f6e5c40e4d0>, label=0, z_order=0), Mask(id=1, attributes={}, group=0, _image=<function _MapillaryVistasExtractor._lazy_extract_mask.<locals>.<lambda> at 0x7f6e5c40e440>, label=0, z_order=0), Mask(id=0, attributes={}, group=0, _image=<function _MapillaryVistasExtractor._lazy_extract_mask.<locals>.<lambda> at 0x7f6e5c4248c0>, label=1, z_order=0)], attributes={}, hash_key=[])\n",
      "DatasetItem(id='2', subset='train', media=<datumaro.components.media.Image object at 0x7f6e5c437850>, annotations=[Mask(id=0, attributes={}, group=0, _image=<function _MapillaryVistasExtractor._lazy_extract_mask.<locals>.<lambda> at 0x7f6e5c424440>, label=1, z_order=0), Mask(id=0, attributes={}, group=0, _image=<function _MapillaryVistasExtractor._lazy_extract_mask.<locals>.<lambda> at 0x7f6e5c424950>, label=2, z_order=0)], attributes={}, hash_key=[])\n"
     ]
    }
   ],
   "source": [
    "start_time = time.time()\n",
    "dataset = dm.Dataset.import_from('./tests/assets/mapillary_vistas_dataset/v1.2', \"mapillary_vistas\", save_hash=True)\n",
    "print(f'setting dataset time for {len(dataset)} items: ', time.time()-start_time)\n",
    "dataset\n",
    "for i, item in enumerate(dataset):\n",
    "    print(item)"
   ]
  },
  {
   "cell_type": "code",
   "execution_count": 94,
   "id": "d8a8eb4f",
   "metadata": {},
   "outputs": [
    {
     "name": "stdout",
     "output_type": "stream",
     "text": [
      "[DatasetItem(id='1', subset='train', media=<datumaro.components.media.Image object at 0x7f744bfcbe90>, annotations=[Mask(id=0, attributes={}, group=0, _image=<function _MapillaryVistasExtractor._lazy_extract_mask.<locals>.<lambda> at 0x7f745605b5f0>, label=0, z_order=0), Mask(id=1, attributes={}, group=0, _image=<function _MapillaryVistasExtractor._lazy_extract_mask.<locals>.<lambda> at 0x7f745605b830>, label=0, z_order=0), Mask(id=0, attributes={}, group=0, _image=<function _MapillaryVistasExtractor._lazy_extract_mask.<locals>.<lambda> at 0x7f745605b290>, label=1, z_order=0)], attributes={}, hash_key=['09effa1b4c54099b48ce2f97ca195100f5115aad2e1aad36e1abfaf8fd10c0c7a167ddf6b539399e7ddaf32ba0b1ee07a038369e6ad898e50a2cf98912248bcc']), DatasetItem(id='2', subset='train', media=<datumaro.components.media.Image object at 0x7f744bfcbb90>, annotations=[Mask(id=0, attributes={}, group=0, _image=<function _MapillaryVistasExtractor._lazy_extract_mask.<locals>.<lambda> at 0x7f7456073710>, label=1, z_order=0), Mask(id=0, attributes={}, group=0, _image=<function _MapillaryVistasExtractor._lazy_extract_mask.<locals>.<lambda> at 0x7f744bfa4b00>, label=2, z_order=0)], attributes={}, hash_key=['09effa1b4c54099b48ce2f97ca195100f5115aad2e1aad36e1abfaf8fd10c0c7a167ddf6b539399e7ddaf32ba0b1ee07a038369e6ad898e50a2cf98912248bcc'])]\n"
     ]
    }
   ],
   "source": [
    "for i, item in enumerate(dataset):\n",
    "    if i==0:\n",
    "        query = item\n",
    "searcher = Searcher(dataset)\n",
    "topk_list = searcher.search_topk(query, topk=2)\n",
    "print(topk_list)"
   ]
  },
  {
   "cell_type": "markdown",
   "id": "b435a64b",
   "metadata": {},
   "source": [
    "## mars_dataset"
   ]
  },
  {
   "cell_type": "code",
   "execution_count": 95,
   "id": "55af77aa",
   "metadata": {},
   "outputs": [
    {
     "name": "stdout",
     "output_type": "stream",
     "text": [
      "setting dataset time for 3 items:  0.4410855770111084\n",
      "DatasetItem(id='00-1C2T0081F201', subset='test', media=<datumaro.components.media.Image object at 0x7f745606f190>, annotations=[Label(id=0, attributes={}, group=0, label=0)], attributes={'person_id': '00-1', 'camera_id': 2, 'track_id': 81, 'frame_id': 201}, hash_key=['09effa1b4c54099b48ce2f97ca195100f5115aad2e1aad36e1abfaf8fd10c0c7a167ddf6b539399e7ddaf32ba0b1ee07a038369e6ad898e50a2cf98912248bcc'])\n",
      "DatasetItem(id='0000C6T0101F001', subset='train', media=<datumaro.components.media.Image object at 0x7f744bff1e90>, annotations=[Label(id=0, attributes={}, group=0, label=1)], attributes={'person_id': '0000', 'camera_id': 6, 'track_id': 101, 'frame_id': 1}, hash_key=['09effa1b4c54099b48ce2f97ca195100f5115aad2e1aad36e1abfaf8fd10c0c7a167ddf6b539399e7ddaf32ba0b1ee07a038369e6ad898e50a2cf98912248bcc'])\n",
      "DatasetItem(id='0001C1T0001F001', subset='train', media=<datumaro.components.media.Image object at 0x7f745606fd50>, annotations=[Label(id=0, attributes={}, group=0, label=2)], attributes={'person_id': '0001', 'camera_id': 1, 'track_id': 1, 'frame_id': 1}, hash_key=['09effa1b4c54099b48ce2f97ca195100f5115aad2e1aad36e1abfaf8fd10c0c7a167ddf6b539399e7ddaf32ba0b1ee07a038369e6ad898e50a2cf98912248bcc'])\n"
     ]
    }
   ],
   "source": [
    "start_time = time.time()\n",
    "dataset = dm.Dataset.import_from('./tests/assets/mars_dataset', 'mars', save_hash=True)\n",
    "print(f'setting dataset time for {len(dataset)} items: ', time.time()-start_time)\n",
    "dataset\n",
    "for i, item in enumerate(dataset):\n",
    "    print(item)"
   ]
  },
  {
   "cell_type": "code",
   "execution_count": 96,
   "id": "473570ac",
   "metadata": {},
   "outputs": [
    {
     "name": "stdout",
     "output_type": "stream",
     "text": [
      "[DatasetItem(id='00-1C2T0081F201', subset='test', media=<datumaro.components.media.Image object at 0x7f745606f190>, annotations=[Label(id=0, attributes={}, group=0, label=0)], attributes={'person_id': '00-1', 'camera_id': 2, 'track_id': 81, 'frame_id': 201}, hash_key=['09effa1b4c54099b48ce2f97ca195100f5115aad2e1aad36e1abfaf8fd10c0c7a167ddf6b539399e7ddaf32ba0b1ee07a038369e6ad898e50a2cf98912248bcc']), DatasetItem(id='0000C6T0101F001', subset='train', media=<datumaro.components.media.Image object at 0x7f744bff1e90>, annotations=[Label(id=0, attributes={}, group=0, label=1)], attributes={'person_id': '0000', 'camera_id': 6, 'track_id': 101, 'frame_id': 1}, hash_key=['09effa1b4c54099b48ce2f97ca195100f5115aad2e1aad36e1abfaf8fd10c0c7a167ddf6b539399e7ddaf32ba0b1ee07a038369e6ad898e50a2cf98912248bcc'])]\n"
     ]
    }
   ],
   "source": [
    "for i, item in enumerate(dataset):\n",
    "    if i==0:\n",
    "        query = item\n",
    "searcher = Searcher(dataset)\n",
    "topk_list = searcher.search_topk(query, topk=2)\n",
    "print(topk_list)"
   ]
  },
  {
   "cell_type": "markdown",
   "id": "4728840d",
   "metadata": {},
   "source": [
    "## mot_seq_with_seqinfo"
   ]
  },
  {
   "cell_type": "code",
   "execution_count": 97,
   "id": "9baf0964",
   "metadata": {},
   "outputs": [
    {
     "name": "stdout",
     "output_type": "stream",
     "text": [
      "setting dataset time for 1 items:  0.16208481788635254\n",
      "DatasetItem(id='1', subset='default', media=<datumaro.components.media.Image object at 0x7f744bfc5150>, annotations=[Bbox(id=0, attributes={'visibility': 1.0, 'occluded': False, 'ignored': False}, group=0, points=[0.0, 4.0, 4.0, 12.0], label=2, z_order=0)], attributes={}, hash_key=['09effa1b4c54099b48ce2f97ca195100f5115aad2e1aad36e1abfaf8fd10c0c7a167ddf6b539399e7ddaf32ba0b1ee07a038369e6ad898e50a2cf98912248bcc'])\n"
     ]
    }
   ],
   "source": [
    "start_time = time.time()\n",
    "dataset = dm.Dataset.import_from('./tests/assets/mot_dataset/mot_seq', 'mot_seq', save_hash=True)\n",
    "print(f'setting dataset time for {len(dataset)} items: ', time.time()-start_time)\n",
    "dataset\n",
    "for i, item in enumerate(dataset):\n",
    "    print(item)"
   ]
  },
  {
   "cell_type": "code",
   "execution_count": 7,
   "id": "cf7bdc57",
   "metadata": {},
   "outputs": [
    {
     "name": "stdout",
     "output_type": "stream",
     "text": [
      "setting dataset time for 1 items:  0.002741575241088867\n",
      "None\n",
      "DatasetItem(id='1', subset='default', media=<datumaro.components.media.Image object at 0x7f6e767d4890>, annotations=[Bbox(id=0, attributes={'visibility': 1.0, 'occluded': False, 'ignored': False}, group=0, points=[0.0, 4.0, 4.0, 12.0], label=2, z_order=0)], attributes={}, hash_key=[])\n"
     ]
    }
   ],
   "source": [
    "start_time = time.time()\n",
    "dataset = dm.Dataset.import_from('./tests/assets/mot_dataset/mot_seq_with_seqinfo', 'mot_seq', save_hash=True)\n",
    "print(f'setting dataset time for {len(dataset)} items: ', time.time()-start_time)\n",
    "dataset\n",
    "for i, item in enumerate(dataset):\n",
    "    print(item.media.data)\n",
    "    print(item)"
   ]
  },
  {
   "cell_type": "code",
   "execution_count": 98,
   "id": "351437cd",
   "metadata": {},
   "outputs": [
    {
     "name": "stdout",
     "output_type": "stream",
     "text": [
      "[DatasetItem(id='1', subset='default', media=<datumaro.components.media.Image object at 0x7f744bfc5150>, annotations=[Bbox(id=0, attributes={'visibility': 1.0, 'occluded': False, 'ignored': False}, group=0, points=[0.0, 4.0, 4.0, 12.0], label=2, z_order=0)], attributes={}, hash_key=['09effa1b4c54099b48ce2f97ca195100f5115aad2e1aad36e1abfaf8fd10c0c7a167ddf6b539399e7ddaf32ba0b1ee07a038369e6ad898e50a2cf98912248bcc'])]\n"
     ]
    }
   ],
   "source": [
    "for i, item in enumerate(dataset):\n",
    "    if i==0:\n",
    "        query = item\n",
    "searcher = Searcher(dataset)\n",
    "topk_list = searcher.search_topk(query, topk=2)\n",
    "print(topk_list)"
   ]
  },
  {
   "cell_type": "markdown",
   "id": "4315e38f",
   "metadata": {},
   "source": [
    "## voc_dataset/voc_dataset2"
   ]
  },
  {
   "cell_type": "code",
   "execution_count": 9,
   "id": "73328ee7",
   "metadata": {},
   "outputs": [
    {
     "name": "stdout",
     "output_type": "stream",
     "text": [
      "setting dataset time for 5 items:  0.007745981216430664\n",
      "None\n",
      "DatasetItem(id='@', subset='trainval', media=<datumaro.components.media.Image object at 0x7f6e341a2450>, annotations=[], attributes={}, hash_key=[])\n",
      "None\n",
      "DatasetItem(id='a', subset='trainval', media=<datumaro.components.media.Image object at 0x7f6e341a2990>, annotations=[Bbox(id=1, attributes={'difficult': False, 'truncated': False, 'occluded': True}, group=1, points=[1.0, 2.0, 4.0, 6.0], label=0, z_order=0)], attributes={}, hash_key=[])\n",
      "None\n",
      "DatasetItem(id='b', subset='trainval', media=<datumaro.components.media.Image object at 0x7f6e5c412e50>, annotations=[Bbox(id=1, attributes={'difficult': False, 'truncated': False, 'occluded': True}, group=1, points=[2.0, 2.0, 7.0, 6.0], label=1, z_order=0)], attributes={}, hash_key=[])\n",
      "None\n",
      "DatasetItem(id='c', subset='trainval', media=<datumaro.components.media.Image object at 0x7f6e5c3e6110>, annotations=[Bbox(id=1, attributes={'difficult': False, 'truncated': False, 'occluded': False}, group=1, points=[3.0, 1.0, 11.0, 6.0], label=2, z_order=0)], attributes={}, hash_key=[])\n",
      "None\n",
      "DatasetItem(id='d', subset='trainval', media=<datumaro.components.media.Image object at 0x7f6e341a23d0>, annotations=[Bbox(id=1, attributes={'difficult': False, 'truncated': False, 'occluded': False}, group=1, points=[4.0, 4.0, 8.0, 8.0], label=3, z_order=0)], attributes={}, hash_key=[])\n"
     ]
    }
   ],
   "source": [
    "start_time = time.time()\n",
    "dataset = dm.Dataset.import_from('./tests/assets/voc_dataset/voc_dataset2', 'voc', save_hash=True)\n",
    "print(f'setting dataset time for {len(dataset)} items: ', time.time()-start_time)\n",
    "dataset\n",
    "for i, item in enumerate(dataset):\n",
    "    print(item.media.data)\n",
    "    print(item)"
   ]
  },
  {
   "cell_type": "code",
   "execution_count": 100,
   "id": "d379cb58",
   "metadata": {},
   "outputs": [
    {
     "ename": "ValueError",
     "evalue": "Query should have hash_key",
     "output_type": "error",
     "traceback": [
      "\u001b[0;31m---------------------------------------------------------------------------\u001b[0m",
      "\u001b[0;31mValueError\u001b[0m                                Traceback (most recent call last)",
      "\u001b[0;32m/tmp/ipykernel_28790/1658596801.py\u001b[0m in \u001b[0;36m<module>\u001b[0;34m\u001b[0m\n\u001b[1;32m      3\u001b[0m         \u001b[0mquery\u001b[0m \u001b[0;34m=\u001b[0m \u001b[0mitem\u001b[0m\u001b[0;34m\u001b[0m\u001b[0;34m\u001b[0m\u001b[0m\n\u001b[1;32m      4\u001b[0m \u001b[0msearcher\u001b[0m \u001b[0;34m=\u001b[0m \u001b[0mSearcher\u001b[0m\u001b[0;34m(\u001b[0m\u001b[0mdataset\u001b[0m\u001b[0;34m)\u001b[0m\u001b[0;34m\u001b[0m\u001b[0;34m\u001b[0m\u001b[0m\n\u001b[0;32m----> 5\u001b[0;31m \u001b[0mtopk_list\u001b[0m \u001b[0;34m=\u001b[0m \u001b[0msearcher\u001b[0m\u001b[0;34m.\u001b[0m\u001b[0msearch_topk\u001b[0m\u001b[0;34m(\u001b[0m\u001b[0mquery\u001b[0m\u001b[0;34m,\u001b[0m \u001b[0mtopk\u001b[0m\u001b[0;34m=\u001b[0m\u001b[0;36m2\u001b[0m\u001b[0;34m)\u001b[0m\u001b[0;34m\u001b[0m\u001b[0;34m\u001b[0m\u001b[0m\n\u001b[0m\u001b[1;32m      6\u001b[0m \u001b[0mprint\u001b[0m\u001b[0;34m(\u001b[0m\u001b[0mtopk_list\u001b[0m\u001b[0;34m)\u001b[0m\u001b[0;34m\u001b[0m\u001b[0;34m\u001b[0m\u001b[0m\n",
      "\u001b[0;32m~/workspace/datumaro_sa/datumaro/components/searcher.py\u001b[0m in \u001b[0;36msearch_topk\u001b[0;34m(self, query, topk)\u001b[0m\n\u001b[1;32m     85\u001b[0m \u001b[0;34m\u001b[0m\u001b[0m\n\u001b[1;32m     86\u001b[0m         \u001b[0;32mif\u001b[0m \u001b[0;32mnot\u001b[0m \u001b[0mquery_key\u001b[0m\u001b[0;34m:\u001b[0m\u001b[0;34m\u001b[0m\u001b[0;34m\u001b[0m\u001b[0m\n\u001b[0;32m---> 87\u001b[0;31m             \u001b[0;32mraise\u001b[0m \u001b[0mValueError\u001b[0m\u001b[0;34m(\u001b[0m\u001b[0;34m\"Query should have hash_key\"\u001b[0m\u001b[0;34m)\u001b[0m \u001b[0;31m# Usually data is None case\u001b[0m\u001b[0;34m\u001b[0m\u001b[0;34m\u001b[0m\u001b[0m\n\u001b[0m\u001b[1;32m     88\u001b[0m \u001b[0;34m\u001b[0m\u001b[0m\n\u001b[1;32m     89\u001b[0m         \u001b[0mquery_key\u001b[0m \u001b[0;34m=\u001b[0m \u001b[0mself\u001b[0m\u001b[0;34m.\u001b[0m\u001b[0munpack_hash_key\u001b[0m\u001b[0;34m(\u001b[0m\u001b[0mquery_key\u001b[0m\u001b[0;34m[\u001b[0m\u001b[0;36m0\u001b[0m\u001b[0;34m]\u001b[0m\u001b[0;34m)\u001b[0m\u001b[0;34m\u001b[0m\u001b[0;34m\u001b[0m\u001b[0m\n",
      "\u001b[0;31mValueError\u001b[0m: Query should have hash_key"
     ]
    }
   ],
   "source": [
    "for i, item in enumerate(dataset):\n",
    "    if i==0:\n",
    "        query = item\n",
    "searcher = Searcher(dataset)\n",
    "topk_list = searcher.search_topk(query, topk=2)\n",
    "print(topk_list)"
   ]
  },
  {
   "cell_type": "code",
   "execution_count": null,
   "id": "2fadaaec",
   "metadata": {},
   "outputs": [],
   "source": []
  }
 ],
 "metadata": {
  "kernelspec": {
   "display_name": "jupyter datumaro",
   "language": "python",
   "name": "datumaro"
  },
  "language_info": {
   "codemirror_mode": {
    "name": "ipython",
    "version": 3
   },
   "file_extension": ".py",
   "mimetype": "text/x-python",
   "name": "python",
   "nbconvert_exporter": "python",
   "pygments_lexer": "ipython3",
   "version": "3.7.13"
  }
 },
 "nbformat": 4,
 "nbformat_minor": 5
}
