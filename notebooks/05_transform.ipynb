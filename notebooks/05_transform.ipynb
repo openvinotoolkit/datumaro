{
 "cells": [
  {
   "cell_type": "markdown",
   "id": "652f6b58",
   "metadata": {},
   "source": [
    "# Transform datasets"
   ]
  },
  {
   "cell_type": "markdown",
   "id": "ca821a19",
   "metadata": {},
   "source": [
    "In this notebook example, we'll take a look at Datumaro transform api, where transform provides the task changes by modifying the annotation style, e.g., from masks to polygons, from bounding boxes to masks, from shapes to bounding boxes, etc."
   ]
  },
  {
   "cell_type": "code",
   "execution_count": 1,
   "id": "da198c67",
   "metadata": {},
   "outputs": [],
   "source": [
    "# Copyright (C) 2022 Intel Corporation\n",
    "#\n",
    "# SPDX-License-Identifier: MIT\n",
    "\n",
    "import os\n",
    "import datumaro as dm"
   ]
  },
  {
   "cell_type": "markdown",
   "id": "9e2cf885",
   "metadata": {},
   "source": [
    "### Filtered by subset"
   ]
  },
  {
   "cell_type": "markdown",
   "id": "031f1d62",
   "metadata": {},
   "source": [
    "We export sample VOC dataset to filter only train subset."
   ]
  },
  {
   "cell_type": "code",
   "execution_count": 49,
   "id": "b9640838",
   "metadata": {},
   "outputs": [
    {
     "name": "stderr",
     "output_type": "stream",
     "text": [
      "WARNING:root:File 'coco_dataset/annotations/person_keypoints_val2017.json' was skipped, could't match this file with any of these tasks: coco_instances\n",
      "WARNING:root:File 'coco_dataset/annotations/captions_val2017.json' was skipped, could't match this file with any of these tasks: coco_instances\n",
      "WARNING:root:File 'coco_dataset/annotations/person_keypoints_train2017.json' was skipped, could't match this file with any of these tasks: coco_instances\n",
      "WARNING:root:File 'coco_dataset/annotations/captions_train2017.json' was skipped, could't match this file with any of these tasks: coco_instances\n"
     ]
    },
    {
     "name": "stdout",
     "output_type": "stream",
     "text": [
      "Representation for sample COCO dataset\n"
     ]
    },
    {
     "data": {
      "text/plain": [
       "Dataset\n",
       "\tsize=123287\n",
       "\tsource_path=coco_dataset\n",
       "\tmedia_type=<class 'datumaro.components.media.Image'>\n",
       "\tannotated_items_count=122218\n",
       "\tannotations_count=1018861\n",
       "subsets\n",
       "\ttrain2017: # of items=118287, # of annotated items=117266, # of annotations=976995, annotation types=['polygon', 'mask']\n",
       "\tval2017: # of items=5000, # of annotated items=4952, # of annotations=41866, annotation types=['polygon', 'mask']\n",
       "categories\n",
       "\tlabel: ['person', 'bicycle', 'car', 'motorcycle', 'airplane', 'bus', 'train', 'truck', 'boat', 'traffic light', 'fire hydrant', 'stop sign', 'parking meter', 'bench', 'bird', 'cat', 'dog', 'horse', 'sheep', 'cow', 'elephant', 'bear', 'zebra', 'giraffe', 'backpack', 'umbrella', 'handbag', 'tie', 'suitcase', 'frisbee', 'skis', 'snowboard', 'sports ball', 'kite', 'baseball bat', 'baseball glove', 'skateboard', 'surfboard', 'tennis racket', 'bottle', 'wine glass', 'cup', 'fork', 'knife', 'spoon', 'bowl', 'banana', 'apple', 'sandwich', 'orange', 'broccoli', 'carrot', 'hot dog', 'pizza', 'donut', 'cake', 'chair', 'couch', 'potted plant', 'bed', 'dining table', 'toilet', 'tv', 'laptop', 'mouse', 'remote', 'keyboard', 'cell phone', 'microwave', 'oven', 'toaster', 'sink', 'refrigerator', 'book', 'clock', 'vase', 'scissors', 'teddy bear', 'hair drier', 'toothbrush']"
      ]
     },
     "execution_count": 49,
     "metadata": {},
     "output_type": "execute_result"
    }
   ],
   "source": [
    "dataset = dm.Dataset.import_from('coco_dataset', format='coco_instances')\n",
    "\n",
    "print('Representation for sample COCO dataset')\n",
    "dataset"
   ]
  },
  {
   "cell_type": "code",
   "execution_count": 50,
   "id": "d38cfc9b",
   "metadata": {
    "scrolled": true
   },
   "outputs": [
    {
     "name": "stdout",
     "output_type": "stream",
     "text": [
      "Subset candidates: ['val2017', 'train2017']\n"
     ]
    }
   ],
   "source": [
    "subsets = list(dataset.subsets().keys())\n",
    "print(\"Subset candidates:\", subsets)\n",
    "\n",
    "def get_ids(dataset: dm.Dataset, subset: str):\n",
    "    ids = []\n",
    "    for item in dataset:\n",
    "        if item.subset == subset:\n",
    "            ids += [item.id]\n",
    "    \n",
    "    return ids\n",
    "\n",
    "ids = get_ids(dataset, subsets[0])"
   ]
  },
  {
   "cell_type": "markdown",
   "id": "db0e0346",
   "metadata": {},
   "source": [
    "In VOC dataset, there are 'train' and 'test' subset. We will filter only 'train' subset."
   ]
  },
  {
   "cell_type": "code",
   "execution_count": 35,
   "id": "51bf3388",
   "metadata": {},
   "outputs": [],
   "source": [
    "# dataset.transform(\"masks_to_polygons\")\n",
    "reindexing_dataset = dataset.transform(\"reindex\", start=0)\n",
    "\n",
    "ids = get_ids(reindexing_dataset, subsets[0])"
   ]
  },
  {
   "cell_type": "code",
   "execution_count": 37,
   "id": "fb608396",
   "metadata": {
    "scrolled": true
   },
   "outputs": [
    {
     "name": "stdout",
     "output_type": "stream",
     "text": [
      "Dataset\n",
      "\tsize=123287\n",
      "\tsource_path=coco_dataset\n",
      "\tmedia_type=<class 'datumaro.components.media.Image'>\n",
      "\tannotated_items_count=122218\n",
      "\tannotations_count=1018861\n",
      "subsets\n",
      "\ttrain2017: # of items=118287, # of annotated items=117266, # of annotations=976995, annotation types=['polygon', 'mask']\n",
      "\tval2017: # of items=5000, # of annotated items=4952, # of annotations=41866, annotation types=['polygon', 'mask']\n",
      "categories\n",
      "\tlabel: ['person', 'bicycle', 'car', 'motorcycle', 'airplane', 'bus', 'train', 'truck', 'boat', 'traffic light', 'fire hydrant', 'stop sign', 'parking meter', 'bench', 'bird', 'cat', 'dog', 'horse', 'sheep', 'cow', 'elephant', 'bear', 'zebra', 'giraffe', 'backpack', 'umbrella', 'handbag', 'tie', 'suitcase', 'frisbee', 'skis', 'snowboard', 'sports ball', 'kite', 'baseball bat', 'baseball glove', 'skateboard', 'surfboard', 'tennis racket', 'bottle', 'wine glass', 'cup', 'fork', 'knife', 'spoon', 'bowl', 'banana', 'apple', 'sandwich', 'orange', 'broccoli', 'carrot', 'hot dog', 'pizza', 'donut', 'cake', 'chair', 'couch', 'potted plant', 'bed', 'dining table', 'toilet', 'tv', 'laptop', 'mouse', 'remote', 'keyboard', 'cell phone', 'microwave', 'oven', 'toaster', 'sink', 'refrigerator', 'book', 'clock', 'vase', 'scissors', 'teddy bear', 'hair drier', 'toothbrush']\n",
      "\n"
     ]
    }
   ],
   "source": [
    "rollback_dataset = dataset.transform(\"id_from_image_name\")\n",
    "\n",
    "ids = get_ids(rollback_dataset, subsets[0])\n",
    "print(dataset)"
   ]
  },
  {
   "cell_type": "code",
   "execution_count": 48,
   "id": "a2515d03",
   "metadata": {},
   "outputs": [
    {
     "ename": "TypeError",
     "evalue": "__init__() got an unexpected keyword argument 'regex'",
     "output_type": "error",
     "traceback": [
      "\u001b[0;31m---------------------------------------------------------------------------\u001b[0m",
      "\u001b[0;31mTypeError\u001b[0m                                 Traceback (most recent call last)",
      "File \u001b[0;32m~/anaconda3/envs/datum/lib/python3.8/site-packages/IPython/core/formatters.py:706\u001b[0m, in \u001b[0;36mPlainTextFormatter.__call__\u001b[0;34m(self, obj)\u001b[0m\n\u001b[1;32m    699\u001b[0m stream \u001b[39m=\u001b[39m StringIO()\n\u001b[1;32m    700\u001b[0m printer \u001b[39m=\u001b[39m pretty\u001b[39m.\u001b[39mRepresentationPrinter(stream, \u001b[39mself\u001b[39m\u001b[39m.\u001b[39mverbose,\n\u001b[1;32m    701\u001b[0m     \u001b[39mself\u001b[39m\u001b[39m.\u001b[39mmax_width, \u001b[39mself\u001b[39m\u001b[39m.\u001b[39mnewline,\n\u001b[1;32m    702\u001b[0m     max_seq_length\u001b[39m=\u001b[39m\u001b[39mself\u001b[39m\u001b[39m.\u001b[39mmax_seq_length,\n\u001b[1;32m    703\u001b[0m     singleton_pprinters\u001b[39m=\u001b[39m\u001b[39mself\u001b[39m\u001b[39m.\u001b[39msingleton_printers,\n\u001b[1;32m    704\u001b[0m     type_pprinters\u001b[39m=\u001b[39m\u001b[39mself\u001b[39m\u001b[39m.\u001b[39mtype_printers,\n\u001b[1;32m    705\u001b[0m     deferred_pprinters\u001b[39m=\u001b[39m\u001b[39mself\u001b[39m\u001b[39m.\u001b[39mdeferred_printers)\n\u001b[0;32m--> 706\u001b[0m printer\u001b[39m.\u001b[39;49mpretty(obj)\n\u001b[1;32m    707\u001b[0m printer\u001b[39m.\u001b[39mflush()\n\u001b[1;32m    708\u001b[0m \u001b[39mreturn\u001b[39;00m stream\u001b[39m.\u001b[39mgetvalue()\n",
      "File \u001b[0;32m~/anaconda3/envs/datum/lib/python3.8/site-packages/IPython/lib/pretty.py:410\u001b[0m, in \u001b[0;36mRepresentationPrinter.pretty\u001b[0;34m(self, obj)\u001b[0m\n\u001b[1;32m    407\u001b[0m                         \u001b[39mreturn\u001b[39;00m meth(obj, \u001b[39mself\u001b[39m, cycle)\n\u001b[1;32m    408\u001b[0m                 \u001b[39mif\u001b[39;00m \u001b[39mcls\u001b[39m \u001b[39mis\u001b[39;00m \u001b[39mnot\u001b[39;00m \u001b[39mobject\u001b[39m \\\n\u001b[1;32m    409\u001b[0m                         \u001b[39mand\u001b[39;00m callable(\u001b[39mcls\u001b[39m\u001b[39m.\u001b[39m\u001b[39m__dict__\u001b[39m\u001b[39m.\u001b[39mget(\u001b[39m'\u001b[39m\u001b[39m__repr__\u001b[39m\u001b[39m'\u001b[39m)):\n\u001b[0;32m--> 410\u001b[0m                     \u001b[39mreturn\u001b[39;00m _repr_pprint(obj, \u001b[39mself\u001b[39;49m, cycle)\n\u001b[1;32m    412\u001b[0m     \u001b[39mreturn\u001b[39;00m _default_pprint(obj, \u001b[39mself\u001b[39m, cycle)\n\u001b[1;32m    413\u001b[0m \u001b[39mfinally\u001b[39;00m:\n",
      "File \u001b[0;32m~/anaconda3/envs/datum/lib/python3.8/site-packages/IPython/lib/pretty.py:778\u001b[0m, in \u001b[0;36m_repr_pprint\u001b[0;34m(obj, p, cycle)\u001b[0m\n\u001b[1;32m    776\u001b[0m \u001b[39m\"\"\"A pprint that just redirects to the normal repr function.\"\"\"\u001b[39;00m\n\u001b[1;32m    777\u001b[0m \u001b[39m# Find newlines and replace them with p.break_()\u001b[39;00m\n\u001b[0;32m--> 778\u001b[0m output \u001b[39m=\u001b[39m \u001b[39mrepr\u001b[39;49m(obj)\n\u001b[1;32m    779\u001b[0m lines \u001b[39m=\u001b[39m output\u001b[39m.\u001b[39msplitlines()\n\u001b[1;32m    780\u001b[0m \u001b[39mwith\u001b[39;00m p\u001b[39m.\u001b[39mgroup():\n",
      "File \u001b[0;32m~/anaconda3/envs/datum/lib/python3.8/site-packages/datumaro-0.3.1-py3.8.egg/datumaro/components/dataset.py:845\u001b[0m, in \u001b[0;36mDataset.__repr__\u001b[0;34m(self)\u001b[0m\n\u001b[1;32m    842\u001b[0m \u001b[39mdef\u001b[39;00m \u001b[39m__repr__\u001b[39m(\u001b[39mself\u001b[39m) \u001b[39m-\u001b[39m\u001b[39m>\u001b[39m \u001b[39mstr\u001b[39m:\n\u001b[1;32m    843\u001b[0m     separator \u001b[39m=\u001b[39m \u001b[39m\"\u001b[39m\u001b[39m\\t\u001b[39;00m\u001b[39m\"\u001b[39m\n\u001b[1;32m    844\u001b[0m     \u001b[39mreturn\u001b[39;00m (\n\u001b[0;32m--> 845\u001b[0m         \u001b[39mf\u001b[39m\u001b[39m\"\u001b[39m\u001b[39mDataset\u001b[39m\u001b[39m\\n\u001b[39;00m\u001b[39m\"\u001b[39m\n\u001b[1;32m    846\u001b[0m         \u001b[39mf\u001b[39m\u001b[39m\"\u001b[39m\u001b[39m\\t\u001b[39;00m\u001b[39msize=\u001b[39m\u001b[39m{\u001b[39;00m\u001b[39mlen\u001b[39m(\u001b[39mself\u001b[39m\u001b[39m.\u001b[39m_data)\u001b[39m}\u001b[39;00m\u001b[39m\\n\u001b[39;00m\u001b[39m\"\u001b[39m\n\u001b[1;32m    847\u001b[0m         \u001b[39mf\u001b[39m\u001b[39m\"\u001b[39m\u001b[39m\\t\u001b[39;00m\u001b[39msource_path=\u001b[39m\u001b[39m{\u001b[39;00m\u001b[39mself\u001b[39m\u001b[39m.\u001b[39m_source_path\u001b[39m}\u001b[39;00m\u001b[39m\\n\u001b[39;00m\u001b[39m\"\u001b[39m\n\u001b[1;32m    848\u001b[0m         \u001b[39mf\u001b[39m\u001b[39m\"\u001b[39m\u001b[39m\\t\u001b[39;00m\u001b[39mmedia_type=\u001b[39m\u001b[39m{\u001b[39;00m\u001b[39mself\u001b[39m\u001b[39m.\u001b[39mmedia_type()\u001b[39m}\u001b[39;00m\u001b[39m\\n\u001b[39;00m\u001b[39m\"\u001b[39m\n\u001b[1;32m    849\u001b[0m         \u001b[39mf\u001b[39m\u001b[39m\"\u001b[39m\u001b[39m\\t\u001b[39;00m\u001b[39mannotated_items_count=\u001b[39m\u001b[39m{\u001b[39;00m\u001b[39mself\u001b[39m\u001b[39m.\u001b[39mget_annotated_items()\u001b[39m}\u001b[39;00m\u001b[39m\\n\u001b[39;00m\u001b[39m\"\u001b[39m\n\u001b[1;32m    850\u001b[0m         \u001b[39mf\u001b[39m\u001b[39m\"\u001b[39m\u001b[39m\\t\u001b[39;00m\u001b[39mannotations_count=\u001b[39m\u001b[39m{\u001b[39;00m\u001b[39mself\u001b[39m\u001b[39m.\u001b[39mget_annotations()\u001b[39m}\u001b[39;00m\u001b[39m\\n\u001b[39;00m\u001b[39m\"\u001b[39m\n\u001b[1;32m    851\u001b[0m         \u001b[39mf\u001b[39m\u001b[39m\"\u001b[39m\u001b[39msubsets\u001b[39m\u001b[39m\\n\u001b[39;00m\u001b[39m\"\u001b[39m\n\u001b[1;32m    852\u001b[0m         \u001b[39mf\u001b[39m\u001b[39m\"\u001b[39m\u001b[39m\\t\u001b[39;00m\u001b[39m{\u001b[39;00mseparator\u001b[39m.\u001b[39mjoin(\u001b[39mself\u001b[39m\u001b[39m.\u001b[39mget_subset_info())\u001b[39m}\u001b[39;00m\u001b[39m\"\u001b[39m\n\u001b[1;32m    853\u001b[0m         \u001b[39mf\u001b[39m\u001b[39m\"\u001b[39m\u001b[39mcategories\u001b[39m\u001b[39m\\n\u001b[39;00m\u001b[39m\"\u001b[39m\n\u001b[1;32m    854\u001b[0m         \u001b[39mf\u001b[39m\u001b[39m\"\u001b[39m\u001b[39m\\t\u001b[39;00m\u001b[39m{\u001b[39;00mseparator\u001b[39m.\u001b[39mjoin(\u001b[39mself\u001b[39m\u001b[39m.\u001b[39mget_categories_info())\u001b[39m}\u001b[39;00m\u001b[39m\"\u001b[39m\n\u001b[1;32m    855\u001b[0m     )\n",
      "File \u001b[0;32m~/anaconda3/envs/datum/lib/python3.8/site-packages/datumaro-0.3.1-py3.8.egg/datumaro/components/dataset.py:570\u001b[0m, in \u001b[0;36mDatasetStorage.__len__\u001b[0;34m(self)\u001b[0m\n\u001b[1;32m    568\u001b[0m \u001b[39mdef\u001b[39;00m \u001b[39m__len__\u001b[39m(\u001b[39mself\u001b[39m) \u001b[39m-\u001b[39m\u001b[39m>\u001b[39m \u001b[39mint\u001b[39m:\n\u001b[1;32m    569\u001b[0m     \u001b[39mif\u001b[39;00m \u001b[39mself\u001b[39m\u001b[39m.\u001b[39m_length \u001b[39mis\u001b[39;00m \u001b[39mNone\u001b[39;00m:\n\u001b[0;32m--> 570\u001b[0m         \u001b[39mself\u001b[39;49m\u001b[39m.\u001b[39;49minit_cache()\n\u001b[1;32m    571\u001b[0m     \u001b[39mreturn\u001b[39;00m \u001b[39mself\u001b[39m\u001b[39m.\u001b[39m_length\n",
      "File \u001b[0;32m~/anaconda3/envs/datum/lib/python3.8/site-packages/datumaro-0.3.1-py3.8.egg/datumaro/components/dataset.py:364\u001b[0m, in \u001b[0;36mDatasetStorage.init_cache\u001b[0;34m(self)\u001b[0m\n\u001b[1;32m    362\u001b[0m \u001b[39mdef\u001b[39;00m \u001b[39minit_cache\u001b[39m(\u001b[39mself\u001b[39m):\n\u001b[1;32m    363\u001b[0m     \u001b[39mif\u001b[39;00m \u001b[39mnot\u001b[39;00m \u001b[39mself\u001b[39m\u001b[39m.\u001b[39mis_cache_initialized():\n\u001b[0;32m--> 364\u001b[0m         \u001b[39mfor\u001b[39;00m _ \u001b[39min\u001b[39;00m \u001b[39mself\u001b[39m\u001b[39m.\u001b[39m_iter_init_cache():\n\u001b[1;32m    365\u001b[0m             \u001b[39mpass\u001b[39;00m\n",
      "File \u001b[0;32m~/anaconda3/envs/datum/lib/python3.8/site-packages/datumaro-0.3.1-py3.8.egg/datumaro/components/dataset.py:371\u001b[0m, in \u001b[0;36mDatasetStorage._iter_init_cache\u001b[0;34m(self)\u001b[0m\n\u001b[1;32m    367\u001b[0m \u001b[39mdef\u001b[39;00m \u001b[39m_iter_init_cache\u001b[39m(\u001b[39mself\u001b[39m) \u001b[39m-\u001b[39m\u001b[39m>\u001b[39m Iterable[DatasetItem]:\n\u001b[1;32m    368\u001b[0m     \u001b[39mtry\u001b[39;00m:\n\u001b[1;32m    369\u001b[0m         \u001b[39m# Can't just return from the method, because it won't add exception handling\u001b[39;00m\n\u001b[1;32m    370\u001b[0m         \u001b[39m# It covers cases when we save the null error handler in the source\u001b[39;00m\n\u001b[0;32m--> 371\u001b[0m         \u001b[39mfor\u001b[39;00m item \u001b[39min\u001b[39;00m \u001b[39mself\u001b[39m\u001b[39m.\u001b[39m_iter_init_cache_unchecked():\n\u001b[1;32m    372\u001b[0m             \u001b[39myield\u001b[39;00m item\n\u001b[1;32m    373\u001b[0m     \u001b[39mexcept\u001b[39;00m _ImportFail \u001b[39mas\u001b[39;00m e:\n",
      "File \u001b[0;32m~/anaconda3/envs/datum/lib/python3.8/site-packages/datumaro-0.3.1-py3.8.egg/datumaro/components/dataset.py:451\u001b[0m, in \u001b[0;36mDatasetStorage._iter_init_cache_unchecked\u001b[0;34m(self)\u001b[0m\n\u001b[1;32m    448\u001b[0m transform \u001b[39m=\u001b[39m \u001b[39mNone\u001b[39;00m\n\u001b[1;32m    450\u001b[0m \u001b[39mif\u001b[39;00m \u001b[39mself\u001b[39m\u001b[39m.\u001b[39m_transforms:\n\u001b[0;32m--> 451\u001b[0m     transform \u001b[39m=\u001b[39m _StackedTransform(source, \u001b[39mself\u001b[39;49m\u001b[39m.\u001b[39;49m_transforms)\n\u001b[1;32m    452\u001b[0m     \u001b[39mif\u001b[39;00m transform\u001b[39m.\u001b[39mis_local:\n\u001b[1;32m    453\u001b[0m         \u001b[39m# An optimized way to find modified items:\u001b[39;00m\n\u001b[1;32m    454\u001b[0m         \u001b[39m# Transform items inplace and analyze transform outputs\u001b[39;00m\n\u001b[1;32m    455\u001b[0m         \u001b[39mpass\u001b[39;00m\n",
      "File \u001b[0;32m~/anaconda3/envs/datum/lib/python3.8/site-packages/datumaro-0.3.1-py3.8.egg/datumaro/components/dataset.py:401\u001b[0m, in \u001b[0;36mDatasetStorage._iter_init_cache_unchecked.<locals>._StackedTransform.__init__\u001b[0;34m(self, source, transforms)\u001b[0m\n\u001b[1;32m    399\u001b[0m \u001b[39mself\u001b[39m\u001b[39m.\u001b[39mtransforms: List[Transform] \u001b[39m=\u001b[39m []\n\u001b[1;32m    400\u001b[0m \u001b[39mfor\u001b[39;00m transform \u001b[39min\u001b[39;00m transforms:\n\u001b[0;32m--> 401\u001b[0m     source \u001b[39m=\u001b[39m transform[\u001b[39m0\u001b[39;49m](source, \u001b[39m*\u001b[39;49mtransform[\u001b[39m1\u001b[39;49m], \u001b[39m*\u001b[39;49m\u001b[39m*\u001b[39;49mtransform[\u001b[39m2\u001b[39;49m])\n\u001b[1;32m    402\u001b[0m     \u001b[39mself\u001b[39m\u001b[39m.\u001b[39mtransforms\u001b[39m.\u001b[39mappend(source)\n\u001b[1;32m    404\u001b[0m     \u001b[39mif\u001b[39;00m \u001b[39mself\u001b[39m\u001b[39m.\u001b[39mis_local \u001b[39mand\u001b[39;00m \u001b[39mnot\u001b[39;00m \u001b[39misinstance\u001b[39m(source, ItemTransform):\n",
      "\u001b[0;31mTypeError\u001b[0m: __init__() got an unexpected keyword argument 'regex'"
     ]
    }
   ],
   "source": [
    "mapping = {\"motorcycle\": \"bicycle\", \"bus\": \"car\", \"truck\": \"car\"}\n",
    "remap_label_dataset = dataset.transform(\"remap_labels\", mapping=mapping)\n",
    "remap_label_dataset"
   ]
  },
  {
   "cell_type": "code",
   "execution_count": 51,
   "id": "d0bcd69e",
   "metadata": {},
   "outputs": [
    {
     "name": "stdout",
     "output_type": "stream",
     "text": [
      "Dataset\n",
      "\tsize=123287\n",
      "\tsource_path=coco_dataset\n",
      "\tmedia_type=<class 'datumaro.components.media.Image'>\n",
      "\tannotated_items_count=122218\n",
      "\tannotations_count=1018861\n",
      "subsets\n",
      "\ttrain2017: # of items=118287, # of annotated items=117266, # of annotations=976995, annotation types=['polygon', 'mask']\n",
      "\tval2017: # of items=5000, # of annotated items=4952, # of annotations=41866, annotation types=['polygon', 'mask']\n",
      "categories\n",
      "\tlabel: ['person', 'bicycle', 'car', 'motorcycle', 'airplane', 'bus', 'train', 'truck', 'boat', 'traffic light', 'fire hydrant', 'stop sign', 'parking meter', 'bench', 'bird', 'cat', 'dog', 'horse', 'sheep', 'cow', 'elephant', 'bear', 'zebra', 'giraffe', 'backpack', 'umbrella', 'handbag', 'tie', 'suitcase', 'frisbee', 'skis', 'snowboard', 'sports ball', 'kite', 'baseball bat', 'baseball glove', 'skateboard', 'surfboard', 'tennis racket', 'bottle', 'wine glass', 'cup', 'fork', 'knife', 'spoon', 'bowl', 'banana', 'apple', 'sandwich', 'orange', 'broccoli', 'carrot', 'hot dog', 'pizza', 'donut', 'cake', 'chair', 'couch', 'potted plant', 'bed', 'dining table', 'toilet', 'tv', 'laptop', 'mouse', 'remote', 'keyboard', 'cell phone', 'microwave', 'oven', 'toaster', 'sink', 'refrigerator', 'book', 'clock', 'vase', 'scissors', 'teddy bear', 'hair drier', 'toothbrush']\n",
      "\n"
     ]
    }
   ],
   "source": [
    "print(dataset)"
   ]
  },
  {
   "cell_type": "code",
   "execution_count": 45,
   "id": "96a8e001",
   "metadata": {},
   "outputs": [
    {
     "ename": "TypeError",
     "evalue": "__init__() got an unexpected keyword argument 'regex'",
     "output_type": "error",
     "traceback": [
      "\u001b[0;31m---------------------------------------------------------------------------\u001b[0m",
      "\u001b[0;31mTypeError\u001b[0m                                 Traceback (most recent call last)",
      "Cell \u001b[0;32mIn [45], line 3\u001b[0m\n\u001b[1;32m      1\u001b[0m strr \u001b[39m=\u001b[39m \u001b[39m'\u001b[39m\u001b[39m|\u001b[39m\u001b[39m\\1\u001b[39;00m\u001b[39m|^image_|\u001b[39m\u001b[39m'\u001b[39m\n\u001b[1;32m      2\u001b[0m renamed_dataset \u001b[39m=\u001b[39m dataset\u001b[39m.\u001b[39mtransform(\u001b[39m\"\u001b[39m\u001b[39mrename\u001b[39m\u001b[39m\"\u001b[39m, regex\u001b[39m=\u001b[39mstrr)\n\u001b[0;32m----> 3\u001b[0m \u001b[39mprint\u001b[39;49m(renamed_dataset)\n\u001b[1;32m      5\u001b[0m \u001b[39m# ids = get_ids(dataset, subsets[0])\u001b[39;00m\n\u001b[1;32m      6\u001b[0m \u001b[39m# print('val2017', ids)\u001b[39;00m\n",
      "File \u001b[0;32m~/anaconda3/envs/datum/lib/python3.8/site-packages/datumaro-0.3.1-py3.8.egg/datumaro/components/dataset.py:845\u001b[0m, in \u001b[0;36mDataset.__repr__\u001b[0;34m(self)\u001b[0m\n\u001b[1;32m    842\u001b[0m \u001b[39mdef\u001b[39;00m \u001b[39m__repr__\u001b[39m(\u001b[39mself\u001b[39m) \u001b[39m-\u001b[39m\u001b[39m>\u001b[39m \u001b[39mstr\u001b[39m:\n\u001b[1;32m    843\u001b[0m     separator \u001b[39m=\u001b[39m \u001b[39m\"\u001b[39m\u001b[39m\\t\u001b[39;00m\u001b[39m\"\u001b[39m\n\u001b[1;32m    844\u001b[0m     \u001b[39mreturn\u001b[39;00m (\n\u001b[0;32m--> 845\u001b[0m         \u001b[39mf\u001b[39m\u001b[39m\"\u001b[39m\u001b[39mDataset\u001b[39m\u001b[39m\\n\u001b[39;00m\u001b[39m\"\u001b[39m\n\u001b[1;32m    846\u001b[0m         \u001b[39mf\u001b[39m\u001b[39m\"\u001b[39m\u001b[39m\\t\u001b[39;00m\u001b[39msize=\u001b[39m\u001b[39m{\u001b[39;00m\u001b[39mlen\u001b[39m(\u001b[39mself\u001b[39m\u001b[39m.\u001b[39m_data)\u001b[39m}\u001b[39;00m\u001b[39m\\n\u001b[39;00m\u001b[39m\"\u001b[39m\n\u001b[1;32m    847\u001b[0m         \u001b[39mf\u001b[39m\u001b[39m\"\u001b[39m\u001b[39m\\t\u001b[39;00m\u001b[39msource_path=\u001b[39m\u001b[39m{\u001b[39;00m\u001b[39mself\u001b[39m\u001b[39m.\u001b[39m_source_path\u001b[39m}\u001b[39;00m\u001b[39m\\n\u001b[39;00m\u001b[39m\"\u001b[39m\n\u001b[1;32m    848\u001b[0m         \u001b[39mf\u001b[39m\u001b[39m\"\u001b[39m\u001b[39m\\t\u001b[39;00m\u001b[39mmedia_type=\u001b[39m\u001b[39m{\u001b[39;00m\u001b[39mself\u001b[39m\u001b[39m.\u001b[39mmedia_type()\u001b[39m}\u001b[39;00m\u001b[39m\\n\u001b[39;00m\u001b[39m\"\u001b[39m\n\u001b[1;32m    849\u001b[0m         \u001b[39mf\u001b[39m\u001b[39m\"\u001b[39m\u001b[39m\\t\u001b[39;00m\u001b[39mannotated_items_count=\u001b[39m\u001b[39m{\u001b[39;00m\u001b[39mself\u001b[39m\u001b[39m.\u001b[39mget_annotated_items()\u001b[39m}\u001b[39;00m\u001b[39m\\n\u001b[39;00m\u001b[39m\"\u001b[39m\n\u001b[1;32m    850\u001b[0m         \u001b[39mf\u001b[39m\u001b[39m\"\u001b[39m\u001b[39m\\t\u001b[39;00m\u001b[39mannotations_count=\u001b[39m\u001b[39m{\u001b[39;00m\u001b[39mself\u001b[39m\u001b[39m.\u001b[39mget_annotations()\u001b[39m}\u001b[39;00m\u001b[39m\\n\u001b[39;00m\u001b[39m\"\u001b[39m\n\u001b[1;32m    851\u001b[0m         \u001b[39mf\u001b[39m\u001b[39m\"\u001b[39m\u001b[39msubsets\u001b[39m\u001b[39m\\n\u001b[39;00m\u001b[39m\"\u001b[39m\n\u001b[1;32m    852\u001b[0m         \u001b[39mf\u001b[39m\u001b[39m\"\u001b[39m\u001b[39m\\t\u001b[39;00m\u001b[39m{\u001b[39;00mseparator\u001b[39m.\u001b[39mjoin(\u001b[39mself\u001b[39m\u001b[39m.\u001b[39mget_subset_info())\u001b[39m}\u001b[39;00m\u001b[39m\"\u001b[39m\n\u001b[1;32m    853\u001b[0m         \u001b[39mf\u001b[39m\u001b[39m\"\u001b[39m\u001b[39mcategories\u001b[39m\u001b[39m\\n\u001b[39;00m\u001b[39m\"\u001b[39m\n\u001b[1;32m    854\u001b[0m         \u001b[39mf\u001b[39m\u001b[39m\"\u001b[39m\u001b[39m\\t\u001b[39;00m\u001b[39m{\u001b[39;00mseparator\u001b[39m.\u001b[39mjoin(\u001b[39mself\u001b[39m\u001b[39m.\u001b[39mget_categories_info())\u001b[39m}\u001b[39;00m\u001b[39m\"\u001b[39m\n\u001b[1;32m    855\u001b[0m     )\n",
      "File \u001b[0;32m~/anaconda3/envs/datum/lib/python3.8/site-packages/datumaro-0.3.1-py3.8.egg/datumaro/components/dataset.py:570\u001b[0m, in \u001b[0;36mDatasetStorage.__len__\u001b[0;34m(self)\u001b[0m\n\u001b[1;32m    568\u001b[0m \u001b[39mdef\u001b[39;00m \u001b[39m__len__\u001b[39m(\u001b[39mself\u001b[39m) \u001b[39m-\u001b[39m\u001b[39m>\u001b[39m \u001b[39mint\u001b[39m:\n\u001b[1;32m    569\u001b[0m     \u001b[39mif\u001b[39;00m \u001b[39mself\u001b[39m\u001b[39m.\u001b[39m_length \u001b[39mis\u001b[39;00m \u001b[39mNone\u001b[39;00m:\n\u001b[0;32m--> 570\u001b[0m         \u001b[39mself\u001b[39;49m\u001b[39m.\u001b[39;49minit_cache()\n\u001b[1;32m    571\u001b[0m     \u001b[39mreturn\u001b[39;00m \u001b[39mself\u001b[39m\u001b[39m.\u001b[39m_length\n",
      "File \u001b[0;32m~/anaconda3/envs/datum/lib/python3.8/site-packages/datumaro-0.3.1-py3.8.egg/datumaro/components/dataset.py:364\u001b[0m, in \u001b[0;36mDatasetStorage.init_cache\u001b[0;34m(self)\u001b[0m\n\u001b[1;32m    362\u001b[0m \u001b[39mdef\u001b[39;00m \u001b[39minit_cache\u001b[39m(\u001b[39mself\u001b[39m):\n\u001b[1;32m    363\u001b[0m     \u001b[39mif\u001b[39;00m \u001b[39mnot\u001b[39;00m \u001b[39mself\u001b[39m\u001b[39m.\u001b[39mis_cache_initialized():\n\u001b[0;32m--> 364\u001b[0m         \u001b[39mfor\u001b[39;00m _ \u001b[39min\u001b[39;00m \u001b[39mself\u001b[39m\u001b[39m.\u001b[39m_iter_init_cache():\n\u001b[1;32m    365\u001b[0m             \u001b[39mpass\u001b[39;00m\n",
      "File \u001b[0;32m~/anaconda3/envs/datum/lib/python3.8/site-packages/datumaro-0.3.1-py3.8.egg/datumaro/components/dataset.py:371\u001b[0m, in \u001b[0;36mDatasetStorage._iter_init_cache\u001b[0;34m(self)\u001b[0m\n\u001b[1;32m    367\u001b[0m \u001b[39mdef\u001b[39;00m \u001b[39m_iter_init_cache\u001b[39m(\u001b[39mself\u001b[39m) \u001b[39m-\u001b[39m\u001b[39m>\u001b[39m Iterable[DatasetItem]:\n\u001b[1;32m    368\u001b[0m     \u001b[39mtry\u001b[39;00m:\n\u001b[1;32m    369\u001b[0m         \u001b[39m# Can't just return from the method, because it won't add exception handling\u001b[39;00m\n\u001b[1;32m    370\u001b[0m         \u001b[39m# It covers cases when we save the null error handler in the source\u001b[39;00m\n\u001b[0;32m--> 371\u001b[0m         \u001b[39mfor\u001b[39;00m item \u001b[39min\u001b[39;00m \u001b[39mself\u001b[39m\u001b[39m.\u001b[39m_iter_init_cache_unchecked():\n\u001b[1;32m    372\u001b[0m             \u001b[39myield\u001b[39;00m item\n\u001b[1;32m    373\u001b[0m     \u001b[39mexcept\u001b[39;00m _ImportFail \u001b[39mas\u001b[39;00m e:\n",
      "File \u001b[0;32m~/anaconda3/envs/datum/lib/python3.8/site-packages/datumaro-0.3.1-py3.8.egg/datumaro/components/dataset.py:451\u001b[0m, in \u001b[0;36mDatasetStorage._iter_init_cache_unchecked\u001b[0;34m(self)\u001b[0m\n\u001b[1;32m    448\u001b[0m transform \u001b[39m=\u001b[39m \u001b[39mNone\u001b[39;00m\n\u001b[1;32m    450\u001b[0m \u001b[39mif\u001b[39;00m \u001b[39mself\u001b[39m\u001b[39m.\u001b[39m_transforms:\n\u001b[0;32m--> 451\u001b[0m     transform \u001b[39m=\u001b[39m _StackedTransform(source, \u001b[39mself\u001b[39;49m\u001b[39m.\u001b[39;49m_transforms)\n\u001b[1;32m    452\u001b[0m     \u001b[39mif\u001b[39;00m transform\u001b[39m.\u001b[39mis_local:\n\u001b[1;32m    453\u001b[0m         \u001b[39m# An optimized way to find modified items:\u001b[39;00m\n\u001b[1;32m    454\u001b[0m         \u001b[39m# Transform items inplace and analyze transform outputs\u001b[39;00m\n\u001b[1;32m    455\u001b[0m         \u001b[39mpass\u001b[39;00m\n",
      "File \u001b[0;32m~/anaconda3/envs/datum/lib/python3.8/site-packages/datumaro-0.3.1-py3.8.egg/datumaro/components/dataset.py:401\u001b[0m, in \u001b[0;36mDatasetStorage._iter_init_cache_unchecked.<locals>._StackedTransform.__init__\u001b[0;34m(self, source, transforms)\u001b[0m\n\u001b[1;32m    399\u001b[0m \u001b[39mself\u001b[39m\u001b[39m.\u001b[39mtransforms: List[Transform] \u001b[39m=\u001b[39m []\n\u001b[1;32m    400\u001b[0m \u001b[39mfor\u001b[39;00m transform \u001b[39min\u001b[39;00m transforms:\n\u001b[0;32m--> 401\u001b[0m     source \u001b[39m=\u001b[39m transform[\u001b[39m0\u001b[39;49m](source, \u001b[39m*\u001b[39;49mtransform[\u001b[39m1\u001b[39;49m], \u001b[39m*\u001b[39;49m\u001b[39m*\u001b[39;49mtransform[\u001b[39m2\u001b[39;49m])\n\u001b[1;32m    402\u001b[0m     \u001b[39mself\u001b[39m\u001b[39m.\u001b[39mtransforms\u001b[39m.\u001b[39mappend(source)\n\u001b[1;32m    404\u001b[0m     \u001b[39mif\u001b[39;00m \u001b[39mself\u001b[39m\u001b[39m.\u001b[39mis_local \u001b[39mand\u001b[39;00m \u001b[39mnot\u001b[39;00m \u001b[39misinstance\u001b[39m(source, ItemTransform):\n",
      "\u001b[0;31mTypeError\u001b[0m: __init__() got an unexpected keyword argument 'regex'"
     ]
    }
   ],
   "source": [
    "# strr = '|\\1|^image_|'\n",
    "# renamed_dataset = dataset.transform(\"rename\", regex=strr)\n",
    "# print(renamed_dataset)\n",
    "\n",
    "# ids = get_ids(dataset, subsets[0])\n",
    "# print('val2017', ids)"
   ]
  },
  {
   "cell_type": "code",
   "execution_count": 8,
   "id": "4ed4a847",
   "metadata": {},
   "outputs": [],
   "source": [
    "from datumaro.components.visualizer import Visualizer\n",
    "\n",
    "visualizer = Visualizer(dataset, figsize=(8, 8), alpha=0.7)\n",
    "fig = visualizer.vis_gallery(ids[:4], subsets[0], (2, 2))\n",
    "fig.show()"
   ]
  }
 ],
 "metadata": {
  "kernelspec": {
   "display_name": "Python 3.8.13 ('datum')",
   "language": "python",
   "name": "python3"
  },
  "language_info": {
   "codemirror_mode": {
    "name": "ipython",
    "version": 3
   },
   "file_extension": ".py",
   "mimetype": "text/x-python",
   "name": "python",
   "nbconvert_exporter": "python",
   "pygments_lexer": "ipython3",
   "version": "3.8.13"
  },
  "vscode": {
   "interpreter": {
    "hash": "affff79ca1edacbf0919cffebb4fdcbe1cd4dfe1034cbc10ce20b177737f1c41"
   }
  }
 },
 "nbformat": 4,
 "nbformat_minor": 5
}
