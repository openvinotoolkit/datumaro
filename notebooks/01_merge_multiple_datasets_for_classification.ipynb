{
 "cells": [
  {
   "cell_type": "markdown",
   "id": "0c0b77ed",
   "metadata": {},
   "source": [
    "### Merge Multiple Datasets for classification\n",
    "Datumaro supports merging multiple datasets into single dataset.\n",
    "\n",
    "In this document, we import 'mnist' and 'mnist_csv' datasets.\n",
    "Note that their data format is the same as mnist but the data of former is stored as pickle and the latter as csv.\n",
    "Then, we export the merged dataset to single dataset."
   ]
  },
  {
   "cell_type": "code",
   "execution_count": null,
   "id": "7c962a87",
   "metadata": {},
   "outputs": [],
   "source": [
    "# Copyright (C) 2021 Intel Corporation\n",
    "#\n",
    "# SPDX-License-Identifier: MIT\n",
    "\n",
    "import datumaro as dm\n",
    "from datumaro.components.operations import compute_image_statistics"
   ]
  },
  {
   "cell_type": "markdown",
   "id": "3cfdf9ad",
   "metadata": {},
   "source": [
    "We export sample mnist datasets separately.\n",
    "Note that the data format of them are the same."
   ]
  },
  {
   "cell_type": "code",
   "execution_count": null,
   "id": "5a3304c7",
   "metadata": {},
   "outputs": [],
   "source": [
    "dataset_mnist = dm.Dataset.import_from(\"../tests/assets/mnist_dataset\", format=\"mnist\")\n",
    "dataset_mnist_csv = dm.Dataset.import_from(\"../tests/assets/mnist_csv_dataset\", format=\"mnist_csv\")"
   ]
  },
  {
   "cell_type": "markdown",
   "id": "a446da39",
   "metadata": {},
   "source": [
    "If the data formats are the same, we call 'Dataset.from_extractors' to merge them into the one."
   ]
  },
  {
   "cell_type": "code",
   "execution_count": null,
   "id": "87b9749b",
   "metadata": {},
   "outputs": [
    {
     "name": "stdout",
     "output_type": "stream",
     "text": [
      "statistics for the merged mnist dataset\n"
     ]
    },
    {
     "data": {
      "text/plain": [
       "{'dataset': {'images count': 5,\n",
       "  'unique images count': 1,\n",
       "  'repeated images count': 1,\n",
       "  'repeated images': [[('0', 'test'),\n",
       "    ('0', 'train'),\n",
       "    ('1', 'test'),\n",
       "    ('1', 'train'),\n",
       "    ('2', 'test')]]},\n",
       " 'subsets': {'train': {'images count': 2,\n",
       "   'image mean': [0.9999999999999964, 0.9999999999999964, 0.9999999999999964],\n",
       "   'image std': [0.0, 0.0, 0.0]},\n",
       "  'test': {'images count': 3,\n",
       "   'image mean': [0.9999999999999964, 0.9999999999999964, 0.9999999999999964],\n",
       "   'image std': [0.0, 0.0, 0.0]}}}"
      ]
     },
     "execution_count": 10,
     "metadata": {},
     "output_type": "execute_result"
    }
   ],
   "source": [
    "dataset = dm.Dataset.from_extractors(dataset_mnist, dataset_mnist_csv)\n",
    "\n",
    "print(\"statistics for the merged mnist dataset\")\n",
    "compute_image_statistics(dataset)"
   ]
  },
  {
   "cell_type": "markdown",
   "id": "d6eb002f",
   "metadata": {},
   "source": [
    "Then, we can export the merged dataset to a data format you want."
   ]
  },
  {
   "cell_type": "code",
   "execution_count": null,
   "id": "7523015a",
   "metadata": {},
   "outputs": [
    {
     "data": {
      "text/plain": [
       "['batches.meta', 'test', 'train']"
      ]
     },
     "execution_count": 11,
     "metadata": {},
     "output_type": "execute_result"
    }
   ],
   "source": [
    "dataset.export(\"merged_dataset\", \"cifar\")\n",
    "!ls merged_dataset"
   ]
  }
 ],
 "metadata": {
  "kernelspec": {
   "display_name": "Python 3 (ipykernel)",
   "language": "python",
   "name": "python3"
  },
  "language_info": {
   "codemirror_mode": {
    "name": "ipython",
    "version": 3
   },
   "file_extension": ".py",
   "mimetype": "text/x-python",
   "name": "python",
   "nbconvert_exporter": "python",
   "pygments_lexer": "ipython3",
   "version": "3.8.10"
  },
  "vscode": {
   "interpreter": {
    "hash": "2c90c27300db58db001afd16f11e1f7b3963289e57b88abca6a1181a312b2e73"
   }
  }
 },
 "nbformat": 4,
 "nbformat_minor": 5
}
