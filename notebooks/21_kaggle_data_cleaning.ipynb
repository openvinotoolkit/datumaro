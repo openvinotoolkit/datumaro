{
 "cells": [
  {
   "cell_type": "markdown",
   "metadata": {},
   "source": [
    "# Data preparation with Datumaro\n",
    "\n",
    "Datumaro is the open-source data management framework for computer vision and , making easy to import and export along with desired formats. Specifically, Datumaro provides more than 50 public data formats, e.g., MS-COCO, Pascal-VOC, YOLO-Ultralytics, Roboflow, CVAT, Cityscapes, etc. Please refer here for the details.\n",
    "\n",
    "Moreover, Datumaro provides data manipulation functionalities such as filtration, transformation, subset appregation/split. Plus, data visualization and exploration are possible with Datumaro! Please enjoy basic/intermediate/advanced skills at here.\n",
    "\n",
    "We here provide an example to import Corona NLP dataset and convert this to PyTorch dataset directly. After that, we can easily run training and validation for conventional text classification task on PyTorch framework."
   ]
  },
  {
   "cell_type": "markdown",
   "metadata": {},
   "source": [
    "## Install Datumaro package"
   ]
  },
  {
   "cell_type": "markdown",
   "metadata": {},
   "source": [
    "<!-- !pip install datumaro==1.7.0 -->"
   ]
  },
  {
   "cell_type": "markdown",
   "metadata": {},
   "source": [
    "## Import a dataset"
   ]
  },
  {
   "cell_type": "markdown",
   "metadata": {},
   "source": [
    "The dataset is organized in the following directory structure:\n",
    "\n",
    "```\n",
    ".\n",
    "├── Corona_NLP_test.csv\n",
    "└── Corona_NLP_train.csv\n",
    "```\n",
    "\n",
    "In our `corona_nlp` folder, we've got two CSV files: `Corona_NLP_train.csv` and `Corona_NLP_test.csv`. These files hold the training and testing data for our Corona NLP dataset. I used `datumaro` to inspect the dataset directory structure, and it appears that the dataset is in tabular format."
   ]
  },
  {
   "cell_type": "code",
   "execution_count": 1,
   "metadata": {},
   "outputs": [
    {
     "name": "stderr",
     "output_type": "stream",
     "text": [
      "/home/sooah/.pyenv/versions/datum/lib/python3.11/site-packages/tqdm/auto.py:21: TqdmWarning: IProgress not found. Please update jupyter and ipywidgets. See https://ipywidgets.readthedocs.io/en/stable/user_install.html\n",
      "  from .autonotebook import tqdm as notebook_tqdm\n"
     ]
    },
    {
     "data": {
      "text/plain": [
       "['tabular']"
      ]
     },
     "execution_count": 1,
     "metadata": {},
     "output_type": "execute_result"
    }
   ],
   "source": [
    "import datumaro as dm\n",
    "from datumaro.components.environment import DEFAULT_ENVIRONMENT\n",
    "\n",
    "data_path = \"~/data\"\n",
    "detected_formats = DEFAULT_ENVIRONMENT.detect_dataset(data_path)\n",
    "detected_formats"
   ]
  },
  {
   "cell_type": "markdown",
   "metadata": {},
   "source": [
    "To load our dataset using Datumaro, we'll need to specify the encoding as 'latin1' since the dataset is encoded in that format. We'll need to include `import_kwargs` to handle this:"
   ]
  },
  {
   "cell_type": "code",
   "execution_count": 2,
   "metadata": {},
   "outputs": [
    {
     "data": {
      "text/plain": [
       "Dataset\n",
       "\tsize=2000\n",
       "\tsource_path=/home/sooah/data/corona_nlp_1k\n",
       "\tmedia_type=<class 'datumaro.components.media.TableRow'>\n",
       "\tann_types=set()\n",
       "\tannotated_items_count=0\n",
       "\tannotations_count=0\n",
       "subsets\n",
       "\ttest: # of items=1000, # of annotated items=0, # of annotations=0\n",
       "\ttrain: # of items=1000, # of annotated items=0, # of annotations=0\n",
       "infos\n",
       "\tcategories\n",
       "\t14: []"
      ]
     },
     "execution_count": 2,
     "metadata": {},
     "output_type": "execute_result"
    }
   ],
   "source": [
    "import_kwargs = {\"encoding\": \"latin1\"}\n",
    "dm_dataset = dm.Dataset.import_from(data_path, detected_formats[0], **import_kwargs)\n",
    "dm_dataset"
   ]
  },
  {
   "cell_type": "markdown",
   "metadata": {},
   "source": [
    "Based on the information provided,\n",
    "- The total size of the dataset is 44955 items.\n",
    "- The dataset is divided into two subsets:\n",
    "  - The 'Corona_NLP_test' subset contains 3798 items.\n",
    "  - The 'Corona_NLP_train' subset contains 41157 items.\n",
    "\n",
    "This breakdown gives us insight into the scale of our dataset and the distribution of items across its subsets."
   ]
  },
  {
   "cell_type": "markdown",
   "metadata": {},
   "source": [
    "### Setting Input and Output Targets for Sentiment Analysis\n",
    "\n",
    "Moreover, we tried to take sentiment analysis for this dataset, so we have to set input and output targets for the dataset.\n",
    "\n",
    "**For Input (Features)**:\n",
    "- **Original Tweet**: This field contains the content of each tweet. When performing sentiment analysis, text data is used as the input for the model. Each tweet's content is tokenized, preprocessed, and then provided to the model.\n",
    "- **Location (Optional)**: This field represents the location of the user who posted the tweet. Some models can utilize location information as additional features to enhance performance. However, the use of this field is optional and depends on the model.\n",
    "\n",
    "**For Output (Target)**:\n",
    "- **Sentiment**: This field indicates the sentiment of each tweet. The goal of sentiment analysis is to classify the sentiment of text, making this field the output target for the model. Sentiments are typically classified as positive, negative, or neutral, and the model aims to predict them.\n",
    "\n",
    "Therefore, for the input of the sentiment analysis model, we will use the 'OriginalTweet' field to represent the content of each tweet. For the output, we will use the 'Sentiment' field to represent the sentiment of each tweet. The 'Location' field is optional and may or may not be used, depending on the model.\n"
   ]
  },
  {
   "cell_type": "code",
   "execution_count": 3,
   "metadata": {},
   "outputs": [
    {
     "data": {
      "text/plain": [
       "Dataset\n",
       "\tsize=2000\n",
       "\tsource_path=/home/sooah/data/corona_nlp_1k\n",
       "\tmedia_type=<class 'datumaro.components.media.TableRow'>\n",
       "\tann_types={<AnnotationType.tabular: 14>}\n",
       "\tannotated_items_count=2000\n",
       "\tannotations_count=2000\n",
       "subsets\n",
       "\ttest: # of items=1000, # of annotated items=1000, # of annotations=1000\n",
       "\ttrain: # of items=1000, # of annotated items=1000, # of annotations=1000\n",
       "infos\n",
       "\tcategories\n",
       "\t14: ['Sentiment']"
      ]
     },
     "execution_count": 3,
     "metadata": {},
     "output_type": "execute_result"
    }
   ],
   "source": [
    "corona_nlp_target = {\"input\": [\"OriginalTweet\", \"Location\"], \"output\": \"Sentiment\"}\n",
    "dm_dataset = dm.Dataset.import_from(\n",
    "    data_path, detected_formats[0], target=corona_nlp_target, **import_kwargs\n",
    ")\n",
    "dm_dataset"
   ]
  },
  {
   "cell_type": "markdown",
   "metadata": {},
   "source": [
    "It's worth noting that each item in the dataset now includes annotations for the output target we've defined. This means that the dataset has been updated to include annotations corresponding to the target output we've set.\n",
    "\n",
    "By having annotations for the output target, we can track and utilize the labeled sentiment information associated with each data item. This update enhances the dataset's utility for sentiment analysis tasks, allowing for more effective model training and evaluation.\n"
   ]
  },
  {
   "cell_type": "markdown",
   "metadata": {},
   "source": [
    "Now, let's take a peek at the first item in our dataset."
   ]
  },
  {
   "cell_type": "code",
   "execution_count": 4,
   "metadata": {},
   "outputs": [
    {
     "data": {
      "text/plain": [
       "DatasetItem(id='0@test', subset='test', media=TableRow(row_idx:0, data:{'OriginalTweet': 'TRENDING: New Yorkers encounter empty supermarket shelves (pictured, Wegmans in Brooklyn), sold-out online grocers (FoodKick, MaxDelivery) as #coronavirus-fearing shoppers stock up https://t.co/Gr76pcrLWh https://t.co/ivMKMsqdT1', 'Location': 'NYC', 'Sentiment': 'Extremely Negative'}), annotations=[Tabular(id=0, attributes={}, group=0, object_id=-1, values={'Sentiment': 'Extremely Negative'})], attributes={})"
      ]
     },
     "execution_count": 4,
     "metadata": {},
     "output_type": "execute_result"
    }
   ],
   "source": [
    "dm_dataset[0]"
   ]
  },
  {
   "cell_type": "markdown",
   "metadata": {},
   "source": [
    "To check the media of the DatasetItem, we can check like below:"
   ]
  },
  {
   "cell_type": "code",
   "execution_count": 5,
   "metadata": {},
   "outputs": [
    {
     "name": "stdout",
     "output_type": "stream",
     "text": [
      "media :  {'OriginalTweet': 'TRENDING: New Yorkers encounter empty supermarket shelves (pictured, Wegmans in Brooklyn), sold-out online grocers (FoodKick, MaxDelivery) as #coronavirus-fearing shoppers stock up https://t.co/Gr76pcrLWh https://t.co/ivMKMsqdT1', 'Location': 'NYC', 'Sentiment': 'Extremely Negative'}\n",
      "annotations :  [Tabular(id=0, attributes={}, group=0, object_id=-1, values={'Sentiment': 'Extremely Negative'})]\n"
     ]
    }
   ],
   "source": [
    "print(\"media : \", dm_dataset[0].media.data())\n",
    "print(\"annotations : \", dm_dataset[0].annotations)"
   ]
  },
  {
   "cell_type": "markdown",
   "metadata": {},
   "source": [
    "We can confirm that the columns we've designated as output targets are present in the dataset's media. Furthermore, the output targets are stored as annotations within the data.\n",
    "\n",
    "This indicates that the dataset has been structured to include the designated `target` columns in the `media`, and the `output` target information is available as `annotations` associated with each data item.\n"
   ]
  },
  {
   "cell_type": "markdown",
   "metadata": {},
   "source": [
    "### Transforming Dataset Annotations for Sentiment Analysis Task\n",
    "\n",
    "Our objective is to prepare the dataset for sentiment analysis, where sentiment serves as the label. To achieve this, we'll update the annotation type of the dataset items. The current annotation type of 'Tabular' is not ideal for sentiment analysis. Hence, we'll transform the dataset to better suit our task.\n",
    "\n",
    "This transformation step is crucial to ensure that our dataset is properly formatted and ready for sentiment analysis model training and evaluation.\n"
   ]
  },
  {
   "cell_type": "code",
   "execution_count": 6,
   "metadata": {},
   "outputs": [
    {
     "data": {
      "text/plain": [
       "Dataset\n",
       "\tsize=2000\n",
       "\tsource_path=/home/sooah/data/corona_nlp_1k\n",
       "\tmedia_type=<class 'datumaro.components.media.TableRow'>\n",
       "\tann_types={<AnnotationType.label: 1>}\n",
       "\tannotated_items_count=2000\n",
       "\tannotations_count=2000\n",
       "subsets\n",
       "\ttest: # of items=1000, # of annotated items=1000, # of annotations=1000\n",
       "\ttrain: # of items=1000, # of annotated items=1000, # of annotations=1000\n",
       "infos\n",
       "\tcategories\n",
       "\t1: ['Sentiment:Extremely Negative', 'Sentiment:Extremely Positive', 'Sentiment:Negative', 'Sentiment:Neutral', 'Sentiment:Positive']"
      ]
     },
     "execution_count": 6,
     "metadata": {},
     "output_type": "execute_result"
    }
   ],
   "source": [
    "dm_dataset = dm_dataset.transform(\"astype_annotations\")\n",
    "dm_dataset"
   ]
  },
  {
   "cell_type": "code",
   "execution_count": 7,
   "metadata": {},
   "outputs": [
    {
     "name": "stdout",
     "output_type": "stream",
     "text": [
      "annotations :  [Label(id=0, attributes={}, group=0, object_id=-1, label=0)]\n"
     ]
    }
   ],
   "source": [
    "print(\"annotations : \", dm_dataset[0].annotations)"
   ]
  },
  {
   "cell_type": "markdown",
   "metadata": {},
   "source": [
    "We can observe that the sentiment labels have been included in the dataset categories, indicating the presence of sentiment-related labels. This inclusion is crucial as it allows us to understand the categories or classes that the dataset encompasses, particularly in terms of sentiment analysis.\n",
    "\n",
    "Furthermore, we can confirm that these sentiment labels are reflected in the annotations of each dataset item. This ensures that the sentiment information associated with each item has been appropriately integrated into the dataset, laying the groundwork for sentiment analysis tasks.\n"
   ]
  },
  {
   "cell_type": "markdown",
   "metadata": {},
   "source": [
    "### Exploring Dataset Characteristics\n",
    "\n",
    "Having transformed the data as described above, we'll now explore the characteristics of the dataset. To begin, we'll use Datumaro's Validator to understand various features and attributes of the dataset.\n",
    "\n",
    "Using the Validator, we can:\n",
    "- Determine the number of columns included in the dataset and identify the type of each feature.\n",
    "- Check for missing values or outliers, thereby understanding the dataset's structure.\n",
    "- Analyze the distribution of the target variable to identify any class imbalance issues.\n",
    "- Calculate basic statistical measures to understand the central tendency and dispersion of the data.\n",
    "\n",
    "If you want to learn more about the conditions set in the Validator, please check [this link](https://openvinotoolkit.github.io/datumaro/latest/docs/level-up/intermediate_skills/08_data_validate.html).\n",
    "\n",
    "This step will help us gain insights into the structure and properties of our data, setting the stage for effective analysis and modeling."
   ]
  },
  {
   "cell_type": "code",
   "execution_count": 8,
   "metadata": {},
   "outputs": [],
   "source": [
    "from datumaro.plugins.validators import TabularValidator\n",
    "\n",
    "validator = TabularValidator(\n",
    "    few_samples_thr=1,\n",
    "    imbalance_ratio_thr=50,\n",
    "    far_from_mean_thr=5.0,\n",
    "    dominance_ratio_thr=0.8,\n",
    "    topk_bins=0.1,\n",
    ")\n",
    "stats = validator.compute_statistics(dm_dataset)"
   ]
  },
  {
   "cell_type": "markdown",
   "metadata": {},
   "source": [
    "### Dataset Statistics\n",
    "\n",
    "The dataset statistics are as follows:\n",
    "\n",
    "- **Total number of annotations**: This represents the total number of annotations present in the dataset.\n",
    "- **Number of items with no annotations**: This indicates the number of items that do not have any annotations.\n",
    "- **Number of items with some missing annotations**: This shows the number of items that are missing some of their annotations.\n",
    "\n",
    "In Datumaro, annotations are categorized based on their characteristics, such as labels or captions, and their distribution can be analyzed accordingly. For this dataset, since we have set sentiment as the target, only label annotations are present.\n"
   ]
  },
  {
   "cell_type": "code",
   "execution_count": 9,
   "metadata": {},
   "outputs": [
    {
     "name": "stdout",
     "output_type": "stream",
     "text": [
      "Statistics summary\n",
      "Total number of annotation :  2000\n",
      "The number of items without any annotation :  0\n",
      "The number of items with missing annotation :  0\n",
      "\n",
      "\n",
      "Result of label distribution\n",
      "   Sentiment:Extremely Negative  Sentiment:Extremely Positive  \\\n",
      "0                           309                           310   \n",
      "\n",
      "   Sentiment:Negative  Sentiment:Neutral  Sentiment:Positive  \n",
      "0                 568                318                 495  \n",
      "The number of empty label for Sentiment is 0\n",
      "\n",
      "\n"
     ]
    },
    {
     "data": {
      "image/png": "[encoded data removed]",
      "text/plain": [
       "<Figure size 1500x400 with 1 Axes>"
      ]
     },
     "metadata": {},
     "output_type": "display_data"
    }
   ],
   "source": [
    "import pandas as pd\n",
    "import matplotlib.pyplot as plt\n",
    "\n",
    "\n",
    "def show_stats(stats):\n",
    "    print(\"Statistics summary\")\n",
    "\n",
    "    total_ann_count = stats[\"total_ann_count\"]\n",
    "    len_missing_ann_items = len(stats[\"items_missing_annotation\"])\n",
    "    len_broken_ann_items = len(stats[\"items_broken_annotation\"])\n",
    "    print(\"Total number of annotation : \", total_ann_count)\n",
    "    print(\"The number of items without any annotation : \", len_missing_ann_items)\n",
    "    print(\"The number of items with missing annotation : \", len_broken_ann_items)\n",
    "    print(\"\\n\")\n",
    "\n",
    "    defined_labels = stats[\"label_distribution\"][\"defined_labels\"]\n",
    "    if len(defined_labels) != 0:\n",
    "        print(\"Result of label distribution\")\n",
    "        df_defined_labels = pd.DataFrame.from_dict([defined_labels])\n",
    "        print(df_defined_labels)\n",
    "        for key, value in stats[\"label_distribution\"][\"empty_labels\"].items():\n",
    "            print(f\"The number of empty label for {key} is {value['count']}\")\n",
    "    plt.figure(figsize=(15, 4))\n",
    "    plt.title(\"Histogram for label distribution\")\n",
    "    plt.bar(defined_labels.keys(), defined_labels.values())\n",
    "\n",
    "    print(\"\\n\")\n",
    "    defined_captions = stats[\"caption_distribution\"][\"defined_captions\"]\n",
    "    if len(defined_captions) != 0:\n",
    "        print(\"Result of caption distribution\")\n",
    "        df_defined_captions = pd.DataFrame.from_dict([defined_captions])\n",
    "        print(df_defined_captions)\n",
    "        for key, value in stats[\"caption_distribution\"][\"empty_captions\"].items():\n",
    "            print(f\"The number of empty caption for {key} is {value['count']}\")\n",
    "    return\n",
    "\n",
    "\n",
    "show_stats(stats)"
   ]
  },
  {
   "cell_type": "markdown",
   "metadata": {},
   "source": [
    "We can observe that the distribution among classes is uneven, with the 'positive' class having the largest proportion. This detailed statistical overview helps us understand the composition and completeness of the dataset, guiding further analysis and preprocessing steps.\n",
    "\n",
    "Since this dataset has no empty labels, items with missing annotations, or items with broken annotations, the focus should be on cleaning the input data rather than the labels."
   ]
  },
  {
   "cell_type": "code",
   "execution_count": 10,
   "metadata": {},
   "outputs": [
    {
     "data": {
      "text/plain": [
       "{'OriginalTweet': 'TRENDING: New Yorkers encounter empty supermarket shelves (pictured, Wegmans in Brooklyn), sold-out online grocers (FoodKick, MaxDelivery) as #coronavirus-fearing shoppers stock up https://t.co/Gr76pcrLWh https://t.co/ivMKMsqdT1',\n",
       " 'Location': 'NYC',\n",
       " 'Sentiment': 'Extremely Negative'}"
      ]
     },
     "execution_count": 10,
     "metadata": {},
     "output_type": "execute_result"
    }
   ],
   "source": [
    "dm_dataset[0].media.data()"
   ]
  },
  {
   "cell_type": "code",
   "execution_count": 11,
   "metadata": {},
   "outputs": [
    {
     "data": {
      "text/plain": [
       "{'OriginalTweet': '@NileshShah68 I have summarized the most important points from the paper in this thread:\\r\\r\\nhttps://t.co/dTZg4vg8VM',\n",
       " 'Location': 'Hyderabad, India',\n",
       " 'Sentiment': 'Positive'}"
      ]
     },
     "execution_count": 11,
     "metadata": {},
     "output_type": "execute_result"
    }
   ],
   "source": [
    "before = dm_dataset[100].media.data()\n",
    "before"
   ]
  },
  {
   "cell_type": "markdown",
   "metadata": {},
   "source": [
    "Datumaro provides a transform called `clean` that can be used for data cleaning. This transform helps in preparing the dataset for analysis by addressing various data quality issues. The `clean` transform modifies the media of items without validation and simultaneously cleans the annotations. If you want to clean the input media, it is recommended to use the `clean` function.\n",
    "\n",
    "In our case, since the dataset does not have any empty labels, items with missing annotations, or items with broken annotations, we will focus on cleaning the input data. Using the `clean` transform, we can ensure that the input information is properly formatted and free from inconsistencies.\n",
    "\n",
    "This step is crucial to maintain the quality and integrity of the data, which in turn, enhances the performance of the sentiment analysis model."
   ]
  },
  {
   "cell_type": "code",
   "execution_count": 12,
   "metadata": {},
   "outputs": [],
   "source": [
    "result = dm_dataset.transform(\"clean\")"
   ]
  },
  {
   "cell_type": "code",
   "execution_count": 13,
   "metadata": {},
   "outputs": [
    {
     "data": {
      "text/plain": [
       "{'OriginalTweet': 'trending new yorkers encounter empty supermarket shelves pictured wegmans brooklyn soldout online grocers foodkick maxdelivery coronavirusfearing shoppers stock',\n",
       " 'Location': 'nyc',\n",
       " 'Sentiment': 'Extremely Negative'}"
      ]
     },
     "execution_count": 13,
     "metadata": {},
     "output_type": "execute_result"
    }
   ],
   "source": [
    "result[0].media.data"
   ]
  },
  {
   "cell_type": "code",
   "execution_count": 14,
   "metadata": {},
   "outputs": [
    {
     "data": {
      "text/plain": [
       "{'OriginalTweet': 'nileshshah summarized important points paper thread',\n",
       " 'Location': 'hyderabad india',\n",
       " 'Sentiment': 'Positive'}"
      ]
     },
     "execution_count": 14,
     "metadata": {},
     "output_type": "execute_result"
    }
   ],
   "source": [
    "after = result[100].media.data\n",
    "after"
   ]
  },
  {
   "cell_type": "markdown",
   "metadata": {},
   "source": [
    "After applying the `clean` transform, we can observe that the existing input media have been refined. If the same target is included in both the input and the output, the annotations will also be updated accordingly."
   ]
  },
  {
   "cell_type": "code",
   "execution_count": 15,
   "metadata": {},
   "outputs": [
    {
     "name": "stdout",
     "output_type": "stream",
     "text": [
      "Before Clean :  @NileshShah68 I have summarized the most important points from the paper in this thread:\n",
      "https://t.co/dTZg4vg8VM\n",
      "After Clean :  nileshshah summarized important points paper thread\n"
     ]
    }
   ],
   "source": [
    "print(\"Before Clean : \", before[\"OriginalTweet\"])\n",
    "print(\"After Clean : \", after[\"OriginalTweet\"])"
   ]
  },
  {
   "cell_type": "markdown",
   "metadata": {},
   "source": [
    "## Convert Datumaro dataset into PyTorch dataset"
   ]
  },
  {
   "cell_type": "code",
   "execution_count": 16,
   "metadata": {},
   "outputs": [],
   "source": [
    "train_iter = iter([value.media.data[\"OriginalTweet\"] for value in result])"
   ]
  },
  {
   "cell_type": "code",
   "execution_count": 17,
   "metadata": {},
   "outputs": [
    {
     "name": "stderr",
     "output_type": "stream",
     "text": [
      "2024-10-16 16:36:27.631387: E external/local_xla/xla/stream_executor/cuda/cuda_fft.cc:485] Unable to register cuFFT factory: Attempting to register factory for plugin cuFFT when one has already been registered\n",
      "2024-10-16 16:36:27.645753: E external/local_xla/xla/stream_executor/cuda/cuda_dnn.cc:8454] Unable to register cuDNN factory: Attempting to register factory for plugin cuDNN when one has already been registered\n",
      "2024-10-16 16:36:27.649957: E external/local_xla/xla/stream_executor/cuda/cuda_blas.cc:1452] Unable to register cuBLAS factory: Attempting to register factory for plugin cuBLAS when one has already been registered\n",
      "2024-10-16 16:36:27.659912: I tensorflow/core/platform/cpu_feature_guard.cc:210] This TensorFlow binary is optimized to use available CPU instructions in performance-critical operations.\n",
      "To enable the following instructions: AVX2 FMA, in other operations, rebuild TensorFlow with the appropriate compiler flags.\n",
      "2024-10-16 16:36:28.583817: W tensorflow/compiler/tf2tensorrt/utils/py_utils.cc:38] TF-TRT Warning: Could not find TensorRT\n"
     ]
    }
   ],
   "source": [
    "from datumaro.plugins.framework_converter import FrameworkConverter\n",
    "from torchtext.data.utils import get_tokenizer\n",
    "from torchtext.vocab import build_vocab_from_iterator\n",
    "\n",
    "tokenizer = get_tokenizer(\"basic_english\")\n",
    "\n",
    "\n",
    "def yield_tokens(data_iter):\n",
    "    for _, text in data_iter:\n",
    "        yield tokenizer(text)\n",
    "\n",
    "\n",
    "vocab = build_vocab_from_iterator(train_iter, specials=[\"<unk>\"])\n",
    "vocab.set_default_index(vocab[\"<unk>\"])\n",
    "\n",
    "train_dataset = FrameworkConverter(result, subset=\"train\", task=\"tabular\")\n",
    "dm_torch_train_dataset = train_dataset.to_framework(\n",
    "    framework=\"torch\", target={\"input\": \"OriginalTweet\"}, tokenizer=tokenizer, vocab=vocab\n",
    ")\n",
    "val_dataset = FrameworkConverter(result, subset=\"test\", task=\"tabular\")\n",
    "dm_torch_val_dataset = val_dataset.to_framework(\n",
    "    framework=\"torch\", target={\"input\": \"OriginalTweet\"}, tokenizer=tokenizer, vocab=vocab\n",
    ")"
   ]
  },
  {
   "cell_type": "markdown",
   "metadata": {},
   "source": [
    "# 4. Modeling\n",
    "\n",
    "- Showcase how to use your tool for tasks such as feature extraction, model training, or evaluation on the dataset.\n",
    "- Compare it with standard methods to show its advantages."
   ]
  },
  {
   "cell_type": "code",
   "execution_count": 18,
   "metadata": {},
   "outputs": [
    {
     "name": "stderr",
     "output_type": "stream",
     "text": [
      "/home/sooah/.pyenv/versions/datum/lib/python3.11/site-packages/torch/nn/modules/rnn.py:82: UserWarning: dropout option adds dropout after all but last recurrent layer, so non-zero dropout expects num_layers greater than 1, but got dropout=0.5 and num_layers=1\n",
      "  warnings.warn(\"dropout option adds dropout after all but last \"\n"
     ]
    }
   ],
   "source": [
    "import torch\n",
    "import torch.nn as nn\n",
    "import torch.optim as optim\n",
    "\n",
    "# Define a simple RNN-based model for text classification\n",
    "\n",
    "\n",
    "class SentimentRNN(nn.Module):\n",
    "    def __init__(self, vocab_size, embed_size, hidden_size, output_size, num_layers=1, dropout=0.5):\n",
    "        super(SentimentRNN, self).__init__()\n",
    "        self.embedding = nn.Embedding(vocab_size, embed_size)\n",
    "        self.rnn = nn.LSTM(embed_size, hidden_size, num_layers, batch_first=True, dropout=dropout)\n",
    "        self.fc = nn.Linear(hidden_size, output_size)\n",
    "\n",
    "    def forward(self, x):\n",
    "        x = self.embedding(x)\n",
    "        _, (hidden, _) = self.rnn(x)\n",
    "        out = self.fc(hidden[-1])\n",
    "        return out\n",
    "\n",
    "\n",
    "# Example: Model initialization\n",
    "vocab_size = len(vocab)  # This should be the size of your vocabulary\n",
    "embed_size = 128\n",
    "hidden_size = 256\n",
    "output_size = 5  # Assume we have 3 sentiment classes: positive, neutral, negative\n",
    "\n",
    "model = SentimentRNN(vocab_size, embed_size, hidden_size, output_size)"
   ]
  },
  {
   "cell_type": "code",
   "execution_count": 19,
   "metadata": {},
   "outputs": [],
   "source": [
    "import numpy as np\n",
    "from torch.utils.data import DataLoader\n",
    "\n",
    "# Define Loss and Optimizer\n",
    "criterion = nn.CrossEntropyLoss()\n",
    "optimizer = optim.Adam(model.parameters(), lr=0.001)\n",
    "\n",
    "\n",
    "def custom_collate_fn(batch):\n",
    "    # Separate inputs and outputs\n",
    "    inputs, outputs = zip(*batch)\n",
    "\n",
    "    # Find the maximum length in the inputs and outputs\n",
    "    max_input_length = max(len(input_) for input_ in inputs)\n",
    "\n",
    "    # Pad all inputs and outputs to the maximum length\n",
    "    padded_inputs = [\n",
    "        np.pad(input_, (0, max_input_length - len(input_)), mode=\"constant\") for input_ in inputs\n",
    "    ]\n",
    "\n",
    "    # Convert to tensors\n",
    "    padded_inputs = torch.tensor(padded_inputs, dtype=torch.long)\n",
    "    padded_outputs = torch.stack(outputs)  # Assuming labels are integers for classification\n",
    "\n",
    "    return padded_inputs, padded_outputs\n",
    "\n",
    "\n",
    "# Create DataLoader for your dataset\n",
    "train_loader = DataLoader(\n",
    "    dm_torch_train_dataset, batch_size=32, shuffle=True, collate_fn=custom_collate_fn\n",
    ")\n",
    "val_loader = DataLoader(dm_torch_val_dataset, batch_size=32, collate_fn=custom_collate_fn)"
   ]
  },
  {
   "cell_type": "code",
   "execution_count": 20,
   "metadata": {},
   "outputs": [
    {
     "name": "stderr",
     "output_type": "stream",
     "text": [
      "/tmp/ipykernel_633257/52718613.py:18: UserWarning: Creating a tensor from a list of numpy.ndarrays is extremely slow. Please consider converting the list to a single numpy.ndarray with numpy.array() before converting to a tensor. (Triggered internally at ../torch/csrc/utils/tensor_new.cpp:261.)\n",
      "  padded_inputs = torch.tensor(padded_inputs, dtype=torch.long)\n"
     ]
    },
    {
     "name": "stdout",
     "output_type": "stream",
     "text": [
      "Epoch 1, Loss: 1.590895850211382 | Validation Loss: 1.5764841102063656\n",
      "Epoch 2, Loss: 1.5879455283284187 | Validation Loss: 1.5764116831123829\n",
      "Epoch 3, Loss: 1.581930335611105 | Validation Loss: 1.5686759762465954\n",
      "Epoch 4, Loss: 1.5809518098831177 | Validation Loss: 1.5715479329228401\n",
      "Epoch 5, Loss: 1.5830248109996319 | Validation Loss: 1.5709160640835762\n"
     ]
    }
   ],
   "source": [
    "# Training Loop\n",
    "def train(model, train_loader, val_loader, criterion, optimizer, num_epochs=100):\n",
    "    model.train()\n",
    "    train_losses = []\n",
    "    val_losses = []\n",
    "    for epoch in range(num_epochs):\n",
    "        running_loss = 0.0\n",
    "        for batch in train_loader:\n",
    "            inputs, labels = batch\n",
    "            outputs = model(inputs)\n",
    "\n",
    "            loss = criterion(outputs, labels)\n",
    "            optimizer.zero_grad()\n",
    "            loss.backward()\n",
    "            optimizer.step()\n",
    "\n",
    "            running_loss += loss.item()\n",
    "        # print(f'Epoch {epoch+1}, Loss: {running_loss/len(train_loader)}')\n",
    "        train_losses.append(running_loss)\n",
    "\n",
    "        # Validation Loop (optional)\n",
    "        model.eval()\n",
    "        val_loss = 0.0\n",
    "        with torch.no_grad():\n",
    "            for batch in val_loader:\n",
    "                inputs, labels = batch\n",
    "                outputs = model(inputs)\n",
    "                loss = criterion(outputs, labels)\n",
    "                val_loss += loss.item()\n",
    "        val_losses.append(val_loss)\n",
    "\n",
    "        if epoch % 5 == 0:\n",
    "            print(\n",
    "                f\"Epoch {epoch+1}, Loss: {running_loss/len(train_loader)} | Validation Loss: {val_loss/len(val_loader)}\"\n",
    "            )\n",
    "    return train_losses, val_losses\n",
    "\n",
    "\n",
    "# Run the training\n",
    "train_losses, val_losses = train(model, train_loader, val_loader, criterion, optimizer)"
   ]
  },
  {
   "cell_type": "code",
   "execution_count": 21,
   "metadata": {},
   "outputs": [
    {
     "data": {
      "image/png": "[encoded data removed]",
      "text/plain": [
       "<Figure size 1000x600 with 1 Axes>"
      ]
     },
     "metadata": {},
     "output_type": "display_data"
    }
   ],
   "source": [
    "def plot_loss(train_losses, val_losses):\n",
    "    plt.figure(figsize=(10, 6))\n",
    "    plt.plot(train_losses, label=\"Training Loss\")\n",
    "    plt.plot(val_losses, label=\"Validation Loss\")\n",
    "    plt.xlabel(\"Epochs\")\n",
    "    plt.ylabel(\"Loss\")\n",
    "    plt.title(\"Training and Validation Loss over Epochs\")\n",
    "    plt.legend()\n",
    "    plt.show()\n",
    "\n",
    "\n",
    "# Assuming you have stored losses in lists\n",
    "plot_loss(train_losses, val_losses)"
   ]
  },
  {
   "cell_type": "code",
   "execution_count": 22,
   "metadata": {},
   "outputs": [
    {
     "name": "stdout",
     "output_type": "stream",
     "text": [
      "Requirement already satisfied: seaborn in /home/sooah/.pyenv/versions/3.11.9/envs/datum/lib/python3.11/site-packages (0.13.2)\n",
      "Requirement already satisfied: numpy!=1.24.0,>=1.20 in /home/sooah/.pyenv/versions/3.11.9/envs/datum/lib/python3.11/site-packages (from seaborn) (1.26.4)\n",
      "Requirement already satisfied: pandas>=1.2 in /home/sooah/.pyenv/versions/3.11.9/envs/datum/lib/python3.11/site-packages (from seaborn) (2.2.3)\n",
      "Requirement already satisfied: matplotlib!=3.6.1,>=3.4 in /home/sooah/.pyenv/versions/3.11.9/envs/datum/lib/python3.11/site-packages (from seaborn) (3.9.2)\n",
      "Requirement already satisfied: contourpy>=1.0.1 in /home/sooah/.pyenv/versions/3.11.9/envs/datum/lib/python3.11/site-packages (from matplotlib!=3.6.1,>=3.4->seaborn) (1.3.0)\n",
      "Requirement already satisfied: cycler>=0.10 in /home/sooah/.pyenv/versions/3.11.9/envs/datum/lib/python3.11/site-packages (from matplotlib!=3.6.1,>=3.4->seaborn) (0.12.1)\n",
      "Requirement already satisfied: fonttools>=4.22.0 in /home/sooah/.pyenv/versions/3.11.9/envs/datum/lib/python3.11/site-packages (from matplotlib!=3.6.1,>=3.4->seaborn) (4.54.1)\n",
      "Requirement already satisfied: kiwisolver>=1.3.1 in /home/sooah/.pyenv/versions/3.11.9/envs/datum/lib/python3.11/site-packages (from matplotlib!=3.6.1,>=3.4->seaborn) (1.4.7)\n",
      "Requirement already satisfied: packaging>=20.0 in /home/sooah/.pyenv/versions/3.11.9/envs/datum/lib/python3.11/site-packages (from matplotlib!=3.6.1,>=3.4->seaborn) (24.1)\n",
      "Requirement already satisfied: pillow>=8 in /home/sooah/.pyenv/versions/3.11.9/envs/datum/lib/python3.11/site-packages (from matplotlib!=3.6.1,>=3.4->seaborn) (10.4.0)\n",
      "Requirement already satisfied: pyparsing>=2.3.1 in /home/sooah/.pyenv/versions/3.11.9/envs/datum/lib/python3.11/site-packages (from matplotlib!=3.6.1,>=3.4->seaborn) (3.2.0)\n",
      "Requirement already satisfied: python-dateutil>=2.7 in /home/sooah/.pyenv/versions/3.11.9/envs/datum/lib/python3.11/site-packages (from matplotlib!=3.6.1,>=3.4->seaborn) (2.9.0.post0)\n",
      "Requirement already satisfied: pytz>=2020.1 in /home/sooah/.pyenv/versions/3.11.9/envs/datum/lib/python3.11/site-packages (from pandas>=1.2->seaborn) (2024.2)\n",
      "Requirement already satisfied: tzdata>=2022.7 in /home/sooah/.pyenv/versions/3.11.9/envs/datum/lib/python3.11/site-packages (from pandas>=1.2->seaborn) (2024.2)\n",
      "Requirement already satisfied: six>=1.5 in /home/sooah/.pyenv/versions/3.11.9/envs/datum/lib/python3.11/site-packages (from python-dateutil>=2.7->matplotlib!=3.6.1,>=3.4->seaborn) (1.16.0)\n"
     ]
    }
   ],
   "source": [
    "! pip install seaborn"
   ]
  },
  {
   "cell_type": "code",
   "execution_count": 23,
   "metadata": {},
   "outputs": [
    {
     "data": {
      "image/png": "[encoded data removed]",
      "text/plain": [
       "<Figure size 1000x700 with 2 Axes>"
      ]
     },
     "metadata": {},
     "output_type": "display_data"
    }
   ],
   "source": [
    "from sklearn.metrics import confusion_matrix\n",
    "import seaborn as sns\n",
    "\n",
    "\n",
    "def plot_confusion_matrix(model, val_loader):\n",
    "    all_preds = []\n",
    "    all_labels = []\n",
    "\n",
    "    model.eval()\n",
    "    with torch.no_grad():\n",
    "        for batch in val_loader:\n",
    "            inputs, labels = batch\n",
    "            outputs = model(inputs)\n",
    "            preds = torch.argmax(outputs, dim=1)\n",
    "            all_preds.extend(preds.cpu().numpy())\n",
    "            all_labels.extend(labels.cpu().numpy())\n",
    "\n",
    "    cm = confusion_matrix(all_labels, all_preds)\n",
    "\n",
    "    plt.figure(figsize=(10, 7))\n",
    "    sns.heatmap(cm, annot=True, fmt=\"d\", cmap=\"Blues\")\n",
    "    plt.xlabel(\"Predicted\")\n",
    "    plt.ylabel(\"True\")\n",
    "    plt.title(\"Confusion Matrix\")\n",
    "    plt.show()\n",
    "\n",
    "\n",
    "plot_confusion_matrix(model, val_loader)"
   ]
  },
  {
   "cell_type": "code",
   "execution_count": 28,
   "metadata": {},
   "outputs": [
    {
     "name": "stdout",
     "output_type": "stream",
     "text": [
      "Accuracy of class 0: 0.00%\n",
      "Accuracy of class 1: 0.62%\n",
      "Accuracy of class 2: 95.03%\n",
      "Accuracy of class 3: 0.00%\n",
      "Accuracy of class 4: 1.68%\n"
     ]
    }
   ],
   "source": [
    "def per_class_accuracy(model, val_loader, num_classes):\n",
    "    class_correct = [0] * num_classes\n",
    "    class_total = [0] * num_classes\n",
    "\n",
    "    model.eval()\n",
    "    with torch.no_grad():\n",
    "        for batch in val_loader:\n",
    "            inputs, labels = batch\n",
    "            outputs = model(inputs)\n",
    "            preds = torch.argmax(outputs, dim=1)\n",
    "\n",
    "            for i in range(len(labels)):\n",
    "                label = labels[i]\n",
    "                if preds[i] == label:\n",
    "                    class_correct[label] += 1\n",
    "                class_total[label] += 1\n",
    "\n",
    "    for i in range(num_classes):\n",
    "        print(f\"Accuracy of class {i}: {100 * class_correct[i] / class_total[i]:.2f}%\")\n",
    "\n",
    "\n",
    "# Assuming the dataset has 5 classes\n",
    "per_class_accuracy(model, val_loader, 5)"
   ]
  },
  {
   "cell_type": "code",
   "execution_count": null,
   "metadata": {},
   "outputs": [],
   "source": []
  },
  {
   "cell_type": "code",
   "execution_count": null,
   "metadata": {},
   "outputs": [],
   "source": []
  }
 ],
 "metadata": {
  "kernelspec": {
   "display_name": "datum",
   "language": "python",
   "name": "python3"
  },
  "language_info": {
   "codemirror_mode": {
    "name": "ipython",
    "version": 3
   },
   "file_extension": ".py",
   "mimetype": "text/x-python",
   "name": "python",
   "nbconvert_exporter": "python",
   "pygments_lexer": "ipython3",
   "version": "3.11.9"
  }
 },
 "nbformat": 4,
 "nbformat_minor": 2
}
