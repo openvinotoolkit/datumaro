{
 "cells": [
  {
   "cell_type": "markdown",
   "metadata": {},
   "source": [
    "# Data preparation with Datumaro\n",
    "\n",
    "Datumaro is the open-source data management framework for computer vision and , making easy to import and export along with desired formats. Specifically, Datumaro provides more than 50 public data formats, e.g., MS-COCO, Pascal-VOC, YOLO-Ultralytics, Roboflow, CVAT, Cityscapes, etc. Please refer here for the details.\n",
    "\n",
    "Moreover, Datumaro provides data manipulation functionalities such as filtration, transformation, subset appregation/split. Plus, data visualization and exploration are possible with Datumaro! Please enjoy basic/intermediate/advanced skills at here.\n",
    "\n",
    "We here provide an example to import Corona NLP dataset and convert this to PyTorch dataset directly. After that, we can easily run training and validation for conventional text classification task on PyTorch framework."
   ]
  },
  {
   "cell_type": "markdown",
   "metadata": {},
   "source": [
    "## Install Datumaro package"
   ]
  },
  {
   "cell_type": "markdown",
   "metadata": {},
   "source": [
    "<!-- !pip install datumaro==1.7.0 -->"
   ]
  },
  {
   "cell_type": "markdown",
   "metadata": {},
   "source": [
    "## Import a dataset"
   ]
  },
  {
   "cell_type": "markdown",
   "metadata": {},
   "source": [
    "The dataset is organized in the following directory structure:\n",
    "\n",
    "```\n",
    ".\n",
    "├── Corona_NLP_test.csv\n",
    "└── Corona_NLP_train.csv\n",
    "```\n",
    "\n",
    "In our `corona_nlp` folder, we've got two CSV files: `Corona_NLP_train.csv` and `Corona_NLP_test.csv`. These files hold the training and testing data for our Corona NLP dataset. I used `datumaro` to inspect the dataset directory structure, and it appears that the dataset is in tabular format."
   ]
  },
  {
   "cell_type": "code",
   "execution_count": 1,
   "metadata": {},
   "outputs": [
    {
     "data": {
      "text/plain": [
       "['tabular']"
      ]
     },
     "execution_count": 1,
     "metadata": {},
     "output_type": "execute_result"
    }
   ],
   "source": [
    "import datumaro as dm\n",
    "from datumaro.components.environment import DEFAULT_ENVIRONMENT\n",
    "\n",
    "data_path = \"/home/sooah/data/corona_nlp\"\n",
    "detected_formats = DEFAULT_ENVIRONMENT.detect_dataset(data_path)\n",
    "detected_formats"
   ]
  },
  {
   "cell_type": "markdown",
   "metadata": {},
   "source": [
    "To load our dataset using Datumaro, we'll need to specify the encoding as 'latin1' since the dataset is encoded in that format. We'll need to include `import_kwargs` to handle this:"
   ]
  },
  {
   "cell_type": "code",
   "execution_count": 2,
   "metadata": {},
   "outputs": [
    {
     "data": {
      "text/plain": [
       "Dataset\n",
       "\tsize=44955\n",
       "\tsource_path=/home/sooah/data/corona_nlp\n",
       "\tmedia_type=<class 'datumaro.components.media.TableRow'>\n",
       "\tann_types=set()\n",
       "\tannotated_items_count=0\n",
       "\tannotations_count=0\n",
       "subsets\n",
       "\tCorona_NLP_test: # of items=3798, # of annotated items=0, # of annotations=0\n",
       "\tCorona_NLP_train: # of items=41157, # of annotated items=0, # of annotations=0\n",
       "infos\n",
       "\tcategories\n",
       "\ttabular: []"
      ]
     },
     "execution_count": 2,
     "metadata": {},
     "output_type": "execute_result"
    }
   ],
   "source": [
    "import_kwargs = {\"encoding\": \"latin1\"}\n",
    "dm_dataset = dm.Dataset.import_from(data_path, detected_formats[0], **import_kwargs)\n",
    "dm_dataset"
   ]
  },
  {
   "cell_type": "markdown",
   "metadata": {},
   "source": [
    "Based on the information provided,\n",
    "- The total size of the dataset is 44955 items.\n",
    "- The dataset is divided into two subsets:\n",
    "  - The 'Corona_NLP_test' subset contains 3798 items.\n",
    "  - The 'Corona_NLP_train' subset contains 41157 items.\n",
    "\n",
    "This breakdown gives us insight into the scale of our dataset and the distribution of items across its subsets."
   ]
  },
  {
   "cell_type": "markdown",
   "metadata": {},
   "source": [
    "### Setting Input and Output Targets for Sentiment Analysis\n",
    "\n",
    "Moreover, we tried to take sentiment analysis for this dataset, so we have to set input and output targets for the dataset.\n",
    "\n",
    "**For Input (Features)**:\n",
    "- **Original Tweet**: This field contains the content of each tweet. When performing sentiment analysis, text data is used as the input for the model. Each tweet's content is tokenized, preprocessed, and then provided to the model.\n",
    "- **Location (Optional)**: This field represents the location of the user who posted the tweet. Some models can utilize location information as additional features to enhance performance. However, the use of this field is optional and depends on the model.\n",
    "\n",
    "**For Output (Target)**:\n",
    "- **Sentiment**: This field indicates the sentiment of each tweet. The goal of sentiment analysis is to classify the sentiment of text, making this field the output target for the model. Sentiments are typically classified as positive, negative, or neutral, and the model aims to predict them.\n",
    "\n",
    "Therefore, for the input of the sentiment analysis model, we will use the 'OriginalTweet' field to represent the content of each tweet. For the output, we will use the 'Sentiment' field to represent the sentiment of each tweet. The 'Location' field is optional and may or may not be used, depending on the model.\n"
   ]
  },
  {
   "cell_type": "code",
   "execution_count": 18,
   "metadata": {},
   "outputs": [
    {
     "data": {
      "text/plain": [
       "Dataset\n",
       "\tsize=44955\n",
       "\tsource_path=/home/sooah/data/corona_nlp\n",
       "\tmedia_type=<class 'datumaro.components.media.TableRow'>\n",
       "\tann_types={<AnnotationType.tabular: 14>}\n",
       "\tannotated_items_count=44955\n",
       "\tannotations_count=44955\n",
       "subsets\n",
       "\tCorona_NLP_test: # of items=3798, # of annotated items=3798, # of annotations=3798\n",
       "\tCorona_NLP_train: # of items=41157, # of annotated items=41157, # of annotations=41157\n",
       "infos\n",
       "\tcategories\n",
       "\ttabular: ['Sentiment']"
      ]
     },
     "execution_count": 18,
     "metadata": {},
     "output_type": "execute_result"
    }
   ],
   "source": [
    "corona_nlp_target = {\"input\": [\"OriginalTweet\", \"Location\"], \"output\": \"Sentiment\"}\n",
    "dm_dataset = dm.Dataset.import_from(\n",
    "    data_path, detected_formats[0], target=corona_nlp_target, **import_kwargs\n",
    ")\n",
    "dm_dataset"
   ]
  },
  {
   "cell_type": "markdown",
   "metadata": {},
   "source": [
    "It's worth noting that each item in the dataset now includes annotations for the output target we've defined. This means that the dataset has been updated to include annotations corresponding to the target output we've set.\n",
    "\n",
    "By having annotations for the output target, we can track and utilize the labeled sentiment information associated with each data item. This update enhances the dataset's utility for sentiment analysis tasks, allowing for more effective model training and evaluation.\n"
   ]
  },
  {
   "cell_type": "markdown",
   "metadata": {},
   "source": [
    "Now, let's take a peek at the first item in our dataset."
   ]
  },
  {
   "cell_type": "code",
   "execution_count": 19,
   "metadata": {},
   "outputs": [
    {
     "data": {
      "text/plain": [
       "DatasetItem(id='0@Corona_NLP_train', subset='Corona_NLP_train', media=TableRow(row_idx:0, data:{'OriginalTweet': '@MeNyrbie @Phil_Gahan @Chrisitv https://t.co/iFz9FAn2Pa and https://t.co/xX6ghGFzCC and https://t.co/I2NlzdxNo8', 'Location': 'London', 'Sentiment': 'Neutral'}), annotations=[Tabular(id=0, attributes={}, group=0, object_id=-1, values={'Sentiment': 'Neutral'})], attributes={})"
      ]
     },
     "execution_count": 19,
     "metadata": {},
     "output_type": "execute_result"
    }
   ],
   "source": [
    "dm_dataset.__getitem__(0)"
   ]
  },
  {
   "cell_type": "markdown",
   "metadata": {},
   "source": [
    "To check the media of the DatasetItem, we can check like below:"
   ]
  },
  {
   "cell_type": "code",
   "execution_count": 20,
   "metadata": {},
   "outputs": [
    {
     "name": "stdout",
     "output_type": "stream",
     "text": [
      "media :  {'OriginalTweet': '@MeNyrbie @Phil_Gahan @Chrisitv https://t.co/iFz9FAn2Pa and https://t.co/xX6ghGFzCC and https://t.co/I2NlzdxNo8', 'Location': 'London', 'Sentiment': 'Neutral'}\n",
      "annotations :  [Tabular(id=0, attributes={}, group=0, object_id=-1, values={'Sentiment': 'Neutral'})]\n"
     ]
    }
   ],
   "source": [
    "print(\"media : \", dm_dataset.__getitem__(0).media.data())\n",
    "print(\"annotations : \", dm_dataset.__getitem__(0).annotations)"
   ]
  },
  {
   "cell_type": "markdown",
   "metadata": {},
   "source": [
    "We can confirm that the columns we've designated as output targets are present in the dataset's media. Furthermore, the output targets are stored as annotations within the data.\n",
    "\n",
    "This indicates that the dataset has been structured to include the designated `target` columns in the `media`, and the `output` target information is available as `annotations` associated with each data item.\n"
   ]
  },
  {
   "cell_type": "markdown",
   "metadata": {},
   "source": [
    "### Transforming Dataset Annotations for Sentiment Analysis Task\n",
    "\n",
    "Our objective is to prepare the dataset for sentiment analysis, where sentiment serves as the label. To achieve this, we'll update the annotation type of the dataset items. The current annotation type of 'Tabular' is not ideal for sentiment analysis. Hence, we'll transform the dataset to better suit our task.\n",
    "\n",
    "This transformation step is crucial to ensure that our dataset is properly formatted and ready for sentiment analysis model training and evaluation.\n"
   ]
  },
  {
   "cell_type": "code",
   "execution_count": 21,
   "metadata": {},
   "outputs": [
    {
     "data": {
      "text/plain": [
       "Dataset\n",
       "\tsize=44955\n",
       "\tsource_path=/home/sooah/data/corona_nlp\n",
       "\tmedia_type=<class 'datumaro.components.media.TableRow'>\n",
       "\tann_types={<AnnotationType.label: 1>}\n",
       "\tannotated_items_count=44955\n",
       "\tannotations_count=44955\n",
       "subsets\n",
       "\tCorona_NLP_test: # of items=3798, # of annotated items=3798, # of annotations=3798\n",
       "\tCorona_NLP_train: # of items=41157, # of annotated items=41157, # of annotations=41157\n",
       "infos\n",
       "\tcategories\n",
       "\tlabel: ['Sentiment:Extremely Negative', 'Sentiment:Extremely Positive', 'Sentiment:Negative', 'Sentiment:Neutral', 'Sentiment:Positive']"
      ]
     },
     "execution_count": 21,
     "metadata": {},
     "output_type": "execute_result"
    }
   ],
   "source": [
    "dm_dataset = dm_dataset.transform(\"astype_annotations\")\n",
    "dm_dataset"
   ]
  },
  {
   "cell_type": "code",
   "execution_count": 22,
   "metadata": {},
   "outputs": [
    {
     "name": "stdout",
     "output_type": "stream",
     "text": [
      "annotations :  [Label(id=0, attributes={}, group=0, object_id=-1, label=3)]\n"
     ]
    }
   ],
   "source": [
    "print(\"annotations : \", dm_dataset.__getitem__(0).annotations)"
   ]
  },
  {
   "cell_type": "markdown",
   "metadata": {},
   "source": [
    "We can observe that the sentiment labels have been included in the dataset categories, indicating the presence of sentiment-related labels. This inclusion is crucial as it allows us to understand the categories or classes that the dataset encompasses, particularly in terms of sentiment analysis.\n",
    "\n",
    "Furthermore, we can confirm that these sentiment labels are reflected in the annotations of each dataset item. This ensures that the sentiment information associated with each item has been appropriately integrated into the dataset, laying the groundwork for sentiment analysis tasks.\n"
   ]
  },
  {
   "cell_type": "markdown",
   "metadata": {},
   "source": [
    "### Exploring Dataset Characteristics\n",
    "\n",
    "Having transformed the data as described above, we'll now explore the characteristics of the dataset. To begin, we'll use Datumaro's Validator to understand various features and attributes of the dataset.\n",
    "\n",
    "Using the Validator, we can:\n",
    "- Determine the number of columns included in the dataset and identify the type of each feature.\n",
    "- Check for missing values or outliers, thereby understanding the dataset's structure.\n",
    "- Analyze the distribution of the target variable to identify any class imbalance issues.\n",
    "- Calculate basic statistical measures to understand the central tendency and dispersion of the data.\n",
    "\n",
    "If you want to learn more about the conditions set in the Validator, please check [this link](https://openvinotoolkit.github.io/datumaro/latest/docs/level-up/intermediate_skills/08_data_validate.html).\n",
    "\n",
    "This step will help us gain insights into the structure and properties of our data, setting the stage for effective analysis and modeling."
   ]
  },
  {
   "cell_type": "code",
   "execution_count": 23,
   "metadata": {},
   "outputs": [],
   "source": [
    "from datumaro.plugins.validators import TabularValidator\n",
    "\n",
    "validator = TabularValidator(\n",
    "    few_samples_thr=1,\n",
    "    imbalance_ratio_thr=50,\n",
    "    far_from_mean_thr=5.0,\n",
    "    dominance_ratio_thr=0.8,\n",
    "    topk_bins=0.1,\n",
    ")\n",
    "stats = validator.compute_statistics(dm_dataset)"
   ]
  },
  {
   "cell_type": "markdown",
   "metadata": {},
   "source": [
    "### Dataset Statistics\n",
    "\n",
    "The dataset statistics are as follows:\n",
    "\n",
    "- **Total number of annotations**: This represents the total number of annotations present in the dataset.\n",
    "- **Number of items with no annotations**: This indicates the number of items that do not have any annotations.\n",
    "- **Number of items with some missing annotations**: This shows the number of items that are missing some of their annotations.\n",
    "\n",
    "In Datumaro, annotations are categorized based on their characteristics, such as labels or captions, and their distribution can be analyzed accordingly. For this dataset, since we have set sentiment as the target, only label annotations are present.\n"
   ]
  },
  {
   "cell_type": "code",
   "execution_count": 24,
   "metadata": {},
   "outputs": [
    {
     "name": "stdout",
     "output_type": "stream",
     "text": [
      "Statistics summary\n",
      "Total number of annotation :  44955\n",
      "The number of items without any annotation :  0\n",
      "The number of items with missing annotation :  0\n",
      "\n",
      "\n",
      "Result of label distribution\n",
      "   Sentiment:Extremely Negative  Sentiment:Extremely Positive  \\\n",
      "0                          6073                          7223   \n",
      "\n",
      "   Sentiment:Negative  Sentiment:Neutral  Sentiment:Positive  \n",
      "0               10958               8332               12369  \n",
      "The number of empty label for Sentiment is 0\n",
      "\n",
      "\n"
     ]
    },
    {
     "data": {
      "image/png": "[encoded data removed]",
      "text/plain": [
       "<Figure size 1500x400 with 1 Axes>"
      ]
     },
     "metadata": {},
     "output_type": "display_data"
    }
   ],
   "source": [
    "import pandas as pd\n",
    "import matplotlib.pyplot as plt\n",
    "\n",
    "\n",
    "def show_stats(stats):\n",
    "    print(\"Statistics summary\")\n",
    "\n",
    "    total_ann_count = stats[\"total_ann_count\"]\n",
    "    len_missing_ann_items = len(stats[\"items_missing_annotation\"])\n",
    "    len_broken_ann_items = len(stats[\"items_broken_annotation\"])\n",
    "    print(\"Total number of annotation : \", total_ann_count)\n",
    "    print(\"The number of items without any annotation : \", len_missing_ann_items)\n",
    "    print(\"The number of items with missing annotation : \", len_broken_ann_items)\n",
    "    print(\"\\n\")\n",
    "\n",
    "    defined_labels = stats[\"label_distribution\"][\"defined_labels\"]\n",
    "    if len(defined_labels) != 0:\n",
    "        print(\"Result of label distribution\")\n",
    "        df_defined_labels = pd.DataFrame.from_dict([defined_labels])\n",
    "        print(df_defined_labels)\n",
    "        for key, value in stats[\"label_distribution\"][\"empty_labels\"].items():\n",
    "            print(f\"The number of empty label for {key} is {value['count']}\")\n",
    "    plt.figure(figsize=(15, 4))\n",
    "    plt.title(\"Histogram for label distribution\")\n",
    "    plt.bar(defined_labels.keys(), defined_labels.values())\n",
    "\n",
    "    print(\"\\n\")\n",
    "    defined_captions = stats[\"caption_distribution\"][\"defined_captions\"]\n",
    "    if len(defined_captions) != 0:\n",
    "        print(\"Result of caption distribution\")\n",
    "        df_defined_captions = pd.DataFrame.from_dict([defined_captions])\n",
    "        print(df_defined_captions)\n",
    "        for key, value in stats[\"caption_distribution\"][\"empty_captions\"].items():\n",
    "            print(f\"The number of empty caption for {key} is {value['count']}\")\n",
    "    return\n",
    "\n",
    "\n",
    "show_stats(stats)"
   ]
  },
  {
   "cell_type": "markdown",
   "metadata": {},
   "source": [
    "We can observe that the distribution among classes is uneven, with the 'positive' class having the largest proportion. This detailed statistical overview helps us understand the composition and completeness of the dataset, guiding further analysis and preprocessing steps.\n",
    "\n",
    "Since this dataset has no empty labels, items with missing annotations, or items with broken annotations, the focus should be on cleaning the input data rather than the labels."
   ]
  },
  {
   "cell_type": "code",
   "execution_count": 25,
   "metadata": {},
   "outputs": [
    {
     "data": {
      "text/plain": [
       "{'OriginalTweet': '@MeNyrbie @Phil_Gahan @Chrisitv https://t.co/iFz9FAn2Pa and https://t.co/xX6ghGFzCC and https://t.co/I2NlzdxNo8',\n",
       " 'Location': 'London',\n",
       " 'Sentiment': 'Neutral'}"
      ]
     },
     "execution_count": 25,
     "metadata": {},
     "output_type": "execute_result"
    }
   ],
   "source": [
    "dm_dataset.__getitem__(0).media.data()"
   ]
  },
  {
   "cell_type": "code",
   "execution_count": 26,
   "metadata": {},
   "outputs": [
    {
     "data": {
      "text/plain": [
       "{'OriginalTweet': 'I hate grocery shopping in general but I swear IÂ\\x92m doing it online next shop, can not deal with the swathes of panic buyers at all! #COVID?19 #coronavirus #coronavirusuk #anxiety #panicbuyinguk #morons',\n",
       " 'Location': 'Portsmouth, England',\n",
       " 'Sentiment': 'Extremely Negative'}"
      ]
     },
     "execution_count": 26,
     "metadata": {},
     "output_type": "execute_result"
    }
   ],
   "source": [
    "dm_dataset.__getitem__(100).media.data()"
   ]
  },
  {
   "cell_type": "markdown",
   "metadata": {},
   "source": [
    "Datumaro provides a transform called `clean` that can be used for data cleaning. This transform helps in preparing the dataset for analysis by addressing various data quality issues. The `clean` transform modifies the media of items without validation and simultaneously cleans the annotations. If you want to clean the input media, it is recommended to use the `clean` function.\n",
    "\n",
    "In our case, since the dataset does not have any empty labels, items with missing annotations, or items with broken annotations, we will focus on cleaning the input data. Using the `clean` transform, we can ensure that the input information is properly formatted and free from inconsistencies.\n",
    "\n",
    "This step is crucial to maintain the quality and integrity of the data, which in turn, enhances the performance of the sentiment analysis model."
   ]
  },
  {
   "cell_type": "code",
   "execution_count": 11,
   "metadata": {},
   "outputs": [],
   "source": [
    "result = dm_dataset.transform(\"clean\")"
   ]
  },
  {
   "cell_type": "code",
   "execution_count": 16,
   "metadata": {},
   "outputs": [
    {
     "data": {
      "text/plain": [
       "{'OriginalTweet': 'menyrbie philgahan chrisitv',\n",
       " 'Location': 'london',\n",
       " 'Sentiment': 'Neutral'}"
      ]
     },
     "execution_count": 16,
     "metadata": {},
     "output_type": "execute_result"
    }
   ],
   "source": [
    "result.__getitem__(0).media.data"
   ]
  },
  {
   "cell_type": "code",
   "execution_count": 27,
   "metadata": {},
   "outputs": [
    {
     "data": {
      "text/plain": [
       "{'OriginalTweet': 'hate grocery shopping general swear im online next shop deal swathes panic buyers covid coronavirus coronavirusuk anxiety panicbuyinguk morons',\n",
       " 'Location': 'portsmouth england',\n",
       " 'Sentiment': 'Extremely Negative'}"
      ]
     },
     "execution_count": 27,
     "metadata": {},
     "output_type": "execute_result"
    }
   ],
   "source": [
    "result.__getitem__(100).media.data"
   ]
  },
  {
   "cell_type": "markdown",
   "metadata": {},
   "source": [
    "We can observe that the existing input media have been refined. If the same target is included in both the input and the output, the annotations will also be updated accordingly."
   ]
  },
  {
   "cell_type": "markdown",
   "metadata": {},
   "source": [
    "This notebook will be moved to Kaggle notebook after Datumaro 1.8 release"
   ]
  }
 ],
 "metadata": {
  "kernelspec": {
   "display_name": "datum",
   "language": "python",
   "name": "python3"
  },
  "language_info": {
   "codemirror_mode": {
    "name": "ipython",
    "version": 3
   },
   "file_extension": ".py",
   "mimetype": "text/x-python",
   "name": "python",
   "nbconvert_exporter": "python",
   "pygments_lexer": "ipython3",
   "version": "3.10.13"
  }
 },
 "nbformat": 4,
 "nbformat_minor": 2
}
