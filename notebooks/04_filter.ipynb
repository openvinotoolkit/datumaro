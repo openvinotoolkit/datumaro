{
 "cells": [
  {
   "cell_type": "markdown",
   "id": "652f6b58",
   "metadata": {},
   "source": [
    "# Filter datasets"
   ]
  },
  {
   "cell_type": "markdown",
   "id": "ca821a19",
   "metadata": {},
   "source": [
    "In this notebook example, we'll take a look at Datumaro filter api."
   ]
  },
  {
   "cell_type": "code",
   "execution_count": 1,
   "id": "da198c67",
   "metadata": {},
   "outputs": [],
   "source": [
    "# Copyright (C) 2022 Intel Corporation\n",
    "#\n",
    "# SPDX-License-Identifier: MIT\n",
    "\n",
    "import os\n",
    "import datumaro as dm"
   ]
  },
  {
   "cell_type": "markdown",
   "id": "9e2cf885",
   "metadata": {},
   "source": [
    "### Filtered by subset"
   ]
  },
  {
   "cell_type": "markdown",
   "id": "031f1d62",
   "metadata": {},
   "source": [
    "We export sample VOC dataset to filter only train subset."
   ]
  },
  {
   "cell_type": "code",
   "execution_count": 2,
   "id": "b9640838",
   "metadata": {},
   "outputs": [],
   "source": [
    "dataset = dm.Dataset.import_from('./tests/assets/voc_dataset/voc_dataset1', format='voc')"
   ]
  },
  {
   "cell_type": "code",
   "execution_count": 3,
   "id": "d38cfc9b",
   "metadata": {
    "scrolled": true
   },
   "outputs": [
    {
     "name": "stdout",
     "output_type": "stream",
     "text": [
      "Representation for sample VOC dataset\n"
     ]
    },
    {
     "data": {
      "text/plain": [
       "Dataset\n",
       "\tsize=2\n",
       "\tsource_path=./tests/assets/voc_dataset/voc_dataset1\n",
       "\tmedia_type=<class 'datumaro.components.media.Image'>\n",
       "\tannotated_items_count=1\n",
       "\tannotations_count=15\n",
       "subsets\n",
       "\ttest: # of items=1, # of annotated items=0, # of annotations=0, annotation types=[]\n",
       "\ttrain: # of items=1, # of annotated items=1, # of annotations=15, annotation types=['label', 'bbox', 'mask']\n",
       "categories\n",
       "\tlabel: ['background', 'aeroplane', 'bicycle', 'bird', 'boat', 'bottle', 'bus', 'car', 'cat', 'chair', 'cow', 'diningtable', 'dog', 'horse', 'motorbike', 'person', 'pottedplant', 'sheep', 'sofa', 'train', 'tvmonitor', 'ignored', 'head', 'hand', 'foot']\n",
       "\tmask: []"
      ]
     },
     "execution_count": 3,
     "metadata": {},
     "output_type": "execute_result"
    }
   ],
   "source": [
    "print('Representation for sample VOC dataset')\n",
    "dataset"
   ]
  },
  {
   "cell_type": "markdown",
   "id": "db0e0346",
   "metadata": {},
   "source": [
    "In VOC dataset, there are 'train' and 'test' subset. We will filter only 'train' subset."
   ]
  },
  {
   "cell_type": "code",
   "execution_count": 4,
   "id": "51bf3388",
   "metadata": {},
   "outputs": [],
   "source": [
    "dataset = dm.Dataset.filter(dataset, '/item[subset=\"train\"]')"
   ]
  },
  {
   "cell_type": "code",
   "execution_count": 5,
   "id": "fb608396",
   "metadata": {
    "scrolled": true
   },
   "outputs": [
    {
     "name": "stdout",
     "output_type": "stream",
     "text": [
      "Representation for `train` subset of sample VOC dataset\n"
     ]
    },
    {
     "data": {
      "text/plain": [
       "Dataset\n",
       "\tsize=1\n",
       "\tsource_path=./tests/assets/voc_dataset/voc_dataset1\n",
       "\tmedia_type=<class 'datumaro.components.media.Image'>\n",
       "\tannotated_items_count=1\n",
       "\tannotations_count=15\n",
       "subsets\n",
       "\ttrain: # of items=1, # of annotated items=1, # of annotations=15, annotation types=['label', 'bbox', 'mask']\n",
       "categories\n",
       "\tlabel: ['background', 'aeroplane', 'bicycle', 'bird', 'boat', 'bottle', 'bus', 'car', 'cat', 'chair', 'cow', 'diningtable', 'dog', 'horse', 'motorbike', 'person', 'pottedplant', 'sheep', 'sofa', 'train', 'tvmonitor', 'ignored', 'head', 'hand', 'foot']\n",
       "\tmask: []"
      ]
     },
     "execution_count": 5,
     "metadata": {},
     "output_type": "execute_result"
    }
   ],
   "source": [
    "print('Representation for `train` subset of sample VOC dataset')\n",
    "dataset"
   ]
  },
  {
   "cell_type": "markdown",
   "id": "cef29383",
   "metadata": {},
   "source": [
    "### Filtered by id"
   ]
  },
  {
   "cell_type": "markdown",
   "id": "e3807aff",
   "metadata": {},
   "source": [
    "We export sample widerface dataset to filter only dataset which id is `id=0_Parade_image_01`."
   ]
  },
  {
   "cell_type": "code",
   "execution_count": 6,
   "id": "8993b993",
   "metadata": {},
   "outputs": [],
   "source": [
    "dataset = dm.Dataset.import_from('./tests/assets/widerface_dataset')"
   ]
  },
  {
   "cell_type": "code",
   "execution_count": 7,
   "id": "11362daf",
   "metadata": {},
   "outputs": [
    {
     "name": "stdout",
     "output_type": "stream",
     "text": [
      "Representation for sample WiderFace dataset\n"
     ]
    },
    {
     "data": {
      "text/plain": [
       "Dataset\n",
       "\tsize=3\n",
       "\tsource_path=./tests/assets/widerface_dataset\n",
       "\tmedia_type=<class 'datumaro.components.media.Image'>\n",
       "\tannotated_items_count=3\n",
       "\tannotations_count=9\n",
       "subsets\n",
       "\ttrain: # of items=2, # of annotated items=2, # of annotations=5, annotation types=['label', 'bbox']\n",
       "\tval: # of items=1, # of annotated items=1, # of annotations=4, annotation types=['label', 'bbox']\n",
       "categories\n",
       "\tlabel: ['Parade', 'Handshaking']"
      ]
     },
     "execution_count": 7,
     "metadata": {},
     "output_type": "execute_result"
    }
   ],
   "source": [
    "print('Representation for sample WiderFace dataset')\n",
    "dataset"
   ]
  },
  {
   "cell_type": "code",
   "execution_count": 8,
   "id": "4ed4a847",
   "metadata": {},
   "outputs": [],
   "source": [
    "dataset = dm.Dataset.filter(dataset, '/item[id=\"0_Parade_image_01\"]')"
   ]
  },
  {
   "cell_type": "code",
   "execution_count": 9,
   "id": "d689f5bc",
   "metadata": {},
   "outputs": [
    {
     "name": "stdout",
     "output_type": "stream",
     "text": [
      "Representation for `id == 1` dataset of sample WiderFace dataset\n"
     ]
    },
    {
     "data": {
      "text/plain": [
       "Dataset\n",
       "\tsize=1\n",
       "\tsource_path=./tests/assets/widerface_dataset\n",
       "\tmedia_type=<class 'datumaro.components.media.Image'>\n",
       "\tannotated_items_count=1\n",
       "\tannotations_count=2\n",
       "subsets\n",
       "\ttrain: # of items=1, # of annotated items=1, # of annotations=2, annotation types=['label', 'bbox']\n",
       "categories\n",
       "\tlabel: ['Parade', 'Handshaking']"
      ]
     },
     "execution_count": 9,
     "metadata": {},
     "output_type": "execute_result"
    }
   ],
   "source": [
    "print('Representation for `id == 1` dataset of sample WiderFace dataset')\n",
    "dataset"
   ]
  },
  {
   "cell_type": "markdown",
   "id": "9b23d1af",
   "metadata": {},
   "source": [
    "### Filtered by width and height"
   ]
  },
  {
   "cell_type": "markdown",
   "id": "6d6ca87d",
   "metadata": {},
   "source": [
    "We export sample dataset to extract a dataset with images with width < height."
   ]
  },
  {
   "cell_type": "code",
   "execution_count": 10,
   "id": "e5e30736",
   "metadata": {},
   "outputs": [
    {
     "name": "stderr",
     "output_type": "stream",
     "text": [
      "WARNING:root:Not implemented: Found potentially conflicting source types with labels: labels, panoptic, stuff, person_keypoints, instances. Only one type will be used: instances\n",
      "WARNING:root:Not implemented: conflicting source './tests/assets/coco_dataset/coco/annotations/labels_train.json' is skipped.\n",
      "WARNING:root:Not implemented: conflicting source './tests/assets/coco_dataset/coco/annotations/person_keypoints_train.json' is skipped.\n",
      "WARNING:root:Not implemented: conflicting source './tests/assets/coco_dataset/coco/annotations/stuff_train.json' is skipped.\n",
      "WARNING:root:Not implemented: conflicting source './tests/assets/coco_dataset/coco/annotations/panoptic_train.json' is skipped.\n",
      "WARNING:root:Not implemented: conflicting source './tests/assets/coco_dataset/coco/annotations/panoptic_val.json' is skipped.\n",
      "WARNING:root:Not implemented: conflicting source './tests/assets/coco_dataset/coco/annotations/labels_val.json' is skipped.\n",
      "WARNING:root:Not implemented: conflicting source './tests/assets/coco_dataset/coco/annotations/person_keypoints_val.json' is skipped.\n",
      "WARNING:root:Not implemented: conflicting source './tests/assets/coco_dataset/coco/annotations/stuff_val.json' is skipped.\n"
     ]
    }
   ],
   "source": [
    "dataset = dm.Dataset.import_from('./tests/assets/coco_dataset/coco')"
   ]
  },
  {
   "cell_type": "code",
   "execution_count": 11,
   "id": "87feaf56",
   "metadata": {},
   "outputs": [],
   "source": [
    "def get_width_height(dataset: dm.Dataset):\n",
    "    size_dict = {}\n",
    "    for item in dataset:\n",
    "        size_dict[item.id] = item.media.size\n",
    "    return size_dict"
   ]
  },
  {
   "cell_type": "code",
   "execution_count": 12,
   "id": "e095b117",
   "metadata": {},
   "outputs": [
    {
     "name": "stdout",
     "output_type": "stream",
     "text": [
      "Representation for sample COCO dataset\n"
     ]
    },
    {
     "data": {
      "text/plain": [
       "Dataset\n",
       "\tsize=2\n",
       "\tsource_path=./tests/assets/coco_dataset/coco\n",
       "\tmedia_type=<class 'datumaro.components.media.Image'>\n",
       "\tannotated_items_count=2\n",
       "\tannotations_count=6\n",
       "subsets\n",
       "\ttrain: # of items=1, # of annotated items=1, # of annotations=2, annotation types=['bbox', 'caption']\n",
       "\tval: # of items=1, # of annotated items=1, # of annotations=4, annotation types=['mask', 'caption', 'polygon']\n",
       "categories\n",
       "\tlabel: ['a', 'b', 'c']"
      ]
     },
     "execution_count": 12,
     "metadata": {},
     "output_type": "execute_result"
    }
   ],
   "source": [
    "print('Representation for sample COCO dataset')\n",
    "dataset"
   ]
  },
  {
   "cell_type": "code",
   "execution_count": 13,
   "id": "b821387a",
   "metadata": {},
   "outputs": [
    {
     "name": "stdout",
     "output_type": "stream",
     "text": [
      "Width and height for sample COCO dataset images\n"
     ]
    },
    {
     "data": {
      "text/plain": [
       "{'a': (5, 10), 'b': (10, 5)}"
      ]
     },
     "execution_count": 13,
     "metadata": {},
     "output_type": "execute_result"
    }
   ],
   "source": [
    "print('Width and height for sample COCO dataset images')\n",
    "get_width_height(dataset)"
   ]
  },
  {
   "cell_type": "code",
   "execution_count": 14,
   "id": "7b693479",
   "metadata": {},
   "outputs": [],
   "source": [
    "dataset = dm.Dataset.filter(dataset, '/item[image/width < image/height]')"
   ]
  },
  {
   "cell_type": "code",
   "execution_count": 15,
   "id": "6d30b6c4",
   "metadata": {},
   "outputs": [
    {
     "name": "stdout",
     "output_type": "stream",
     "text": [
      "Representation for `width < height` sample COCO dataset images\n"
     ]
    },
    {
     "data": {
      "text/plain": [
       "Dataset\n",
       "\tsize=1\n",
       "\tsource_path=./tests/assets/coco_dataset/coco\n",
       "\tmedia_type=<class 'datumaro.components.media.Image'>\n",
       "\tannotated_items_count=1\n",
       "\tannotations_count=4\n",
       "subsets\n",
       "\tval: # of items=1, # of annotated items=1, # of annotations=4, annotation types=['mask', 'caption', 'polygon']\n",
       "categories\n",
       "\tlabel: ['a', 'b', 'c']"
      ]
     },
     "execution_count": 15,
     "metadata": {},
     "output_type": "execute_result"
    }
   ],
   "source": [
    "print('Representation for `width < height` sample COCO dataset images')\n",
    "dataset"
   ]
  },
  {
   "cell_type": "code",
   "execution_count": 16,
   "id": "7479f9c9",
   "metadata": {},
   "outputs": [
    {
     "name": "stdout",
     "output_type": "stream",
     "text": [
      "Width and height for `width < height` sample COCO dataset images\n"
     ]
    },
    {
     "data": {
      "text/plain": [
       "{'b': (10, 5)}"
      ]
     },
     "execution_count": 16,
     "metadata": {},
     "output_type": "execute_result"
    }
   ],
   "source": [
    "print('Width and height for `width < height` sample COCO dataset images')\n",
    "get_width_height(dataset)"
   ]
  },
  {
   "cell_type": "markdown",
   "id": "cbde6b17",
   "metadata": {},
   "source": [
    "### Filtered by label and area"
   ]
  },
  {
   "cell_type": "markdown",
   "id": "1e0dc1de",
   "metadata": {},
   "source": [
    "We export sample dataset to extract only non-`persons`."
   ]
  },
  {
   "cell_type": "code",
   "execution_count": 17,
   "id": "0c8248a9",
   "metadata": {},
   "outputs": [],
   "source": [
    "dataset = dm.Dataset.import_from('./tests/assets/voc_dataset/voc_dataset1')"
   ]
  },
  {
   "cell_type": "code",
   "execution_count": 18,
   "id": "98ad83ad",
   "metadata": {
    "scrolled": true
   },
   "outputs": [
    {
     "name": "stdout",
     "output_type": "stream",
     "text": [
      "Representation for sample VOC dataset\n"
     ]
    },
    {
     "data": {
      "text/plain": [
       "Dataset\n",
       "\tsize=2\n",
       "\tsource_path=./tests/assets/voc_dataset/voc_dataset1\n",
       "\tmedia_type=<class 'datumaro.components.media.Image'>\n",
       "\tannotated_items_count=1\n",
       "\tannotations_count=15\n",
       "subsets\n",
       "\ttest: # of items=1, # of annotated items=0, # of annotations=0, annotation types=[]\n",
       "\ttrain: # of items=1, # of annotated items=1, # of annotations=15, annotation types=['label', 'bbox', 'mask']\n",
       "categories\n",
       "\tlabel: ['background', 'aeroplane', 'bicycle', 'bird', 'boat', 'bottle', 'bus', 'car', 'cat', 'chair', 'cow', 'diningtable', 'dog', 'horse', 'motorbike', 'person', 'pottedplant', 'sheep', 'sofa', 'train', 'tvmonitor', 'ignored', 'head', 'hand', 'foot']\n",
       "\tmask: []"
      ]
     },
     "execution_count": 18,
     "metadata": {},
     "output_type": "execute_result"
    }
   ],
   "source": [
    "print('Representation for sample VOC dataset')\n",
    "dataset"
   ]
  },
  {
   "cell_type": "markdown",
   "id": "a3c88c99",
   "metadata": {},
   "source": [
    "Indicate `filter_annotations` as `True` if filter needs to apply to annotations. The default value is `False` to items."
   ]
  },
  {
   "cell_type": "code",
   "execution_count": 19,
   "id": "8dda4168",
   "metadata": {},
   "outputs": [],
   "source": [
    "dataset = dm.Dataset.filter(dataset, '/item/annotation[label!=\"person\"]', filter_annotations=True)"
   ]
  },
  {
   "cell_type": "code",
   "execution_count": 20,
   "id": "67f0b7e9",
   "metadata": {
    "scrolled": true
   },
   "outputs": [
    {
     "name": "stdout",
     "output_type": "stream",
     "text": [
      "Representation for sample VOC dataset whose annotation is `label!=\"person\"`\n"
     ]
    },
    {
     "data": {
      "text/plain": [
       "Dataset\n",
       "\tsize=2\n",
       "\tsource_path=./tests/assets/voc_dataset/voc_dataset1\n",
       "\tmedia_type=<class 'datumaro.components.media.Image'>\n",
       "\tannotated_items_count=1\n",
       "\tannotations_count=13\n",
       "subsets\n",
       "\ttest: # of items=1, # of annotated items=0, # of annotations=0, annotation types=[]\n",
       "\ttrain: # of items=1, # of annotated items=1, # of annotations=13, annotation types=['label', 'bbox', 'mask']\n",
       "categories\n",
       "\tlabel: ['background', 'aeroplane', 'bicycle', 'bird', 'boat', 'bottle', 'bus', 'car', 'cat', 'chair', 'cow', 'diningtable', 'dog', 'horse', 'motorbike', 'person', 'pottedplant', 'sheep', 'sofa', 'train', 'tvmonitor', 'ignored', 'head', 'hand', 'foot']\n",
       "\tmask: []"
      ]
     },
     "execution_count": 20,
     "metadata": {},
     "output_type": "execute_result"
    }
   ],
   "source": [
    "print('Representation for sample VOC dataset whose annotation is `label!=\"person\"`')\n",
    "dataset"
   ]
  },
  {
   "cell_type": "markdown",
   "id": "3201198f",
   "metadata": {},
   "source": [
    "### Filtered by annotation"
   ]
  },
  {
   "cell_type": "markdown",
   "id": "ee1e403a",
   "metadata": {},
   "source": [
    "We export sample dataset to extract non-occluded annotations, remove empty images. Use data only from the “s1” source of the project."
   ]
  },
  {
   "cell_type": "code",
   "execution_count": 21,
   "id": "732face4",
   "metadata": {},
   "outputs": [],
   "source": [
    "dataset = dm.Dataset.import_from('./tests/assets/voc_dataset/voc_dataset1')"
   ]
  },
  {
   "cell_type": "code",
   "execution_count": 22,
   "id": "7badb290",
   "metadata": {},
   "outputs": [
    {
     "name": "stdout",
     "output_type": "stream",
     "text": [
      "Representation for sample VOC dataset\n"
     ]
    },
    {
     "data": {
      "text/plain": [
       "Dataset\n",
       "\tsize=2\n",
       "\tsource_path=./tests/assets/voc_dataset/voc_dataset1\n",
       "\tmedia_type=<class 'datumaro.components.media.Image'>\n",
       "\tannotated_items_count=1\n",
       "\tannotations_count=15\n",
       "subsets\n",
       "\ttest: # of items=1, # of annotated items=0, # of annotations=0, annotation types=[]\n",
       "\ttrain: # of items=1, # of annotated items=1, # of annotations=15, annotation types=['label', 'bbox', 'mask']\n",
       "categories\n",
       "\tlabel: ['background', 'aeroplane', 'bicycle', 'bird', 'boat', 'bottle', 'bus', 'car', 'cat', 'chair', 'cow', 'diningtable', 'dog', 'horse', 'motorbike', 'person', 'pottedplant', 'sheep', 'sofa', 'train', 'tvmonitor', 'ignored', 'head', 'hand', 'foot']\n",
       "\tmask: []"
      ]
     },
     "execution_count": 22,
     "metadata": {},
     "output_type": "execute_result"
    }
   ],
   "source": [
    "print('Representation for sample VOC dataset')\n",
    "dataset"
   ]
  },
  {
   "cell_type": "code",
   "execution_count": 23,
   "id": "f8ddf924",
   "metadata": {},
   "outputs": [
    {
     "data": {
      "text/plain": [
       "Dataset\n",
       "\tsize=1\n",
       "\tsource_path=./tests/assets/voc_dataset/voc_dataset1\n",
       "\tmedia_type=<class 'datumaro.components.media.Image'>\n",
       "\tannotated_items_count=1\n",
       "\tannotations_count=2\n",
       "subsets\n",
       "\ttrain: # of items=1, # of annotated items=1, # of annotations=2, annotation types=['bbox']\n",
       "categories\n",
       "\tlabel: ['background', 'aeroplane', 'bicycle', 'bird', 'boat', 'bottle', 'bus', 'car', 'cat', 'chair', 'cow', 'diningtable', 'dog', 'horse', 'motorbike', 'person', 'pottedplant', 'sheep', 'sofa', 'train', 'tvmonitor', 'ignored', 'head', 'hand', 'foot']\n",
       "\tmask: []"
      ]
     },
     "execution_count": 23,
     "metadata": {},
     "output_type": "execute_result"
    }
   ],
   "source": [
    "dm.Dataset.filter(dataset, '/item/annotation[occluded=\"False\"]', filter_annotations=True, remove_empty=True)"
   ]
  },
  {
   "cell_type": "code",
   "execution_count": 24,
   "id": "3a971546",
   "metadata": {},
   "outputs": [
    {
     "name": "stdout",
     "output_type": "stream",
     "text": [
      "Representation for `non-occluded annotations and empty images removed sample VOC dataset`\n"
     ]
    },
    {
     "data": {
      "text/plain": [
       "Dataset\n",
       "\tsize=1\n",
       "\tsource_path=./tests/assets/voc_dataset/voc_dataset1\n",
       "\tmedia_type=<class 'datumaro.components.media.Image'>\n",
       "\tannotated_items_count=1\n",
       "\tannotations_count=2\n",
       "subsets\n",
       "\ttrain: # of items=1, # of annotated items=1, # of annotations=2, annotation types=['bbox']\n",
       "categories\n",
       "\tlabel: ['background', 'aeroplane', 'bicycle', 'bird', 'boat', 'bottle', 'bus', 'car', 'cat', 'chair', 'cow', 'diningtable', 'dog', 'horse', 'motorbike', 'person', 'pottedplant', 'sheep', 'sofa', 'train', 'tvmonitor', 'ignored', 'head', 'hand', 'foot']\n",
       "\tmask: []"
      ]
     },
     "execution_count": 24,
     "metadata": {},
     "output_type": "execute_result"
    }
   ],
   "source": [
    "print('Representation for `non-occluded annotations and empty images removed sample VOC dataset`')\n",
    "dataset"
   ]
  }
 ],
 "metadata": {
  "kernelspec": {
   "display_name": "Python 3 (ipykernel)",
   "language": "python",
   "name": "python3"
  },
  "language_info": {
   "codemirror_mode": {
    "name": "ipython",
    "version": 3
   },
   "file_extension": ".py",
   "mimetype": "text/x-python",
   "name": "python",
   "nbconvert_exporter": "python",
   "pygments_lexer": "ipython3",
   "version": "3.7.13"
  },
  "vscode": {
   "interpreter": {
    "hash": "1e90bae80f8f1f04a7aff772db01befa8d30966fbd5491c30dbbd054d522be4c"
   }
  }
 },
 "nbformat": 4,
 "nbformat_minor": 5
}
